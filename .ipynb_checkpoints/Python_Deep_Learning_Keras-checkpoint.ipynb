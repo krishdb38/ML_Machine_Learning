{
 "cells": [
  {
   "cell_type": "markdown",
   "metadata": {},
   "source": [
    "### Check the version of install Program"
   ]
  },
  {
   "cell_type": "code",
   "execution_count": 5,
   "metadata": {},
   "outputs": [
    {
     "name": "stderr",
     "output_type": "stream",
     "text": [
      "Using TensorFlow backend.\n"
     ]
    }
   ],
   "source": [
    "import scipy\n",
    "import numpy as np\n",
    "import matplotlib as plt\n",
    "import pandas as pd\n",
    "import sklearn\n",
    "import pydot\n",
    "import h5py\n",
    "import theano\n",
    "import tensorflow\n",
    "import keras"
   ]
  },
  {
   "cell_type": "markdown",
   "metadata": {},
   "source": [
    "### Print the Version"
   ]
  },
  {
   "cell_type": "code",
   "execution_count": 8,
   "metadata": {},
   "outputs": [
    {
     "name": "stdout",
     "output_type": "stream",
     "text": [
      "SCIPY_Version 1.2.1\n",
      "Numpy_Version 1.16.4\n",
      "matplotlib_Version 3.1.1\n",
      "pandas_Version 0.24.2\n",
      "Sk_learn_Version 0.21.2\n",
      "pydot_Version 1.4.1\n",
      "h5py_Version 2.9.0\n",
      "theano_Version 1.0.4\n",
      "tensorflow_Version 2.0.0\n"
     ]
    }
   ],
   "source": [
    "print(\"SCIPY_Version\",scipy.__version__)\n",
    "print(\"Numpy_Version\",np.__version__) #We imported as np so\n",
    "print(\"matplotlib_Version\",plt.__version__) #we imported as plt so \n",
    "print(\"pandas_Version\",pd.__version__)\n",
    "print(\"Sk_learn_Version\",sklearn.__version__)\n",
    "print(\"pydot_Version\",pydot.__version__)\n",
    "print(\"h5py_Version\",h5py.__version__)\n",
    "print(\"theano_Version\",theano.__version__)\n",
    "print(\"tensorflow_Version\",tensorflow.__version__)"
   ]
  },
  {
   "cell_type": "markdown",
   "metadata": {},
   "source": [
    "## Check weather the basic Deep Learning Model is running or Not"
   ]
  },
  {
   "cell_type": "code",
   "execution_count": null,
   "metadata": {},
   "outputs": [],
   "source": [
    "from keras.utils import np_utils\n",
    "from keras.datasets import mnist\n",
    "from keras.models import Sequential\n",
    "from keras.layers import Dense,Activation\n",
    "\n",
    "#(X_train,Y_train),(X_test,Y_test)=mnist.load_data()\n",
    "X_train"
   ]
  },
  {
   "cell_type": "code",
   "execution_count": null,
   "metadata": {},
   "outputs": [],
   "source": []
  }
 ],
 "metadata": {
  "kernelspec": {
   "display_name": "Python 3",
   "language": "python",
   "name": "python3"
  },
  "language_info": {
   "codemirror_mode": {
    "name": "ipython",
    "version": 3
   },
   "file_extension": ".py",
   "mimetype": "text/x-python",
   "name": "python",
   "nbconvert_exporter": "python",
   "pygments_lexer": "ipython3",
   "version": "3.7.3"
  }
 },
 "nbformat": 4,
 "nbformat_minor": 2
}
