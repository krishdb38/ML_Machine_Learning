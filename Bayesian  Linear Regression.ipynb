{
 "cells": [
  {
   "cell_type": "code",
   "execution_count": 1,
   "metadata": {},
   "outputs": [],
   "source": [
    "import numpy as np\n",
    "from numpy.random import normal , uniform\n",
    "from scipy.stats import multivariate_normal as mv_norm\n",
    "import matplotlib.pyplot as plt\n",
    "%matplotlib inline"
   ]
  },
  {
   "cell_type": "code",
   "execution_count": 2,
   "metadata": {},
   "outputs": [],
   "source": [
    "#here We Code up our real function\n",
    "def real_function(a_0 , a_1 , noise_sigma, x):\n",
    "    \"\"\"\n",
    "    Evaluates the real Function\n",
    "    \"\"\"\n",
    "    n= len(x)\n",
    "    if noise_sigma == 0:\n",
    "        #Recover the true function\n",
    "        return a_0 + a_1 *x\n",
    "    else:\n",
    "        return a_0+a_1*x+normal(0,noise_sigma,N)\n",
    "    "
   ]
  },
  {
   "cell_type": "code",
   "execution_count": null,
   "metadata": {},
   "outputs": [],
   "source": [
    "#We define a class that will perform our parameter updates according to our equations above. \n",
    "#It also handles some useful plotting functionality.\n",
    "class LinearBayes(object):\n",
    "    \n",
    "    def __init__self(self, a_m0 , m_s0 , beta):\n",
    "        self.prior = mv_norm(mean=a_m0, cov=m_s0)\n",
    "        self.v_m0 = a_m0.reshape(a_m0.shape + (1,)) #Reshape the Column Vector\n",
    "        self.v_mo = a"
   ]
  }
 ],
 "metadata": {
  "kernelspec": {
   "display_name": "Python 3",
   "language": "python",
   "name": "python3"
  },
  "language_info": {
   "codemirror_mode": {
    "name": "ipython",
    "version": 3
   },
   "file_extension": ".py",
   "mimetype": "text/x-python",
   "name": "python",
   "nbconvert_exporter": "python",
   "pygments_lexer": "ipython3",
   "version": "3.7.4"
  }
 },
 "nbformat": 4,
 "nbformat_minor": 2
}
