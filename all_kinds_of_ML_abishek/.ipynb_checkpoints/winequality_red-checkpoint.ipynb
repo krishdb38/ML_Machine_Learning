{
 "cells": [
  {
   "cell_type": "code",
   "execution_count": 1,
   "metadata": {},
   "outputs": [],
   "source": [
    "import pandas as pd"
   ]
  },
  {
   "cell_type": "code",
   "execution_count": 2,
   "metadata": {},
   "outputs": [
    {
     "data": {
      "text/html": [
       "<div>\n",
       "<style scoped>\n",
       "    .dataframe tbody tr th:only-of-type {\n",
       "        vertical-align: middle;\n",
       "    }\n",
       "\n",
       "    .dataframe tbody tr th {\n",
       "        vertical-align: top;\n",
       "    }\n",
       "\n",
       "    .dataframe thead th {\n",
       "        text-align: right;\n",
       "    }\n",
       "</style>\n",
       "<table border=\"1\" class=\"dataframe\">\n",
       "  <thead>\n",
       "    <tr style=\"text-align: right;\">\n",
       "      <th></th>\n",
       "      <th>fixed acidity</th>\n",
       "      <th>volatile acidity</th>\n",
       "      <th>citric acid</th>\n",
       "      <th>residual sugar</th>\n",
       "      <th>chlorides</th>\n",
       "      <th>free sulfur dioxide</th>\n",
       "      <th>total sulfur dioxide</th>\n",
       "      <th>density</th>\n",
       "      <th>pH</th>\n",
       "      <th>sulphates</th>\n",
       "      <th>alcohol</th>\n",
       "      <th>quality</th>\n",
       "    </tr>\n",
       "  </thead>\n",
       "  <tbody>\n",
       "    <tr>\n",
       "      <th>0</th>\n",
       "      <td>7.4</td>\n",
       "      <td>0.70</td>\n",
       "      <td>0.00</td>\n",
       "      <td>1.9</td>\n",
       "      <td>0.076</td>\n",
       "      <td>11.0</td>\n",
       "      <td>34.0</td>\n",
       "      <td>0.9978</td>\n",
       "      <td>3.51</td>\n",
       "      <td>0.56</td>\n",
       "      <td>9.4</td>\n",
       "      <td>5</td>\n",
       "    </tr>\n",
       "    <tr>\n",
       "      <th>1</th>\n",
       "      <td>7.8</td>\n",
       "      <td>0.88</td>\n",
       "      <td>0.00</td>\n",
       "      <td>2.6</td>\n",
       "      <td>0.098</td>\n",
       "      <td>25.0</td>\n",
       "      <td>67.0</td>\n",
       "      <td>0.9968</td>\n",
       "      <td>3.20</td>\n",
       "      <td>0.68</td>\n",
       "      <td>9.8</td>\n",
       "      <td>5</td>\n",
       "    </tr>\n",
       "    <tr>\n",
       "      <th>2</th>\n",
       "      <td>7.8</td>\n",
       "      <td>0.76</td>\n",
       "      <td>0.04</td>\n",
       "      <td>2.3</td>\n",
       "      <td>0.092</td>\n",
       "      <td>15.0</td>\n",
       "      <td>54.0</td>\n",
       "      <td>0.9970</td>\n",
       "      <td>3.26</td>\n",
       "      <td>0.65</td>\n",
       "      <td>9.8</td>\n",
       "      <td>5</td>\n",
       "    </tr>\n",
       "    <tr>\n",
       "      <th>3</th>\n",
       "      <td>11.2</td>\n",
       "      <td>0.28</td>\n",
       "      <td>0.56</td>\n",
       "      <td>1.9</td>\n",
       "      <td>0.075</td>\n",
       "      <td>17.0</td>\n",
       "      <td>60.0</td>\n",
       "      <td>0.9980</td>\n",
       "      <td>3.16</td>\n",
       "      <td>0.58</td>\n",
       "      <td>9.8</td>\n",
       "      <td>6</td>\n",
       "    </tr>\n",
       "    <tr>\n",
       "      <th>4</th>\n",
       "      <td>7.4</td>\n",
       "      <td>0.70</td>\n",
       "      <td>0.00</td>\n",
       "      <td>1.9</td>\n",
       "      <td>0.076</td>\n",
       "      <td>11.0</td>\n",
       "      <td>34.0</td>\n",
       "      <td>0.9978</td>\n",
       "      <td>3.51</td>\n",
       "      <td>0.56</td>\n",
       "      <td>9.4</td>\n",
       "      <td>5</td>\n",
       "    </tr>\n",
       "  </tbody>\n",
       "</table>\n",
       "</div>"
      ],
      "text/plain": [
       "   fixed acidity  volatile acidity  citric acid  residual sugar  chlorides  \\\n",
       "0            7.4              0.70         0.00             1.9      0.076   \n",
       "1            7.8              0.88         0.00             2.6      0.098   \n",
       "2            7.8              0.76         0.04             2.3      0.092   \n",
       "3           11.2              0.28         0.56             1.9      0.075   \n",
       "4            7.4              0.70         0.00             1.9      0.076   \n",
       "\n",
       "   free sulfur dioxide  total sulfur dioxide  density    pH  sulphates  \\\n",
       "0                 11.0                  34.0   0.9978  3.51       0.56   \n",
       "1                 25.0                  67.0   0.9968  3.20       0.68   \n",
       "2                 15.0                  54.0   0.9970  3.26       0.65   \n",
       "3                 17.0                  60.0   0.9980  3.16       0.58   \n",
       "4                 11.0                  34.0   0.9978  3.51       0.56   \n",
       "\n",
       "   alcohol  quality  \n",
       "0      9.4        5  \n",
       "1      9.8        5  \n",
       "2      9.8        5  \n",
       "3      9.8        6  \n",
       "4      9.4        5  "
      ]
     },
     "execution_count": 2,
     "metadata": {},
     "output_type": "execute_result"
    }
   ],
   "source": [
    "df = pd.read_csv(\"datas/winequality-red.csv\")\n",
    "df.head()"
   ]
  },
  {
   "cell_type": "code",
   "execution_count": 3,
   "metadata": {},
   "outputs": [
    {
     "name": "stdout",
     "output_type": "stream",
     "text": [
      "[5 6 7 4 8 3]\n"
     ]
    }
   ],
   "source": [
    "print(df.quality.unique())"
   ]
  },
  {
   "cell_type": "code",
   "execution_count": 4,
   "metadata": {},
   "outputs": [],
   "source": [
    "# a mapping dictionary that maps the quality values from 0 to 5 quality_mapping\n",
    "quality_mapping = {\n",
    "    3 : 0,\n",
    "    4:1,\n",
    "    5:2,\n",
    "    6: 3,\n",
    "    7 : 4,\n",
    "    8 : 5,\n",
    "}\n",
    "\n",
    "# Apply pandas map function of pandas with \n",
    "# any dictionary to convert the values in a given \n",
    "# column to values in the dictionary\n",
    "df.loc[:, \"quality\"] = df.quality.map(quality_mapping)"
   ]
  },
  {
   "cell_type": "code",
   "execution_count": 5,
   "metadata": {},
   "outputs": [
    {
     "data": {
      "text/plain": [
       "array([2, 3, 4, 1, 5, 0], dtype=int64)"
      ]
     },
     "execution_count": 5,
     "metadata": {},
     "output_type": "execute_result"
    }
   ],
   "source": [
    "df.head(3)\n",
    "# We can see replaced\n",
    "df.quality.unique()"
   ]
  },
  {
   "cell_type": "code",
   "execution_count": 6,
   "metadata": {},
   "outputs": [
    {
     "name": "stdout",
     "output_type": "stream",
     "text": [
      "(1599, 12)\n"
     ]
    }
   ],
   "source": [
    "print(df.shape)"
   ]
  },
  {
   "cell_type": "code",
   "execution_count": 7,
   "metadata": {},
   "outputs": [],
   "source": [
    "# Before we begin to understand what overfitting is , lets divide the data into two parts\n",
    "\n",
    "# This dataset has 1599 samples \n",
    "# We keep 1000 for training and 599 for testing\n",
    "\n",
    "# Use sample frac=1 to shuffle the dataframe\n",
    "# we reset the indices since they change after\n",
    "# shuffling the dataframe\n",
    "\n",
    "df = df.sample(frac = 1).reset_index(drop = True)\n",
    "\n",
    "# Top 1000 rows are selected for training\n",
    "# For training \n",
    "df_train = df.head(1000)\n",
    "\n",
    "# bottom 599 for testing\n",
    "df_test = df.tail(599)\n",
    "\n",
    "# This can also done through sklearn train test split function"
   ]
  },
  {
   "cell_type": "code",
   "execution_count": 8,
   "metadata": {},
   "outputs": [],
   "source": [
    "# We will now train a decision tree model on the training set\n",
    "# I am going to use scikit learn\n",
    "\n",
    "# Import library\n",
    "from sklearn import tree\n",
    "from sklearn import metrics\n",
    "# initiallize decision tree classifier class\n",
    "# with a max_depth of 3\n",
    "\n",
    "clf = tree.DecisionTreeClassifier(max_depth=3)\n",
    "\n",
    "# choose the columns you want to train on \n",
    "# these are the features for the model\n",
    "\n",
    "cols = ['fixed acidity', \"volatile acidity\", \"citric acid\", \n",
    "       \"residual sugar\", \"chlorides\", \"free sulfur dioxide\", \n",
    "        \"total sulfur dioxide\", \"density\", \"pH\", \"sulphates\",\n",
    "        \"alcohol\" ]"
   ]
  },
  {
   "cell_type": "code",
   "execution_count": 9,
   "metadata": {},
   "outputs": [],
   "source": [
    "# train the model on the provided features\n",
    "# and mapp"
   ]
  },
  {
   "cell_type": "code",
   "execution_count": 10,
   "metadata": {},
   "outputs": [
    {
     "data": {
      "text/plain": [
       "DecisionTreeClassifier(max_depth=3)"
      ]
     },
     "execution_count": 10,
     "metadata": {},
     "output_type": "execute_result"
    }
   ],
   "source": [
    "# Training the model\n",
    "clf.fit(df_train[cols], df_train.quality)\n"
   ]
  },
  {
   "cell_type": "markdown",
   "metadata": {},
   "source": [
    "#### Accuracy of the model"
   ]
  },
  {
   "cell_type": "code",
   "execution_count": 11,
   "metadata": {},
   "outputs": [],
   "source": [
    "# Now we test the accuracy of this model on the training set and the test set\n",
    "\n",
    "# Generate predictions on the training set\n",
    "train_predictions = clf.predict(df_train[cols])\n",
    "\n",
    "# generate predictions on the test set\n",
    "test_predictions = clf.predict(df_test[cols])\n",
    "\n",
    "# calculate the accuracy of predictions on \n",
    "# training data set\n",
    "\n",
    "train_accuracy = metrics.accuracy_score(df_train.quality, train_predictions)\n",
    "\n",
    "# Calculate the accuracy of prediction on \n",
    "# test data set\n",
    "\n",
    "test_accuracy = metrics.accuracy_score(\n",
    "df_test.quality, test_predictions)"
   ]
  },
  {
   "cell_type": "markdown",
   "metadata": {},
   "source": []
  },
  {
   "cell_type": "code",
   "execution_count": 12,
   "metadata": {},
   "outputs": [
    {
     "name": "stdout",
     "output_type": "stream",
     "text": [
      "0.58 0.5492487479131887\n"
     ]
    }
   ],
   "source": [
    "print(train_accuracy, test_accuracy)"
   ]
  },
  {
   "cell_type": "markdown",
   "metadata": {},
   "source": [
    "### Low Accuracy so increase max_depth to 7,8, 9 and check the accuracy"
   ]
  },
  {
   "cell_type": "markdown",
   "metadata": {},
   "source": [
    "# Calculate these accuracies for different values of max_depth and make a plot ?"
   ]
  },
  {
   "cell_type": "code",
   "execution_count": 25,
   "metadata": {},
   "outputs": [
    {
     "data": {
      "image/png": "[encoded data removed]",
      "text/plain": [
       "<Figure size 720x360 with 1 Axes>"
      ]
     },
     "metadata": {},
     "output_type": "display_data"
    }
   ],
   "source": [
    "# Importing sklearn tree and metrics\n",
    "from sklearn import tree\n",
    "from sklearn import metrics\n",
    "\n",
    "# import plotting libraries\n",
    "import matplotlib\n",
    "import matplotlib.pyplot as plt\n",
    "import seaborn as sns\n",
    "\n",
    "# global size of label text\n",
    "matplotlib.rc(\"xtick\", labelsize =20 )\n",
    "matplotlib.rc( \"ytick\", labelsize = 20 )\n",
    "\n",
    "## initialize lists to store accuracies\n",
    "# for trainig and test data\n",
    "# we start with 50 % accuracy\n",
    "train_accuracies = [0.50 ]\n",
    "test_accuracies = [0.5]\n",
    "\n",
    "# iterarte over a few depth values\n",
    "for depth in range(1, 25):\n",
    "    clf = tree.DecisionTreeClassifier(max_depth = depth)\n",
    "    \n",
    "    # columns featurses for training and testing\n",
    "    cols = ['fixed acidity', \"volatile acidity\", \"citric acid\", \n",
    "       \"residual sugar\", \"chlorides\", \"free sulfur dioxide\", \n",
    "        \"total sulfur dioxide\", \"density\", \"pH\", \"sulphates\",\n",
    "        \"alcohol\" ]\n",
    "    # fit the model on given features\n",
    "    clf.fit(df_train[cols], df_train.quality)\n",
    "    \n",
    "    # Creating training and testing prediction\n",
    "    train_predictions = clf.predict(df_train[cols])\n",
    "    test_predictions = clf.predict(df_test[cols])\n",
    "    \n",
    "    # Calculate training and test accuracies\n",
    "    train_accuracy = metrics.accuracy_score(df_train.quality, train_predictions)\n",
    "    test_accuracy = metrics.accuracy_score(df_test.quality, test_predictions)\n",
    "    \n",
    "    # Append accuracies\n",
    "    train_accuracies.append(train_accuracy)\n",
    "    test_accuracies.append(test_accuracy)\n",
    "    \n",
    "# Create two plots using matplots using matplotlib\n",
    "# and seaborn\n",
    "plt.figure(figsize=(10,5))\n",
    "sns.set_style(\"whitegrid\")\n",
    "plt.plot(train_accuracies, label = \"train accuracy\")\n",
    "plt.plot(test_accuracies, label = \"test accuracy\")\n",
    "plt.legend(loc = \"best\", prop = {\"size\":15})\n",
    "plt.xticks(range(0,26,5))\n",
    "plt.xlabel(\"max_depth \", size = 20)\n",
    "plt.ylabel(\"accuracy\", size = 20)\n",
    "plt.show()"
   ]
  },
  {
   "cell_type": "code",
   "execution_count": 26,
   "metadata": {},
   "outputs": [],
   "source": [
    "## We can see train accuracy is increasing as max_depth increasing\n",
    "# Over Fitting"
   ]
  },
  {
   "cell_type": "code",
   "execution_count": null,
   "metadata": {},
   "outputs": [],
   "source": []
  }
 ],
 "metadata": {
  "kernelspec": {
   "display_name": "Python 3",
   "language": "python",
   "name": "python3"
  },
  "language_info": {
   "codemirror_mode": {
    "name": "ipython",
    "version": 3
   },
   "file_extension": ".py",
   "mimetype": "text/x-python",
   "name": "python",
   "nbconvert_exporter": "python",
   "pygments_lexer": "ipython3",
   "version": "3.8.5"
  }
 },
 "nbformat": 4,
 "nbformat_minor": 4
}
