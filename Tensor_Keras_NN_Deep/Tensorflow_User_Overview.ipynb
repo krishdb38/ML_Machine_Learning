{
 "cells": [
  {
   "cell_type": "markdown",
   "metadata": {},
   "source": [
    "https://www.tensorflow.org/api_docs/python/tf/argsort"
   ]
  },
  {
   "cell_type": "code",
   "execution_count": 29,
   "metadata": {},
   "outputs": [],
   "source": [
    "import tensorflow as tf\n",
    "import numpy as np"
   ]
  },
  {
   "cell_type": "markdown",
   "metadata": {
    "lang": "en"
   },
   "source": [
    "#### argsort"
   ]
  },
  {
   "cell_type": "markdown",
   "metadata": {
    "lang": "en"
   },
   "source": [
    "#### argsort"
   ]
  },
  {
   "cell_type": "markdown",
   "metadata": {
    "lang": "fr"
   },
   "source": [
    "#### argsort"
   ]
  },
  {
   "cell_type": "code",
   "execution_count": 8,
   "metadata": {},
   "outputs": [],
   "source": [
    "tf.argsort?"
   ]
  },
  {
   "cell_type": "markdown",
   "metadata": {
    "lang": "en"
   },
   "source": [
    "Returns the indices of a tensor that give its sorted order along an axis.\n",
    "\n",
    "For a 1D tensor, `tf.gather(values, tf.argsort(values))` is equivalent to\n",
    "`tf.sort(values)`. For higher dimensions, the output has the same shape as\n",
    "`values`, but along the given axis, values represent the index of the sorted\n",
    "element in that slice of the tensor at the given position.\n",
    "\n",
    "python`tf.argsort(\n",
    "values=, axis = -1 , direction  = \"ASCENDING\", stabel = False, name = None\n",
    ")`"
   ]
  },
  {
   "cell_type": "code",
   "execution_count": 4,
   "metadata": {},
   "outputs": [],
   "source": [
    "# usage:\n",
    "a = [1,10,26.9, 2.8, 166,32 , 62.3]\n",
    "\n",
    "b = tf.argsort(a, axis = -1 , direction = \"ASCENDING\", stable = False, name = None)\n",
    "c = tf.keras.backend.eval(b)"
   ]
  },
  {
   "cell_type": "code",
   "execution_count": 7,
   "metadata": {},
   "outputs": [
    {
     "data": {
      "text/plain": [
       "array([0, 3, 1, 2, 5, 6, 4])"
      ]
     },
     "execution_count": 7,
     "metadata": {},
     "output_type": "execute_result"
    }
   ],
   "source": [
    "c"
   ]
  },
  {
   "cell_type": "markdown",
   "metadata": {},
   "source": [
    "#### tf.batch_to_space"
   ]
  },
  {
   "cell_type": "code",
   "execution_count": null,
   "metadata": {},
   "outputs": [],
   "source": [
    "# tf.batch_to_space(input, block_shape, crops, name = None)\n",
    "\n"
   ]
  },
  {
   "cell_type": "markdown",
   "metadata": {},
   "source": [
    "#### tf.bitcast"
   ]
  },
  {
   "cell_type": "code",
   "execution_count": 9,
   "metadata": {},
   "outputs": [],
   "source": [
    "# Bitcats a tensor from one type to another without copying data\n",
    "# tf.bitcast(input, type, name = None)\n",
    "\n",
    "# tf.cast() and tf.bitcast() work differently when real dtype is casted as a complex dtype."
   ]
  },
  {
   "cell_type": "code",
   "execution_count": 15,
   "metadata": {},
   "outputs": [
    {
     "name": "stdout",
     "output_type": "stream",
     "text": [
      "tf.Tensor([1.+0.j 2.+0.j 3.+0.j], shape=(3,), dtype=complex128)\n",
      "tf.Tensor([1 2 3], shape=(3,), dtype=int16)\n"
     ]
    }
   ],
   "source": [
    "a = [1,2,3.]\n",
    "\n",
    "# equality_bitcast = tf.bitcast(a,tf.complex128)\n",
    "# The abhove code will raise error as \n",
    "# Cannot bitcast from 1 to 18 [Op:Bitcast]\n",
    "\n",
    "equality_cast = tf.cast(a, tf.complex128)\n",
    "print(equality_cast)\n",
    "\n",
    "test = tf.cast(a, tf.int16)\n",
    "print(test.)"
   ]
  },
  {
   "cell_type": "code",
   "execution_count": 16,
   "metadata": {},
   "outputs": [],
   "source": [
    "# Example 2"
   ]
  },
  {
   "cell_type": "code",
   "execution_count": 22,
   "metadata": {},
   "outputs": [
    {
     "name": "stdout",
     "output_type": "stream",
     "text": [
      "tf.Tensor([False  True  True], shape=(3,), dtype=bool)\n"
     ]
    }
   ],
   "source": [
    "x = [1., 2, 3]\n",
    "y = [0., 2., 3.]\n",
    "equality= tf.equal(x,y)\n",
    "print(equality)"
   ]
  },
  {
   "cell_type": "code",
   "execution_count": 24,
   "metadata": {},
   "outputs": [
    {
     "name": "stdout",
     "output_type": "stream",
     "text": [
      "tf.Tensor([0. 1. 1.], shape=(3,), dtype=float32)\n"
     ]
    }
   ],
   "source": [
    "equality_cast = tf.cast(equality, tf.float32)\n",
    "print(equality_cast)"
   ]
  },
  {
   "cell_type": "code",
   "execution_count": 26,
   "metadata": {},
   "outputs": [
    {
     "name": "stdout",
     "output_type": "stream",
     "text": [
      "tf.Tensor(\n",
      "[[  0   0   0   0]\n",
      " [  0   0 128  63]\n",
      " [  0   0 128  63]], shape=(3, 4), dtype=uint8)\n"
     ]
    }
   ],
   "source": [
    "equality_bit_cast = tf.bitcast(equality_cast, tf.uint8)\n",
    "print(equality_bit_cast)"
   ]
  },
  {
   "cell_type": "code",
   "execution_count": 27,
   "metadata": {},
   "outputs": [],
   "source": [
    "# ** Bitcast is implemented as a low-level cast, so machines with different endian orderings will give different results."
   ]
  },
  {
   "cell_type": "markdown",
   "metadata": {},
   "source": [
    "#### tf.boolean_mask"
   ]
  },
  {
   "cell_type": "code",
   "execution_count": 34,
   "metadata": {
    "lang": "en"
   },
   "outputs": [
    {
     "data": {
      "text/plain": [
       "array([0, 2])"
      ]
     },
     "execution_count": 34,
     "metadata": {},
     "output_type": "execute_result"
    }
   ],
   "source": [
    "# Apply boolean_mask to tensor\n",
    "# tf.boolean_mask(tensor, mask, axis = None, name = 'boolean_mask')\n",
    "# Numpy equivalents is tensor[mask]\n",
    "\n",
    "# 1 d example\n",
    "tensor = [0,1,2,3]\n",
    "mask = np.array([True, False, True, False])\n",
    "tf.boolean_mask(tensor,mask).numpy()"
   ]
  },
  {
   "cell_type": "code",
   "execution_count": null,
   "metadata": {},
   "outputs": [],
   "source": []
  }
 ],
 "metadata": {
  "hide_input": false,
  "kernelspec": {
   "display_name": "Python 3",
   "language": "python",
   "name": "python3"
  },
  "language_info": {
   "codemirror_mode": {
    "name": "ipython",
    "version": 3
   },
   "file_extension": ".py",
   "mimetype": "text/x-python",
   "name": "python",
   "nbconvert_exporter": "python",
   "pygments_lexer": "ipython3",
   "version": "3.7.6"
  },
  "nbTranslate": {
   "displayLangs": [
    "ne"
   ],
   "hotkey": "alt-t",
   "langInMainMenu": true,
   "sourceLang": "en",
   "targetLang": "ne",
   "useGoogleTranslate": true
  },
  "toc": {
   "base_numbering": 1,
   "nav_menu": {},
   "number_sections": true,
   "sideBar": true,
   "skip_h1_title": false,
   "title_cell": "Table of Contents",
   "title_sidebar": "Contents",
   "toc_cell": false,
   "toc_position": {},
   "toc_section_display": true,
   "toc_window_display": false
  }
 },
 "nbformat": 4,
 "nbformat_minor": 4
}
