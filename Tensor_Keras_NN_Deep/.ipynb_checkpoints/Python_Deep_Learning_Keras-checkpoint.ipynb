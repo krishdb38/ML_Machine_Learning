{
 "cells": [
  {
   "cell_type": "markdown",
   "metadata": {},
   "source": [
    "### Check the version of install Program"
   ]
  },
  {
   "cell_type": "code",
   "execution_count": 1,
   "metadata": {},
   "outputs": [
    {
     "name": "stdout",
     "output_type": "stream",
     "text": [
      "\n",
      "You can find the C code in this temporary file: C:\\Users\\krish\\AppData\\Local\\Temp\\theano_compilation_error_iq85byre\n"
     ]
    },
    {
     "ename": "Exception",
     "evalue": "Compilation failed (return status=1): C:\\Users\\krish\\AppData\\Local\\Temp\\ccA80Axo.o: In function `_import_array':\r. C:/Users/krish/AppData/Local/Continuum/anaconda3/lib/site-packages/numpy/core/include/numpy/__multiarray_api.h:1475: undefined reference to `__imp_PyExc_AttributeError'\r. C:/Users/krish/AppData/Local/Continuum/anaconda3/lib/site-packages/numpy/core/include/numpy/__multiarray_api.h:1480: undefined reference to `__imp_PyCapsule_Type'\r. C:/Users/krish/AppData/Local/Continuum/anaconda3/lib/site-packages/numpy/core/include/numpy/__multiarray_api.h:1481: undefined reference to `__imp_PyExc_RuntimeError'\r. C:/Users/krish/AppData/Local/Continuum/anaconda3/lib/site-packages/numpy/core/include/numpy/__multiarray_api.h:1496: undefined reference to `__imp_PyExc_RuntimeError'\r. C:/Users/krish/AppData/Local/Continuum/anaconda3/lib/site-packages/numpy/core/include/numpy/__multiarray_api.h:1504: undefined reference to `__imp_PyExc_RuntimeError'\r. C:/Users/krish/AppData/Local/Continuum/anaconda3/lib/site-packages/numpy/core/include/numpy/__multiarray_api.h:1510: undefined reference to `__imp_PyExc_RuntimeError'\r. C:/Users/krish/AppData/Local/Continuum/anaconda3/lib/site-packages/numpy/core/include/numpy/__multiarray_api.h:1520: undefined reference to `__imp_PyExc_RuntimeError'\r. C:\\Users\\krish\\AppData\\Local\\Temp\\ccA80Axo.o:C:/Users/krish/AppData/Local/Continuum/anaconda3/lib/site-packages/numpy/core/include/numpy/__multiarray_api.h:1532: more undefined references to `__imp_PyExc_RuntimeError' follow\r. C:\\Users\\krish\\AppData\\Local\\Temp\\ccA80Axo.o: In function `NpyCapsule_Check':\r. C:/Users/krish/AppData/Local/Continuum/anaconda3/lib/site-packages/numpy/core/include/numpy/npy_3kcompat.h:535: undefined reference to `__imp_PyCapsule_Type'\r. C:\\Users\\krish\\AppData\\Local\\Temp\\ccA80Axo.o: In function `unpack_list_of_ssize_t':\r. C:/Users/krish/AppData/Local/Theano/compiledir_Windows-10-10.0.18362-SP0-Intel64_Family_6_Model_142_Stepping_10_GenuineIntel-3.7.7-64/lazylinker_ext/mod.cpp:48: undefined reference to `__imp_PyExc_TypeError'\r. C:/Users/krish/AppData/Local/Theano/compiledir_Windows-10-10.0.18362-SP0-Intel64_Family_6_Model_142_Stepping_10_GenuineIntel-3.7.7-64/lazylinker_ext/mod.cpp:58: undefined reference to `__imp_PyExc_IndexError'\r. C:\\Users\\krish\\AppData\\Local\\Temp\\ccA80Axo.o: In function `CLazyLinker_init':\r. C:/Users/krish/AppData/Local/Theano/compiledir_Windows-10-10.0.18362-SP0-Intel64_Family_6_Model_142_Stepping_10_GenuineIntel-3.7.7-64/lazylinker_ext/mod.cpp:352: undefined reference to `__imp_PyExc_IndexError'\r. C:/Users/krish/AppData/Local/Theano/compiledir_Windows-10-10.0.18362-SP0-Intel64_Family_6_Model_142_Stepping_10_GenuineIntel-3.7.7-64/lazylinker_ext/mod.cpp:370: undefined reference to `__imp_PyExc_IndexError'\r. C:/Users/krish/AppData/Local/Theano/compiledir_Windows-10-10.0.18362-SP0-Intel64_Family_6_Model_142_Stepping_10_GenuineIntel-3.7.7-64/lazylinker_ext/mod.cpp:385: undefined reference to `__imp_PyExc_IndexError'\r. C:/Users/krish/AppData/Local/Theano/compiledir_Windows-10-10.0.18362-SP0-Intel64_Family_6_Model_142_Stepping_10_GenuineIntel-3.7.7-64/lazylinker_ext/mod.cpp:389: undefined reference to `__imp_PyExc_IndexError'\r. C:\\Users\\krish\\AppData\\Local\\Temp\\ccA80Axo.o:C:/Users/krish/AppData/Local/Theano/compiledir_Windows-10-10.0.18362-SP0-Intel64_Family_6_Model_142_Stepping_10_GenuineIntel-3.7.7-64/lazylinker_ext/mod.cpp:393: more undefined references to `__imp_PyExc_IndexError' follow\r. C:\\Users\\krish\\AppData\\Local\\Temp\\ccA80Axo.o: In function `CLazyLinker_init':\r. C:/Users/krish/AppData/Local/Theano/compiledir_Windows-10-10.0.18362-SP0-Intel64_Family_6_Model_142_Stepping_10_GenuineIntel-3.7.7-64/lazylinker_ext/mod.cpp:405: undefined reference to `__imp_PyExc_TypeError'\r. C:/Users/krish/AppData/Local/Theano/compiledir_Windows-10-10.0.18362-SP0-Intel64_Family_6_Model_142_Stepping_10_GenuineIntel-3.7.7-64/lazylinker_ext/mod.cpp:420: undefined reference to `__imp__Py_NoneStruct'\r. C:/Users/krish/AppData/Local/Theano/compiledir_Windows-10-10.0.18362-SP0-Intel64_Family_6_Model_142_Stepping_10_GenuineIntel-3.7.7-64/lazylinker_ext/mod.cpp:426: undefined reference to `__imp_PyExc_IndexError'\r. C:/Users/krish/AppData/Local/Theano/compiledir_Windows-10-10.0.18362-SP0-Intel64_Family_6_Model_142_Stepping_10_GenuineIntel-3.7.7-64/lazylinker_ext/mod.cpp:440: undefined reference to `__imp_PyExc_TypeError'\r. C:/Users/krish/AppData/Local/Theano/compiledir_Windows-10-10.0.18362-SP0-Intel64_Family_6_Model_142_Stepping_10_GenuineIntel-3.7.7-64/lazylinker_ext/mod.cpp:444: undefined reference to `__imp__Py_NoneStruct'\r. C:\\Users\\krish\\AppData\\Local\\Temp\\ccA80Axo.o: In function `c_call':\r. C:/Users/krish/AppData/Local/Theano/compiledir_Windows-10-10.0.18362-SP0-Intel64_Family_6_Model_142_Stepping_10_GenuineIntel-3.7.7-64/lazylinker_ext/mod.cpp:545: undefined reference to `__imp__Py_NoneStruct'\r. C:/Users/krish/AppData/Local/Theano/compiledir_Windows-10-10.0.18362-SP0-Intel64_Family_6_Model_142_Stepping_10_GenuineIntel-3.7.7-64/lazylinker_ext/mod.cpp:545: undefined reference to `__imp__Py_NoneStruct'\r. C:/Users/krish/AppData/Local/Theano/compiledir_Windows-10-10.0.18362-SP0-Intel64_Family_6_Model_142_Stepping_10_GenuineIntel-3.7.7-64/lazylinker_ext/mod.cpp:545: undefined reference to `__imp__Py_NoneStruct'\r. C:/Users/krish/AppData/Local/Theano/compiledir_Windows-10-10.0.18362-SP0-Intel64_Family_6_Model_142_Stepping_10_GenuineIntel-3.7.7-64/lazylinker_ext/mod.cpp:546: undefined reference to `__imp__Py_NoneStruct'\r. C:\\Users\\krish\\AppData\\Local\\Temp\\ccA80Axo.o:C:/Users/krish/AppData/Local/Theano/compiledir_Windows-10-10.0.18362-SP0-Intel64_Family_6_Model_142_Stepping_10_GenuineIntel-3.7.7-64/lazylinker_ext/mod.cpp:546: more undefined references to `__imp__Py_NoneStruct' follow\r. C:\\Users\\krish\\AppData\\Local\\Temp\\ccA80Axo.o: In function `lazy_rec_eval':\r. C:/Users/krish/AppData/Local/Theano/compiledir_Windows-10-10.0.18362-SP0-Intel64_Family_6_Model_142_Stepping_10_GenuineIntel-3.7.7-64/lazylinker_ext/mod.cpp:618: undefined reference to `__imp_PyExc_IndexError'\r. C:/Users/krish/AppData/Local/Theano/compiledir_Windows-10-10.0.18362-SP0-Intel64_Family_6_Model_142_Stepping_10_GenuineIntel-3.7.7-64/lazylinker_ext/mod.cpp:641: undefined reference to `__imp_PyExc_TypeError'\r. C:/Users/krish/AppData/Local/Theano/compiledir_Windows-10-10.0.18362-SP0-Intel64_Family_6_Model_142_Stepping_10_GenuineIntel-3.7.7-64/lazylinker_ext/mod.cpp:649: undefined reference to `__imp_PyExc_ValueError'\r. C:/Users/krish/AppData/Local/Theano/compiledir_Windows-10-10.0.18362-SP0-Intel64_Family_6_Model_142_Stepping_10_GenuineIntel-3.7.7-64/lazylinker_ext/mod.cpp:657: undefined reference to `__imp_PyExc_IndexError'\r. C:/Users/krish/AppData/Local/Theano/compiledir_Windows-10-10.0.18362-SP0-Intel64_Family_6_Model_142_Stepping_10_GenuineIntel-3.7.7-64/lazylinker_ext/mod.cpp:708: undefined reference to `__imp__Py_NoneStruct'\r. C:/Users/krish/AppData/Local/Theano/compiledir_Windows-10-10.0.18362-SP0-Intel64_Family_6_Model_142_Stepping_10_GenuineIntel-3.7.7-64/lazylinker_ext/mod.cpp:715: undefined reference to `__imp_PyExc_TypeError'\r. C:/Users/krish/AppData/Local/Theano/compiledir_Windows-10-10.0.18362-SP0-Intel64_Family_6_Model_142_Stepping_10_GenuineIntel-3.7.7-64/lazylinker_ext/mod.cpp:721: undefined reference to `__imp_PyExc_TypeError'\r. C:/Users/krish/AppData/Local/Theano/compiledir_Windows-10-10.0.18362-SP0-Intel64_Family_6_Model_142_Stepping_10_GenuineIntel-3.7.7-64/lazylinker_ext/mod.cpp:771: undefined reference to `__imp__Py_NoneStruct'\r. C:/Users/krish/AppData/Local/Theano/compiledir_Windows-10-10.0.18362-SP0-Intel64_Family_6_Model_142_Stepping_10_GenuineIntel-3.7.7-64/lazylinker_ext/mod.cpp:771: undefined reference to `__imp__Py_NoneStruct'\r. C:/Users/krish/AppData/Local/Theano/compiledir_Windows-10-10.0.18362-SP0-Intel64_Family_6_Model_142_Stepping_10_GenuineIntel-3.7.7-64/lazylinker_ext/mod.cpp:772: undefined reference to `__imp__Py_NoneStruct'\r. C:\\Users\\krish\\AppData\\Local\\Temp\\ccA80Axo.o: In function `CLazyLinker_call':\r. C:/Users/krish/AppData/Local/Theano/compiledir_Windows-10-10.0.18362-SP0-Intel64_Family_6_Model_142_Stepping_10_GenuineIntel-3.7.7-64/lazylinker_ext/mod.cpp:814: undefined reference to `__imp_PyExc_RuntimeError'\r. C:/Users/krish/AppData/Local/Theano/compiledir_Windows-10-10.0.18362-SP0-Intel64_Family_6_Model_142_Stepping_10_GenuineIntel-3.7.7-64/lazylinker_ext/mod.cpp:826: undefined reference to `__imp_PyExc_RuntimeError'\r. C:/Users/krish/AppData/Local/Theano/compiledir_Windows-10-10.0.18362-SP0-Intel64_Family_6_Model_142_Stepping_10_GenuineIntel-3.7.7-64/lazylinker_ext/mod.cpp:839: undefined reference to `__imp__Py_NoneStruct'\r. C:/Users/krish/AppData/Local/Theano/compiledir_Windows-10-10.0.18362-SP0-Intel64_Family_6_Model_142_Stepping_10_GenuineIntel-3.7.7-64/lazylinker_ext/mod.cpp:839: undefined reference to `__imp__Py_NoneStruct'\r. C:/Users/krish/AppData/Local/Theano/compiledir_Windows-10-10.0.18362-SP0-Intel64_Family_6_Model_142_Stepping_10_GenuineIntel-3.7.7-64/lazylinker_ext/mod.cpp:840: undefined reference to `__imp__Py_NoneStruct'\r. C:/Users/krish/AppData/Local/Theano/compiledir_Windows-10-10.0.18362-SP0-Intel64_Family_6_Model_142_Stepping_10_GenuineIntel-3.7.7-64/lazylinker_ext/mod.cpp:849: undefined reference to `__imp__Py_NoneStruct'\r. C:/Users/krish/AppData/Local/Theano/compiledir_Windows-10-10.0.18362-SP0-Intel64_Family_6_Model_142_Stepping_10_GenuineIntel-3.7.7-64/lazylinker_ext/mod.cpp:849: undefined reference to `__imp__Py_NoneStruct'\r. C:\\Users\\krish\\AppData\\Local\\Temp\\ccA80Axo.o:C:/Users/krish/AppData/Local/Theano/compiledir_Windows-10-10.0.18362-SP0-Intel64_Family_6_Model_142_Stepping_10_GenuineIntel-3.7.7-64/lazylinker_ext/mod.cpp:850: more undefined references to `__imp__Py_NoneStruct' follow\r. C:\\Users\\krish\\AppData\\Local\\Temp\\ccA80Axo.o: In function `CLazyLinker_call':\r. C:/Users/krish/AppData/Local/Theano/compiledir_Windows-10-10.0.18362-SP0-Intel64_Family_6_Model_142_Stepping_10_GenuineIntel-3.7.7-64/lazylinker_ext/mod.cpp:894: undefined reference to `__imp_PyExc_AssertionError'\r. C:/Users/krish/AppData/Local/Theano/compiledir_Windows-10-10.0.18362-SP0-Intel64_Family_6_Model_142_Stepping_10_GenuineIntel-3.7.7-64/lazylinker_ext/mod.cpp:937: undefined reference to `__imp__Py_NoneStruct'\r. C:/Users/krish/AppData/Local/Theano/compiledir_Windows-10-10.0.18362-SP0-Intel64_Family_6_Model_142_Stepping_10_GenuineIntel-3.7.7-64/lazylinker_ext/mod.cpp:937: undefined reference to `__imp__Py_NoneStruct'\r. C:/Users/krish/AppData/Local/Theano/compiledir_Windows-10-10.0.18362-SP0-Intel64_Family_6_Model_142_Stepping_10_GenuineIntel-3.7.7-64/lazylinker_ext/mod.cpp:938: undefined reference to `__imp__Py_NoneStruct'\r. C:\\Users\\krish\\AppData\\Local\\Temp\\ccA80Axo.o: In function `CLazyLinker_set_allow_gc':\r. C:/Users/krish/AppData/Local/Theano/compiledir_Windows-10-10.0.18362-SP0-Intel64_Family_6_Model_142_Stepping_10_GenuineIntel-3.7.7-64/lazylinker_ext/mod.cpp:973: undefined reference to `__imp_PyBool_Type'\r. C:/Users/krish/AppData/Local/Theano/compiledir_Windows-10-10.0.18362-SP0-Intel64_Family_6_Model_142_Stepping_10_GenuineIntel-3.7.7-64/lazylinker_ext/mod.cpp:976: undefined reference to `__imp__Py_TrueStruct'\r. collect2.exe: error: ld returned 1 exit status\r. ",
     "output_type": "error",
     "traceback": [
      "\u001b[1;31m---------------------------------------------------------------------------\u001b[0m",
      "\u001b[1;31mImportError\u001b[0m                               Traceback (most recent call last)",
      "\u001b[1;32m~\\AppData\\Local\\Continuum\\anaconda3\\lib\\site-packages\\theano\\gof\\lazylinker_c.py\u001b[0m in \u001b[0;36m<module>\u001b[1;34m\u001b[0m\n\u001b[0;32m     80\u001b[0m                     \u001b[0mversion\u001b[0m\u001b[1;33m,\u001b[0m\u001b[1;33m\u001b[0m\u001b[1;33m\u001b[0m\u001b[0m\n\u001b[1;32m---> 81\u001b[1;33m                     actual_version, force_compile, _need_reload))\n\u001b[0m\u001b[0;32m     82\u001b[0m \u001b[1;32mexcept\u001b[0m \u001b[0mImportError\u001b[0m\u001b[1;33m:\u001b[0m\u001b[1;33m\u001b[0m\u001b[1;33m\u001b[0m\u001b[0m\n",
      "\u001b[1;31mImportError\u001b[0m: Version check of the existing lazylinker compiled file. Looking for version 0.211, but found None. Extra debug information: force_compile=False, _need_reload=True",
      "\nDuring handling of the above exception, another exception occurred:\n",
      "\u001b[1;31mImportError\u001b[0m                               Traceback (most recent call last)",
      "\u001b[1;32m~\\AppData\\Local\\Continuum\\anaconda3\\lib\\site-packages\\theano\\gof\\lazylinker_c.py\u001b[0m in \u001b[0;36m<module>\u001b[1;34m\u001b[0m\n\u001b[0;32m    104\u001b[0m                         \u001b[0mversion\u001b[0m\u001b[1;33m,\u001b[0m\u001b[1;33m\u001b[0m\u001b[1;33m\u001b[0m\u001b[0m\n\u001b[1;32m--> 105\u001b[1;33m                         actual_version, force_compile, _need_reload))\n\u001b[0m\u001b[0;32m    106\u001b[0m         \u001b[1;32mexcept\u001b[0m \u001b[0mImportError\u001b[0m\u001b[1;33m:\u001b[0m\u001b[1;33m\u001b[0m\u001b[1;33m\u001b[0m\u001b[0m\n",
      "\u001b[1;31mImportError\u001b[0m: Version check of the existing lazylinker compiled file. Looking for version 0.211, but found None. Extra debug information: force_compile=False, _need_reload=True",
      "\nDuring handling of the above exception, another exception occurred:\n",
      "\u001b[1;31mException\u001b[0m                                 Traceback (most recent call last)",
      "\u001b[1;32m<ipython-input-1-be4090844e6e>\u001b[0m in \u001b[0;36m<module>\u001b[1;34m\u001b[0m\n\u001b[0;32m      6\u001b[0m \u001b[1;32mimport\u001b[0m \u001b[0mpydot\u001b[0m\u001b[1;33m\u001b[0m\u001b[1;33m\u001b[0m\u001b[0m\n\u001b[0;32m      7\u001b[0m \u001b[1;32mimport\u001b[0m \u001b[0mh5py\u001b[0m\u001b[1;33m\u001b[0m\u001b[1;33m\u001b[0m\u001b[0m\n\u001b[1;32m----> 8\u001b[1;33m \u001b[1;32mimport\u001b[0m \u001b[0mtheano\u001b[0m\u001b[1;33m\u001b[0m\u001b[1;33m\u001b[0m\u001b[0m\n\u001b[0m\u001b[0;32m      9\u001b[0m \u001b[1;32mimport\u001b[0m \u001b[0mtensorflow\u001b[0m\u001b[1;33m\u001b[0m\u001b[1;33m\u001b[0m\u001b[0m\n\u001b[0;32m     10\u001b[0m \u001b[1;32mimport\u001b[0m \u001b[0mkeras\u001b[0m\u001b[1;33m\u001b[0m\u001b[1;33m\u001b[0m\u001b[0m\n",
      "\u001b[1;32m~\\AppData\\Local\\Continuum\\anaconda3\\lib\\site-packages\\theano\\__init__.py\u001b[0m in \u001b[0;36m<module>\u001b[1;34m\u001b[0m\n\u001b[0;32m    108\u001b[0m     object2, utils)\n\u001b[0;32m    109\u001b[0m \u001b[1;33m\u001b[0m\u001b[0m\n\u001b[1;32m--> 110\u001b[1;33m from theano.compile import (\n\u001b[0m\u001b[0;32m    111\u001b[0m     \u001b[0mSymbolicInput\u001b[0m\u001b[1;33m,\u001b[0m \u001b[0mIn\u001b[0m\u001b[1;33m,\u001b[0m\u001b[1;33m\u001b[0m\u001b[1;33m\u001b[0m\u001b[0m\n\u001b[0;32m    112\u001b[0m     \u001b[0mSymbolicOutput\u001b[0m\u001b[1;33m,\u001b[0m \u001b[0mOut\u001b[0m\u001b[1;33m,\u001b[0m\u001b[1;33m\u001b[0m\u001b[1;33m\u001b[0m\u001b[0m\n",
      "\u001b[1;32m~\\AppData\\Local\\Continuum\\anaconda3\\lib\\site-packages\\theano\\compile\\__init__.py\u001b[0m in \u001b[0;36m<module>\u001b[1;34m\u001b[0m\n\u001b[0;32m     10\u001b[0m \u001b[1;32mfrom\u001b[0m \u001b[0mtheano\u001b[0m\u001b[1;33m.\u001b[0m\u001b[0mcompile\u001b[0m\u001b[1;33m.\u001b[0m\u001b[0mfunction_module\u001b[0m \u001b[1;32mimport\u001b[0m \u001b[1;33m*\u001b[0m\u001b[1;33m\u001b[0m\u001b[1;33m\u001b[0m\u001b[0m\n\u001b[0;32m     11\u001b[0m \u001b[1;33m\u001b[0m\u001b[0m\n\u001b[1;32m---> 12\u001b[1;33m \u001b[1;32mfrom\u001b[0m \u001b[0mtheano\u001b[0m\u001b[1;33m.\u001b[0m\u001b[0mcompile\u001b[0m\u001b[1;33m.\u001b[0m\u001b[0mmode\u001b[0m \u001b[1;32mimport\u001b[0m \u001b[1;33m*\u001b[0m\u001b[1;33m\u001b[0m\u001b[1;33m\u001b[0m\u001b[0m\n\u001b[0m\u001b[0;32m     13\u001b[0m \u001b[1;33m\u001b[0m\u001b[0m\n\u001b[0;32m     14\u001b[0m \u001b[1;32mfrom\u001b[0m \u001b[0mtheano\u001b[0m\u001b[1;33m.\u001b[0m\u001b[0mcompile\u001b[0m\u001b[1;33m.\u001b[0m\u001b[0mio\u001b[0m \u001b[1;32mimport\u001b[0m \u001b[1;33m*\u001b[0m\u001b[1;33m\u001b[0m\u001b[1;33m\u001b[0m\u001b[0m\n",
      "\u001b[1;32m~\\AppData\\Local\\Continuum\\anaconda3\\lib\\site-packages\\theano\\compile\\mode.py\u001b[0m in \u001b[0;36m<module>\u001b[1;34m\u001b[0m\n\u001b[0;32m      9\u001b[0m \u001b[1;32mimport\u001b[0m \u001b[0mtheano\u001b[0m\u001b[1;33m\u001b[0m\u001b[1;33m\u001b[0m\u001b[0m\n\u001b[0;32m     10\u001b[0m \u001b[1;32mfrom\u001b[0m \u001b[0mtheano\u001b[0m \u001b[1;32mimport\u001b[0m \u001b[0mgof\u001b[0m\u001b[1;33m\u001b[0m\u001b[1;33m\u001b[0m\u001b[0m\n\u001b[1;32m---> 11\u001b[1;33m \u001b[1;32mimport\u001b[0m \u001b[0mtheano\u001b[0m\u001b[1;33m.\u001b[0m\u001b[0mgof\u001b[0m\u001b[1;33m.\u001b[0m\u001b[0mvm\u001b[0m\u001b[1;33m\u001b[0m\u001b[1;33m\u001b[0m\u001b[0m\n\u001b[0m\u001b[0;32m     12\u001b[0m \u001b[1;32mfrom\u001b[0m \u001b[0mtheano\u001b[0m \u001b[1;32mimport\u001b[0m \u001b[0mconfig\u001b[0m\u001b[1;33m\u001b[0m\u001b[1;33m\u001b[0m\u001b[0m\n\u001b[0;32m     13\u001b[0m \u001b[1;32mfrom\u001b[0m \u001b[0msix\u001b[0m \u001b[1;32mimport\u001b[0m \u001b[0mstring_types\u001b[0m\u001b[1;33m\u001b[0m\u001b[1;33m\u001b[0m\u001b[0m\n",
      "\u001b[1;32m~\\AppData\\Local\\Continuum\\anaconda3\\lib\\site-packages\\theano\\gof\\vm.py\u001b[0m in \u001b[0;36m<module>\u001b[1;34m\u001b[0m\n\u001b[0;32m    672\u001b[0m     \u001b[1;32mif\u001b[0m \u001b[1;32mnot\u001b[0m \u001b[0mtheano\u001b[0m\u001b[1;33m.\u001b[0m\u001b[0mconfig\u001b[0m\u001b[1;33m.\u001b[0m\u001b[0mcxx\u001b[0m\u001b[1;33m:\u001b[0m\u001b[1;33m\u001b[0m\u001b[1;33m\u001b[0m\u001b[0m\n\u001b[0;32m    673\u001b[0m         \u001b[1;32mraise\u001b[0m \u001b[0mtheano\u001b[0m\u001b[1;33m.\u001b[0m\u001b[0mgof\u001b[0m\u001b[1;33m.\u001b[0m\u001b[0mcmodule\u001b[0m\u001b[1;33m.\u001b[0m\u001b[0mMissingGXX\u001b[0m\u001b[1;33m(\u001b[0m\u001b[1;34m'lazylinker will not be imported if theano.config.cxx is not set.'\u001b[0m\u001b[1;33m)\u001b[0m\u001b[1;33m\u001b[0m\u001b[1;33m\u001b[0m\u001b[0m\n\u001b[1;32m--> 674\u001b[1;33m     \u001b[1;32mfrom\u001b[0m \u001b[1;33m.\u001b[0m \u001b[1;32mimport\u001b[0m \u001b[0mlazylinker_c\u001b[0m\u001b[1;33m\u001b[0m\u001b[1;33m\u001b[0m\u001b[0m\n\u001b[0m\u001b[0;32m    675\u001b[0m \u001b[1;33m\u001b[0m\u001b[0m\n\u001b[0;32m    676\u001b[0m     \u001b[1;32mclass\u001b[0m \u001b[0mCVM\u001b[0m\u001b[1;33m(\u001b[0m\u001b[0mlazylinker_c\u001b[0m\u001b[1;33m.\u001b[0m\u001b[0mCLazyLinker\u001b[0m\u001b[1;33m,\u001b[0m \u001b[0mVM\u001b[0m\u001b[1;33m)\u001b[0m\u001b[1;33m:\u001b[0m\u001b[1;33m\u001b[0m\u001b[1;33m\u001b[0m\u001b[0m\n",
      "\u001b[1;32m~\\AppData\\Local\\Continuum\\anaconda3\\lib\\site-packages\\theano\\gof\\lazylinker_c.py\u001b[0m in \u001b[0;36m<module>\u001b[1;34m\u001b[0m\n\u001b[0;32m    138\u001b[0m             \u001b[0margs\u001b[0m \u001b[1;33m=\u001b[0m \u001b[0mcmodule\u001b[0m\u001b[1;33m.\u001b[0m\u001b[0mGCC_compiler\u001b[0m\u001b[1;33m.\u001b[0m\u001b[0mcompile_args\u001b[0m\u001b[1;33m(\u001b[0m\u001b[1;33m)\u001b[0m\u001b[1;33m\u001b[0m\u001b[1;33m\u001b[0m\u001b[0m\n\u001b[0;32m    139\u001b[0m             cmodule.GCC_compiler.compile_str(dirname, code, location=loc,\n\u001b[1;32m--> 140\u001b[1;33m                                              preargs=args)\n\u001b[0m\u001b[0;32m    141\u001b[0m             \u001b[1;31m# Save version into the __init__.py file.\u001b[0m\u001b[1;33m\u001b[0m\u001b[1;33m\u001b[0m\u001b[1;33m\u001b[0m\u001b[0m\n\u001b[0;32m    142\u001b[0m             \u001b[0minit_py\u001b[0m \u001b[1;33m=\u001b[0m \u001b[0mos\u001b[0m\u001b[1;33m.\u001b[0m\u001b[0mpath\u001b[0m\u001b[1;33m.\u001b[0m\u001b[0mjoin\u001b[0m\u001b[1;33m(\u001b[0m\u001b[0mloc\u001b[0m\u001b[1;33m,\u001b[0m \u001b[1;34m'__init__.py'\u001b[0m\u001b[1;33m)\u001b[0m\u001b[1;33m\u001b[0m\u001b[1;33m\u001b[0m\u001b[0m\n",
      "\u001b[1;32m~\\AppData\\Local\\Continuum\\anaconda3\\lib\\site-packages\\theano\\gof\\cmodule.py\u001b[0m in \u001b[0;36mcompile_str\u001b[1;34m(module_name, src_code, location, include_dirs, lib_dirs, libs, preargs, py_module, hide_symbols)\u001b[0m\n\u001b[0;32m   2394\u001b[0m             \u001b[1;31m# difficult to read.\u001b[0m\u001b[1;33m\u001b[0m\u001b[1;33m\u001b[0m\u001b[1;33m\u001b[0m\u001b[0m\n\u001b[0;32m   2395\u001b[0m             raise Exception('Compilation failed (return status=%s): %s' %\n\u001b[1;32m-> 2396\u001b[1;33m                             (status, compile_stderr.replace('\\n', '. ')))\n\u001b[0m\u001b[0;32m   2397\u001b[0m         \u001b[1;32melif\u001b[0m \u001b[0mconfig\u001b[0m\u001b[1;33m.\u001b[0m\u001b[0mcmodule\u001b[0m\u001b[1;33m.\u001b[0m\u001b[0mcompilation_warning\u001b[0m \u001b[1;32mand\u001b[0m \u001b[0mcompile_stderr\u001b[0m\u001b[1;33m:\u001b[0m\u001b[1;33m\u001b[0m\u001b[1;33m\u001b[0m\u001b[0m\n\u001b[0;32m   2398\u001b[0m             \u001b[1;31m# Print errors just below the command line.\u001b[0m\u001b[1;33m\u001b[0m\u001b[1;33m\u001b[0m\u001b[1;33m\u001b[0m\u001b[0m\n",
      "\u001b[1;31mException\u001b[0m: Compilation failed (return status=1): C:\\Users\\krish\\AppData\\Local\\Temp\\ccA80Axo.o: In function `_import_array':\r. C:/Users/krish/AppData/Local/Continuum/anaconda3/lib/site-packages/numpy/core/include/numpy/__multiarray_api.h:1475: undefined reference to `__imp_PyExc_AttributeError'\r. C:/Users/krish/AppData/Local/Continuum/anaconda3/lib/site-packages/numpy/core/include/numpy/__multiarray_api.h:1480: undefined reference to `__imp_PyCapsule_Type'\r. C:/Users/krish/AppData/Local/Continuum/anaconda3/lib/site-packages/numpy/core/include/numpy/__multiarray_api.h:1481: undefined reference to `__imp_PyExc_RuntimeError'\r. C:/Users/krish/AppData/Local/Continuum/anaconda3/lib/site-packages/numpy/core/include/numpy/__multiarray_api.h:1496: undefined reference to `__imp_PyExc_RuntimeError'\r. C:/Users/krish/AppData/Local/Continuum/anaconda3/lib/site-packages/numpy/core/include/numpy/__multiarray_api.h:1504: undefined reference to `__imp_PyExc_RuntimeError'\r. C:/Users/krish/AppData/Local/Continuum/anaconda3/lib/site-packages/numpy/core/include/numpy/__multiarray_api.h:1510: undefined reference to `__imp_PyExc_RuntimeError'\r. C:/Users/krish/AppData/Local/Continuum/anaconda3/lib/site-packages/numpy/core/include/numpy/__multiarray_api.h:1520: undefined reference to `__imp_PyExc_RuntimeError'\r. C:\\Users\\krish\\AppData\\Local\\Temp\\ccA80Axo.o:C:/Users/krish/AppData/Local/Continuum/anaconda3/lib/site-packages/numpy/core/include/numpy/__multiarray_api.h:1532: more undefined references to `__imp_PyExc_RuntimeError' follow\r. C:\\Users\\krish\\AppData\\Local\\Temp\\ccA80Axo.o: In function `NpyCapsule_Check':\r. C:/Users/krish/AppData/Local/Continuum/anaconda3/lib/site-packages/numpy/core/include/numpy/npy_3kcompat.h:535: undefined reference to `__imp_PyCapsule_Type'\r. C:\\Users\\krish\\AppData\\Local\\Temp\\ccA80Axo.o: In function `unpack_list_of_ssize_t':\r. C:/Users/krish/AppData/Local/Theano/compiledir_Windows-10-10.0.18362-SP0-Intel64_Family_6_Model_142_Stepping_10_GenuineIntel-3.7.7-64/lazylinker_ext/mod.cpp:48: undefined reference to `__imp_PyExc_TypeError'\r. C:/Users/krish/AppData/Local/Theano/compiledir_Windows-10-10.0.18362-SP0-Intel64_Family_6_Model_142_Stepping_10_GenuineIntel-3.7.7-64/lazylinker_ext/mod.cpp:58: undefined reference to `__imp_PyExc_IndexError'\r. C:\\Users\\krish\\AppData\\Local\\Temp\\ccA80Axo.o: In function `CLazyLinker_init':\r. C:/Users/krish/AppData/Local/Theano/compiledir_Windows-10-10.0.18362-SP0-Intel64_Family_6_Model_142_Stepping_10_GenuineIntel-3.7.7-64/lazylinker_ext/mod.cpp:352: undefined reference to `__imp_PyExc_IndexError'\r. C:/Users/krish/AppData/Local/Theano/compiledir_Windows-10-10.0.18362-SP0-Intel64_Family_6_Model_142_Stepping_10_GenuineIntel-3.7.7-64/lazylinker_ext/mod.cpp:370: undefined reference to `__imp_PyExc_IndexError'\r. C:/Users/krish/AppData/Local/Theano/compiledir_Windows-10-10.0.18362-SP0-Intel64_Family_6_Model_142_Stepping_10_GenuineIntel-3.7.7-64/lazylinker_ext/mod.cpp:385: undefined reference to `__imp_PyExc_IndexError'\r. C:/Users/krish/AppData/Local/Theano/compiledir_Windows-10-10.0.18362-SP0-Intel64_Family_6_Model_142_Stepping_10_GenuineIntel-3.7.7-64/lazylinker_ext/mod.cpp:389: undefined reference to `__imp_PyExc_IndexError'\r. C:\\Users\\krish\\AppData\\Local\\Temp\\ccA80Axo.o:C:/Users/krish/AppData/Local/Theano/compiledir_Windows-10-10.0.18362-SP0-Intel64_Family_6_Model_142_Stepping_10_GenuineIntel-3.7.7-64/lazylinker_ext/mod.cpp:393: more undefined references to `__imp_PyExc_IndexError' follow\r. C:\\Users\\krish\\AppData\\Local\\Temp\\ccA80Axo.o: In function `CLazyLinker_init':\r. C:/Users/krish/AppData/Local/Theano/compiledir_Windows-10-10.0.18362-SP0-Intel64_Family_6_Model_142_Stepping_10_GenuineIntel-3.7.7-64/lazylinker_ext/mod.cpp:405: undefined reference to `__imp_PyExc_TypeError'\r. C:/Users/krish/AppData/Local/Theano/compiledir_Windows-10-10.0.18362-SP0-Intel64_Family_6_Model_142_Stepping_10_GenuineIntel-3.7.7-64/lazylinker_ext/mod.cpp:420: undefined reference to `__imp__Py_NoneStruct'\r. C:/Users/krish/AppData/Local/Theano/compiledir_Windows-10-10.0.18362-SP0-Intel64_Family_6_Model_142_Stepping_10_GenuineIntel-3.7.7-64/lazylinker_ext/mod.cpp:426: undefined reference to `__imp_PyExc_IndexError'\r. C:/Users/krish/AppData/Local/Theano/compiledir_Windows-10-10.0.18362-SP0-Intel64_Family_6_Model_142_Stepping_10_GenuineIntel-3.7.7-64/lazylinker_ext/mod.cpp:440: undefined reference to `__imp_PyExc_TypeError'\r. C:/Users/krish/AppData/Local/Theano/compiledir_Windows-10-10.0.18362-SP0-Intel64_Family_6_Model_142_Stepping_10_GenuineIntel-3.7.7-64/lazylinker_ext/mod.cpp:444: undefined reference to `__imp__Py_NoneStruct'\r. C:\\Users\\krish\\AppData\\Local\\Temp\\ccA80Axo.o: In function `c_call':\r. C:/Users/krish/AppData/Local/Theano/compiledir_Windows-10-10.0.18362-SP0-Intel64_Family_6_Model_142_Stepping_10_GenuineIntel-3.7.7-64/lazylinker_ext/mod.cpp:545: undefined reference to `__imp__Py_NoneStruct'\r. C:/Users/krish/AppData/Local/Theano/compiledir_Windows-10-10.0.18362-SP0-Intel64_Family_6_Model_142_Stepping_10_GenuineIntel-3.7.7-64/lazylinker_ext/mod.cpp:545: undefined reference to `__imp__Py_NoneStruct'\r. C:/Users/krish/AppData/Local/Theano/compiledir_Windows-10-10.0.18362-SP0-Intel64_Family_6_Model_142_Stepping_10_GenuineIntel-3.7.7-64/lazylinker_ext/mod.cpp:545: undefined reference to `__imp__Py_NoneStruct'\r. C:/Users/krish/AppData/Local/Theano/compiledir_Windows-10-10.0.18362-SP0-Intel64_Family_6_Model_142_Stepping_10_GenuineIntel-3.7.7-64/lazylinker_ext/mod.cpp:546: undefined reference to `__imp__Py_NoneStruct'\r. C:\\Users\\krish\\AppData\\Local\\Temp\\ccA80Axo.o:C:/Users/krish/AppData/Local/Theano/compiledir_Windows-10-10.0.18362-SP0-Intel64_Family_6_Model_142_Stepping_10_GenuineIntel-3.7.7-64/lazylinker_ext/mod.cpp:546: more undefined references to `__imp__Py_NoneStruct' follow\r. C:\\Users\\krish\\AppData\\Local\\Temp\\ccA80Axo.o: In function `lazy_rec_eval':\r. C:/Users/krish/AppData/Local/Theano/compiledir_Windows-10-10.0.18362-SP0-Intel64_Family_6_Model_142_Stepping_10_GenuineIntel-3.7.7-64/lazylinker_ext/mod.cpp:618: undefined reference to `__imp_PyExc_IndexError'\r. C:/Users/krish/AppData/Local/Theano/compiledir_Windows-10-10.0.18362-SP0-Intel64_Family_6_Model_142_Stepping_10_GenuineIntel-3.7.7-64/lazylinker_ext/mod.cpp:641: undefined reference to `__imp_PyExc_TypeError'\r. C:/Users/krish/AppData/Local/Theano/compiledir_Windows-10-10.0.18362-SP0-Intel64_Family_6_Model_142_Stepping_10_GenuineIntel-3.7.7-64/lazylinker_ext/mod.cpp:649: undefined reference to `__imp_PyExc_ValueError'\r. C:/Users/krish/AppData/Local/Theano/compiledir_Windows-10-10.0.18362-SP0-Intel64_Family_6_Model_142_Stepping_10_GenuineIntel-3.7.7-64/lazylinker_ext/mod.cpp:657: undefined reference to `__imp_PyExc_IndexError'\r. C:/Users/krish/AppData/Local/Theano/compiledir_Windows-10-10.0.18362-SP0-Intel64_Family_6_Model_142_Stepping_10_GenuineIntel-3.7.7-64/lazylinker_ext/mod.cpp:708: undefined reference to `__imp__Py_NoneStruct'\r. C:/Users/krish/AppData/Local/Theano/compiledir_Windows-10-10.0.18362-SP0-Intel64_Family_6_Model_142_Stepping_10_GenuineIntel-3.7.7-64/lazylinker_ext/mod.cpp:715: undefined reference to `__imp_PyExc_TypeError'\r. C:/Users/krish/AppData/Local/Theano/compiledir_Windows-10-10.0.18362-SP0-Intel64_Family_6_Model_142_Stepping_10_GenuineIntel-3.7.7-64/lazylinker_ext/mod.cpp:721: undefined reference to `__imp_PyExc_TypeError'\r. C:/Users/krish/AppData/Local/Theano/compiledir_Windows-10-10.0.18362-SP0-Intel64_Family_6_Model_142_Stepping_10_GenuineIntel-3.7.7-64/lazylinker_ext/mod.cpp:771: undefined reference to `__imp__Py_NoneStruct'\r. C:/Users/krish/AppData/Local/Theano/compiledir_Windows-10-10.0.18362-SP0-Intel64_Family_6_Model_142_Stepping_10_GenuineIntel-3.7.7-64/lazylinker_ext/mod.cpp:771: undefined reference to `__imp__Py_NoneStruct'\r. C:/Users/krish/AppData/Local/Theano/compiledir_Windows-10-10.0.18362-SP0-Intel64_Family_6_Model_142_Stepping_10_GenuineIntel-3.7.7-64/lazylinker_ext/mod.cpp:772: undefined reference to `__imp__Py_NoneStruct'\r. C:\\Users\\krish\\AppData\\Local\\Temp\\ccA80Axo.o: In function `CLazyLinker_call':\r. C:/Users/krish/AppData/Local/Theano/compiledir_Windows-10-10.0.18362-SP0-Intel64_Family_6_Model_142_Stepping_10_GenuineIntel-3.7.7-64/lazylinker_ext/mod.cpp:814: undefined reference to `__imp_PyExc_RuntimeError'\r. C:/Users/krish/AppData/Local/Theano/compiledir_Windows-10-10.0.18362-SP0-Intel64_Family_6_Model_142_Stepping_10_GenuineIntel-3.7.7-64/lazylinker_ext/mod.cpp:826: undefined reference to `__imp_PyExc_RuntimeError'\r. C:/Users/krish/AppData/Local/Theano/compiledir_Windows-10-10.0.18362-SP0-Intel64_Family_6_Model_142_Stepping_10_GenuineIntel-3.7.7-64/lazylinker_ext/mod.cpp:839: undefined reference to `__imp__Py_NoneStruct'\r. C:/Users/krish/AppData/Local/Theano/compiledir_Windows-10-10.0.18362-SP0-Intel64_Family_6_Model_142_Stepping_10_GenuineIntel-3.7.7-64/lazylinker_ext/mod.cpp:839: undefined reference to `__imp__Py_NoneStruct'\r. C:/Users/krish/AppData/Local/Theano/compiledir_Windows-10-10.0.18362-SP0-Intel64_Family_6_Model_142_Stepping_10_GenuineIntel-3.7.7-64/lazylinker_ext/mod.cpp:840: undefined reference to `__imp__Py_NoneStruct'\r. C:/Users/krish/AppData/Local/Theano/compiledir_Windows-10-10.0.18362-SP0-Intel64_Family_6_Model_142_Stepping_10_GenuineIntel-3.7.7-64/lazylinker_ext/mod.cpp:849: undefined reference to `__imp__Py_NoneStruct'\r. C:/Users/krish/AppData/Local/Theano/compiledir_Windows-10-10.0.18362-SP0-Intel64_Family_6_Model_142_Stepping_10_GenuineIntel-3.7.7-64/lazylinker_ext/mod.cpp:849: undefined reference to `__imp__Py_NoneStruct'\r. C:\\Users\\krish\\AppData\\Local\\Temp\\ccA80Axo.o:C:/Users/krish/AppData/Local/Theano/compiledir_Windows-10-10.0.18362-SP0-Intel64_Family_6_Model_142_Stepping_10_GenuineIntel-3.7.7-64/lazylinker_ext/mod.cpp:850: more undefined references to `__imp__Py_NoneStruct' follow\r. C:\\Users\\krish\\AppData\\Local\\Temp\\ccA80Axo.o: In function `CLazyLinker_call':\r. C:/Users/krish/AppData/Local/Theano/compiledir_Windows-10-10.0.18362-SP0-Intel64_Family_6_Model_142_Stepping_10_GenuineIntel-3.7.7-64/lazylinker_ext/mod.cpp:894: undefined reference to `__imp_PyExc_AssertionError'\r. C:/Users/krish/AppData/Local/Theano/compiledir_Windows-10-10.0.18362-SP0-Intel64_Family_6_Model_142_Stepping_10_GenuineIntel-3.7.7-64/lazylinker_ext/mod.cpp:937: undefined reference to `__imp__Py_NoneStruct'\r. C:/Users/krish/AppData/Local/Theano/compiledir_Windows-10-10.0.18362-SP0-Intel64_Family_6_Model_142_Stepping_10_GenuineIntel-3.7.7-64/lazylinker_ext/mod.cpp:937: undefined reference to `__imp__Py_NoneStruct'\r. C:/Users/krish/AppData/Local/Theano/compiledir_Windows-10-10.0.18362-SP0-Intel64_Family_6_Model_142_Stepping_10_GenuineIntel-3.7.7-64/lazylinker_ext/mod.cpp:938: undefined reference to `__imp__Py_NoneStruct'\r. C:\\Users\\krish\\AppData\\Local\\Temp\\ccA80Axo.o: In function `CLazyLinker_set_allow_gc':\r. C:/Users/krish/AppData/Local/Theano/compiledir_Windows-10-10.0.18362-SP0-Intel64_Family_6_Model_142_Stepping_10_GenuineIntel-3.7.7-64/lazylinker_ext/mod.cpp:973: undefined reference to `__imp_PyBool_Type'\r. C:/Users/krish/AppData/Local/Theano/compiledir_Windows-10-10.0.18362-SP0-Intel64_Family_6_Model_142_Stepping_10_GenuineIntel-3.7.7-64/lazylinker_ext/mod.cpp:976: undefined reference to `__imp__Py_TrueStruct'\r. collect2.exe: error: ld returned 1 exit status\r. "
     ]
    }
   ],
   "source": [
    "import scipy\n",
    "import numpy as np\n",
    "import matplotlib as plt\n",
    "import pandas as pd\n",
    "import sklearn\n",
    "import pydot\n",
    "import h5py\n",
    "import theano\n",
    "import tensorflow\n",
    "import keras"
   ]
  },
  {
   "cell_type": "markdown",
   "metadata": {},
   "source": [
    "### Print the Version"
   ]
  },
  {
   "cell_type": "code",
   "execution_count": 2,
   "metadata": {},
   "outputs": [
    {
     "name": "stdout",
     "output_type": "stream",
     "text": [
      "SCIPY_Version 1.2.1\n",
      "Numpy_Version 1.16.4\n",
      "matplotlib_Version 3.1.1\n",
      "pandas_Version 0.24.2\n",
      "Sk_learn_Version 0.21.2\n",
      "pydot_Version 1.4.1\n",
      "h5py_Version 2.9.0\n",
      "theano_Version 1.0.4\n",
      "tensorflow_Version 2.0.0\n"
     ]
    }
   ],
   "source": [
    "print(\"SCIPY_Version\",scipy.__version__)\n",
    "print(\"Numpy_Version\",np.__version__) #We imported as np so\n",
    "print(\"matplotlib_Version\",plt.__version__) #we imported as plt so \n",
    "print(\"pandas_Version\",pd.__version__)\n",
    "print(\"Sk_learn_Version\",sklearn.__version__)\n",
    "print(\"pydot_Version\",pydot.__version__)\n",
    "print(\"h5py_Version\",h5py.__version__)\n",
    "print(\"theano_Version\",theano.__version__)\n",
    "print(\"tensorflow_Version\",tensorflow.__version__)"
   ]
  },
  {
   "cell_type": "markdown",
   "metadata": {},
   "source": [
    "## Check weather the basic Deep Learning Model is running or Not"
   ]
  },
  {
   "cell_type": "code",
   "execution_count": 5,
   "metadata": {},
   "outputs": [
    {
     "name": "stdout",
     "output_type": "stream",
     "text": [
      "Epoch 1/5\n",
      "60000/60000 [==============================] - 5s 79us/step - loss: 0.6689 - accuracy: 0.8306\n",
      "Epoch 2/5\n",
      "60000/60000 [==============================] - 5s 80us/step - loss: 0.3430 - accuracy: 0.9042\n",
      "Epoch 3/5\n",
      "60000/60000 [==============================] - 5s 79us/step - loss: 0.2958 - accuracy: 0.9174\n",
      "Epoch 4/5\n",
      "60000/60000 [==============================] - 5s 76us/step - loss: 0.2668 - accuracy: 0.9249\n",
      "Epoch 5/5\n",
      "60000/60000 [==============================] - 5s 75us/step - loss: 0.2451 - accuracy: 0.9313\n",
      "10000/10000 [==============================] - 0s 45us/step\n",
      "Loss_and Matrics[0.2333792357891798, 0.9330999851226807]\n"
     ]
    }
   ],
   "source": [
    "from keras.utils import np_utils\n",
    "from keras.datasets import mnist\n",
    "from keras.models import Sequential\n",
    "from keras.layers import Dense,Activation\n",
    "\n",
    "(X_train,Y_train),(X_test,Y_test)=mnist.load_data()\n",
    "X_train=X_train.reshape(60000,784).astype(\"float32\")/255.0\n",
    "X_test=X_test.reshape(10000,784).astype(\"float32\")/255.0\n",
    "Y_train=np_utils.to_categorical(Y_train)\n",
    "Y_test=np_utils.to_categorical(Y_test)\n",
    "\n",
    "model=Sequential()\n",
    "model.add(Dense(units=64,input_dim=28*28,activation=\"relu\"))\n",
    "model.add(Dense(units=10,activation=\"softmax\"))\n",
    "model.compile(loss=\"categorical_crossentropy\",optimizer=\"sgd\",metrics=[\"accuracy\"])\n",
    "model.fit(X_train,Y_train,epochs=5,batch_size=32)\n",
    "\n",
    "loss_and_metrics=model.evaluate(X_test,Y_test,batch_size=32)\n",
    "\n",
    "print(\"Loss_and Matrics\"+str((loss_and_metrics)))"
   ]
  },
  {
   "cell_type": "code",
   "execution_count": 20,
   "metadata": {},
   "outputs": [
    {
     "ename": "ImportError",
     "evalue": "cannot import name 'SVG' from 'IPython' (C:\\ProgramData\\Anaconda3\\lib\\site-packages\\IPython\\__init__.py)",
     "output_type": "error",
     "traceback": [
      "\u001b[1;31m---------------------------------------------------------------------------\u001b[0m",
      "\u001b[1;31mImportError\u001b[0m                               Traceback (most recent call last)",
      "\u001b[1;32m<ipython-input-20-4c2897a4254a>\u001b[0m in \u001b[0;36m<module>\u001b[1;34m\u001b[0m\n\u001b[1;32m----> 1\u001b[1;33m \u001b[1;32mfrom\u001b[0m \u001b[0mIPython\u001b[0m \u001b[1;32mimport\u001b[0m \u001b[0mSVG\u001b[0m \u001b[1;31m#capital IP\u001b[0m\u001b[1;33m\u001b[0m\u001b[1;33m\u001b[0m\u001b[0m\n\u001b[0m\u001b[0;32m      2\u001b[0m \u001b[1;31m#import IPython\u001b[0m\u001b[1;33m\u001b[0m\u001b[1;33m\u001b[0m\u001b[1;33m\u001b[0m\u001b[0m\n\u001b[0;32m      3\u001b[0m \u001b[1;32mfrom\u001b[0m \u001b[0mkeras\u001b[0m\u001b[1;33m.\u001b[0m\u001b[0mutils\u001b[0m\u001b[1;33m.\u001b[0m\u001b[0mvis_utils\u001b[0m \u001b[1;32mimport\u001b[0m \u001b[0mmodel_to_dot\u001b[0m\u001b[1;33m\u001b[0m\u001b[1;33m\u001b[0m\u001b[0m\n\u001b[0;32m      4\u001b[0m \u001b[0mget_ipython\u001b[0m\u001b[1;33m(\u001b[0m\u001b[1;33m)\u001b[0m\u001b[1;33m.\u001b[0m\u001b[0mrun_line_magic\u001b[0m\u001b[1;33m(\u001b[0m\u001b[1;34m'matplotlib'\u001b[0m\u001b[1;33m,\u001b[0m \u001b[1;34m'inline'\u001b[0m\u001b[1;33m)\u001b[0m\u001b[1;33m\u001b[0m\u001b[1;33m\u001b[0m\u001b[0m\n\u001b[0;32m      5\u001b[0m \u001b[0mSVG\u001b[0m\u001b[1;33m(\u001b[0m\u001b[0mmodel_to_dot\u001b[0m\u001b[1;33m(\u001b[0m\u001b[0mmodel\u001b[0m\u001b[1;33m,\u001b[0m\u001b[0mshow_shapes\u001b[0m\u001b[1;33m=\u001b[0m\u001b[1;32mTrue\u001b[0m\u001b[1;33m)\u001b[0m\u001b[1;33m.\u001b[0m\u001b[0mcreate\u001b[0m\u001b[1;33m(\u001b[0m\u001b[0mprog\u001b[0m\u001b[1;33m=\u001b[0m\u001b[1;34m\"dot\"\u001b[0m\u001b[1;33m,\u001b[0m\u001b[0mformat\u001b[0m\u001b[1;33m=\u001b[0m\u001b[1;34m\"svg\"\u001b[0m\u001b[1;33m)\u001b[0m\u001b[1;33m)\u001b[0m\u001b[1;33m\u001b[0m\u001b[1;33m\u001b[0m\u001b[0m\n",
      "\u001b[1;31mImportError\u001b[0m: cannot import name 'SVG' from 'IPython' (C:\\ProgramData\\Anaconda3\\lib\\site-packages\\IPython\\__init__.py)"
     ]
    }
   ],
   "source": [
    "from IPython import SVG #capital IP\n",
    "#import IPython\n",
    "from keras.utils.vis_utils import model_to_dot\n",
    "%matplotlib inline\n",
    "SVG(model_to_dot(model,show_shapes=True).create(prog=\"dot\",format=\"svg\"))"
   ]
  },
  {
   "cell_type": "code",
   "execution_count": null,
   "metadata": {},
   "outputs": [],
   "source": []
  },
  {
   "cell_type": "code",
   "execution_count": null,
   "metadata": {},
   "outputs": [],
   "source": []
  },
  {
   "cell_type": "code",
   "execution_count": null,
   "metadata": {},
   "outputs": [],
   "source": []
  },
  {
   "cell_type": "code",
   "execution_count": null,
   "metadata": {},
   "outputs": [],
   "source": []
  }
 ],
 "metadata": {
  "hide_input": false,
  "kernelspec": {
   "display_name": "Python 3",
   "language": "python",
   "name": "python3"
  },
  "language_info": {
   "codemirror_mode": {
    "name": "ipython",
    "version": 3
   },
   "file_extension": ".py",
   "mimetype": "text/x-python",
   "name": "python",
   "nbconvert_exporter": "python",
   "pygments_lexer": "ipython3",
   "version": "3.7.7"
  },
  "toc": {
   "base_numbering": 1,
   "nav_menu": {},
   "number_sections": true,
   "sideBar": true,
   "skip_h1_title": false,
   "title_cell": "Table of Contents",
   "title_sidebar": "Contents",
   "toc_cell": false,
   "toc_position": {},
   "toc_section_display": true,
   "toc_window_display": false
  },
  "varInspector": {
   "cols": {
    "lenName": 16,
    "lenType": 16,
    "lenVar": 40
   },
   "kernels_config": {
    "python": {
     "delete_cmd_postfix": "",
     "delete_cmd_prefix": "del ",
     "library": "var_list.py",
     "varRefreshCmd": "print(var_dic_list())"
    },
    "r": {
     "delete_cmd_postfix": ") ",
     "delete_cmd_prefix": "rm(",
     "library": "var_list.r",
     "varRefreshCmd": "cat(var_dic_list()) "
    }
   },
   "types_to_exclude": [
    "module",
    "function",
    "builtin_function_or_method",
    "instance",
    "_Feature"
   ],
   "window_display": false
  }
 },
 "nbformat": 4,
 "nbformat_minor": 2
}
