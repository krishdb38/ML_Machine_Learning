{
 "cells": [
  {
   "cell_type": "code",
   "execution_count": 1,
   "metadata": {},
   "outputs": [],
   "source": [
    "import tensorflow as tf"
   ]
  },
  {
   "cell_type": "code",
   "execution_count": 2,
   "metadata": {},
   "outputs": [],
   "source": [
    "# Load and prepare Mnist dataset\n",
    "mnist = tf.keras.datasets.mnist\n",
    "(x_train, y_train), (x_test, y_test) = mnist.load_data()"
   ]
  },
  {
   "cell_type": "code",
   "execution_count": 3,
   "metadata": {},
   "outputs": [],
   "source": [
    "x_train, x_test =  x_train/255.0 , x_test/ 255.0"
   ]
  },
  {
   "cell_type": "code",
   "execution_count": 4,
   "metadata": {},
   "outputs": [
    {
     "data": {
      "text/plain": [
       "(60000, 28, 28)"
      ]
     },
     "execution_count": 4,
     "metadata": {},
     "output_type": "execute_result"
    }
   ],
   "source": [
    "x_train.shape"
   ]
  },
  {
   "cell_type": "code",
   "execution_count": 5,
   "metadata": {},
   "outputs": [
    {
     "data": {
      "text/plain": [
       "784"
      ]
     },
     "execution_count": 5,
     "metadata": {},
     "output_type": "execute_result"
    }
   ],
   "source": [
    "28 *28 "
   ]
  },
  {
   "cell_type": "code",
   "execution_count": 6,
   "metadata": {},
   "outputs": [],
   "source": [
    "model = tf.keras.models.Sequential([\n",
    "    tf.keras.layers.Flatten(input_shape = (28,28)),\n",
    "    tf.keras.layers.Dense(128, activation = \"relu\"),\n",
    "    tf.keras.layers.Dropout(0.2),\n",
    "    tf.keras.layers.Dense(10)\n",
    "   ])\n",
    "# Number of output is 10"
   ]
  },
  {
   "cell_type": "code",
   "execution_count": 7,
   "metadata": {},
   "outputs": [
    {
     "name": "stdout",
     "output_type": "stream",
     "text": [
      "WARNING:tensorflow:Layer flatten is casting an input tensor from dtype float64 to the layer's dtype of float32, which is new behavior in TensorFlow 2.  The layer has dtype float32 because it's dtype defaults to floatx.\n",
      "\n",
      "If you intended to run this layer in float32, you can safely ignore this warning. If in doubt, this warning is likely only an issue if you are porting a TensorFlow 1.X model to TensorFlow 2.\n",
      "\n",
      "To change all layers to have dtype float64 by default, call `tf.keras.backend.set_floatx('float64')`. To change just this layer, pass dtype='float64' to the layer constructor. If you are the author of this layer, you can disable autocasting by passing autocast=False to the base Layer constructor.\n",
      "\n"
     ]
    },
    {
     "data": {
      "text/plain": [
       "array([[ 0.35119665,  0.25084603,  0.37204033, -0.7286056 , -0.554873  ,\n",
       "        -0.1819074 ,  0.4290492 ,  0.0780657 ,  0.20761555,  0.45981005]],\n",
       "      dtype=float32)"
      ]
     },
     "execution_count": 7,
     "metadata": {},
     "output_type": "execute_result"
    }
   ],
   "source": [
    "predictions = model(x_train[:1]).numpy()\n",
    "predictions"
   ]
  },
  {
   "cell_type": "code",
   "execution_count": 8,
   "metadata": {},
   "outputs": [
    {
     "data": {
      "text/plain": [
       "array([[0.12377656, 0.11195841, 0.1263836 , 0.04204228, 0.05001928,\n",
       "        0.07262971, 0.13379791, 0.09419312, 0.10722152, 0.13797761]],\n",
       "      dtype=float32)"
      ]
     },
     "execution_count": 8,
     "metadata": {},
     "output_type": "execute_result"
    }
   ],
   "source": [
    "# The tf.nn.softmax function converts these logits to \"probabilities\" for each class\n",
    "tf.nn.softmax(predictions).numpy()"
   ]
  },
  {
   "cell_type": "code",
   "execution_count": 9,
   "metadata": {},
   "outputs": [],
   "source": [
    "# The losses.SparseCategoricalCrossentropy loss takes a vector of logits and \n",
    "# and a True index \n",
    "loss_fn = tf.keras.losses.SparseCategoricalCrossentropy(from_logits=True)"
   ]
  },
  {
   "cell_type": "code",
   "execution_count": 10,
   "metadata": {},
   "outputs": [],
   "source": [
    "model.compile(optimizer=\"adam\",\n",
    "             loss = loss_fn,\n",
    "             metrics=[\"accuracy\",\"mae\"])"
   ]
  },
  {
   "cell_type": "code",
   "execution_count": 11,
   "metadata": {},
   "outputs": [
    {
     "name": "stdout",
     "output_type": "stream",
     "text": [
      "Train on 60000 samples\n",
      "Epoch 1/10\n",
      "60000/60000 [==============================] - 7s 112us/sample - loss: 0.2943 - accuracy: 0.9136 - mae: 6.1687\n",
      "Epoch 2/10\n",
      "60000/60000 [==============================] - 7s 108us/sample - loss: 0.1420 - accuracy: 0.9589 - mae: 7.1395\n",
      "Epoch 3/10\n",
      "60000/60000 [==============================] - 6s 104us/sample - loss: 0.1066 - accuracy: 0.9679 - mae: 7.9470\n",
      "Epoch 4/10\n",
      "60000/60000 [==============================] - 6s 108us/sample - loss: 0.0868 - accuracy: 0.9736 - mae: 8.6035\n",
      "Epoch 5/10\n",
      "60000/60000 [==============================] - 6s 102us/sample - loss: 0.0738 - accuracy: 0.9766 - mae: 9.2150\n",
      "Epoch 6/10\n",
      "60000/60000 [==============================] - 6s 104us/sample - loss: 0.0653 - accuracy: 0.9801 - mae: 9.8875\n",
      "Epoch 7/10\n",
      "60000/60000 [==============================] - 6s 105us/sample - loss: 0.0579 - accuracy: 0.9812 - mae: 10.4310\n",
      "Epoch 8/10\n",
      "60000/60000 [==============================] - 6s 103us/sample - loss: 0.0525 - accuracy: 0.9830 - mae: 11.0129\n",
      "Epoch 9/10\n",
      "60000/60000 [==============================] - 6s 105us/sample - loss: 0.0483 - accuracy: 0.9838 - mae: 11.5144\n",
      "Epoch 10/10\n",
      "60000/60000 [==============================] - 7s 109us/sample - loss: 0.0449 - accuracy: 0.9848 - mae: 12.0524\n"
     ]
    },
    {
     "data": {
      "text/plain": [
       "<tensorflow.python.keras.callbacks.History at 0x238bee528c8>"
      ]
     },
     "execution_count": 11,
     "metadata": {},
     "output_type": "execute_result"
    }
   ],
   "source": [
    "model.fit(x_train, y_train, epochs=10)"
   ]
  },
  {
   "cell_type": "code",
   "execution_count": 12,
   "metadata": {},
   "outputs": [
    {
     "name": "stdout",
     "output_type": "stream",
     "text": [
      "10000/10000 - 1s - loss: 0.0768 - accuracy: 0.9778 - mae: 12.2526\n"
     ]
    },
    {
     "data": {
      "text/plain": [
       "[0.07683638468979626, 0.9778, 12.252605]"
      ]
     },
     "execution_count": 12,
     "metadata": {},
     "output_type": "execute_result"
    }
   ],
   "source": [
    "model.evaluate(x_test,y_test, verbose=2)"
   ]
  },
  {
   "cell_type": "code",
   "execution_count": 13,
   "metadata": {},
   "outputs": [],
   "source": [
    "# The image classifier is now trained to ~98 % accoracy on this dataset.\n",
    "probability_model = tf.keras.Sequential([\n",
    "    model,\n",
    "    tf.keras.layers.Softmax()\n",
    "])"
   ]
  },
  {
   "cell_type": "code",
   "execution_count": 14,
   "metadata": {},
   "outputs": [
    {
     "data": {
      "text/plain": [
       "<tf.Tensor: shape=(2, 10), dtype=float32, numpy=\n",
       "array([[5.0179066e-10, 1.5222898e-11, 1.1720988e-08, 3.2410546e-05,\n",
       "        1.1725948e-16, 1.9395520e-10, 9.6985066e-20, 9.9996746e-01,\n",
       "        5.4499516e-10, 7.1733226e-08],\n",
       "       [9.6333030e-10, 6.6416948e-07, 9.9999917e-01, 9.5410737e-09,\n",
       "        2.5070169e-22, 4.8774529e-10, 3.7294352e-11, 4.3225158e-19,\n",
       "        1.7336458e-07, 9.3547717e-19]], dtype=float32)>"
      ]
     },
     "execution_count": 14,
     "metadata": {},
     "output_type": "execute_result"
    }
   ],
   "source": [
    "probability_model(x_test[:2])"
   ]
  }
 ],
 "metadata": {
  "kernelspec": {
   "display_name": "Python 3",
   "language": "python",
   "name": "python3"
  },
  "language_info": {
   "codemirror_mode": {
    "name": "ipython",
    "version": 3
   },
   "file_extension": ".py",
   "mimetype": "text/x-python",
   "name": "python",
   "nbconvert_exporter": "python",
   "pygments_lexer": "ipython3",
   "version": "3.7.7"
  },
  "latex_envs": {
   "LaTeX_envs_menu_present": true,
   "autoclose": false,
   "autocomplete": true,
   "bibliofile": "biblio.bib",
   "cite_by": "apalike",
   "current_citInitial": 1,
   "eqLabelWithNumbers": true,
   "eqNumInitial": 1,
   "hotkeys": {
    "equation": "Ctrl-E",
    "itemize": "Ctrl-I"
   },
   "labels_anchors": false,
   "latex_user_defs": false,
   "report_style_numbering": false,
   "user_envs_cfg": false
  },
  "nbTranslate": {
   "displayLangs": [
    "*"
   ],
   "hotkey": "alt-t",
   "langInMainMenu": true,
   "sourceLang": "en",
   "targetLang": "fr",
   "useGoogleTranslate": true
  }
 },
 "nbformat": 4,
 "nbformat_minor": 4
}
