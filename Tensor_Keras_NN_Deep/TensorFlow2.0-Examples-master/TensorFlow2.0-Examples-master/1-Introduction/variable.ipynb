{
 "cells": [
  {
   "cell_type": "code",
   "execution_count": 1,
   "metadata": {},
   "outputs": [
    {
     "data": {
      "text/plain": [
       "'2.1.0'"
      ]
     },
     "execution_count": 1,
     "metadata": {},
     "output_type": "execute_result"
    }
   ],
   "source": [
    "import tensorflow as tf\n",
    "tf.__version__"
   ]
  },
  {
   "cell_type": "code",
   "execution_count": 2,
   "metadata": {},
   "outputs": [],
   "source": [
    "# Variables are manipulated via the tf.Variable class.\n",
    "# A tf.Variable represents a tensor whose value can be changed by running ops on it.\n",
    "# Specific ops allow you to read and modify the values of this tensor.\n",
    "\n",
    "## Creaging a Variable"
   ]
  },
  {
   "cell_type": "code",
   "execution_count": 2,
   "metadata": {
    "scrolled": false
   },
   "outputs": [
    {
     "name": "stdout",
     "output_type": "stream",
     "text": [
      "tensor: <tf.Variable 'my/Variable:0' shape=() dtype=int32, numpy=1>\n",
      "value: 1\n"
     ]
    }
   ],
   "source": [
    "with tf.name_scope(\"my\"):\n",
    "    variable = tf.Variable(1)\n",
    "print(\"tensor:\", variable)\n",
    "print(\"value:\", variable.numpy())"
   ]
  },
  {
   "cell_type": "code",
   "execution_count": 5,
   "metadata": {},
   "outputs": [
    {
     "name": "stdout",
     "output_type": "stream",
     "text": [
      "<tf.Variable 'Variable:0' shape=(1, 2, 3) dtype=float32, numpy=\n",
      "array([[[0., 0., 0.],\n",
      "        [0., 0., 0.]]], dtype=float32)>\n"
     ]
    }
   ],
   "source": [
    "variable_ = tf.Variable(tf.zeros([1,2,3]))\n",
    "print(variable_)"
   ]
  },
  {
   "cell_type": "code",
   "execution_count": 7,
   "metadata": {},
   "outputs": [],
   "source": [
    "v = tf.Variable(0.0)\n",
    "w = v+1"
   ]
  },
  {
   "cell_type": "code",
   "execution_count": 8,
   "metadata": {},
   "outputs": [
    {
     "data": {
      "text/plain": [
       "<tf.Tensor: shape=(), dtype=float32, numpy=1.0>"
      ]
     },
     "execution_count": 8,
     "metadata": {},
     "output_type": "execute_result"
    }
   ],
   "source": [
    "w"
   ]
  },
  {
   "cell_type": "code",
   "execution_count": 9,
   "metadata": {},
   "outputs": [],
   "source": [
    "# To assign a value to a variable, use the methods assign, assign_add, and friends in the tf.Variables class.\n",
    "# For example, here is how you can call these methods"
   ]
  },
  {
   "cell_type": "code",
   "execution_count": 12,
   "metadata": {},
   "outputs": [
    {
     "data": {
      "text/plain": [
       "<tf.Tensor: shape=(), dtype=int32, numpy=25>"
      ]
     },
     "execution_count": 12,
     "metadata": {},
     "output_type": "execute_result"
    }
   ],
   "source": [
    "v = tf.Variable(10)\n",
    "v.assign_add(15) # Add value the variable\n",
    "v.numpy() # To check the value\n",
    "v.read_value()"
   ]
  },
  {
   "cell_type": "markdown",
   "metadata": {},
   "source": [
    "##### Keep Tracks of variables "
   ]
  },
  {
   "cell_type": "code",
   "execution_count": 13,
   "metadata": {},
   "outputs": [],
   "source": [
    "# A variable in TensorFlow is a python object.\n",
    "#As you build your layers, models, optimizers, and other related tools,\n",
    "#you will likely want to get a list of all variables in a (say) model\n",
    "class MyLayer(tf.keras.layers.Layer):\n",
    "    \n",
    "    def __init__(self):\n",
    "        Super(MyLayer,self).__init__()\n",
    "        self.my_var = tf.Variable(1.0)\n",
    "        self.my_var_list = [tf.Variable(x) for x in range(10)]\n",
    "\n",
    "        \n",
    "class MyOtherLayer(tf.keras.layers.Layer):\n",
    "    \n",
    "    def __init__(self):\n",
    "        super(MyOtherLayer,self).__init__()\n",
    "        self.sublayer = MyLayer()\n",
    "        self.my_other_var = tf.Variable(10.0)\n",
    "        \n",
    "m = MyOtherLayer()\n",
    "print(len(m.variables))\n",
    "    \n",
    "\n"
   ]
  },
  {
   "cell_type": "code",
   "execution_count": 4,
   "metadata": {},
   "outputs": [],
   "source": [
    "## Using Variables\n",
    "\n",
    "# To use the value of a tf.Variable in a TensorFlow graph, simply treat it like a normal tf.Tensor"
   ]
  },
  {
   "cell_type": "code",
   "execution_count": 3,
   "metadata": {},
   "outputs": [
    {
     "name": "stdout",
     "output_type": "stream",
     "text": [
      "value: 2\n"
     ]
    }
   ],
   "source": [
    "variable = variable + 1\n",
    "print(\"value:\", variable.numpy())"
   ]
  },
  {
   "cell_type": "code",
   "execution_count": 6,
   "metadata": {},
   "outputs": [],
   "source": [
    "## Using Variables\n",
    "\n",
    "# To use the value of a tf.Variable in a TensorFlow graph, simply treat it like a normal tf.Tensor"
   ]
  },
  {
   "cell_type": "code",
   "execution_count": 4,
   "metadata": {},
   "outputs": [
    {
     "name": "stdout",
     "output_type": "stream",
     "text": [
      "value: 3\n"
     ]
    }
   ],
   "source": [
    "variable = tf.Variable(2)\n",
    "variable.assign_add(1)\n",
    "print(\"value:\", variable.numpy())"
   ]
  }
 ],
 "metadata": {
  "hide_input": false,
  "kernelspec": {
   "display_name": "Python 3",
   "language": "python",
   "name": "python3"
  },
  "language_info": {
   "codemirror_mode": {
    "name": "ipython",
    "version": 3
   },
   "file_extension": ".py",
   "mimetype": "text/x-python",
   "name": "python",
   "nbconvert_exporter": "python",
   "pygments_lexer": "ipython3",
   "version": "3.7.6"
  },
  "nbTranslate": {
   "displayLangs": [
    "*"
   ],
   "hotkey": "alt-t",
   "langInMainMenu": true,
   "sourceLang": "en",
   "targetLang": "fr",
   "useGoogleTranslate": true
  },
  "toc": {
   "base_numbering": 1,
   "nav_menu": {},
   "number_sections": true,
   "sideBar": true,
   "skip_h1_title": false,
   "title_cell": "Table of Contents",
   "title_sidebar": "Contents",
   "toc_cell": false,
   "toc_position": {},
   "toc_section_display": true,
   "toc_window_display": false
  },
  "varInspector": {
   "cols": {
    "lenName": 16,
    "lenType": 16,
    "lenVar": 40
   },
   "kernels_config": {
    "python": {
     "delete_cmd_postfix": "",
     "delete_cmd_prefix": "del ",
     "library": "var_list.py",
     "varRefreshCmd": "print(var_dic_list())"
    },
    "r": {
     "delete_cmd_postfix": ") ",
     "delete_cmd_prefix": "rm(",
     "library": "var_list.r",
     "varRefreshCmd": "cat(var_dic_list()) "
    }
   },
   "types_to_exclude": [
    "module",
    "function",
    "builtin_function_or_method",
    "instance",
    "_Feature"
   ],
   "window_display": false
  }
 },
 "nbformat": 4,
 "nbformat_minor": 2
}
