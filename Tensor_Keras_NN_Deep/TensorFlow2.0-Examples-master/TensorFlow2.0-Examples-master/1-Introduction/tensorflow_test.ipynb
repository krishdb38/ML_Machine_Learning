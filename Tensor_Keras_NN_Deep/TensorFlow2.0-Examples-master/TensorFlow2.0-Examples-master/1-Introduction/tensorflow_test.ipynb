{
 "cells": [
  {
   "cell_type": "code",
   "execution_count": 3,
   "metadata": {},
   "outputs": [
    {
     "name": "stdout",
     "output_type": "stream",
     "text": [
      "2.1.0\n"
     ]
    }
   ],
   "source": [
    "import tensorflow as tf\n",
    "print(tf.__version__)"
   ]
  },
  {
   "cell_type": "code",
   "execution_count": 4,
   "metadata": {},
   "outputs": [],
   "source": [
    "# Load and prepare the mnist data sets\n",
    "mnist = tf.keras.datasets.mnist\n",
    "(x_train,y_train),(x_test,y_test) = mnist.load_data()\n",
    "x_train,x_test = x_train / 255.0 , x_test/255.0\n"
   ]
  },
  {
   "cell_type": "code",
   "execution_count": 5,
   "metadata": {},
   "outputs": [],
   "source": [
    "# Build the tf.keras.Sequential model by stacking layers. Choose an optimizer and loss function for training\n",
    "model = tf.keras.models.Sequential([\n",
    "    tf.keras.layers.Flatten(input_shape = (28,28)),\n",
    "    tf.keras.layers.Dense(128,activation= \"relu\"),\n",
    "    tf.keras.layers.Dropout(0.2),\n",
    "    tf.keras.layers.Dense(10) # Number of output\n",
    "])"
   ]
  },
  {
   "cell_type": "code",
   "execution_count": 6,
   "metadata": {},
   "outputs": [
    {
     "name": "stdout",
     "output_type": "stream",
     "text": [
      "WARNING:tensorflow:Layer flatten is casting an input tensor from dtype float64 to the layer's dtype of float32, which is new behavior in TensorFlow 2.  The layer has dtype float32 because it's dtype defaults to floatx.\n",
      "\n",
      "If you intended to run this layer in float32, you can safely ignore this warning. If in doubt, this warning is likely only an issue if you are porting a TensorFlow 1.X model to TensorFlow 2.\n",
      "\n",
      "To change all layers to have dtype float64 by default, call `tf.keras.backend.set_floatx('float64')`. To change just this layer, pass dtype='float64' to the layer constructor. If you are the author of this layer, you can disable autocasting by passing autocast=False to the base Layer constructor.\n",
      "\n"
     ]
    }
   ],
   "source": [
    "# For each example the model returns a vector of \"logits\" or \"log-odds\" scores, one for each class\n",
    "predictions = model(x_train[:1]).numpy()"
   ]
  },
  {
   "cell_type": "code",
   "execution_count": 7,
   "metadata": {},
   "outputs": [
    {
     "data": {
      "text/plain": [
       "array([[0.04461487, 0.16011441, 0.06024531, 0.0854435 , 0.12064945,\n",
       "        0.11752158, 0.08675012, 0.12750895, 0.07112857, 0.1260232 ]],\n",
       "      dtype=float32)"
      ]
     },
     "execution_count": 7,
     "metadata": {},
     "output_type": "execute_result"
    }
   ],
   "source": [
    "tf.nn.softmax(predictions).numpy()"
   ]
  },
  {
   "cell_type": "code",
   "execution_count": 8,
   "metadata": {},
   "outputs": [],
   "source": [
    "loss_fn = tf.keras.losses.SparseCategoricalCrossentropy(from_logits=True)"
   ]
  },
  {
   "cell_type": "code",
   "execution_count": 10,
   "metadata": {},
   "outputs": [
    {
     "data": {
      "text/plain": [
       "2.1411333"
      ]
     },
     "execution_count": 10,
     "metadata": {},
     "output_type": "execute_result"
    }
   ],
   "source": [
    "loss_fn(y_train[:1],predictions).numpy()"
   ]
  },
  {
   "cell_type": "code",
   "execution_count": 11,
   "metadata": {},
   "outputs": [],
   "source": [
    "# The model.fit method adjusts the model parameters to minimize the loss"
   ]
  },
  {
   "cell_type": "code",
   "execution_count": 13,
   "metadata": {},
   "outputs": [],
   "source": [
    "model.compile(optimizer=\"adam\",\n",
    "             loss=loss_fn,\n",
    "             metrics=[\"accuracy\"])"
   ]
  },
  {
   "cell_type": "code",
   "execution_count": 17,
   "metadata": {
    "scrolled": true
   },
   "outputs": [
    {
     "name": "stdout",
     "output_type": "stream",
     "text": [
      "Train on 60000 samples\n",
      "Epoch 1/20\n",
      "60000/60000 [==============================] - 2s 25us/sample - loss: 0.0405 - accuracy: 0.9862\n",
      "Epoch 2/20\n",
      "60000/60000 [==============================] - 2s 25us/sample - loss: 0.0374 - accuracy: 0.9869\n",
      "Epoch 3/20\n",
      "60000/60000 [==============================] - 1s 25us/sample - loss: 0.0358 - accuracy: 0.9878\n",
      "Epoch 4/20\n",
      "60000/60000 [==============================] - 1s 25us/sample - loss: 0.0332 - accuracy: 0.9881\n",
      "Epoch 5/20\n",
      "60000/60000 [==============================] - 2s 25us/sample - loss: 0.0305 - accuracy: 0.9897\n",
      "Epoch 6/20\n",
      "60000/60000 [==============================] - 1s 24us/sample - loss: 0.0313 - accuracy: 0.9891\n",
      "Epoch 7/20\n",
      "60000/60000 [==============================] - 1s 24us/sample - loss: 0.0293 - accuracy: 0.9901\n",
      "Epoch 8/20\n",
      "60000/60000 [==============================] - 2s 25us/sample - loss: 0.0276 - accuracy: 0.9903\n",
      "Epoch 9/20\n",
      "60000/60000 [==============================] - 1s 25us/sample - loss: 0.0257 - accuracy: 0.9907\n",
      "Epoch 10/20\n",
      "60000/60000 [==============================] - 1s 24us/sample - loss: 0.0251 - accuracy: 0.9915\n",
      "Epoch 11/20\n",
      "60000/60000 [==============================] - 1s 24us/sample - loss: 0.0246 - accuracy: 0.9912\n",
      "Epoch 12/20\n",
      "60000/60000 [==============================] - 2s 27us/sample - loss: 0.0245 - accuracy: 0.9912\n",
      "Epoch 13/20\n",
      "60000/60000 [==============================] - 2s 26us/sample - loss: 0.0242 - accuracy: 0.9915\n",
      "Epoch 14/20\n",
      "60000/60000 [==============================] - 2s 29us/sample - loss: 0.0223 - accuracy: 0.9923\n",
      "Epoch 15/20\n",
      "60000/60000 [==============================] - 2s 28us/sample - loss: 0.0217 - accuracy: 0.9923\n",
      "Epoch 16/20\n",
      "60000/60000 [==============================] - 2s 26us/sample - loss: 0.0218 - accuracy: 0.9925\n",
      "Epoch 17/20\n",
      "60000/60000 [==============================] - 2s 27us/sample - loss: 0.0203 - accuracy: 0.9928\n",
      "Epoch 18/20\n",
      "60000/60000 [==============================] - 2s 27us/sample - loss: 0.0208 - accuracy: 0.9926\n",
      "Epoch 19/20\n",
      "60000/60000 [==============================] - 1s 25us/sample - loss: 0.0190 - accuracy: 0.9933\n",
      "Epoch 20/20\n",
      "60000/60000 [==============================] - 1s 24us/sample - loss: 0.0197 - accuracy: 0.9930\n"
     ]
    },
    {
     "data": {
      "text/plain": [
       "<tensorflow.python.keras.callbacks.History at 0x1f76d6abb08>"
      ]
     },
     "execution_count": 17,
     "metadata": {},
     "output_type": "execute_result"
    }
   ],
   "source": [
    "model.fit(x_train, y_train,epochs=20)"
   ]
  },
  {
   "cell_type": "code",
   "execution_count": 18,
   "metadata": {},
   "outputs": [
    {
     "name": "stdout",
     "output_type": "stream",
     "text": [
      "10000/10000 - 0s - loss: 0.0889 - accuracy: 0.9814\n"
     ]
    },
    {
     "data": {
      "text/plain": [
       "[0.08892011119949671, 0.9814]"
      ]
     },
     "execution_count": 18,
     "metadata": {},
     "output_type": "execute_result"
    }
   ],
   "source": [
    "model.evaluate(x_test, y_test,verbose=2)"
   ]
  },
  {
   "cell_type": "code",
   "execution_count": 19,
   "metadata": {},
   "outputs": [],
   "source": [
    "# If you want your model tyo return a probabilitty, you can wrap the trained model , and attach the softmax\n",
    "probability_model = tf.keras.Sequential([\n",
    "    model,\n",
    "    tf.keras.layers.Softmax()\n",
    "])"
   ]
  },
  {
   "cell_type": "code",
   "execution_count": 20,
   "metadata": {},
   "outputs": [
    {
     "data": {
      "text/plain": [
       "<tf.Tensor: shape=(5, 10), dtype=float32, numpy=\n",
       "array([[2.01765579e-12, 9.14565825e-16, 6.39598814e-15, 6.59941612e-09,\n",
       "        2.37145411e-21, 2.35345879e-12, 3.94482145e-27, 1.00000000e+00,\n",
       "        1.71837320e-15, 2.71364353e-09],\n",
       "       [2.35752331e-17, 4.94292995e-10, 1.00000000e+00, 1.54279276e-14,\n",
       "        1.15886294e-35, 3.10134243e-13, 2.53436361e-16, 2.05163186e-30,\n",
       "        9.11124886e-17, 9.42775489e-34],\n",
       "       [3.71296391e-13, 9.99998927e-01, 5.37790683e-08, 7.39664580e-12,\n",
       "        1.10309073e-09, 8.96382632e-13, 1.91799430e-08, 1.49004279e-07,\n",
       "        9.85739121e-07, 3.38918862e-13],\n",
       "       [9.99999881e-01, 3.05674816e-22, 7.38341797e-08, 2.89270158e-15,\n",
       "        3.84403914e-14, 4.98256840e-15, 9.47150358e-10, 4.90235413e-12,\n",
       "        8.58273339e-17, 1.01735512e-11],\n",
       "       [3.43234373e-16, 2.63993885e-20, 5.43762626e-14, 1.38622550e-17,\n",
       "        9.99975085e-01, 6.01756227e-17, 4.99627890e-16, 6.46364162e-09,\n",
       "        1.74256763e-17, 2.49540208e-05]], dtype=float32)>"
      ]
     },
     "execution_count": 20,
     "metadata": {},
     "output_type": "execute_result"
    }
   ],
   "source": [
    "probability_model(x_test[:5])"
   ]
  }
 ],
 "metadata": {
  "hide_input": false,
  "kernelspec": {
   "display_name": "Python 3",
   "language": "python",
   "name": "python3"
  },
  "language_info": {
   "codemirror_mode": {
    "name": "ipython",
    "version": 3
   },
   "file_extension": ".py",
   "mimetype": "text/x-python",
   "name": "python",
   "nbconvert_exporter": "python",
   "pygments_lexer": "ipython3",
   "version": "3.7.6"
  },
  "nbTranslate": {
   "displayLangs": [
    "*"
   ],
   "hotkey": "alt-t",
   "langInMainMenu": true,
   "sourceLang": "en",
   "targetLang": "fr",
   "useGoogleTranslate": true
  },
  "toc": {
   "base_numbering": 1,
   "nav_menu": {},
   "number_sections": true,
   "sideBar": true,
   "skip_h1_title": false,
   "title_cell": "Table of Contents",
   "title_sidebar": "Contents",
   "toc_cell": false,
   "toc_position": {},
   "toc_section_display": true,
   "toc_window_display": false
  },
  "varInspector": {
   "cols": {
    "lenName": 16,
    "lenType": 16,
    "lenVar": 40
   },
   "kernels_config": {
    "python": {
     "delete_cmd_postfix": "",
     "delete_cmd_prefix": "del ",
     "library": "var_list.py",
     "varRefreshCmd": "print(var_dic_list())"
    },
    "r": {
     "delete_cmd_postfix": ") ",
     "delete_cmd_prefix": "rm(",
     "library": "var_list.r",
     "varRefreshCmd": "cat(var_dic_list()) "
    }
   },
   "types_to_exclude": [
    "module",
    "function",
    "builtin_function_or_method",
    "instance",
    "_Feature"
   ],
   "window_display": false
  }
 },
 "nbformat": 4,
 "nbformat_minor": 4
}
