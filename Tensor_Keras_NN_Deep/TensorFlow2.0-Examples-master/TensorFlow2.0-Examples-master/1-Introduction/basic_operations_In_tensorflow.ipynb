{
 "cells": [
  {
   "cell_type": "code",
   "execution_count": 1,
   "metadata": {},
   "outputs": [],
   "source": [
    "import tensorflow as tf"
   ]
  },
  {
   "cell_type": "code",
   "execution_count": 2,
   "metadata": {},
   "outputs": [
    {
     "name": "stdout",
     "output_type": "stream",
     "text": [
      "tf.Tensor(\n",
      "[[1. 1. 1.]\n",
      " [1. 1. 1.]], shape=(2, 3), dtype=float32)\n",
      "tf.Tensor(\n",
      "[[10.  1.  1.]\n",
      " [ 1.  1.  1.]], shape=(2, 3), dtype=float32)\n"
     ]
    }
   ],
   "source": [
    "###======================================= assign value  ===================================#\n",
    "\n",
    "a = tf.ones([2,3])\n",
    "# a is 2 X 3  all variable one Tensor\n",
    "print(a)\n",
    "\n",
    "# a[0,0] = 10 => TypeError: 'tensorflow.python.framework.ops.EagerTensor' object does not support item assignment\n",
    "\n",
    "a = tf.Variable(a)\n",
    "a[0,0].assign(10)\n",
    "b = a.read_value()\n",
    "print(b)"
   ]
  },
  {
   "cell_type": "code",
   "execution_count": 20,
   "metadata": {},
   "outputs": [
    {
     "data": {
      "text/plain": [
       "<tf.Variable 'UnreadVariable' shape=(10, 5) dtype=float32, numpy=\n",
       "array([[25.,  0.,  0.,  0.,  0.],\n",
       "       [ 0.,  0.,  0.,  0.,  0.],\n",
       "       [ 0.,  0.,  0.,  0.,  0.],\n",
       "       [ 0.,  0.,  0.,  0.,  0.],\n",
       "       [ 0.,  0.,  0.,  0.,  0.],\n",
       "       [ 0.,  0.,  0.,  0.,  0.],\n",
       "       [ 0.,  0.,  0.,  0.,  0.],\n",
       "       [ 0.,  0.,  0.,  0.,  0.],\n",
       "       [ 0.,  0.,  0.,  0.,  0.],\n",
       "       [ 0.,  0.,  0.,  0.,  0.]], dtype=float32)>"
      ]
     },
     "execution_count": 20,
     "metadata": {},
     "output_type": "execute_result"
    }
   ],
   "source": [
    "a = tf.zeros([10,5])\n",
    "b = tf.Variable(a)\n",
    "\n",
    "#a.numpy() == b.numpy()\n",
    "a[0,0].numpy()\n",
    "\n",
    "#a[0,0]= 10 # This will cause Error \n",
    "# Tensor Flow does not support item assignment\n",
    "# In Generally we dont need item assignment\n",
    "b[0,0].assign(10)\n",
    "\n",
    "#a[0,0].assign(10)\n",
    "a = tf.Variable(a) #Need to change to variable\n",
    "a[0,0].assign(25)\n",
    "#a.numpy()"
   ]
  },
  {
   "cell_type": "code",
   "execution_count": 47,
   "metadata": {},
   "outputs": [
    {
     "name": "stdout",
     "output_type": "stream",
     "text": [
      "30\n",
      "30\n",
      "Addition with Function 30\n",
      "Multiplication With constant 200\n",
      "30\n",
      "200\n",
      "Multiplication with Function 200\n",
      "(1, 2)\n",
      "(1, 2)\n",
      "[[21 21]]\n"
     ]
    },
    {
     "data": {
      "text/plain": [
       "<tf.Tensor: shape=(2, 2), dtype=int32, numpy=\n",
       "array([[ 9,  9],\n",
       "       [12, 12]])>"
      ]
     },
     "execution_count": 47,
     "metadata": {},
     "output_type": "execute_result"
    }
   ],
   "source": [
    "a = tf.constant(10)\n",
    "b = tf.constant(20)\n",
    "print((a+b).numpy())\n",
    "print(a.numpy()+b.numpy())\n",
    "print(\"Addition with Function\", tf.add(a,b).numpy())\n",
    "# *****************************************************\n",
    "print(\"Multiplication With constant\",(a*b).numpy())\n",
    "print(np.add(a,b))\n",
    "print(np.multiply(a,b))\n",
    "print(\"Multiplication with Function\",tf.multiply(a,b).numpy())\n",
    "a = tf.constant([[3,3]])\n",
    "print(a.numpy().shape)\n",
    "# Create a tensor of 2x2\n",
    "b = tf.constant([[3,3],[4,4]])\n",
    "print(a.numpy().shape)\n",
    "\n",
    "# Doing tensor function matmul()\n",
    "# Matrix Multiplicatino is different\n",
    "result = tf.matmul(a,b)\n",
    "print(result.numpy())\n",
    "\n",
    "# Broad Cast Matrix in Multiplication\n",
    "print(a *b) # Element wise operation\n"
   ]
  },
  {
   "cell_type": "code",
   "execution_count": 4,
   "metadata": {},
   "outputs": [
    {
     "name": "stdout",
     "output_type": "stream",
     "text": [
      "tf.Tensor(2.0, shape=(), dtype=float32) tf.Tensor(2, shape=(), dtype=int32)\n"
     ]
    }
   ],
   "source": [
    "###===================================== cast operations =====================================#\n",
    "\n",
    "a = tf.convert_to_tensor(2.)\n",
    "b = tf.cast(a, tf.int32)\n",
    "print(a, b)"
   ]
  },
  {
   "cell_type": "code",
   "execution_count": 57,
   "metadata": {},
   "outputs": [
    {
     "name": "stdout",
     "output_type": "stream",
     "text": [
      "(2, 3)\n",
      "tf.Tensor(2, shape=(), dtype=int32)\n",
      "tf.Tensor(3, shape=(), dtype=int32)\n"
     ]
    }
   ],
   "source": [
    "## tf.cast \n",
    "# Casts a  tensor to new type\n",
    "tf.cast(a, tf.int32).numpy()\n",
    "\n",
    "###### Tensor Flow Shape Operation\n",
    "a = tf.ones([2,3])\n",
    "print(a.shape)\n",
    "shape = tf.shape(a)\n",
    "print(shape[0])\n",
    "print(shape[1])\n"
   ]
  }
 ],
 "metadata": {
  "hide_input": false,
  "kernelspec": {
   "display_name": "Python 3",
   "language": "python",
   "name": "python3"
  },
  "language_info": {
   "codemirror_mode": {
    "name": "ipython",
    "version": 3
   },
   "file_extension": ".py",
   "mimetype": "text/x-python",
   "name": "python",
   "nbconvert_exporter": "python",
   "pygments_lexer": "ipython3",
   "version": "3.7.6"
  },
  "nbTranslate": {
   "displayLangs": [
    "*"
   ],
   "hotkey": "alt-t",
   "langInMainMenu": true,
   "sourceLang": "en",
   "targetLang": "fr",
   "useGoogleTranslate": true
  },
  "toc": {
   "base_numbering": 1,
   "nav_menu": {},
   "number_sections": true,
   "sideBar": true,
   "skip_h1_title": false,
   "title_cell": "Table of Contents",
   "title_sidebar": "Contents",
   "toc_cell": false,
   "toc_position": {},
   "toc_section_display": true,
   "toc_window_display": false
  },
  "varInspector": {
   "cols": {
    "lenName": 16,
    "lenType": 16,
    "lenVar": 40
   },
   "kernels_config": {
    "python": {
     "delete_cmd_postfix": "",
     "delete_cmd_prefix": "del ",
     "library": "var_list.py",
     "varRefreshCmd": "print(var_dic_list())"
    },
    "r": {
     "delete_cmd_postfix": ") ",
     "delete_cmd_prefix": "rm(",
     "library": "var_list.r",
     "varRefreshCmd": "cat(var_dic_list()) "
    }
   },
   "types_to_exclude": [
    "module",
    "function",
    "builtin_function_or_method",
    "instance",
    "_Feature"
   ],
   "window_display": false
  }
 },
 "nbformat": 4,
 "nbformat_minor": 2
}
