{
 "cells": [
  {
   "cell_type": "code",
   "execution_count": 1,
   "metadata": {
    "ExecuteTime": {
     "end_time": "2020-07-13T09:22:32.618747Z",
     "start_time": "2020-07-13T09:22:30.343893Z"
    }
   },
   "outputs": [],
   "source": [
    "import numpy as np\n",
    "import pandas as pd\n",
    "import tensorflow as tf"
   ]
  },
  {
   "cell_type": "markdown",
   "metadata": {},
   "source": [
    "# tf.audio.decode_wav"
   ]
  },
  {
   "cell_type": "code",
   "execution_count": 2,
   "metadata": {
    "ExecuteTime": {
     "end_time": "2020-07-13T09:25:10.987049Z",
     "start_time": "2020-07-13T09:25:10.984045Z"
    }
   },
   "outputs": [],
   "source": [
    "#tf.audio.decode_wav(contents, desired_channels = -1, desired_samples=-1, name = None)\n",
    "# tf.audio.encode_wav(audio, sample_rate, name = None)"
   ]
  },
  {
   "cell_type": "markdown",
   "metadata": {},
   "source": [
    "# tf.autodiff"
   ]
  },
  {
   "cell_type": "code",
   "execution_count": 3,
   "metadata": {
    "ExecuteTime": {
     "end_time": "2020-07-13T09:27:28.144976Z",
     "start_time": "2020-07-13T09:27:28.140983Z"
    }
   },
   "outputs": [],
   "source": [
    "# Computes Jacobian-Vector products (\"JVP\"s) using forward-mode autodiff\n",
    "\n",
    "#tf.autodiff.ForwardAccumulator(primals, tangents)\n",
    "\n",
    "# Consider a simple linear regression"
   ]
  },
  {
   "cell_type": "code",
   "execution_count": 4,
   "metadata": {
    "ExecuteTime": {
     "end_time": "2020-07-13T09:28:47.762337Z",
     "start_time": "2020-07-13T09:28:47.707368Z"
    }
   },
   "outputs": [],
   "source": [
    "x = tf.constant([[2.0,3.0],[1.0,4.0]])\n",
    "dense = tf.keras.layers.Dense(1)\n",
    "dense.build([None,2])\n"
   ]
  },
  {
   "cell_type": "code",
   "execution_count": 5,
   "metadata": {
    "ExecuteTime": {
     "end_time": "2020-07-13T09:30:19.617825Z",
     "start_time": "2020-07-13T09:30:19.025274Z"
    }
   },
   "outputs": [
    {
     "name": "stdout",
     "output_type": "stream",
     "text": [
      "WARNING:tensorflow:5 out of the last 5 calls to <function _jvp_helper at 0x0000026977B85E58> triggered tf.function retracing. Tracing is expensive and the excessive number of tracings is likely due to passing python objects instead of tensors. Also, tf.function has experimental_relax_shapes=True option that relaxes argument shapes that can avoid unnecessary retracing. Please refer to https://www.tensorflow.org/tutorials/customization/performance#python_or_tensor_args and https://www.tensorflow.org/api_docs/python/tf/function for more details.\n",
      "WARNING:tensorflow:6 out of the last 6 calls to <function _jvp_helper at 0x0000026977B85E58> triggered tf.function retracing. Tracing is expensive and the excessive number of tracings is likely due to passing python objects instead of tensors. Also, tf.function has experimental_relax_shapes=True option that relaxes argument shapes that can avoid unnecessary retracing. Please refer to https://www.tensorflow.org/tutorials/customization/performance#python_or_tensor_args and https://www.tensorflow.org/api_docs/python/tf/function for more details.\n"
     ]
    }
   ],
   "source": [
    "with tf.autodiff.ForwardAccumulator(\n",
    "    primals=dense.kernel,\n",
    "tangents=tf.constant([[1.0], [0.]])) as acc:\n",
    "    loss = tf.reduce_sum((dense(x) - tf.constant([1., -1])) **2)"
   ]
  },
  {
   "cell_type": "code",
   "execution_count": 7,
   "metadata": {
    "ExecuteTime": {
     "end_time": "2020-07-13T09:32:26.354191Z",
     "start_time": "2020-07-13T09:32:26.349200Z"
    }
   },
   "outputs": [
    {
     "data": {
      "text/plain": [
       "<tf.Tensor: shape=(), dtype=float32, numpy=8.082719>"
      ]
     },
     "execution_count": 7,
     "metadata": {},
     "output_type": "execute_result"
    }
   ],
   "source": [
    "acc.jvp(loss)"
   ]
  },
  {
   "cell_type": "code",
   "execution_count": null,
   "metadata": {},
   "outputs": [],
   "source": [
    "x = tf.constant([[2.0, 3.0],[1.0,4.0]])\n",
    "dense = tf.keras.layers.Dense(1)\n",
    "dense.build([None, 2])\n",
    "\n",
    "loss_fn = lambda : tf.reduce_sum((dense(x) - tf.constant([1., -1.0])) ** 2)\n",
    "kernel_fprop = []\n",
    "\n",
    "with tf.autodiff.ForwardAccumulator(\n",
    "    dense.kernel, tf.constant([[1.0],[0.]])) as acc:\n",
    "    kernel"
   ]
  },
  {
   "cell_type": "code",
   "execution_count": null,
   "metadata": {},
   "outputs": [],
   "source": []
  },
  {
   "cell_type": "code",
   "execution_count": null,
   "metadata": {},
   "outputs": [],
   "source": []
  },
  {
   "cell_type": "markdown",
   "metadata": {},
   "source": [
    "# tf.autograph"
   ]
  },
  {
   "cell_type": "code",
   "execution_count": 8,
   "metadata": {
    "ExecuteTime": {
     "end_time": "2020-07-13T09:45:22.741536Z",
     "start_time": "2020-07-13T09:45:22.737533Z"
    }
   },
   "outputs": [],
   "source": [
    "# Conversion of plain python into TensorFlow graph code\n",
    "\n",
    "# For more AutoGraph Guide\n",
    "\n",
    "# graph code we mean code that generates a TensorFlow graph when run.\n",
    "# The generated graph has the same effects as the original code when executed \n",
    "# In other Words, Using AutoGraph can be thought of as running Python in TensorFlow\n",
    "\n",
    "\n",
    "# Modules\n",
    "## Experimental \n",
    "\n",
    "## Functions \n",
    "\n",
    "### set_verbosity(...) Set AutoGraph verbosity level\n",
    "### to_code(...) Returns teh source Codegenereated by AutoGraph, as a string\n",
    "# to_graph(...) Converts a Python entity into a TensorFlow graph\n",
    "\n",
    "# trace(...) # Trace argument information at compilation time\n"
   ]
  },
  {
   "cell_type": "markdown",
   "metadata": {},
   "source": [
    "## tf.autograph.set_verbosity"
   ]
  },
  {
   "cell_type": "code",
   "execution_count": 9,
   "metadata": {
    "ExecuteTime": {
     "end_time": "2020-07-13T09:48:10.295287Z",
     "start_time": "2020-07-13T09:48:10.292289Z"
    }
   },
   "outputs": [],
   "source": [
    "# tf.autograph.set_verbosity(level, alsologtostdout = False)\n",
    "\n",
    "## There are two means to control the logging verbosity\n",
    "\n",
    "### The set_verbosity Function\n",
    "### The AUTOGRAPH_VERBOSITY environment variable\n",
    "\n",
    "# set_verbosity takes precedence over the environment variable"
   ]
  },
  {
   "cell_type": "code",
   "execution_count": 12,
   "metadata": {
    "ExecuteTime": {
     "end_time": "2020-07-13T09:50:37.326455Z",
     "start_time": "2020-07-13T09:50:37.323410Z"
    }
   },
   "outputs": [],
   "source": [
    "# For Example\n",
    "import os\n",
    "import tensorflow as tf\n",
    "\n",
    "os.environ[\"AUTOGRAPH_VERBOSITY\"] = \"5\"\n",
    "# verbosity is now 5\n",
    "\n",
    "tf.autograph.set_verbosity(0)\n",
    "# Verbosity is now 0\n",
    "\n",
    "os.environ[\"AUTOGRAPH_VERBOSITY\"] = \"1\"\n",
    "# No effect, because set verbosity was already called.\n"
   ]
  },
  {
   "cell_type": "markdown",
   "metadata": {},
   "source": [
    "## tf.autograph.to_code"
   ]
  },
  {
   "cell_type": "code",
   "execution_count": 13,
   "metadata": {
    "ExecuteTime": {
     "end_time": "2020-07-13T09:52:51.783169Z",
     "start_time": "2020-07-13T09:52:51.780148Z"
    }
   },
   "outputs": [],
   "source": [
    "# tf.autograph.to_code(entity, recursive = True, experimental_optional_features = None)\n",
    "# Example Usage\n",
    "def f(x):\n",
    "    if x < 0:\n",
    "        x = -x\n",
    "        return x"
   ]
  },
  {
   "cell_type": "code",
   "execution_count": 15,
   "metadata": {
    "ExecuteTime": {
     "end_time": "2020-07-13T09:53:42.649563Z",
     "start_time": "2020-07-13T09:53:42.642569Z"
    }
   },
   "outputs": [
    {
     "data": {
      "text/plain": [
       "\"def tf__f(x):\\n    do_return = False\\n    retval_ = ag__.UndefinedReturnValue()\\n    with ag__.FunctionScope('f', 'fscope', ag__.ConversionOptions(recursive=True, user_requested=True, optional_features=(), internal_convert_user_code=True)) as fscope:\\n\\n        def get_state():\\n            return ()\\n\\n        def set_state(loop_vars):\\n            pass\\n\\n        def if_true():\\n            (x_1,) = (x,)\\n            x_1 = (- x_1)\\n            try:\\n                do_return = True\\n                retval_ = fscope.mark_return_value(x_1)\\n            except:\\n                do_return = False\\n                raise\\n            return (retval_, do_return)\\n\\n        def if_false():\\n            return (retval_, do_return)\\n        cond = (x < 0)\\n        (retval_, do_return) = ag__.if_stmt(cond, if_true, if_false, get_state, set_state, ('retval_', 'do_return'), ())\\n    (do_return,)\\n    return ag__.retval(retval_)\\n\""
      ]
     },
     "execution_count": 15,
     "metadata": {},
     "output_type": "execute_result"
    }
   ],
   "source": [
    "tf.autograph.to_code(f)"
   ]
  },
  {
   "cell_type": "markdown",
   "metadata": {},
   "source": [
    "## tf.autograph.to_code"
   ]
  },
  {
   "cell_type": "code",
   "execution_count": 16,
   "metadata": {
    "ExecuteTime": {
     "end_time": "2020-07-13T09:54:42.131800Z",
     "start_time": "2020-07-13T09:54:42.129775Z"
    }
   },
   "outputs": [],
   "source": [
    "# tf.autograph.to_code(entity, recursive = True, experimental_optional_features = None)"
   ]
  },
  {
   "cell_type": "code",
   "execution_count": 17,
   "metadata": {
    "ExecuteTime": {
     "end_time": "2020-07-13T09:55:22.130639Z",
     "start_time": "2020-07-13T09:55:22.071656Z"
    }
   },
   "outputs": [
    {
     "data": {
      "text/plain": [
       "\"def tf__f(x):\\n    do_return = False\\n    retval_ = ag__.UndefinedReturnValue()\\n    with ag__.FunctionScope('f', 'fscope', ag__.ConversionOptions(recursive=True, user_requested=True, optional_features=(), internal_convert_user_code=True)) as fscope:\\n\\n        def get_state():\\n            return ()\\n\\n        def set_state(loop_vars):\\n            pass\\n\\n        def if_true():\\n            (x_1,) = (x,)\\n            x_1 = (- x_1)\\n            try:\\n                do_return = True\\n                retval_ = fscope.mark_return_value(x_1)\\n            except:\\n                do_return = False\\n                raise\\n            return (retval_, do_return)\\n\\n        def if_false():\\n            return (retval_, do_return)\\n        cond = (x < 0)\\n        (retval_, do_return) = ag__.if_stmt(cond, if_true, if_false, get_state, set_state, ('retval_', 'do_return'), ())\\n    (do_return,)\\n    return ag__.retval(retval_)\\n\""
      ]
     },
     "execution_count": 17,
     "metadata": {},
     "output_type": "execute_result"
    }
   ],
   "source": [
    "def f(x):\n",
    "    if x < 0 :\n",
    "        x = -x\n",
    "        return x\n",
    "\n",
    "tf.autograph.to_code(f)"
   ]
  }
 ],
 "metadata": {
  "kernelspec": {
   "display_name": "Python 3",
   "language": "python",
   "name": "python3"
  },
  "language_info": {
   "codemirror_mode": {
    "name": "ipython",
    "version": 3
   },
   "file_extension": ".py",
   "mimetype": "text/x-python",
   "name": "python",
   "nbconvert_exporter": "python",
   "pygments_lexer": "ipython3",
   "version": "3.7.6"
  },
  "nbTranslate": {
   "displayLangs": [
    "*"
   ],
   "hotkey": "alt-t",
   "langInMainMenu": true,
   "sourceLang": "en",
   "targetLang": "fr",
   "useGoogleTranslate": true
  },
  "toc": {
   "base_numbering": 1,
   "nav_menu": {},
   "number_sections": true,
   "sideBar": true,
   "skip_h1_title": false,
   "title_cell": "Table of Contents",
   "title_sidebar": "Contents",
   "toc_cell": false,
   "toc_position": {},
   "toc_section_display": true,
   "toc_window_display": false
  }
 },
 "nbformat": 4,
 "nbformat_minor": 4
}
