{
 "cells": [
  {
   "cell_type": "markdown",
   "metadata": {},
   "source": [
    "# 다양한 분류 모형\n",
    "SVM, 결정트리, Random Forest, Gradient Boosting"
   ]
  },
  {
   "cell_type": "markdown",
   "metadata": {},
   "source": [
    "### 1. 데이터 준비 - Breast Cancer Wisconsin (Diagnostic) Dataset"
   ]
  },
  {
   "cell_type": "code",
   "execution_count": 1,
   "metadata": {},
   "outputs": [
    {
     "name": "stdout",
     "output_type": "stream",
     "text": [
      ".. _breast_cancer_dataset:\n",
      "\n",
      "Breast cancer wisconsin (diagnostic) dataset\n",
      "--------------------------------------------\n",
      "\n",
      "**Data Set Characteristics:**\n",
      "\n",
      "    :Number of Instances: 569\n",
      "\n",
      "    :Number of Attributes: 30 numeric, predictive attributes and the class\n",
      "\n",
      "    :Attribute Information:\n",
      "        - radius (mean of distances from center to points on the perimeter)\n",
      "        - texture (standard deviation of gray-scale values)\n",
      "        - perimeter\n",
      "        - area\n",
      "        - smoothness (local variation in radius lengths)\n",
      "        - compactness (perimeter^2 / area - 1.0)\n",
      "        - concavity (severity of concave portions of the contour)\n",
      "        - concave points (number of concave portions of the contour)\n",
      "        - symmetry \n",
      "        - fractal dimension (\"coastline approximation\" - 1)\n",
      "\n",
      "        The mean, standard error, and \"worst\" or largest (mean of the three\n",
      "        largest values) of these features were computed for each image,\n",
      "        resulting in 30 features.  For instance, field 3 is Mean Radius, field\n",
      "        13 is Radius SE, field 23 is Worst Radius.\n",
      "\n",
      "        - class:\n",
      "                - WDBC-Malignant\n",
      "                - WDBC-Benign\n",
      "\n",
      "    :Summary Statistics:\n",
      "\n",
      "    ===================================== ====== ======\n",
      "                                           Min    Max\n",
      "    ===================================== ====== ======\n",
      "    radius (mean):                        6.981  28.11\n",
      "    texture (mean):                       9.71   39.28\n",
      "    perimeter (mean):                     43.79  188.5\n",
      "    area (mean):                          143.5  2501.0\n",
      "    smoothness (mean):                    0.053  0.163\n",
      "    compactness (mean):                   0.019  0.345\n",
      "    concavity (mean):                     0.0    0.427\n",
      "    concave points (mean):                0.0    0.201\n",
      "    symmetry (mean):                      0.106  0.304\n",
      "    fractal dimension (mean):             0.05   0.097\n",
      "    radius (standard error):              0.112  2.873\n",
      "    texture (standard error):             0.36   4.885\n",
      "    perimeter (standard error):           0.757  21.98\n",
      "    area (standard error):                6.802  542.2\n",
      "    smoothness (standard error):          0.002  0.031\n",
      "    compactness (standard error):         0.002  0.135\n",
      "    concavity (standard error):           0.0    0.396\n",
      "    concave points (standard error):      0.0    0.053\n",
      "    symmetry (standard error):            0.008  0.079\n",
      "    fractal dimension (standard error):   0.001  0.03\n",
      "    radius (worst):                       7.93   36.04\n",
      "    texture (worst):                      12.02  49.54\n",
      "    perimeter (worst):                    50.41  251.2\n",
      "    area (worst):                         185.2  4254.0\n",
      "    smoothness (worst):                   0.071  0.223\n",
      "    compactness (worst):                  0.027  1.058\n",
      "    concavity (worst):                    0.0    1.252\n",
      "    concave points (worst):               0.0    0.291\n",
      "    symmetry (worst):                     0.156  0.664\n",
      "    fractal dimension (worst):            0.055  0.208\n",
      "    ===================================== ====== ======\n",
      "\n",
      "    :Missing Attribute Values: None\n",
      "\n",
      "    :Class Distribution: 212 - Malignant, 357 - Benign\n",
      "\n",
      "    :Creator:  Dr. William H. Wolberg, W. Nick Street, Olvi L. Mangasarian\n",
      "\n",
      "    :Donor: Nick Street\n",
      "\n",
      "    :Date: November, 1995\n",
      "\n",
      "This is a copy of UCI ML Breast Cancer Wisconsin (Diagnostic) datasets.\n",
      "https://goo.gl/U2Uwz2\n",
      "\n",
      "Features are computed from a digitized image of a fine needle\n",
      "aspirate (FNA) of a breast mass.  They describe\n",
      "characteristics of the cell nuclei present in the image.\n",
      "\n",
      "Separating plane described above was obtained using\n",
      "Multisurface Method-Tree (MSM-T) [K. P. Bennett, \"Decision Tree\n",
      "Construction Via Linear Programming.\" Proceedings of the 4th\n",
      "Midwest Artificial Intelligence and Cognitive Science Society,\n",
      "pp. 97-101, 1992], a classification method which uses linear\n",
      "programming to construct a decision tree.  Relevant features\n",
      "were selected using an exhaustive search in the space of 1-4\n",
      "features and 1-3 separating planes.\n",
      "\n",
      "The actual linear program used to obtain the separating plane\n",
      "in the 3-dimensional space is that described in:\n",
      "[K. P. Bennett and O. L. Mangasarian: \"Robust Linear\n",
      "Programming Discrimination of Two Linearly Inseparable Sets\",\n",
      "Optimization Methods and Software 1, 1992, 23-34].\n",
      "\n",
      "This database is also available through the UW CS ftp server:\n",
      "\n",
      "ftp ftp.cs.wisc.edu\n",
      "cd math-prog/cpo-dataset/machine-learn/WDBC/\n",
      "\n",
      ".. topic:: References\n",
      "\n",
      "   - W.N. Street, W.H. Wolberg and O.L. Mangasarian. Nuclear feature extraction \n",
      "     for breast tumor diagnosis. IS&T/SPIE 1993 International Symposium on \n",
      "     Electronic Imaging: Science and Technology, volume 1905, pages 861-870,\n",
      "     San Jose, CA, 1993.\n",
      "   - O.L. Mangasarian, W.N. Street and W.H. Wolberg. Breast cancer diagnosis and \n",
      "     prognosis via linear programming. Operations Research, 43(4), pages 570-577, \n",
      "     July-August 1995.\n",
      "   - W.H. Wolberg, W.N. Street, and O.L. Mangasarian. Machine learning techniques\n",
      "     to diagnose breast cancer from fine-needle aspirates. Cancer Letters 77 (1994) \n",
      "     163-171.\n",
      "(569, 30) (569,)\n"
     ]
    }
   ],
   "source": [
    "from sklearn.datasets import load_breast_cancer\n",
    "cancer = load_breast_cancer()\n",
    "\n",
    "print(cancer.DESCR) #boston['DESCR'] 도 가능\n",
    "print(cancer.data.shape, cancer.target.shape)"
   ]
  },
  {
   "cell_type": "code",
   "execution_count": 2,
   "metadata": {},
   "outputs": [
    {
     "name": "stdout",
     "output_type": "stream",
     "text": [
      "(426, 30) (426,)\n",
      "(143, 30) (143,)\n"
     ]
    }
   ],
   "source": [
    "from sklearn.model_selection import train_test_split\n",
    "X_train, X_test, y_train, y_test = train_test_split(cancer.data, cancer.target,\n",
    "                                                    random_state=1)\n",
    "print(X_train.shape, y_train.shape)\n",
    "print(X_test.shape, y_test.shape)"
   ]
  },
  {
   "cell_type": "markdown",
   "metadata": {},
   "source": [
    "### 2. 데이터 살펴보기"
   ]
  },
  {
   "cell_type": "code",
   "execution_count": 3,
   "metadata": {},
   "outputs": [
    {
     "data": {
      "image/png": "[encoded data removed]",
      "text/plain": [
       "<Figure size 1080x720 with 30 Axes>"
      ]
     },
     "metadata": {
      "needs_background": "light"
     },
     "output_type": "display_data"
    }
   ],
   "source": [
    "%matplotlib inline\n",
    "import matplotlib.pyplot as plt\n",
    "\n",
    "fig, axes = plt.subplots(10, 3, figsize=(15, 10)) #총 30개의 독립변수가 있으므로 10x3 타일을 이용\n",
    "#y = iris.target\n",
    "y = cancer.target.astype('str') # target data의 type을 string으로 변환\n",
    "\n",
    "for i, ax in enumerate(axes.ravel()): #나누어진 각 subplot에 대해\n",
    "    if i < cancer.data.shape[1]:\n",
    "        x = cancer.data[:,i]\n",
    "#        ax.set_title(cancer.feature_names[i])\n",
    "        ax.scatter(x, y)\n",
    "plt.show()"
   ]
  },
  {
   "cell_type": "markdown",
   "metadata": {},
   "source": [
    "#### histogram을 이용해 시각화 향상\n",
    "위 그래프는 각 점의 정확한 빈도가 잘 보이지 않으므로 판단이 어려움<br>\n",
    "즉 특정 위치에 더 많은 점이 찍혀있을 수 있으므로 다른 방법이 필요<br>"
   ]
  },
  {
   "cell_type": "code",
   "execution_count": 4,
   "metadata": {},
   "outputs": [
    {
     "data": {
      "image/png": "[encoded data removed]",
      "text/plain": [
       "<Figure size 720x1440 with 30 Axes>"
      ]
     },
     "metadata": {
      "needs_background": "light"
     },
     "output_type": "display_data"
    }
   ],
   "source": [
    "%matplotlib inline\n",
    "import matplotlib.pyplot as plt\n",
    "import numpy as np\n",
    "\n",
    "fig, axes = plt.subplots(15, 2, figsize=(10, 20)) #총 30개의 독립변수가 있으므로 10x3 타일을 이용\n",
    "\n",
    "malignant = cancer.data[cancer.target == 0] # malignant를 분리\n",
    "benign = cancer.data[cancer.target == 1] # benign을 분리\n",
    "\n",
    "ax = axes.ravel()\n",
    "colors = ['yellow', 'green']\n",
    "\n",
    "for i in range(30):\n",
    "    _, bins = np.histogram(cancer.data[:, i], bins=50)\n",
    "    ax[i].hist(malignant[:, i], bins=bins, color=colors[0], alpha=.5)\n",
    "    ax[i].hist(benign[:, i], bins=bins, color=colors[1], alpha=.5)\n",
    "    ax[i].set_title(cancer.feature_names[i])\n",
    "    ax[i].set_yticks(())\n",
    "    \n",
    "ax[0].set_xlabel(\"Feature magnitude\")\n",
    "ax[0].set_ylabel(\"Frequency\")\n",
    "ax[0].legend([\"malignant\", \"benign\"], loc=\"best\")\n",
    "fig.tight_layout()"
   ]
  },
  {
   "cell_type": "markdown",
   "metadata": {},
   "source": [
    "#### seaborn package\n",
    "seaborn package는 pairplot을 이용해 한 변수의 kde, 두 변수 간의 2차원 scatter graph를 쉽게 볼 수 있음 "
   ]
  },
  {
   "cell_type": "code",
   "execution_count": 5,
   "metadata": {},
   "outputs": [
    {
     "data": {
      "image/png": "[encoded data removed]",
      "text/plain": [
       "<Figure size 483.875x432 with 6 Axes>"
      ]
     },
     "metadata": {
      "needs_background": "light"
     },
     "output_type": "display_data"
    }
   ],
   "source": [
    "import seaborn as sns\n",
    "from scipy import stats\n",
    "import numpy as np\n",
    "import pandas as pd\n",
    "\n",
    "df = pd.DataFrame(np.c_[cancer['data'], cancer['target']],\n",
    "                  columns= np.append(cancer['feature_names'], ['target']))\n",
    "\n",
    "g = sns.pairplot(df, height=3, hue='target', vars=['mean radius', 'mean texture'])"
   ]
  },
  {
   "cell_type": "markdown",
   "metadata": {},
   "source": [
    "한 변수의 kde를 직접 그리고 싶다면 아래 코드를 이용"
   ]
  },
  {
   "cell_type": "code",
   "execution_count": 6,
   "metadata": {},
   "outputs": [
    {
     "data": {
      "image/png": "[encoded data removed]",
      "text/plain": [
       "<Figure size 432x288 with 1 Axes>"
      ]
     },
     "metadata": {
      "needs_background": "light"
     },
     "output_type": "display_data"
    }
   ],
   "source": [
    "import numpy as np\n",
    "import seaborn as sns\n",
    "#sns.set_style('whitegrid')\n",
    "g = sns.kdeplot(np.array(cancer.data[cancer.target == 0, 0]))\n",
    "g = sns.kdeplot(np.array(cancer.data[cancer.target == 1, 0]))"
   ]
  },
  {
   "cell_type": "markdown",
   "metadata": {},
   "source": [
    "### 3. k-최근접 이웃\n",
    "가장 단순한 분류 방법<br>\n",
    "가장 가까운 훈련 데이터 포인트 k개를 찾아 평균을 계산하여 예측에 사용\n",
    "\n",
    "직관적으로 봤을 때 아래 그림에서 Test 점은 어디에 속할까?<br>\n",
    "그렇게 생각한 이유는 무엇인가? -> 주변에 Benign이 많기 때문에 <br>\n",
    "어떻게 구현할 수 있을까? -> 가까운 점들을 기반으로 판단"
   ]
  },
  {
   "cell_type": "code",
   "execution_count": 7,
   "metadata": {},
   "outputs": [
    {
     "data": {
      "image/png": "[encoded data removed]",
      "text/plain": [
       "<Figure size 432x288 with 1 Axes>"
      ]
     },
     "metadata": {
      "needs_background": "light"
     },
     "output_type": "display_data"
    }
   ],
   "source": [
    "plt.scatter(X_train[y_train == 0, 0], X_train[y_train == 0, 1], marker='o')\n",
    "plt.scatter(X_train[y_train == 1, 0], X_train[y_train == 1, 1], marker='+')\n",
    "plt.scatter(X_test[0, 0], X_test[0, 1], marker='v')\n",
    "\n",
    "plt.legend(['Malignant', 'Benign', 'Test'])\n",
    "plt.xlabel(cancer.feature_names[0])\n",
    "plt.ylabel(cancer.feature_names[1])\n",
    "plt.show()"
   ]
  },
  {
   "cell_type": "code",
   "execution_count": 8,
   "metadata": {},
   "outputs": [
    {
     "name": "stdout",
     "output_type": "stream",
     "text": [
      "K-neighbor train set score: 0.946\n",
      "K-neighbor test set score: 0.923\n"
     ]
    }
   ],
   "source": [
    "from sklearn.neighbors import KNeighborsClassifier\n",
    "knn = KNeighborsClassifier(n_neighbors=3)\n",
    "knn.fit(X_train, y_train)\n",
    "\n",
    "print('K-neighbor train set score: {:.3f}'.format(knn.score(X_train, y_train)))\n",
    "print('K-neighbor test set score: {:.3f}'.format(knn.score(X_test, y_test)))"
   ]
  },
  {
   "cell_type": "markdown",
   "metadata": {},
   "source": [
    "**n_neighbors** : 사용할 이웃의 수, 커질수록 훈련 데이터에 대한 예측은 좋아짐<br>\n",
    "훈련과 관계없이 테스트 세트의 정확도는 너무 작거나 너무 크면 좋지 않은 경향이 있어, 적절하게 선택해야 함"
   ]
  },
  {
   "cell_type": "code",
   "execution_count": 9,
   "metadata": {},
   "outputs": [
    {
     "name": "stdout",
     "output_type": "stream",
     "text": [
      "K-neighbor train set score: 0.932\n",
      "K-neighbor test set score: 0.930\n"
     ]
    }
   ],
   "source": [
    "knn = KNeighborsClassifier(n_neighbors=7)\n",
    "knn.fit(X_train, y_train)\n",
    "\n",
    "print('K-neighbor train set score: {:.3f}'.format(knn.score(X_train, y_train)))\n",
    "print('K-neighbor test set score: {:.3f}'.format(knn.score(X_test, y_test)))"
   ]
  },
  {
   "cell_type": "markdown",
   "metadata": {},
   "source": [
    "**KNN 장단점** : 이해가 쉽고 별다른 노력 없이 좋은 성능을 보이는 경우가 있음<br>\n",
    "훈련 세트가 커지면 예측이 느려지고 특성이 많은 경우에는 잘 동작하지 않음<br>\n",
    "희소한(많은 특성이 0인) 데이터에서는 특히 성능이 낮음"
   ]
  },
  {
   "cell_type": "markdown",
   "metadata": {},
   "source": [
    "### 4. 결정트리(Decision Tree)"
   ]
  },
  {
   "cell_type": "markdown",
   "metadata": {},
   "source": [
    "https://scikit-learn.org/stable/modules/generated/sklearn.tree.DecisionTreeClassifier.html\n",
    "    \n",
    "https://ko.wikipedia.org/wiki/%EA%B2%B0%EC%A0%95_%ED%8A%B8%EB%A6%AC\n",
    "\n",
    "결정 트리(decision tree)는 의사 결정 규칙과 그 결과들을 트리 구조로 도식화한 의사 결정 지원 도구의 일종이다. 결정 트리는 운용 과학, 그 중에서도 의사 결정 분석에서 목표에 가장 가까운 결과를 낼 수 있는 전략을 찾기 위해 주로 사용된다."
   ]
  },
  {
   "cell_type": "code",
   "execution_count": 10,
   "metadata": {},
   "outputs": [
    {
     "name": "stdout",
     "output_type": "stream",
     "text": [
      "Decision Tree train set score: 1.000\n",
      "Decision Tree test set score: 0.944\n"
     ]
    }
   ],
   "source": [
    "from sklearn.tree import DecisionTreeClassifier\n",
    "\n",
    "tree = DecisionTreeClassifier(random_state=7)\n",
    "tree.fit(X_train, y_train)\n",
    "print('Decision Tree train set score: {:.3f}'.format(tree.score(X_train, y_train)))\n",
    "print('Decision Tree test set score: {:.3f}'.format(tree.score(X_test, y_test)))"
   ]
  },
  {
   "cell_type": "code",
   "execution_count": 11,
   "metadata": {},
   "outputs": [],
   "source": [
    "from sklearn.tree import export_graphviz\n",
    "\n",
    "export_graphviz(tree, out_file='tree.dot', class_names=['악성', '양성'],\n",
    "               impurity=False, filled=True)"
   ]
  },
  {
   "cell_type": "markdown",
   "metadata": {},
   "source": [
    "#### Graphviz 설치방법\n",
    "\n",
    "1. 윈도우용 graphviz 패키지 설치\n",
    "\n",
    "https://graphviz.gitlab.io/download/\n",
    "\n",
    "Stable 2.38 Windows install packages\n",
    "\n",
    "2. 환경변수에 Path 추가\n",
    "\n",
    "C:\\Program Files (x86)\\Graphviz2.38\\bin\n",
    "\n",
    "cmd 창에서 SET 을 치고 Path의 내용 확인, 없으면 재부팅\n",
    "\n",
    "3. conda 명령어를 이용해 python graphviz 모듈 설치\n",
    "\n",
    "conda install -c anaconda graphviz"
   ]
  },
  {
   "cell_type": "code",
   "execution_count": 12,
   "metadata": {},
   "outputs": [
    {
     "data": {
      "image/svg+xml": [
       "<?xml version=\"1.0\" encoding=\"UTF-8\" standalone=\"no\"?>\r\n",
       "<!DOCTYPE svg PUBLIC \"-//W3C//DTD SVG 1.1//EN\"\r\n",
       " \"http://www.w3.org/Graphics/SVG/1.1/DTD/svg11.dtd\">\r\n",
       "<!-- Generated by graphviz version 2.38.0 (20140413.2041)\r\n",
       " -->\r\n",
       "<!-- Title: Tree Pages: 1 -->\r\n",
       "<svg width=\"1245pt\" height=\"581pt\"\r\n",
       " viewBox=\"0.00 0.00 1245.00 581.00\" xmlns=\"http://www.w3.org/2000/svg\" xmlns:xlink=\"http://www.w3.org/1999/xlink\">\r\n",
       "<g id=\"graph0\" class=\"graph\" transform=\"scale(1 1) rotate(0) translate(4 577)\">\r\n",
       "<title>Tree</title>\r\n",
       "<polygon fill=\"white\" stroke=\"none\" points=\"-4,4 -4,-577 1241,-577 1241,4 -4,4\"/>\r\n",
       "<!-- 0 -->\r\n",
       "<g id=\"node1\" class=\"node\"><title>0</title>\r\n",
       "<polygon fill=\"#399de5\" fill-opacity=\"0.415686\" stroke=\"black\" points=\"606,-573 488,-573 488,-505 606,-505 606,-573\"/>\r\n",
       "<text text-anchor=\"middle\" x=\"547\" y=\"-557.8\" font-family=\"Times New Roman,serif\" font-size=\"14.00\">X[22] &lt;= 106.05</text>\r\n",
       "<text text-anchor=\"middle\" x=\"547\" y=\"-542.8\" font-family=\"Times New Roman,serif\" font-size=\"14.00\">samples = 426</text>\r\n",
       "<text text-anchor=\"middle\" x=\"547\" y=\"-527.8\" font-family=\"Times New Roman,serif\" font-size=\"14.00\">value = [157, 269]</text>\r\n",
       "<text text-anchor=\"middle\" x=\"547\" y=\"-512.8\" font-family=\"Times New Roman,serif\" font-size=\"14.00\">class = 양성</text>\r\n",
       "</g>\r\n",
       "<!-- 1 -->\r\n",
       "<g id=\"node2\" class=\"node\"><title>1</title>\r\n",
       "<polygon fill=\"#399de5\" fill-opacity=\"0.964706\" stroke=\"black\" points=\"514,-469 410,-469 410,-401 514,-401 514,-469\"/>\r\n",
       "<text text-anchor=\"middle\" x=\"462\" y=\"-453.8\" font-family=\"Times New Roman,serif\" font-size=\"14.00\">X[27] &lt;= 0.159</text>\r\n",
       "<text text-anchor=\"middle\" x=\"462\" y=\"-438.8\" font-family=\"Times New Roman,serif\" font-size=\"14.00\">samples = 259</text>\r\n",
       "<text text-anchor=\"middle\" x=\"462\" y=\"-423.8\" font-family=\"Times New Roman,serif\" font-size=\"14.00\">value = [9, 250]</text>\r\n",
       "<text text-anchor=\"middle\" x=\"462\" y=\"-408.8\" font-family=\"Times New Roman,serif\" font-size=\"14.00\">class = 양성</text>\r\n",
       "</g>\r\n",
       "<!-- 0&#45;&gt;1 -->\r\n",
       "<g id=\"edge1\" class=\"edge\"><title>0&#45;&gt;1</title>\r\n",
       "<path fill=\"none\" stroke=\"black\" d=\"M519.403,-504.884C512.054,-496.065 504.025,-486.43 496.363,-477.235\"/>\r\n",
       "<polygon fill=\"black\" stroke=\"black\" points=\"498.84,-474.741 489.749,-469.299 493.463,-479.222 498.84,-474.741\"/>\r\n",
       "<text text-anchor=\"middle\" x=\"487.486\" y=\"-490.497\" font-family=\"Times New Roman,serif\" font-size=\"14.00\">True</text>\r\n",
       "</g>\r\n",
       "<!-- 14 -->\r\n",
       "<g id=\"node15\" class=\"node\"><title>14</title>\r\n",
       "<polygon fill=\"#e58139\" fill-opacity=\"0.870588\" stroke=\"black\" points=\"687.5,-469 576.5,-469 576.5,-401 687.5,-401 687.5,-469\"/>\r\n",
       "<text text-anchor=\"middle\" x=\"632\" y=\"-453.8\" font-family=\"Times New Roman,serif\" font-size=\"14.00\">X[21] &lt;= 20.645</text>\r\n",
       "<text text-anchor=\"middle\" x=\"632\" y=\"-438.8\" font-family=\"Times New Roman,serif\" font-size=\"14.00\">samples = 167</text>\r\n",
       "<text text-anchor=\"middle\" x=\"632\" y=\"-423.8\" font-family=\"Times New Roman,serif\" font-size=\"14.00\">value = [148, 19]</text>\r\n",
       "<text text-anchor=\"middle\" x=\"632\" y=\"-408.8\" font-family=\"Times New Roman,serif\" font-size=\"14.00\">class = 악성</text>\r\n",
       "</g>\r\n",
       "<!-- 0&#45;&gt;14 -->\r\n",
       "<g id=\"edge14\" class=\"edge\"><title>0&#45;&gt;14</title>\r\n",
       "<path fill=\"none\" stroke=\"black\" d=\"M574.597,-504.884C581.946,-496.065 589.975,-486.43 597.637,-477.235\"/>\r\n",
       "<polygon fill=\"black\" stroke=\"black\" points=\"600.537,-479.222 604.251,-469.299 595.16,-474.741 600.537,-479.222\"/>\r\n",
       "<text text-anchor=\"middle\" x=\"606.514\" y=\"-490.497\" font-family=\"Times New Roman,serif\" font-size=\"14.00\">False</text>\r\n",
       "</g>\r\n",
       "<!-- 2 -->\r\n",
       "<g id=\"node3\" class=\"node\"><title>2</title>\r\n",
       "<polygon fill=\"#399de5\" fill-opacity=\"0.984314\" stroke=\"black\" points=\"344,-365 240,-365 240,-297 344,-297 344,-365\"/>\r\n",
       "<text text-anchor=\"middle\" x=\"292\" y=\"-349.8\" font-family=\"Times New Roman,serif\" font-size=\"14.00\">X[27] &lt;= 0.135</text>\r\n",
       "<text text-anchor=\"middle\" x=\"292\" y=\"-334.8\" font-family=\"Times New Roman,serif\" font-size=\"14.00\">samples = 253</text>\r\n",
       "<text text-anchor=\"middle\" x=\"292\" y=\"-319.8\" font-family=\"Times New Roman,serif\" font-size=\"14.00\">value = [4, 249]</text>\r\n",
       "<text text-anchor=\"middle\" x=\"292\" y=\"-304.8\" font-family=\"Times New Roman,serif\" font-size=\"14.00\">class = 양성</text>\r\n",
       "</g>\r\n",
       "<!-- 1&#45;&gt;2 -->\r\n",
       "<g id=\"edge2\" class=\"edge\"><title>1&#45;&gt;2</title>\r\n",
       "<path fill=\"none\" stroke=\"black\" d=\"M409.607,-402.564C391.668,-391.801 371.445,-379.667 352.893,-368.536\"/>\r\n",
       "<polygon fill=\"black\" stroke=\"black\" points=\"354.595,-365.476 344.22,-363.332 350.994,-371.478 354.595,-365.476\"/>\r\n",
       "</g>\r\n",
       "<!-- 11 -->\r\n",
       "<g id=\"node12\" class=\"node\"><title>11</title>\r\n",
       "<polygon fill=\"#e58139\" fill-opacity=\"0.800000\" stroke=\"black\" points=\"517,-365 407,-365 407,-297 517,-297 517,-365\"/>\r\n",
       "<text text-anchor=\"middle\" x=\"462\" y=\"-349.8\" font-family=\"Times New Roman,serif\" font-size=\"14.00\">X[21] &lt;= 24.785</text>\r\n",
       "<text text-anchor=\"middle\" x=\"462\" y=\"-334.8\" font-family=\"Times New Roman,serif\" font-size=\"14.00\">samples = 6</text>\r\n",
       "<text text-anchor=\"middle\" x=\"462\" y=\"-319.8\" font-family=\"Times New Roman,serif\" font-size=\"14.00\">value = [5, 1]</text>\r\n",
       "<text text-anchor=\"middle\" x=\"462\" y=\"-304.8\" font-family=\"Times New Roman,serif\" font-size=\"14.00\">class = 악성</text>\r\n",
       "</g>\r\n",
       "<!-- 1&#45;&gt;11 -->\r\n",
       "<g id=\"edge11\" class=\"edge\"><title>1&#45;&gt;11</title>\r\n",
       "<path fill=\"none\" stroke=\"black\" d=\"M462,-400.884C462,-392.778 462,-383.982 462,-375.472\"/>\r\n",
       "<polygon fill=\"black\" stroke=\"black\" points=\"465.5,-375.299 462,-365.299 458.5,-375.299 465.5,-375.299\"/>\r\n",
       "</g>\r\n",
       "<!-- 3 -->\r\n",
       "<g id=\"node4\" class=\"node\"><title>3</title>\r\n",
       "<polygon fill=\"#399de5\" fill-opacity=\"0.996078\" stroke=\"black\" points=\"225,-261 121,-261 121,-193 225,-193 225,-261\"/>\r\n",
       "<text text-anchor=\"middle\" x=\"173\" y=\"-245.8\" font-family=\"Times New Roman,serif\" font-size=\"14.00\">X[10] &lt;= 0.643</text>\r\n",
       "<text text-anchor=\"middle\" x=\"173\" y=\"-230.8\" font-family=\"Times New Roman,serif\" font-size=\"14.00\">samples = 242</text>\r\n",
       "<text text-anchor=\"middle\" x=\"173\" y=\"-215.8\" font-family=\"Times New Roman,serif\" font-size=\"14.00\">value = [1, 241]</text>\r\n",
       "<text text-anchor=\"middle\" x=\"173\" y=\"-200.8\" font-family=\"Times New Roman,serif\" font-size=\"14.00\">class = 양성</text>\r\n",
       "</g>\r\n",
       "<!-- 2&#45;&gt;3 -->\r\n",
       "<g id=\"edge3\" class=\"edge\"><title>2&#45;&gt;3</title>\r\n",
       "<path fill=\"none\" stroke=\"black\" d=\"M253.364,-296.884C242.556,-287.62 230.697,-277.455 219.486,-267.845\"/>\r\n",
       "<polygon fill=\"black\" stroke=\"black\" points=\"221.72,-265.15 211.849,-261.299 217.164,-270.465 221.72,-265.15\"/>\r\n",
       "</g>\r\n",
       "<!-- 8 -->\r\n",
       "<g id=\"node9\" class=\"node\"><title>8</title>\r\n",
       "<polygon fill=\"#399de5\" fill-opacity=\"0.623529\" stroke=\"black\" points=\"340.5,-261 243.5,-261 243.5,-193 340.5,-193 340.5,-261\"/>\r\n",
       "<text text-anchor=\"middle\" x=\"292\" y=\"-245.8\" font-family=\"Times New Roman,serif\" font-size=\"14.00\">X[1] &lt;= 20.84</text>\r\n",
       "<text text-anchor=\"middle\" x=\"292\" y=\"-230.8\" font-family=\"Times New Roman,serif\" font-size=\"14.00\">samples = 11</text>\r\n",
       "<text text-anchor=\"middle\" x=\"292\" y=\"-215.8\" font-family=\"Times New Roman,serif\" font-size=\"14.00\">value = [3, 8]</text>\r\n",
       "<text text-anchor=\"middle\" x=\"292\" y=\"-200.8\" font-family=\"Times New Roman,serif\" font-size=\"14.00\">class = 양성</text>\r\n",
       "</g>\r\n",
       "<!-- 2&#45;&gt;8 -->\r\n",
       "<g id=\"edge8\" class=\"edge\"><title>2&#45;&gt;8</title>\r\n",
       "<path fill=\"none\" stroke=\"black\" d=\"M292,-296.884C292,-288.778 292,-279.982 292,-271.472\"/>\r\n",
       "<polygon fill=\"black\" stroke=\"black\" points=\"295.5,-271.299 292,-261.299 288.5,-271.299 295.5,-271.299\"/>\r\n",
       "</g>\r\n",
       "<!-- 4 -->\r\n",
       "<g id=\"node5\" class=\"node\"><title>4</title>\r\n",
       "<polygon fill=\"#399de5\" stroke=\"black\" points=\"104,-149.5 0,-149.5 0,-96.5 104,-96.5 104,-149.5\"/>\r\n",
       "<text text-anchor=\"middle\" x=\"52\" y=\"-134.3\" font-family=\"Times New Roman,serif\" font-size=\"14.00\">samples = 239</text>\r\n",
       "<text text-anchor=\"middle\" x=\"52\" y=\"-119.3\" font-family=\"Times New Roman,serif\" font-size=\"14.00\">value = [0, 239]</text>\r\n",
       "<text text-anchor=\"middle\" x=\"52\" y=\"-104.3\" font-family=\"Times New Roman,serif\" font-size=\"14.00\">class = 양성</text>\r\n",
       "</g>\r\n",
       "<!-- 3&#45;&gt;4 -->\r\n",
       "<g id=\"edge4\" class=\"edge\"><title>3&#45;&gt;4</title>\r\n",
       "<path fill=\"none\" stroke=\"black\" d=\"M133.715,-192.884C119.755,-181.116 104.07,-167.894 90.202,-156.203\"/>\r\n",
       "<polygon fill=\"black\" stroke=\"black\" points=\"92.1753,-153.289 82.2736,-149.52 87.6637,-158.641 92.1753,-153.289\"/>\r\n",
       "</g>\r\n",
       "<!-- 5 -->\r\n",
       "<g id=\"node6\" class=\"node\"><title>5</title>\r\n",
       "<polygon fill=\"#399de5\" fill-opacity=\"0.498039\" stroke=\"black\" points=\"226,-157 122,-157 122,-89 226,-89 226,-157\"/>\r\n",
       "<text text-anchor=\"middle\" x=\"174\" y=\"-141.8\" font-family=\"Times New Roman,serif\" font-size=\"14.00\">X[13] &lt;= 51.38</text>\r\n",
       "<text text-anchor=\"middle\" x=\"174\" y=\"-126.8\" font-family=\"Times New Roman,serif\" font-size=\"14.00\">samples = 3</text>\r\n",
       "<text text-anchor=\"middle\" x=\"174\" y=\"-111.8\" font-family=\"Times New Roman,serif\" font-size=\"14.00\">value = [1, 2]</text>\r\n",
       "<text text-anchor=\"middle\" x=\"174\" y=\"-96.8\" font-family=\"Times New Roman,serif\" font-size=\"14.00\">class = 양성</text>\r\n",
       "</g>\r\n",
       "<!-- 3&#45;&gt;5 -->\r\n",
       "<g id=\"edge5\" class=\"edge\"><title>3&#45;&gt;5</title>\r\n",
       "<path fill=\"none\" stroke=\"black\" d=\"M173.325,-192.884C173.404,-184.778 173.49,-175.982 173.574,-167.472\"/>\r\n",
       "<polygon fill=\"black\" stroke=\"black\" points=\"177.075,-167.333 173.674,-157.299 170.076,-167.265 177.075,-167.333\"/>\r\n",
       "</g>\r\n",
       "<!-- 6 -->\r\n",
       "<g id=\"node7\" class=\"node\"><title>6</title>\r\n",
       "<polygon fill=\"#e58139\" stroke=\"black\" points=\"164.5,-53 73.5,-53 73.5,-0 164.5,-0 164.5,-53\"/>\r\n",
       "<text text-anchor=\"middle\" x=\"119\" y=\"-37.8\" font-family=\"Times New Roman,serif\" font-size=\"14.00\">samples = 1</text>\r\n",
       "<text text-anchor=\"middle\" x=\"119\" y=\"-22.8\" font-family=\"Times New Roman,serif\" font-size=\"14.00\">value = [1, 0]</text>\r\n",
       "<text text-anchor=\"middle\" x=\"119\" y=\"-7.8\" font-family=\"Times New Roman,serif\" font-size=\"14.00\">class = 악성</text>\r\n",
       "</g>\r\n",
       "<!-- 5&#45;&gt;6 -->\r\n",
       "<g id=\"edge6\" class=\"edge\"><title>5&#45;&gt;6</title>\r\n",
       "<path fill=\"none\" stroke=\"black\" d=\"M154.764,-88.9485C149.706,-80.2579 144.236,-70.8608 139.133,-62.0917\"/>\r\n",
       "<polygon fill=\"black\" stroke=\"black\" points=\"142.034,-60.1189 133.979,-53.2367 135.984,-63.6401 142.034,-60.1189\"/>\r\n",
       "</g>\r\n",
       "<!-- 7 -->\r\n",
       "<g id=\"node8\" class=\"node\"><title>7</title>\r\n",
       "<polygon fill=\"#399de5\" stroke=\"black\" points=\"273.5,-53 182.5,-53 182.5,-0 273.5,-0 273.5,-53\"/>\r\n",
       "<text text-anchor=\"middle\" x=\"228\" y=\"-37.8\" font-family=\"Times New Roman,serif\" font-size=\"14.00\">samples = 2</text>\r\n",
       "<text text-anchor=\"middle\" x=\"228\" y=\"-22.8\" font-family=\"Times New Roman,serif\" font-size=\"14.00\">value = [0, 2]</text>\r\n",
       "<text text-anchor=\"middle\" x=\"228\" y=\"-7.8\" font-family=\"Times New Roman,serif\" font-size=\"14.00\">class = 양성</text>\r\n",
       "</g>\r\n",
       "<!-- 5&#45;&gt;7 -->\r\n",
       "<g id=\"edge7\" class=\"edge\"><title>5&#45;&gt;7</title>\r\n",
       "<path fill=\"none\" stroke=\"black\" d=\"M192.887,-88.9485C197.853,-80.2579 203.222,-70.8608 208.233,-62.0917\"/>\r\n",
       "<polygon fill=\"black\" stroke=\"black\" points=\"211.371,-63.6557 213.293,-53.2367 205.293,-60.1826 211.371,-63.6557\"/>\r\n",
       "</g>\r\n",
       "<!-- 9 -->\r\n",
       "<g id=\"node10\" class=\"node\"><title>9</title>\r\n",
       "<polygon fill=\"#399de5\" stroke=\"black\" points=\"336.5,-149.5 245.5,-149.5 245.5,-96.5 336.5,-96.5 336.5,-149.5\"/>\r\n",
       "<text text-anchor=\"middle\" x=\"291\" y=\"-134.3\" font-family=\"Times New Roman,serif\" font-size=\"14.00\">samples = 8</text>\r\n",
       "<text text-anchor=\"middle\" x=\"291\" y=\"-119.3\" font-family=\"Times New Roman,serif\" font-size=\"14.00\">value = [0, 8]</text>\r\n",
       "<text text-anchor=\"middle\" x=\"291\" y=\"-104.3\" font-family=\"Times New Roman,serif\" font-size=\"14.00\">class = 양성</text>\r\n",
       "</g>\r\n",
       "<!-- 8&#45;&gt;9 -->\r\n",
       "<g id=\"edge9\" class=\"edge\"><title>8&#45;&gt;9</title>\r\n",
       "<path fill=\"none\" stroke=\"black\" d=\"M291.675,-192.884C291.572,-182.326 291.457,-170.597 291.352,-159.854\"/>\r\n",
       "<polygon fill=\"black\" stroke=\"black\" points=\"294.848,-159.485 291.25,-149.52 287.848,-159.554 294.848,-159.485\"/>\r\n",
       "</g>\r\n",
       "<!-- 10 -->\r\n",
       "<g id=\"node11\" class=\"node\"><title>10</title>\r\n",
       "<polygon fill=\"#e58139\" stroke=\"black\" points=\"445.5,-149.5 354.5,-149.5 354.5,-96.5 445.5,-96.5 445.5,-149.5\"/>\r\n",
       "<text text-anchor=\"middle\" x=\"400\" y=\"-134.3\" font-family=\"Times New Roman,serif\" font-size=\"14.00\">samples = 3</text>\r\n",
       "<text text-anchor=\"middle\" x=\"400\" y=\"-119.3\" font-family=\"Times New Roman,serif\" font-size=\"14.00\">value = [3, 0]</text>\r\n",
       "<text text-anchor=\"middle\" x=\"400\" y=\"-104.3\" font-family=\"Times New Roman,serif\" font-size=\"14.00\">class = 악성</text>\r\n",
       "</g>\r\n",
       "<!-- 8&#45;&gt;10 -->\r\n",
       "<g id=\"edge10\" class=\"edge\"><title>8&#45;&gt;10</title>\r\n",
       "<path fill=\"none\" stroke=\"black\" d=\"M327.065,-192.884C339.408,-181.226 353.263,-168.141 365.555,-156.532\"/>\r\n",
       "<polygon fill=\"black\" stroke=\"black\" points=\"368.112,-158.931 372.979,-149.52 363.306,-153.842 368.112,-158.931\"/>\r\n",
       "</g>\r\n",
       "<!-- 12 -->\r\n",
       "<g id=\"node13\" class=\"node\"><title>12</title>\r\n",
       "<polygon fill=\"#399de5\" stroke=\"black\" points=\"449.5,-253.5 358.5,-253.5 358.5,-200.5 449.5,-200.5 449.5,-253.5\"/>\r\n",
       "<text text-anchor=\"middle\" x=\"404\" y=\"-238.3\" font-family=\"Times New Roman,serif\" font-size=\"14.00\">samples = 1</text>\r\n",
       "<text text-anchor=\"middle\" x=\"404\" y=\"-223.3\" font-family=\"Times New Roman,serif\" font-size=\"14.00\">value = [0, 1]</text>\r\n",
       "<text text-anchor=\"middle\" x=\"404\" y=\"-208.3\" font-family=\"Times New Roman,serif\" font-size=\"14.00\">class = 양성</text>\r\n",
       "</g>\r\n",
       "<!-- 11&#45;&gt;12 -->\r\n",
       "<g id=\"edge12\" class=\"edge\"><title>11&#45;&gt;12</title>\r\n",
       "<path fill=\"none\" stroke=\"black\" d=\"M443.169,-296.884C436.915,-285.886 429.939,-273.617 423.627,-262.517\"/>\r\n",
       "<polygon fill=\"black\" stroke=\"black\" points=\"426.497,-260.483 418.511,-253.52 420.412,-263.943 426.497,-260.483\"/>\r\n",
       "</g>\r\n",
       "<!-- 13 -->\r\n",
       "<g id=\"node14\" class=\"node\"><title>13</title>\r\n",
       "<polygon fill=\"#e58139\" stroke=\"black\" points=\"558.5,-253.5 467.5,-253.5 467.5,-200.5 558.5,-200.5 558.5,-253.5\"/>\r\n",
       "<text text-anchor=\"middle\" x=\"513\" y=\"-238.3\" font-family=\"Times New Roman,serif\" font-size=\"14.00\">samples = 5</text>\r\n",
       "<text text-anchor=\"middle\" x=\"513\" y=\"-223.3\" font-family=\"Times New Roman,serif\" font-size=\"14.00\">value = [5, 0]</text>\r\n",
       "<text text-anchor=\"middle\" x=\"513\" y=\"-208.3\" font-family=\"Times New Roman,serif\" font-size=\"14.00\">class = 악성</text>\r\n",
       "</g>\r\n",
       "<!-- 11&#45;&gt;13 -->\r\n",
       "<g id=\"edge13\" class=\"edge\"><title>11&#45;&gt;13</title>\r\n",
       "<path fill=\"none\" stroke=\"black\" d=\"M478.558,-296.884C484.057,-285.886 490.191,-273.617 495.742,-262.517\"/>\r\n",
       "<polygon fill=\"black\" stroke=\"black\" points=\"498.898,-264.029 500.24,-253.52 492.637,-260.899 498.898,-264.029\"/>\r\n",
       "</g>\r\n",
       "<!-- 15 -->\r\n",
       "<g id=\"node16\" class=\"node\"><title>15</title>\r\n",
       "<polygon fill=\"#399de5\" fill-opacity=\"0.666667\" stroke=\"black\" points=\"684,-365 580,-365 580,-297 684,-297 684,-365\"/>\r\n",
       "<text text-anchor=\"middle\" x=\"632\" y=\"-349.8\" font-family=\"Times New Roman,serif\" font-size=\"14.00\">X[23] &lt;= 964.4</text>\r\n",
       "<text text-anchor=\"middle\" x=\"632\" y=\"-334.8\" font-family=\"Times New Roman,serif\" font-size=\"14.00\">samples = 16</text>\r\n",
       "<text text-anchor=\"middle\" x=\"632\" y=\"-319.8\" font-family=\"Times New Roman,serif\" font-size=\"14.00\">value = [4, 12]</text>\r\n",
       "<text text-anchor=\"middle\" x=\"632\" y=\"-304.8\" font-family=\"Times New Roman,serif\" font-size=\"14.00\">class = 양성</text>\r\n",
       "</g>\r\n",
       "<!-- 14&#45;&gt;15 -->\r\n",
       "<g id=\"edge15\" class=\"edge\"><title>14&#45;&gt;15</title>\r\n",
       "<path fill=\"none\" stroke=\"black\" d=\"M632,-400.884C632,-392.778 632,-383.982 632,-375.472\"/>\r\n",
       "<polygon fill=\"black\" stroke=\"black\" points=\"635.5,-375.299 632,-365.299 628.5,-375.299 635.5,-375.299\"/>\r\n",
       "</g>\r\n",
       "<!-- 20 -->\r\n",
       "<g id=\"node21\" class=\"node\"><title>20</title>\r\n",
       "<polygon fill=\"#e58139\" fill-opacity=\"0.952941\" stroke=\"black\" points=\"955,-365 851,-365 851,-297 955,-297 955,-365\"/>\r\n",
       "<text text-anchor=\"middle\" x=\"903\" y=\"-349.8\" font-family=\"Times New Roman,serif\" font-size=\"14.00\">X[7] &lt;= 0.049</text>\r\n",
       "<text text-anchor=\"middle\" x=\"903\" y=\"-334.8\" font-family=\"Times New Roman,serif\" font-size=\"14.00\">samples = 151</text>\r\n",
       "<text text-anchor=\"middle\" x=\"903\" y=\"-319.8\" font-family=\"Times New Roman,serif\" font-size=\"14.00\">value = [144, 7]</text>\r\n",
       "<text text-anchor=\"middle\" x=\"903\" y=\"-304.8\" font-family=\"Times New Roman,serif\" font-size=\"14.00\">class = 악성</text>\r\n",
       "</g>\r\n",
       "<!-- 14&#45;&gt;20 -->\r\n",
       "<g id=\"edge20\" class=\"edge\"><title>14&#45;&gt;20</title>\r\n",
       "<path fill=\"none\" stroke=\"black\" d=\"M687.823,-412.989C732.521,-396.165 795.161,-372.589 841.334,-355.21\"/>\r\n",
       "<polygon fill=\"black\" stroke=\"black\" points=\"842.798,-358.399 850.925,-351.6 840.333,-351.847 842.798,-358.399\"/>\r\n",
       "</g>\r\n",
       "<!-- 16 -->\r\n",
       "<g id=\"node17\" class=\"node\"><title>16</title>\r\n",
       "<polygon fill=\"#399de5\" stroke=\"black\" points=\"675,-253.5 577,-253.5 577,-200.5 675,-200.5 675,-253.5\"/>\r\n",
       "<text text-anchor=\"middle\" x=\"626\" y=\"-238.3\" font-family=\"Times New Roman,serif\" font-size=\"14.00\">samples = 11</text>\r\n",
       "<text text-anchor=\"middle\" x=\"626\" y=\"-223.3\" font-family=\"Times New Roman,serif\" font-size=\"14.00\">value = [0, 11]</text>\r\n",
       "<text text-anchor=\"middle\" x=\"626\" y=\"-208.3\" font-family=\"Times New Roman,serif\" font-size=\"14.00\">class = 양성</text>\r\n",
       "</g>\r\n",
       "<!-- 15&#45;&gt;16 -->\r\n",
       "<g id=\"edge16\" class=\"edge\"><title>15&#45;&gt;16</title>\r\n",
       "<path fill=\"none\" stroke=\"black\" d=\"M630.052,-296.884C629.424,-286.216 628.727,-274.352 628.089,-263.519\"/>\r\n",
       "<polygon fill=\"black\" stroke=\"black\" points=\"631.582,-263.297 627.501,-253.52 624.595,-263.708 631.582,-263.297\"/>\r\n",
       "</g>\r\n",
       "<!-- 17 -->\r\n",
       "<g id=\"node18\" class=\"node\"><title>17</title>\r\n",
       "<polygon fill=\"#e58139\" fill-opacity=\"0.749020\" stroke=\"black\" points=\"790.5,-261 693.5,-261 693.5,-193 790.5,-193 790.5,-261\"/>\r\n",
       "<text text-anchor=\"middle\" x=\"742\" y=\"-245.8\" font-family=\"Times New Roman,serif\" font-size=\"14.00\">X[9] &lt;= 0.054</text>\r\n",
       "<text text-anchor=\"middle\" x=\"742\" y=\"-230.8\" font-family=\"Times New Roman,serif\" font-size=\"14.00\">samples = 5</text>\r\n",
       "<text text-anchor=\"middle\" x=\"742\" y=\"-215.8\" font-family=\"Times New Roman,serif\" font-size=\"14.00\">value = [4, 1]</text>\r\n",
       "<text text-anchor=\"middle\" x=\"742\" y=\"-200.8\" font-family=\"Times New Roman,serif\" font-size=\"14.00\">class = 악성</text>\r\n",
       "</g>\r\n",
       "<!-- 15&#45;&gt;17 -->\r\n",
       "<g id=\"edge17\" class=\"edge\"><title>15&#45;&gt;17</title>\r\n",
       "<path fill=\"none\" stroke=\"black\" d=\"M667.714,-296.884C677.608,-287.709 688.456,-277.65 698.73,-268.123\"/>\r\n",
       "<polygon fill=\"black\" stroke=\"black\" points=\"701.136,-270.665 706.089,-261.299 696.376,-265.532 701.136,-270.665\"/>\r\n",
       "</g>\r\n",
       "<!-- 18 -->\r\n",
       "<g id=\"node19\" class=\"node\"><title>18</title>\r\n",
       "<polygon fill=\"#399de5\" stroke=\"black\" points=\"678.5,-149.5 587.5,-149.5 587.5,-96.5 678.5,-96.5 678.5,-149.5\"/>\r\n",
       "<text text-anchor=\"middle\" x=\"633\" y=\"-134.3\" font-family=\"Times New Roman,serif\" font-size=\"14.00\">samples = 1</text>\r\n",
       "<text text-anchor=\"middle\" x=\"633\" y=\"-119.3\" font-family=\"Times New Roman,serif\" font-size=\"14.00\">value = [0, 1]</text>\r\n",
       "<text text-anchor=\"middle\" x=\"633\" y=\"-104.3\" font-family=\"Times New Roman,serif\" font-size=\"14.00\">class = 양성</text>\r\n",
       "</g>\r\n",
       "<!-- 17&#45;&gt;18 -->\r\n",
       "<g id=\"edge18\" class=\"edge\"><title>17&#45;&gt;18</title>\r\n",
       "<path fill=\"none\" stroke=\"black\" d=\"M706.611,-192.884C694.153,-181.226 680.17,-168.141 667.764,-156.532\"/>\r\n",
       "<polygon fill=\"black\" stroke=\"black\" points=\"669.964,-153.797 660.271,-149.52 665.181,-158.908 669.964,-153.797\"/>\r\n",
       "</g>\r\n",
       "<!-- 19 -->\r\n",
       "<g id=\"node20\" class=\"node\"><title>19</title>\r\n",
       "<polygon fill=\"#e58139\" stroke=\"black\" points=\"787.5,-149.5 696.5,-149.5 696.5,-96.5 787.5,-96.5 787.5,-149.5\"/>\r\n",
       "<text text-anchor=\"middle\" x=\"742\" y=\"-134.3\" font-family=\"Times New Roman,serif\" font-size=\"14.00\">samples = 4</text>\r\n",
       "<text text-anchor=\"middle\" x=\"742\" y=\"-119.3\" font-family=\"Times New Roman,serif\" font-size=\"14.00\">value = [4, 0]</text>\r\n",
       "<text text-anchor=\"middle\" x=\"742\" y=\"-104.3\" font-family=\"Times New Roman,serif\" font-size=\"14.00\">class = 악성</text>\r\n",
       "</g>\r\n",
       "<!-- 17&#45;&gt;19 -->\r\n",
       "<g id=\"edge19\" class=\"edge\"><title>17&#45;&gt;19</title>\r\n",
       "<path fill=\"none\" stroke=\"black\" d=\"M742,-192.884C742,-182.326 742,-170.597 742,-159.854\"/>\r\n",
       "<polygon fill=\"black\" stroke=\"black\" points=\"745.5,-159.52 742,-149.52 738.5,-159.52 745.5,-159.52\"/>\r\n",
       "</g>\r\n",
       "<!-- 21 -->\r\n",
       "<g id=\"node22\" class=\"node\"><title>21</title>\r\n",
       "<polygon fill=\"#e58139\" fill-opacity=\"0.333333\" stroke=\"black\" points=\"951.5,-261 854.5,-261 854.5,-193 951.5,-193 951.5,-261\"/>\r\n",
       "<text text-anchor=\"middle\" x=\"903\" y=\"-245.8\" font-family=\"Times New Roman,serif\" font-size=\"14.00\">X[17] &lt;= 0.01</text>\r\n",
       "<text text-anchor=\"middle\" x=\"903\" y=\"-230.8\" font-family=\"Times New Roman,serif\" font-size=\"14.00\">samples = 15</text>\r\n",
       "<text text-anchor=\"middle\" x=\"903\" y=\"-215.8\" font-family=\"Times New Roman,serif\" font-size=\"14.00\">value = [9, 6]</text>\r\n",
       "<text text-anchor=\"middle\" x=\"903\" y=\"-200.8\" font-family=\"Times New Roman,serif\" font-size=\"14.00\">class = 악성</text>\r\n",
       "</g>\r\n",
       "<!-- 20&#45;&gt;21 -->\r\n",
       "<g id=\"edge21\" class=\"edge\"><title>20&#45;&gt;21</title>\r\n",
       "<path fill=\"none\" stroke=\"black\" d=\"M903,-296.884C903,-288.778 903,-279.982 903,-271.472\"/>\r\n",
       "<polygon fill=\"black\" stroke=\"black\" points=\"906.5,-271.299 903,-261.299 899.5,-271.299 906.5,-271.299\"/>\r\n",
       "</g>\r\n",
       "<!-- 24 -->\r\n",
       "<g id=\"node25\" class=\"node\"><title>24</title>\r\n",
       "<polygon fill=\"#e58139\" fill-opacity=\"0.992157\" stroke=\"black\" points=\"1121,-261 1017,-261 1017,-193 1121,-193 1121,-261\"/>\r\n",
       "<text text-anchor=\"middle\" x=\"1069\" y=\"-245.8\" font-family=\"Times New Roman,serif\" font-size=\"14.00\">X[24] &lt;= 0.096</text>\r\n",
       "<text text-anchor=\"middle\" x=\"1069\" y=\"-230.8\" font-family=\"Times New Roman,serif\" font-size=\"14.00\">samples = 136</text>\r\n",
       "<text text-anchor=\"middle\" x=\"1069\" y=\"-215.8\" font-family=\"Times New Roman,serif\" font-size=\"14.00\">value = [135, 1]</text>\r\n",
       "<text text-anchor=\"middle\" x=\"1069\" y=\"-200.8\" font-family=\"Times New Roman,serif\" font-size=\"14.00\">class = 악성</text>\r\n",
       "</g>\r\n",
       "<!-- 20&#45;&gt;24 -->\r\n",
       "<g id=\"edge24\" class=\"edge\"><title>20&#45;&gt;24</title>\r\n",
       "<path fill=\"none\" stroke=\"black\" d=\"M955.068,-298.006C971.829,-287.708 990.553,-276.202 1007.9,-265.542\"/>\r\n",
       "<polygon fill=\"black\" stroke=\"black\" points=\"1010.14,-268.273 1016.83,-260.055 1006.48,-262.309 1010.14,-268.273\"/>\r\n",
       "</g>\r\n",
       "<!-- 22 -->\r\n",
       "<g id=\"node23\" class=\"node\"><title>22</title>\r\n",
       "<polygon fill=\"#e58139\" stroke=\"black\" points=\"896.5,-149.5 805.5,-149.5 805.5,-96.5 896.5,-96.5 896.5,-149.5\"/>\r\n",
       "<text text-anchor=\"middle\" x=\"851\" y=\"-134.3\" font-family=\"Times New Roman,serif\" font-size=\"14.00\">samples = 9</text>\r\n",
       "<text text-anchor=\"middle\" x=\"851\" y=\"-119.3\" font-family=\"Times New Roman,serif\" font-size=\"14.00\">value = [9, 0]</text>\r\n",
       "<text text-anchor=\"middle\" x=\"851\" y=\"-104.3\" font-family=\"Times New Roman,serif\" font-size=\"14.00\">class = 악성</text>\r\n",
       "</g>\r\n",
       "<!-- 21&#45;&gt;22 -->\r\n",
       "<g id=\"edge22\" class=\"edge\"><title>21&#45;&gt;22</title>\r\n",
       "<path fill=\"none\" stroke=\"black\" d=\"M886.117,-192.884C880.51,-181.886 874.256,-169.617 868.597,-158.517\"/>\r\n",
       "<polygon fill=\"black\" stroke=\"black\" points=\"871.67,-156.839 864.01,-149.52 865.434,-160.019 871.67,-156.839\"/>\r\n",
       "</g>\r\n",
       "<!-- 23 -->\r\n",
       "<g id=\"node24\" class=\"node\"><title>23</title>\r\n",
       "<polygon fill=\"#399de5\" stroke=\"black\" points=\"1005.5,-149.5 914.5,-149.5 914.5,-96.5 1005.5,-96.5 1005.5,-149.5\"/>\r\n",
       "<text text-anchor=\"middle\" x=\"960\" y=\"-134.3\" font-family=\"Times New Roman,serif\" font-size=\"14.00\">samples = 6</text>\r\n",
       "<text text-anchor=\"middle\" x=\"960\" y=\"-119.3\" font-family=\"Times New Roman,serif\" font-size=\"14.00\">value = [0, 6]</text>\r\n",
       "<text text-anchor=\"middle\" x=\"960\" y=\"-104.3\" font-family=\"Times New Roman,serif\" font-size=\"14.00\">class = 양성</text>\r\n",
       "</g>\r\n",
       "<!-- 21&#45;&gt;23 -->\r\n",
       "<g id=\"edge23\" class=\"edge\"><title>21&#45;&gt;23</title>\r\n",
       "<path fill=\"none\" stroke=\"black\" d=\"M921.506,-192.884C927.652,-181.886 934.508,-169.617 940.711,-158.517\"/>\r\n",
       "<polygon fill=\"black\" stroke=\"black\" points=\"943.916,-159.957 945.739,-149.52 937.805,-156.542 943.916,-159.957\"/>\r\n",
       "</g>\r\n",
       "<!-- 25 -->\r\n",
       "<g id=\"node26\" class=\"node\"><title>25</title>\r\n",
       "<polygon fill=\"#399de5\" stroke=\"black\" points=\"1114.5,-149.5 1023.5,-149.5 1023.5,-96.5 1114.5,-96.5 1114.5,-149.5\"/>\r\n",
       "<text text-anchor=\"middle\" x=\"1069\" y=\"-134.3\" font-family=\"Times New Roman,serif\" font-size=\"14.00\">samples = 1</text>\r\n",
       "<text text-anchor=\"middle\" x=\"1069\" y=\"-119.3\" font-family=\"Times New Roman,serif\" font-size=\"14.00\">value = [0, 1]</text>\r\n",
       "<text text-anchor=\"middle\" x=\"1069\" y=\"-104.3\" font-family=\"Times New Roman,serif\" font-size=\"14.00\">class = 양성</text>\r\n",
       "</g>\r\n",
       "<!-- 24&#45;&gt;25 -->\r\n",
       "<g id=\"edge25\" class=\"edge\"><title>24&#45;&gt;25</title>\r\n",
       "<path fill=\"none\" stroke=\"black\" d=\"M1069,-192.884C1069,-182.326 1069,-170.597 1069,-159.854\"/>\r\n",
       "<polygon fill=\"black\" stroke=\"black\" points=\"1072.5,-159.52 1069,-149.52 1065.5,-159.52 1072.5,-159.52\"/>\r\n",
       "</g>\r\n",
       "<!-- 26 -->\r\n",
       "<g id=\"node27\" class=\"node\"><title>26</title>\r\n",
       "<polygon fill=\"#e58139\" stroke=\"black\" points=\"1237,-149.5 1133,-149.5 1133,-96.5 1237,-96.5 1237,-149.5\"/>\r\n",
       "<text text-anchor=\"middle\" x=\"1185\" y=\"-134.3\" font-family=\"Times New Roman,serif\" font-size=\"14.00\">samples = 135</text>\r\n",
       "<text text-anchor=\"middle\" x=\"1185\" y=\"-119.3\" font-family=\"Times New Roman,serif\" font-size=\"14.00\">value = [135, 0]</text>\r\n",
       "<text text-anchor=\"middle\" x=\"1185\" y=\"-104.3\" font-family=\"Times New Roman,serif\" font-size=\"14.00\">class = 악성</text>\r\n",
       "</g>\r\n",
       "<!-- 24&#45;&gt;26 -->\r\n",
       "<g id=\"edge26\" class=\"edge\"><title>24&#45;&gt;26</title>\r\n",
       "<path fill=\"none\" stroke=\"black\" d=\"M1106.66,-192.884C1120.04,-181.116 1135.08,-167.894 1148.38,-156.203\"/>\r\n",
       "<polygon fill=\"black\" stroke=\"black\" points=\"1150.78,-158.752 1155.98,-149.52 1146.16,-153.495 1150.78,-158.752\"/>\r\n",
       "</g>\r\n",
       "</g>\r\n",
       "</svg>\r\n"
      ],
      "text/plain": [
       "<graphviz.files.Source at 0x278b4c73128>"
      ]
     },
     "metadata": {},
     "output_type": "display_data"
    }
   ],
   "source": [
    "import graphviz\n",
    "\n",
    "with open('tree.dot', encoding='utf8') as f:\n",
    "    dot_graph = f.read()\n",
    "display(graphviz.Source(dot_graph))"
   ]
  },
  {
   "cell_type": "markdown",
   "metadata": {},
   "source": [
    "#### 트리의 특성 중요도: 각 특성이 분류에 기여한 정도\n",
    "feature_importances_, 이 값이 0이면 분류에서 사용되지 않았다는 뜻이나, 다른 특성과 겹쳐서 그럴 수도 있으므로 특성이 의미 없다는 것을 나타내지는 않는다"
   ]
  },
  {
   "cell_type": "code",
   "execution_count": 13,
   "metadata": {},
   "outputs": [
    {
     "name": "stdout",
     "output_type": "stream",
     "text": [
      "특성 중요도: \n",
      "[0.    0.022 0.    0.    0.    0.    0.    0.021 0.    0.008 0.003 0.\n",
      " 0.    0.007 0.    0.    0.    0.036 0.    0.    0.    0.081 0.743 0.022\n",
      " 0.01  0.    0.    0.047 0.    0.   ]\n",
      "\n",
      "mean radius: 0.000\n",
      "mean texture: 0.022\n",
      "mean perimeter: 0.000\n",
      "mean area: 0.000\n",
      "mean smoothness: 0.000\n",
      "mean compactness: 0.000\n",
      "mean concavity: 0.000\n",
      "mean concave points: 0.021\n",
      "mean symmetry: 0.000\n",
      "mean fractal dimension: 0.008\n",
      "radius error: 0.003\n",
      "texture error: 0.000\n",
      "perimeter error: 0.000\n",
      "area error: 0.007\n",
      "smoothness error: 0.000\n",
      "compactness error: 0.000\n",
      "concavity error: 0.000\n",
      "concave points error: 0.036\n",
      "symmetry error: 0.000\n",
      "fractal dimension error: 0.000\n",
      "worst radius: 0.000\n",
      "worst texture: 0.081\n",
      "worst perimeter: 0.743\n",
      "worst area: 0.022\n",
      "worst smoothness: 0.010\n",
      "worst compactness: 0.000\n",
      "worst concavity: 0.000\n",
      "worst concave points: 0.047\n",
      "worst symmetry: 0.000\n",
      "worst fractal dimension: 0.000\n"
     ]
    }
   ],
   "source": [
    "import numpy as np\n",
    "np.set_printoptions(precision=3) #값이 소수점 이하 둘째자리까지만 나오도록 세팅\n",
    "\n",
    "print('특성 중요도: \\n{}\\n'.format(tree.feature_importances_))\n",
    "\n",
    "for feature, value in zip(cancer.feature_names, tree.feature_importances_):\n",
    "    print('%s: %.3f' % (feature, value))"
   ]
  },
  {
   "cell_type": "markdown",
   "metadata": {},
   "source": [
    "#### Lasso와의 비교\n",
    "\n",
    "Lasso도 영향을 미치지 않는 특성의 계수를 0으로 만드므로 비교가 가능함"
   ]
  },
  {
   "cell_type": "code",
   "execution_count": 14,
   "metadata": {},
   "outputs": [
    {
     "name": "stdout",
     "output_type": "stream",
     "text": [
      "Train set score: 0.958\n",
      "Test set score: 0.944\n"
     ]
    },
    {
     "name": "stderr",
     "output_type": "stream",
     "text": [
      "C:\\Users\\titan\\Anaconda3\\lib\\site-packages\\sklearn\\svm\\base.py:922: ConvergenceWarning: Liblinear failed to converge, increase the number of iterations.\n",
      "  \"the number of iterations.\", ConvergenceWarning)\n"
     ]
    }
   ],
   "source": [
    "from sklearn.linear_model import LogisticRegression\n",
    "\n",
    "LR_clf = LogisticRegression(penalty='l1', solver='liblinear')\n",
    "LR_clf.fit(X_train, y_train)\n",
    "\n",
    "print('Train set score: {:.3f}'.format(LR_clf.score(X_train, y_train)))\n",
    "print('Test set score: {:.3f}'.format(LR_clf.score(X_test, y_test)))"
   ]
  },
  {
   "cell_type": "code",
   "execution_count": 15,
   "metadata": {},
   "outputs": [
    {
     "name": "stdout",
     "output_type": "stream",
     "text": [
      "mean radius: 0.000 2.986\n",
      "mean texture: 0.022 0.036\n",
      "mean perimeter: 0.000 -0.124\n",
      "mean area: 0.000 -0.009\n",
      "mean smoothness: 0.000 0.000\n",
      "mean compactness: 0.000 0.000\n",
      "mean concavity: 0.000 0.000\n",
      "mean concave points: 0.021 0.000\n",
      "mean symmetry: 0.000 0.000\n",
      "mean fractal dimension: 0.008 0.000\n",
      "radius error: 0.003 0.000\n",
      "texture error: 0.000 0.000\n",
      "perimeter error: 0.000 0.000\n",
      "area error: 0.007 -0.034\n",
      "smoothness error: 0.000 0.000\n",
      "compactness error: 0.000 0.000\n",
      "concavity error: 0.000 0.000\n",
      "concave points error: 0.036 0.000\n",
      "symmetry error: 0.000 0.000\n",
      "fractal dimension error: 0.000 0.000\n",
      "worst radius: 0.000 0.666\n",
      "worst texture: 0.081 -0.203\n",
      "worst perimeter: 0.743 -0.097\n",
      "worst area: 0.022 -0.023\n",
      "worst smoothness: 0.010 0.000\n",
      "worst compactness: 0.000 0.000\n",
      "worst concavity: 0.000 -3.833\n",
      "worst concave points: 0.047 0.000\n",
      "worst symmetry: 0.000 0.000\n",
      "worst fractal dimension: 0.000 0.000\n"
     ]
    }
   ],
   "source": [
    "for feature, tvalue, lvalue in zip(cancer.feature_names, tree.feature_importances_, LR_clf.coef_[0]):\n",
    "    print('%s: %.3f %.3f' % (feature, tvalue, lvalue))"
   ]
  },
  {
   "cell_type": "markdown",
   "metadata": {},
   "source": [
    "#### 결정 트리의 복잡도 제어\n",
    "트리의 깊이가 무한하게 깊어지지 않고 적절한 선에서 멈추도록 제한"
   ]
  },
  {
   "cell_type": "code",
   "execution_count": 16,
   "metadata": {},
   "outputs": [
    {
     "name": "stdout",
     "output_type": "stream",
     "text": [
      "Decision Tree train set score: 0.998\n",
      "Decision Tree test set score: 0.951\n"
     ]
    }
   ],
   "source": [
    "tree = DecisionTreeClassifier(max_depth=4, random_state=7)\n",
    "tree.fit(X_train, y_train)\n",
    "print('Decision Tree train set score: {:.3f}'.format(tree.score(X_train, y_train)))\n",
    "print('Decision Tree test set score: {:.3f}'.format(tree.score(X_test, y_test)))"
   ]
  },
  {
   "cell_type": "markdown",
   "metadata": {},
   "source": [
    "#### Decision tree의 중요한 특성\n",
    "훈련 데이터에 과대적합되는 경향이 있다. <br>\n",
    "알고리즘의 특성 상 외삽(extrapolation), 즉 훈련 데이터 범위 밖의 포인트에 대해서는 예측을 할 수 없다."
   ]
  },
  {
   "cell_type": "markdown",
   "metadata": {},
   "source": [
    "### 5. 랜덤 포레스트 (Random Forest)\n",
    "\n",
    "https://ko.wikipedia.org/wiki/%EB%9E%9C%EB%8D%A4_%ED%8F%AC%EB%A0%88%EC%8A%A4%ED%8A%B8\n",
    "\n",
    "**앙상블** : 여러 머신러닝 모델을 연결하여 더 강력한 모델을 만드는 기법<br>\n",
    "기본적으로 조금씩 다른 여러 결정 트리의 묶음 <br>\n",
    "서로 다른 방향으로 과대적합된 트리를 많이 만들어 그 결과를 평균을 냄으로써 과대적합을 줄임\n",
    "\n",
    "**부트스트랩 샘플** : n개의 data에서 중복을 허용하여 n개를 추출<br>\n",
    "부트스트랩 샘플을 여러 번 (트리의 갯수 만큼) 수행하면 서로 다른 데이터로 이루어진 여러 샘플을 만들 수 있음<br>\n",
    "각 트리는 서로 다른 데이터를 사용할 뿐 아니라, 서로 다른 특성 집합을 사용하도록 함<br>\n",
    "이 때 사용할 특성 집합의 수는 max_features로 조정하고 각 트리마다 무작위로 선택<br>\n",
    "max_features는 전체 특성 수보다는 적게 설정해야 서로 다른 트리를 만들어낼 수 있음"
   ]
  },
  {
   "cell_type": "code",
   "execution_count": 17,
   "metadata": {},
   "outputs": [
    {
     "name": "stdout",
     "output_type": "stream",
     "text": [
      "Random Forest train set score: 0.993\n",
      "Random Forest test set score: 0.937\n"
     ]
    }
   ],
   "source": [
    "from sklearn.ensemble import RandomForestClassifier\n",
    "\n",
    "forest = RandomForestClassifier(n_estimators=5, random_state=7)\n",
    "forest.fit(X_train, y_train)\n",
    "\n",
    "print('Random Forest train set score: {:.3f}'.format(forest.score(X_train, y_train)))\n",
    "print('Random Forest test set score: {:.3f}'.format(forest.score(X_test, y_test)))"
   ]
  },
  {
   "cell_type": "markdown",
   "metadata": {},
   "source": [
    "첫째 tree의 특성 중요도를 확인"
   ]
  },
  {
   "cell_type": "code",
   "execution_count": 18,
   "metadata": {},
   "outputs": [
    {
     "data": {
      "text/plain": [
       "array([0.   , 0.   , 0.041, 0.681, 0.007, 0.057, 0.   , 0.007, 0.001,\n",
       "       0.008, 0.008, 0.   , 0.   , 0.   , 0.   , 0.   , 0.   , 0.003,\n",
       "       0.   , 0.   , 0.016, 0.   , 0.06 , 0.02 , 0.   , 0.   , 0.   ,\n",
       "       0.078, 0.   , 0.01 ])"
      ]
     },
     "execution_count": 18,
     "metadata": {},
     "output_type": "execute_result"
    }
   ],
   "source": [
    "forest.estimators_[0].feature_importances_"
   ]
  },
  {
   "cell_type": "code",
   "execution_count": 19,
   "metadata": {},
   "outputs": [
    {
     "data": {
      "text/plain": [
       "array([0.   , 0.01 , 0.   , 0.611, 0.   , 0.025, 0.133, 0.   , 0.   ,\n",
       "       0.   , 0.   , 0.01 , 0.   , 0.01 , 0.001, 0.   , 0.   , 0.01 ,\n",
       "       0.   , 0.061, 0.01 , 0.014, 0.   , 0.   , 0.   , 0.01 , 0.   ,\n",
       "       0.078, 0.018, 0.   ])"
      ]
     },
     "execution_count": 19,
     "metadata": {},
     "output_type": "execute_result"
    }
   ],
   "source": [
    "forest.estimators_[1].feature_importances_"
   ]
  },
  {
   "cell_type": "markdown",
   "metadata": {},
   "source": [
    "전체 tree의 특성 중요도들을 비교"
   ]
  },
  {
   "cell_type": "code",
   "execution_count": 20,
   "metadata": {},
   "outputs": [
    {
     "data": {
      "text/plain": [
       "array([[0.000e+00, 0.000e+00, 6.903e-01, 0.000e+00, 0.000e+00],\n",
       "       [0.000e+00, 9.521e-03, 6.640e-03, 1.250e-02, 0.000e+00],\n",
       "       [4.126e-02, 0.000e+00, 0.000e+00, 0.000e+00, 0.000e+00],\n",
       "       [6.811e-01, 6.113e-01, 0.000e+00, 0.000e+00, 5.787e-02],\n",
       "       [6.839e-03, 0.000e+00, 0.000e+00, 0.000e+00, 0.000e+00],\n",
       "       [5.747e-02, 2.488e-02, 0.000e+00, 0.000e+00, 0.000e+00],\n",
       "       [0.000e+00, 1.328e-01, 6.640e-03, 8.684e-03, 0.000e+00],\n",
       "       [7.392e-03, 0.000e+00, 1.258e-01, 5.710e-02, 0.000e+00],\n",
       "       [1.368e-03, 0.000e+00, 0.000e+00, 0.000e+00, 9.153e-03],\n",
       "       [8.378e-03, 0.000e+00, 0.000e+00, 0.000e+00, 0.000e+00],\n",
       "       [8.207e-03, 0.000e+00, 0.000e+00, 0.000e+00, 5.107e-02],\n",
       "       [0.000e+00, 1.039e-02, 0.000e+00, 0.000e+00, 9.763e-03],\n",
       "       [0.000e+00, 0.000e+00, 1.296e-02, 7.582e-03, 0.000e+00],\n",
       "       [0.000e+00, 1.007e-02, 0.000e+00, 0.000e+00, 4.625e-02],\n",
       "       [0.000e+00, 7.046e-04, 0.000e+00, 0.000e+00, 5.424e-03],\n",
       "       [0.000e+00, 0.000e+00, 0.000e+00, 0.000e+00, 0.000e+00],\n",
       "       [0.000e+00, 0.000e+00, 0.000e+00, 0.000e+00, 0.000e+00],\n",
       "       [2.736e-03, 1.039e-02, 0.000e+00, 0.000e+00, 0.000e+00],\n",
       "       [0.000e+00, 0.000e+00, 0.000e+00, 0.000e+00, 0.000e+00],\n",
       "       [0.000e+00, 6.077e-02, 0.000e+00, 0.000e+00, 0.000e+00],\n",
       "       [1.641e-02, 9.588e-03, 3.299e-02, 9.183e-03, 3.616e-03],\n",
       "       [0.000e+00, 1.385e-02, 7.064e-02, 6.080e-02, 3.663e-02],\n",
       "       [6.010e-02, 0.000e+00, 0.000e+00, 0.000e+00, 0.000e+00],\n",
       "       [2.020e-02, 0.000e+00, 9.920e-03, 7.549e-01, 0.000e+00],\n",
       "       [0.000e+00, 0.000e+00, 0.000e+00, 1.250e-02, 0.000e+00],\n",
       "       [0.000e+00, 1.011e-02, 3.479e-02, 6.876e-02, 0.000e+00],\n",
       "       [0.000e+00, 0.000e+00, 0.000e+00, 0.000e+00, 0.000e+00],\n",
       "       [7.828e-02, 7.799e-02, 9.297e-03, 8.013e-03, 7.628e-01],\n",
       "       [0.000e+00, 1.758e-02, 0.000e+00, 0.000e+00, 1.743e-02],\n",
       "       [1.022e-02, 0.000e+00, 0.000e+00, 0.000e+00, 0.000e+00]])"
      ]
     },
     "execution_count": 20,
     "metadata": {},
     "output_type": "execute_result"
    }
   ],
   "source": [
    "features = np.asarray([tree.feature_importances_ for tree in forest.estimators_])\n",
    "features.T"
   ]
  },
  {
   "cell_type": "markdown",
   "metadata": {},
   "source": [
    "전체 tree들의 특성 중요도를 종합한 random forest의 특성 중요도<br>\n",
    "개별적인 특성 중요도보다 신뢰할 수 있음"
   ]
  },
  {
   "cell_type": "code",
   "execution_count": 21,
   "metadata": {},
   "outputs": [
    {
     "data": {
      "text/plain": [
       "array([0.138, 0.006, 0.008, 0.27 , 0.001, 0.016, 0.03 , 0.038, 0.002,\n",
       "       0.002, 0.012, 0.004, 0.004, 0.011, 0.001, 0.   , 0.   , 0.003,\n",
       "       0.   , 0.012, 0.014, 0.036, 0.012, 0.157, 0.003, 0.023, 0.   ,\n",
       "       0.187, 0.007, 0.002])"
      ]
     },
     "execution_count": 21,
     "metadata": {},
     "output_type": "execute_result"
    }
   ],
   "source": [
    "forest.feature_importances_"
   ]
  },
  {
   "cell_type": "markdown",
   "metadata": {},
   "source": [
    "랜덤 포레스트의 결과와 Ridge Regression의 결과를 비교"
   ]
  },
  {
   "cell_type": "code",
   "execution_count": 22,
   "metadata": {},
   "outputs": [
    {
     "data": {
      "text/plain": [
       "LogisticRegression(C=1.0, class_weight=None, dual=False, fit_intercept=True,\n",
       "          intercept_scaling=1, max_iter=1000, multi_class='warn',\n",
       "          n_jobs=None, penalty='l2', random_state=None, solver='liblinear',\n",
       "          tol=0.0001, verbose=0, warm_start=False)"
      ]
     },
     "execution_count": 22,
     "metadata": {},
     "output_type": "execute_result"
    }
   ],
   "source": [
    "forest = RandomForestClassifier(n_estimators=100, random_state=7)\n",
    "forest.fit(X_train, y_train)\n",
    "\n",
    "LR_clf = LogisticRegression(penalty='l2', max_iter=1000, solver='liblinear')\n",
    "LR_clf.fit(X_train, y_train)"
   ]
  },
  {
   "cell_type": "code",
   "execution_count": 23,
   "metadata": {},
   "outputs": [
    {
     "name": "stdout",
     "output_type": "stream",
     "text": [
      "mean radius: 0.043 1.952\n",
      "mean texture: 0.022 0.112\n",
      "mean perimeter: 0.083 0.093\n",
      "mean area: 0.063 0.001\n",
      "mean smoothness: 0.006 0.106\n",
      "mean compactness: 0.008 0.351\n",
      "mean concavity: 0.041 0.575\n",
      "mean concave points: 0.066 0.292\n",
      "mean symmetry: 0.004 0.225\n",
      "mean fractal dimension: 0.003 0.010\n",
      "radius error: 0.016 0.017\n",
      "texture error: 0.002 0.417\n",
      "perimeter error: 0.009 0.198\n",
      "area error: 0.024 0.062\n",
      "smoothness error: 0.003 0.015\n",
      "compactness error: 0.003 0.011\n",
      "concavity error: 0.010 0.081\n",
      "concave points error: 0.002 0.044\n",
      "symmetry error: 0.003 0.044\n",
      "fractal dimension error: 0.006 0.005\n",
      "worst radius: 0.156 1.499\n",
      "worst texture: 0.023 0.266\n",
      "worst perimeter: 0.119 0.136\n",
      "worst area: 0.091 0.027\n",
      "worst smoothness: 0.013 0.186\n",
      "worst compactness: 0.012 0.915\n",
      "worst concavity: 0.053 1.373\n",
      "worst concave points: 0.101 0.580\n",
      "worst symmetry: 0.008 0.520\n",
      "worst fractal dimension: 0.006 0.061\n"
     ]
    }
   ],
   "source": [
    "for feature, tvalue, lvalue in zip(cancer.feature_names, forest.feature_importances_, LR_clf.coef_[0]):\n",
    "    print('%s: %.3f %.3f' % (feature, tvalue, abs(lvalue)))"
   ]
  },
  {
   "cell_type": "code",
   "execution_count": 24,
   "metadata": {},
   "outputs": [
    {
     "name": "stdout",
     "output_type": "stream",
     "text": [
      "Random Forest train set score: 1.000\n",
      "Random Forest test set score: 0.958\n"
     ]
    }
   ],
   "source": [
    "print('Random Forest train set score: {:.3f}'.format(forest.score(X_train, y_train)))\n",
    "print('Random Forest test set score: {:.3f}'.format(forest.score(X_test, y_test)))"
   ]
  },
  {
   "cell_type": "markdown",
   "metadata": {},
   "source": [
    "### 6. 그래디언트 부스팅 회귀 트리 (Gradient Boosting)\n",
    "\n",
    "이전 트리의 오차를 보완하는 방식으로 순차적으로 트리를 생성<br>\n",
    "가장 강력하고 널리 사용하는 모델 중 하나<br>\n",
    "트리 기반 모델은 특성상 희소한 고차원 데이터에는 잘 작동하지 않음<br>\n",
    "**중요 매개변수**: n_estimators, learning_rate, max_depth"
   ]
  },
  {
   "cell_type": "code",
   "execution_count": 25,
   "metadata": {},
   "outputs": [
    {
     "name": "stdout",
     "output_type": "stream",
     "text": [
      "Random Forest train set score: 1.000\n",
      "Random Forest test set score: 0.965\n"
     ]
    }
   ],
   "source": [
    "from sklearn.ensemble import GradientBoostingClassifier\n",
    "\n",
    "gb = GradientBoostingClassifier(random_state=7)\n",
    "gb.fit(X_train, y_train)\n",
    "\n",
    "print('Random Forest train set score: {:.3f}'.format(gb.score(X_train, y_train)))\n",
    "print('Random Forest test set score: {:.3f}'.format(gb.score(X_test, y_test)))"
   ]
  },
  {
   "cell_type": "code",
   "execution_count": 26,
   "metadata": {},
   "outputs": [
    {
     "data": {
      "text/plain": [
       "array([9.042e-05, 1.860e-02, 8.843e-04, 1.227e-03, 3.070e-04, 4.505e-04,\n",
       "       9.946e-04, 4.371e-02, 1.931e-03, 1.586e-04, 2.072e-03, 7.531e-04,\n",
       "       8.436e-04, 6.272e-03, 5.198e-05, 1.458e-03, 1.612e-03, 1.771e-05,\n",
       "       3.399e-05, 1.565e-03, 2.182e-01, 6.313e-02, 5.148e-01, 2.594e-02,\n",
       "       3.475e-03, 1.996e-03, 1.604e-02, 7.287e-02, 5.085e-04, 2.703e-05])"
      ]
     },
     "execution_count": 26,
     "metadata": {},
     "output_type": "execute_result"
    }
   ],
   "source": [
    "gb.feature_importances_"
   ]
  },
  {
   "cell_type": "markdown",
   "metadata": {},
   "source": [
    "### 7. Support Vector Machine (SVM)\n",
    "https://en.wikipedia.org/wiki/Support_vector_machine\n",
    "\n",
    "In machine learning, **support vector machines** (SVMs, also support vector networks) are supervised learning models with associated learning algorithms that analyze data used for classification and regression analysis. Given a set of training examples, each marked as belonging to one or the other of two categories, an SVM training algorithm builds a model that assigns new examples to one category or the other, making it a non-probabilistic binary linear classifier (although methods such as Platt scaling exist to use SVM in a probabilistic classification setting). An SVM model is a representation of the examples as points in space, mapped so that the examples of the separate categories are **divided by a clear gap that is as wide as possible**. New examples are then mapped into that same space and predicted to belong to a category based on which side of the gap they fall.\n",
    "\n",
    "![](optimal-hyperplane.png)\n",
    "\n",
    "https://medium.com/machine-learning-101/chapter-2-svm-support-vector-machine-theory-f0812effc72\n",
    "\n",
    "https://www.analyticsvidhya.com/blog/2017/09/understaing-support-vector-machine-example-code/\n",
    "\n",
    "\n",
    "### Sklearn SVC (Support Vector Classification)\n",
    "http://scikit-learn.org/stable/modules/generated/sklearn.svm.SVC.html#sklearn.svm.SVC\n",
    "\n",
    "![](http://scikit-learn.org/stable/_images/sphx_glr_plot_iris_001.png)"
   ]
  },
  {
   "cell_type": "markdown",
   "metadata": {},
   "source": [
    "https://ko.wikipedia.org/wiki/%EC%84%9C%ED%8F%AC%ED%8A%B8_%EB%B2%A1%ED%84%B0_%EB%A8%B8%EC%8B%A0\n",
    "\n",
    "서포트 벡터 머신(support vector machine, SVM[1].[2])은 기계 학습의 분야 중 하나로 패턴 인식, 자료 분석을 위한 지도 학습 모델이며, 주로 분류와 회귀 분석을 위해 사용한다. 두 카테고리 중 어느 하나에 속한 데이터의 집합이 주어졌을 때, SVM 알고리즘은 주어진 데이터 집합을 바탕으로 하여 새로운 데이터가 어느 카테고리에 속할지 판단하는 비확률적 이진 선형 분류 모델을 만든다. 만들어진 분류 모델은 데이터가 사상된 공간에서 경계로 표현되는데 SVM 알고리즘은 그 중 가장 큰 폭을 가진 경계를 찾는 알고리즘이다. SVM은 선형 분류와 더불어 비선형 분류에서도 사용될 수 있다. 비선형 분류를 하기 위해서 주어진 데이터를 고차원 특징 공간으로 사상하는 작업이 필요한데, 이를 효율적으로 하기 위해 커널 트릭을 사용하기도 한다."
   ]
  },
  {
   "cell_type": "code",
   "execution_count": 27,
   "metadata": {},
   "outputs": [
    {
     "data": {
      "text/plain": [
       "SVC(C=1.0, cache_size=200, class_weight=None, coef0=0.0,\n",
       "  decision_function_shape='ovr', degree=3, gamma='auto', kernel='rbf',\n",
       "  max_iter=-1, probability=False, random_state=None, shrinking=True,\n",
       "  tol=0.001, verbose=False)"
      ]
     },
     "execution_count": 27,
     "metadata": {},
     "output_type": "execute_result"
    }
   ],
   "source": [
    "from sklearn import svm\n",
    "svm_clf = svm.SVC(gamma='auto')\n",
    "svm_clf.fit(X_train, y_train) \n",
    "svm_clf"
   ]
  },
  {
   "cell_type": "code",
   "execution_count": 28,
   "metadata": {},
   "outputs": [
    {
     "name": "stdout",
     "output_type": "stream",
     "text": [
      "SVM train set score: 1.000\n",
      "SVM test set score: 0.615\n"
     ]
    }
   ],
   "source": [
    "print('SVM train set score: {:.3f}'.format(svm_clf.score(X_train, y_train)))\n",
    "print('SVM test set score: {:.3f}'.format(svm_clf.score(X_test, y_test)))"
   ]
  },
  {
   "cell_type": "markdown",
   "metadata": {},
   "source": [
    "#### Scaling의 효과\n",
    "어떤 종류의 알고리즘은 scaling에 매우 민감한데, SVM의 그런 알고리즘 중 하나임 <br>\n",
    "따라서 SVM을 쓰고자 할 때는 가급적 scaling을 하는 것이 바람직함"
   ]
  },
  {
   "cell_type": "code",
   "execution_count": 29,
   "metadata": {},
   "outputs": [
    {
     "name": "stdout",
     "output_type": "stream",
     "text": [
      "Scaled test set accuracy: 0.944\n"
     ]
    }
   ],
   "source": [
    "from sklearn.preprocessing import MinMaxScaler\n",
    "# preprocessing using 0-1 scaling\n",
    "scaler = MinMaxScaler()\n",
    "scaler.fit(X_train)\n",
    "X_train_scaled = scaler.transform(X_train)\n",
    "X_test_scaled = scaler.transform(X_test)\n",
    "\n",
    "# learning an SVM on the scaled training data\n",
    "svm_clf.fit(X_train_scaled, y_train)\n",
    "\n",
    "# scoring on the scaled test set\n",
    "print(\"Scaled test set accuracy: {:.3f}\".format(\n",
    "    svm_clf.score(X_test_scaled, y_test)))"
   ]
  },
  {
   "cell_type": "markdown",
   "metadata": {},
   "source": [
    "#### kernel의 선택\n",
    "svm은 다양한 kernel을 사용할 수 있음 <br>\n",
    "default는 **rbf** 이며, **linear**, **poly**, **rbf**, **sigmoid**의 사용이 가능"
   ]
  },
  {
   "cell_type": "code",
   "execution_count": 30,
   "metadata": {},
   "outputs": [
    {
     "name": "stdout",
     "output_type": "stream",
     "text": [
      "SVM train set score: 0.969\n",
      "SVM test set score: 0.937\n"
     ]
    }
   ],
   "source": [
    "svm_clf = svm.SVC(kernel='linear', gamma='auto')\n",
    "svm_clf.fit(X_train, y_train) \n",
    "print('SVM train set score: {:.3f}'.format(svm_clf.score(X_train, y_train)))\n",
    "print('SVM test set score: {:.3f}'.format(svm_clf.score(X_test, y_test)))"
   ]
  },
  {
   "cell_type": "markdown",
   "metadata": {},
   "source": [
    "#### SVM의 매개변수 튜닝\n",
    "**gamma** : 가우시안 커널 폭의 역수, 하나의 훈련 샘플이 미치는 영향의 범위, 값이 작을수록 영향이 넓음<br> \n",
    "Kernel coefficient for ‘rbf’, ‘poly’ and ‘sigmoid’<br>\n",
    "**C** : 규제매개변수, linear regression에서 사용한 alpha의 역수 즉 값이 클수록 규제가 약해짐, default는 1.0"
   ]
  },
  {
   "cell_type": "code",
   "execution_count": 31,
   "metadata": {},
   "outputs": [
    {
     "name": "stdout",
     "output_type": "stream",
     "text": [
      "SVM train set score: 0.965\n",
      "SVM test set score: 0.944\n"
     ]
    }
   ],
   "source": [
    "svm_clf = svm.SVC(kernel='linear', gamma='auto', C=0.1)\n",
    "svm_clf.fit(X_train, y_train) \n",
    "print('SVM train set score: {:.3f}'.format(svm_clf.score(X_train, y_train)))\n",
    "print('SVM test set score: {:.3f}'.format(svm_clf.score(X_test, y_test)))"
   ]
  }
 ],
 "metadata": {
  "kernelspec": {
   "display_name": "Python 3",
   "language": "python",
   "name": "python3"
  },
  "language_info": {
   "codemirror_mode": {
    "name": "ipython",
    "version": 3
   },
   "file_extension": ".py",
   "mimetype": "text/x-python",
   "name": "python",
   "nbconvert_exporter": "python",
   "pygments_lexer": "ipython3",
   "version": "3.6.8"
  }
 },
 "nbformat": 4,
 "nbformat_minor": 2
}
