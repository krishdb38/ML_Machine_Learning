{
 "cells": [
  {
   "cell_type": "code",
   "execution_count": null,
   "metadata": {},
   "outputs": [],
   "source": [
    "## https://machinelearningmastery.com/tensorflow-tutorial-deep-learning-with-tf-keras/\n",
    "\n",
    "## This job is done from help of this sites\n",
    "\n",
    "## Example of Relu \n",
    "# https://machinelearningmastery.com/rectified-linear-activation-function-for-deep-learning-neural-networks/\n",
    "\n",
    "## mlp for binary classification"
   ]
  },
  {
   "cell_type": "code",
   "execution_count": 3,
   "metadata": {
    "ExecuteTime": {
     "end_time": "2020-07-02T01:49:36.054874Z",
     "start_time": "2020-07-02T01:49:36.050875Z"
    }
   },
   "outputs": [],
   "source": [
    "import pandas as pd\n",
    "import numpy as np\n",
    "import tensorflow as tf\n",
    "\n",
    "from sklearn.model_selection import train_test_split\n",
    "from sklearn.preprocessing import LabelEncoder\n",
    "from tensorflow.keras import Sequential\n",
    "from tensorflow.keras.layers import Dense"
   ]
  },
  {
   "cell_type": "code",
   "execution_count": 6,
   "metadata": {
    "ExecuteTime": {
     "end_time": "2020-07-02T01:54:04.187221Z",
     "start_time": "2020-07-02T01:54:03.634356Z"
    }
   },
   "outputs": [
    {
     "name": "stdout",
     "output_type": "stream",
     "text": [
      "(351, 35)\n"
     ]
    },
    {
     "data": {
      "text/html": [
       "<div>\n",
       "<style scoped>\n",
       "    .dataframe tbody tr th:only-of-type {\n",
       "        vertical-align: middle;\n",
       "    }\n",
       "\n",
       "    .dataframe tbody tr th {\n",
       "        vertical-align: top;\n",
       "    }\n",
       "\n",
       "    .dataframe thead th {\n",
       "        text-align: right;\n",
       "    }\n",
       "</style>\n",
       "<table border=\"1\" class=\"dataframe\">\n",
       "  <thead>\n",
       "    <tr style=\"text-align: right;\">\n",
       "      <th></th>\n",
       "      <th>0</th>\n",
       "      <th>1</th>\n",
       "      <th>2</th>\n",
       "      <th>3</th>\n",
       "      <th>4</th>\n",
       "      <th>5</th>\n",
       "      <th>6</th>\n",
       "      <th>7</th>\n",
       "      <th>8</th>\n",
       "      <th>9</th>\n",
       "      <th>...</th>\n",
       "      <th>25</th>\n",
       "      <th>26</th>\n",
       "      <th>27</th>\n",
       "      <th>28</th>\n",
       "      <th>29</th>\n",
       "      <th>30</th>\n",
       "      <th>31</th>\n",
       "      <th>32</th>\n",
       "      <th>33</th>\n",
       "      <th>34</th>\n",
       "    </tr>\n",
       "  </thead>\n",
       "  <tbody>\n",
       "    <tr>\n",
       "      <th>0</th>\n",
       "      <td>1</td>\n",
       "      <td>0</td>\n",
       "      <td>0.99539</td>\n",
       "      <td>-0.05889</td>\n",
       "      <td>0.85243</td>\n",
       "      <td>0.02306</td>\n",
       "      <td>0.83398</td>\n",
       "      <td>-0.37708</td>\n",
       "      <td>1.00000</td>\n",
       "      <td>0.03760</td>\n",
       "      <td>...</td>\n",
       "      <td>-0.51171</td>\n",
       "      <td>0.41078</td>\n",
       "      <td>-0.46168</td>\n",
       "      <td>0.21266</td>\n",
       "      <td>-0.34090</td>\n",
       "      <td>0.42267</td>\n",
       "      <td>-0.54487</td>\n",
       "      <td>0.18641</td>\n",
       "      <td>-0.45300</td>\n",
       "      <td>g</td>\n",
       "    </tr>\n",
       "    <tr>\n",
       "      <th>1</th>\n",
       "      <td>1</td>\n",
       "      <td>0</td>\n",
       "      <td>1.00000</td>\n",
       "      <td>-0.18829</td>\n",
       "      <td>0.93035</td>\n",
       "      <td>-0.36156</td>\n",
       "      <td>-0.10868</td>\n",
       "      <td>-0.93597</td>\n",
       "      <td>1.00000</td>\n",
       "      <td>-0.04549</td>\n",
       "      <td>...</td>\n",
       "      <td>-0.26569</td>\n",
       "      <td>-0.20468</td>\n",
       "      <td>-0.18401</td>\n",
       "      <td>-0.19040</td>\n",
       "      <td>-0.11593</td>\n",
       "      <td>-0.16626</td>\n",
       "      <td>-0.06288</td>\n",
       "      <td>-0.13738</td>\n",
       "      <td>-0.02447</td>\n",
       "      <td>b</td>\n",
       "    </tr>\n",
       "    <tr>\n",
       "      <th>2</th>\n",
       "      <td>1</td>\n",
       "      <td>0</td>\n",
       "      <td>1.00000</td>\n",
       "      <td>-0.03365</td>\n",
       "      <td>1.00000</td>\n",
       "      <td>0.00485</td>\n",
       "      <td>1.00000</td>\n",
       "      <td>-0.12062</td>\n",
       "      <td>0.88965</td>\n",
       "      <td>0.01198</td>\n",
       "      <td>...</td>\n",
       "      <td>-0.40220</td>\n",
       "      <td>0.58984</td>\n",
       "      <td>-0.22145</td>\n",
       "      <td>0.43100</td>\n",
       "      <td>-0.17365</td>\n",
       "      <td>0.60436</td>\n",
       "      <td>-0.24180</td>\n",
       "      <td>0.56045</td>\n",
       "      <td>-0.38238</td>\n",
       "      <td>g</td>\n",
       "    </tr>\n",
       "    <tr>\n",
       "      <th>3</th>\n",
       "      <td>1</td>\n",
       "      <td>0</td>\n",
       "      <td>1.00000</td>\n",
       "      <td>-0.45161</td>\n",
       "      <td>1.00000</td>\n",
       "      <td>1.00000</td>\n",
       "      <td>0.71216</td>\n",
       "      <td>-1.00000</td>\n",
       "      <td>0.00000</td>\n",
       "      <td>0.00000</td>\n",
       "      <td>...</td>\n",
       "      <td>0.90695</td>\n",
       "      <td>0.51613</td>\n",
       "      <td>1.00000</td>\n",
       "      <td>1.00000</td>\n",
       "      <td>-0.20099</td>\n",
       "      <td>0.25682</td>\n",
       "      <td>1.00000</td>\n",
       "      <td>-0.32382</td>\n",
       "      <td>1.00000</td>\n",
       "      <td>b</td>\n",
       "    </tr>\n",
       "    <tr>\n",
       "      <th>4</th>\n",
       "      <td>1</td>\n",
       "      <td>0</td>\n",
       "      <td>1.00000</td>\n",
       "      <td>-0.02401</td>\n",
       "      <td>0.94140</td>\n",
       "      <td>0.06531</td>\n",
       "      <td>0.92106</td>\n",
       "      <td>-0.23255</td>\n",
       "      <td>0.77152</td>\n",
       "      <td>-0.16399</td>\n",
       "      <td>...</td>\n",
       "      <td>-0.65158</td>\n",
       "      <td>0.13290</td>\n",
       "      <td>-0.53206</td>\n",
       "      <td>0.02431</td>\n",
       "      <td>-0.62197</td>\n",
       "      <td>-0.05707</td>\n",
       "      <td>-0.59573</td>\n",
       "      <td>-0.04608</td>\n",
       "      <td>-0.65697</td>\n",
       "      <td>g</td>\n",
       "    </tr>\n",
       "  </tbody>\n",
       "</table>\n",
       "<p>5 rows × 35 columns</p>\n",
       "</div>"
      ],
      "text/plain": [
       "   0   1        2        3        4        5        6        7        8   \\\n",
       "0   1   0  0.99539 -0.05889  0.85243  0.02306  0.83398 -0.37708  1.00000   \n",
       "1   1   0  1.00000 -0.18829  0.93035 -0.36156 -0.10868 -0.93597  1.00000   \n",
       "2   1   0  1.00000 -0.03365  1.00000  0.00485  1.00000 -0.12062  0.88965   \n",
       "3   1   0  1.00000 -0.45161  1.00000  1.00000  0.71216 -1.00000  0.00000   \n",
       "4   1   0  1.00000 -0.02401  0.94140  0.06531  0.92106 -0.23255  0.77152   \n",
       "\n",
       "        9   ...       25       26       27       28       29       30  \\\n",
       "0  0.03760  ... -0.51171  0.41078 -0.46168  0.21266 -0.34090  0.42267   \n",
       "1 -0.04549  ... -0.26569 -0.20468 -0.18401 -0.19040 -0.11593 -0.16626   \n",
       "2  0.01198  ... -0.40220  0.58984 -0.22145  0.43100 -0.17365  0.60436   \n",
       "3  0.00000  ...  0.90695  0.51613  1.00000  1.00000 -0.20099  0.25682   \n",
       "4 -0.16399  ... -0.65158  0.13290 -0.53206  0.02431 -0.62197 -0.05707   \n",
       "\n",
       "        31       32       33  34  \n",
       "0 -0.54487  0.18641 -0.45300   g  \n",
       "1 -0.06288 -0.13738 -0.02447   b  \n",
       "2 -0.24180  0.56045 -0.38238   g  \n",
       "3  1.00000 -0.32382  1.00000   b  \n",
       "4 -0.59573 -0.04608 -0.65697   g  \n",
       "\n",
       "[5 rows x 35 columns]"
      ]
     },
     "metadata": {},
     "output_type": "display_data"
    }
   ],
   "source": [
    "# Load the data sets\n",
    "path = 'https://raw.githubusercontent.com/jbrownlee/Datasets/master/ionosphere.csv'\n",
    "df = pd.read_csv(path,header=None )\n",
    "print(df.shape)\n",
    "display(df.head())"
   ]
  },
  {
   "cell_type": "code",
   "execution_count": 7,
   "metadata": {
    "ExecuteTime": {
     "end_time": "2020-07-02T01:55:48.555586Z",
     "start_time": "2020-07-02T01:55:48.552617Z"
    }
   },
   "outputs": [],
   "source": [
    "# Split into X and y column\n",
    "X,y = df.values[:,:-1], df.values[:,-1]"
   ]
  },
  {
   "cell_type": "code",
   "execution_count": 9,
   "metadata": {
    "ExecuteTime": {
     "end_time": "2020-07-02T01:58:30.130703Z",
     "start_time": "2020-07-02T01:58:30.127731Z"
    }
   },
   "outputs": [],
   "source": [
    "## Ensure all data are floating poin values\n",
    "X = X.astype(\"float32\")"
   ]
  },
  {
   "cell_type": "code",
   "execution_count": 17,
   "metadata": {
    "ExecuteTime": {
     "end_time": "2020-07-02T02:00:34.653737Z",
     "start_time": "2020-07-02T02:00:34.647728Z"
    }
   },
   "outputs": [
    {
     "name": "stdout",
     "output_type": "stream",
     "text": [
      "['g' 'b' 'g' 'b' 'g' 'b' 'g' 'b' 'g' 'b']\n"
     ]
    },
    {
     "data": {
      "text/plain": [
       "array([1, 0, 1, 0, 1, 0, 1, 0, 1, 0])"
      ]
     },
     "execution_count": 17,
     "metadata": {},
     "output_type": "execute_result"
    }
   ],
   "source": [
    "print(y[:10])\n",
    "## Encode strings to integer\n",
    "\n",
    "y = LabelEncoder().fit_transform(y)\n",
    "y[:10]"
   ]
  },
  {
   "cell_type": "code",
   "execution_count": 20,
   "metadata": {
    "ExecuteTime": {
     "end_time": "2020-07-02T02:02:27.761127Z",
     "start_time": "2020-07-02T02:02:27.756156Z"
    }
   },
   "outputs": [
    {
     "name": "stdout",
     "output_type": "stream",
     "text": [
      "(235, 34) (116,)\n"
     ]
    }
   ],
   "source": [
    "## We can see that changed to 0 and 1\n",
    "\n",
    "## Now Split into train and test datasets\n",
    "x_train, x_test, y_train, y_test = train_test_split(X,y, test_size = 0.33)\n",
    "print(x_train.shape, y_test.shape)"
   ]
  },
  {
   "cell_type": "code",
   "execution_count": 23,
   "metadata": {
    "ExecuteTime": {
     "end_time": "2020-07-02T02:03:36.007018Z",
     "start_time": "2020-07-02T02:03:36.003015Z"
    }
   },
   "outputs": [
    {
     "data": {
      "text/plain": [
       "34"
      ]
     },
     "execution_count": 23,
     "metadata": {},
     "output_type": "execute_result"
    }
   ],
   "source": [
    "## Number of Feature Number of Columns\n",
    "n_featuires = x_train.shape[1]\n",
    "n_featuires"
   ]
  },
  {
   "cell_type": "markdown",
   "metadata": {},
   "source": [
    "## Define Model"
   ]
  },
  {
   "cell_type": "code",
   "execution_count": 24,
   "metadata": {
    "ExecuteTime": {
     "end_time": "2020-07-02T02:06:55.260960Z",
     "start_time": "2020-07-02T02:06:55.165934Z"
    }
   },
   "outputs": [],
   "source": [
    "model = Sequential()\n",
    "model.add(Dense(10, activation = \"relu\", kernel_initializer = \"he_normal\",input_shape = (n_featuires,)))\n",
    "model.add(Dense(8, activation = \"relu\", kernel_initializer = \"he_normal\"))\n",
    "model.add(Dense(1, activation = \"sigmoid\"))"
   ]
  },
  {
   "cell_type": "markdown",
   "metadata": {},
   "source": [
    "### Compile & Fit the Model"
   ]
  },
  {
   "cell_type": "code",
   "execution_count": 25,
   "metadata": {
    "ExecuteTime": {
     "end_time": "2020-07-02T02:09:13.968684Z",
     "start_time": "2020-07-02T02:09:12.945505Z"
    }
   },
   "outputs": [
    {
     "data": {
      "text/plain": [
       "<tensorflow.python.keras.callbacks.History at 0x258049eedc8>"
      ]
     },
     "execution_count": 25,
     "metadata": {},
     "output_type": "execute_result"
    }
   ],
   "source": [
    "model.compile(optimizer=\"adam\", loss = \"binary_crossentropy\", metrics = [\"accuracy\"])\n",
    "\n",
    "## Fit the Model\n",
    "model.fit(x_train, y_train, epochs=150, batch_size=32, verbose=0)"
   ]
  },
  {
   "cell_type": "code",
   "execution_count": 27,
   "metadata": {
    "ExecuteTime": {
     "end_time": "2020-07-02T02:09:30.437670Z",
     "start_time": "2020-07-02T02:09:30.432704Z"
    }
   },
   "outputs": [
    {
     "name": "stdout",
     "output_type": "stream",
     "text": [
      "Model: \"sequential\"\n",
      "_________________________________________________________________\n",
      "Layer (type)                 Output Shape              Param #   \n",
      "=================================================================\n",
      "dense (Dense)                (None, 10)                350       \n",
      "_________________________________________________________________\n",
      "dense_1 (Dense)              (None, 8)                 88        \n",
      "_________________________________________________________________\n",
      "dense_2 (Dense)              (None, 1)                 9         \n",
      "=================================================================\n",
      "Total params: 447\n",
      "Trainable params: 447\n",
      "Non-trainable params: 0\n",
      "_________________________________________________________________\n"
     ]
    }
   ],
   "source": [
    "model.summary()"
   ]
  },
  {
   "cell_type": "markdown",
   "metadata": {},
   "source": [
    "### Evaluate & Predict the Model"
   ]
  },
  {
   "cell_type": "code",
   "execution_count": 28,
   "metadata": {
    "ExecuteTime": {
     "end_time": "2020-07-02T02:11:33.281253Z",
     "start_time": "2020-07-02T02:11:33.142255Z"
    }
   },
   "outputs": [
    {
     "name": "stdout",
     "output_type": "stream",
     "text": [
      "Test Accuracy: 0.897\n"
     ]
    }
   ],
   "source": [
    "loss, acc = model.evaluate(x_test, y_test, verbose=0)\n",
    "print(\"Test Accuracy: %.3f\"%acc)"
   ]
  },
  {
   "cell_type": "code",
   "execution_count": null,
   "metadata": {},
   "outputs": [],
   "source": []
  },
  {
   "cell_type": "markdown",
   "metadata": {},
   "source": [
    "## MLP for Multiclass Classification"
   ]
  },
  {
   "cell_type": "code",
   "execution_count": 29,
   "metadata": {
    "ExecuteTime": {
     "end_time": "2020-07-02T02:16:36.109212Z",
     "start_time": "2020-07-02T02:16:36.105242Z"
    }
   },
   "outputs": [],
   "source": [
    "## We will use the Iris flowers multiclass classification dataset to demonstrate an MLP for multiclass classification.\n",
    "## MLP for multiclass classification\n",
    "import numpy as np\n",
    "import pandas as pd\n",
    "from sklearn.model_selection import train_test_split\n",
    "from sklearn.model_selection import train_test_split\n",
    "from sklearn.preprocessing import LabelEncoder\n",
    "from tensorflow.keras import Sequential\n",
    "from tensorflow.keras.layers import Dense"
   ]
  },
  {
   "cell_type": "markdown",
   "metadata": {},
   "source": [
    "## Load the data sets and do data-preprocessing"
   ]
  },
  {
   "cell_type": "code",
   "execution_count": 33,
   "metadata": {
    "ExecuteTime": {
     "end_time": "2020-07-02T03:39:39.489994Z",
     "start_time": "2020-07-02T03:39:39.297656Z"
    }
   },
   "outputs": [
    {
     "data": {
      "text/html": [
       "<div>\n",
       "<style scoped>\n",
       "    .dataframe tbody tr th:only-of-type {\n",
       "        vertical-align: middle;\n",
       "    }\n",
       "\n",
       "    .dataframe tbody tr th {\n",
       "        vertical-align: top;\n",
       "    }\n",
       "\n",
       "    .dataframe thead th {\n",
       "        text-align: right;\n",
       "    }\n",
       "</style>\n",
       "<table border=\"1\" class=\"dataframe\">\n",
       "  <thead>\n",
       "    <tr style=\"text-align: right;\">\n",
       "      <th></th>\n",
       "      <th>0</th>\n",
       "      <th>1</th>\n",
       "      <th>2</th>\n",
       "      <th>3</th>\n",
       "      <th>4</th>\n",
       "    </tr>\n",
       "  </thead>\n",
       "  <tbody>\n",
       "    <tr>\n",
       "      <th>0</th>\n",
       "      <td>5.1</td>\n",
       "      <td>3.5</td>\n",
       "      <td>1.4</td>\n",
       "      <td>0.2</td>\n",
       "      <td>Iris-setosa</td>\n",
       "    </tr>\n",
       "    <tr>\n",
       "      <th>1</th>\n",
       "      <td>4.9</td>\n",
       "      <td>3.0</td>\n",
       "      <td>1.4</td>\n",
       "      <td>0.2</td>\n",
       "      <td>Iris-setosa</td>\n",
       "    </tr>\n",
       "    <tr>\n",
       "      <th>2</th>\n",
       "      <td>4.7</td>\n",
       "      <td>3.2</td>\n",
       "      <td>1.3</td>\n",
       "      <td>0.2</td>\n",
       "      <td>Iris-setosa</td>\n",
       "    </tr>\n",
       "    <tr>\n",
       "      <th>3</th>\n",
       "      <td>4.6</td>\n",
       "      <td>3.1</td>\n",
       "      <td>1.5</td>\n",
       "      <td>0.2</td>\n",
       "      <td>Iris-setosa</td>\n",
       "    </tr>\n",
       "    <tr>\n",
       "      <th>4</th>\n",
       "      <td>5.0</td>\n",
       "      <td>3.6</td>\n",
       "      <td>1.4</td>\n",
       "      <td>0.2</td>\n",
       "      <td>Iris-setosa</td>\n",
       "    </tr>\n",
       "  </tbody>\n",
       "</table>\n",
       "</div>"
      ],
      "text/plain": [
       "     0    1    2    3            4\n",
       "0  5.1  3.5  1.4  0.2  Iris-setosa\n",
       "1  4.9  3.0  1.4  0.2  Iris-setosa\n",
       "2  4.7  3.2  1.3  0.2  Iris-setosa\n",
       "3  4.6  3.1  1.5  0.2  Iris-setosa\n",
       "4  5.0  3.6  1.4  0.2  Iris-setosa"
      ]
     },
     "execution_count": 33,
     "metadata": {},
     "output_type": "execute_result"
    }
   ],
   "source": [
    "path = 'https://raw.githubusercontent.com/jbrownlee/Datasets/master/iris.csv'\n",
    "df = pd.read_csv(path,header=None)\n",
    "df.head()"
   ]
  },
  {
   "cell_type": "code",
   "execution_count": 32,
   "metadata": {
    "ExecuteTime": {
     "end_time": "2020-07-02T03:39:32.891850Z",
     "start_time": "2020-07-02T03:39:32.880820Z"
    }
   },
   "outputs": [
    {
     "data": {
      "text/html": [
       "<div>\n",
       "<style scoped>\n",
       "    .dataframe tbody tr th:only-of-type {\n",
       "        vertical-align: middle;\n",
       "    }\n",
       "\n",
       "    .dataframe tbody tr th {\n",
       "        vertical-align: top;\n",
       "    }\n",
       "\n",
       "    .dataframe thead th {\n",
       "        text-align: right;\n",
       "    }\n",
       "</style>\n",
       "<table border=\"1\" class=\"dataframe\">\n",
       "  <thead>\n",
       "    <tr style=\"text-align: right;\">\n",
       "      <th></th>\n",
       "      <th>0</th>\n",
       "      <th>1</th>\n",
       "      <th>2</th>\n",
       "      <th>3</th>\n",
       "      <th>4</th>\n",
       "    </tr>\n",
       "  </thead>\n",
       "  <tbody>\n",
       "    <tr>\n",
       "      <th>0</th>\n",
       "      <td>5.1</td>\n",
       "      <td>3.5</td>\n",
       "      <td>1.4</td>\n",
       "      <td>0.2</td>\n",
       "      <td>Iris-setosa</td>\n",
       "    </tr>\n",
       "    <tr>\n",
       "      <th>1</th>\n",
       "      <td>4.9</td>\n",
       "      <td>3.0</td>\n",
       "      <td>1.4</td>\n",
       "      <td>0.2</td>\n",
       "      <td>Iris-setosa</td>\n",
       "    </tr>\n",
       "    <tr>\n",
       "      <th>2</th>\n",
       "      <td>4.7</td>\n",
       "      <td>3.2</td>\n",
       "      <td>1.3</td>\n",
       "      <td>0.2</td>\n",
       "      <td>Iris-setosa</td>\n",
       "    </tr>\n",
       "    <tr>\n",
       "      <th>3</th>\n",
       "      <td>4.6</td>\n",
       "      <td>3.1</td>\n",
       "      <td>1.5</td>\n",
       "      <td>0.2</td>\n",
       "      <td>Iris-setosa</td>\n",
       "    </tr>\n",
       "    <tr>\n",
       "      <th>4</th>\n",
       "      <td>5.0</td>\n",
       "      <td>3.6</td>\n",
       "      <td>1.4</td>\n",
       "      <td>0.2</td>\n",
       "      <td>Iris-setosa</td>\n",
       "    </tr>\n",
       "  </tbody>\n",
       "</table>\n",
       "</div>"
      ],
      "text/plain": [
       "     0    1    2    3            4\n",
       "0  5.1  3.5  1.4  0.2  Iris-setosa\n",
       "1  4.9  3.0  1.4  0.2  Iris-setosa\n",
       "2  4.7  3.2  1.3  0.2  Iris-setosa\n",
       "3  4.6  3.1  1.5  0.2  Iris-setosa\n",
       "4  5.0  3.6  1.4  0.2  Iris-setosa"
      ]
     },
     "execution_count": 32,
     "metadata": {},
     "output_type": "execute_result"
    }
   ],
   "source": [
    "x, y = df.values()"
   ]
  },
  {
   "cell_type": "code",
   "execution_count": 39,
   "metadata": {
    "ExecuteTime": {
     "end_time": "2020-07-02T03:44:32.301704Z",
     "start_time": "2020-07-02T03:44:32.297703Z"
    }
   },
   "outputs": [],
   "source": [
    "x , y = df.values[:,:3] , df.values[:,-1]"
   ]
  },
  {
   "cell_type": "code",
   "execution_count": 41,
   "metadata": {
    "ExecuteTime": {
     "end_time": "2020-07-02T03:47:08.274551Z",
     "start_time": "2020-07-02T03:47:08.269583Z"
    }
   },
   "outputs": [
    {
     "name": "stdout",
     "output_type": "stream",
     "text": [
      "['Iris-setosa' 'Iris-setosa' 'Iris-setosa' 'Iris-setosa' 'Iris-setosa'\n",
      " 'Iris-setosa' 'Iris-setosa' 'Iris-setosa' 'Iris-setosa' 'Iris-setosa']\n",
      "[0 0 0 0 0 0 0 0 0 0]\n"
     ]
    }
   ],
   "source": [
    "## Ensure all datas are Floating Point values\n",
    "x = x.astype(\"float32\")\n",
    "\n",
    "print(y[:10])\n",
    "## Encode y label (string) to integers\n",
    "y = LabelEncoder().fit_transform(y)\n",
    "print(y[:10])"
   ]
  },
  {
   "cell_type": "code",
   "execution_count": 42,
   "metadata": {
    "ExecuteTime": {
     "end_time": "2020-07-02T03:48:48.970854Z",
     "start_time": "2020-07-02T03:48:48.967853Z"
    }
   },
   "outputs": [],
   "source": [
    "## Split the data to Train and Test sets\n",
    "x_train, x_test, y_train, y_test = train_test_split(x,y,test_size = 0.33)"
   ]
  },
  {
   "cell_type": "code",
   "execution_count": 56,
   "metadata": {
    "ExecuteTime": {
     "end_time": "2020-07-02T05:27:11.052749Z",
     "start_time": "2020-07-02T05:27:10.082751Z"
    }
   },
   "outputs": [
    {
     "name": "stdout",
     "output_type": "stream",
     "text": [
      "Test Accuracy = 0.080 0.9581778049468994\n"
     ]
    }
   ],
   "source": [
    "# Determine the Number of input shape (Number of COlumns)\n",
    "n_features = x_train.shape[1]\n",
    "\n",
    "# Define the Model\n",
    "\n",
    "model = Sequential()\n",
    "model.add(Dense(3, activation=\"relu\", kernel_initializer=\"he_normal\", input_shape=[n_features,]))\n",
    "model.add(Dense(8, activation=\"relu\",kernel_initializer=\"he_normal\"))\n",
    "model.add(Dense(3, activation = \"softmax\")) # Possible of 3 Output\n",
    "          \n",
    "## Compile the Model\n",
    "model.compile(optimizer=\"adam\", loss=\"sparse_categorical_crossentropy\", metrics=[\"accuracy\"])\n",
    "## Fit the Model\n",
    "model.fit(x_train,y_train, epochs=150, batch_size=32, verbose=0)\n",
    "\n",
    "# Evaluate the model\n",
    "loss,acc = model.evaluate(x_test, y_test,verbose= 0)\n",
    "print(\"Test Accuracy = %.3f\"%acc, loss)\n"
   ]
  },
  {
   "cell_type": "markdown",
   "metadata": {},
   "source": [
    "## MLP for Regression"
   ]
  },
  {
   "cell_type": "code",
   "execution_count": 58,
   "metadata": {
    "ExecuteTime": {
     "end_time": "2020-07-02T05:34:05.014853Z",
     "start_time": "2020-07-02T05:34:05.008848Z"
    }
   },
   "outputs": [
    {
     "data": {
      "text/plain": [
       "'https://machinelearningmastery.com/classification-versus-regression-in-machine-learning/abs'"
      ]
     },
     "execution_count": 58,
     "metadata": {},
     "output_type": "execute_result"
    }
   ],
   "source": [
    "## The difference between Classification and Regression in Machine Learning\n",
    "\"https://machinelearningmastery.com/classification-versus-regression-in-machine-learning/abs\""
   ]
  },
  {
   "cell_type": "code",
   "execution_count": 59,
   "metadata": {
    "ExecuteTime": {
     "end_time": "2020-07-02T05:41:15.401283Z",
     "start_time": "2020-07-02T05:41:15.397283Z"
    }
   },
   "outputs": [],
   "source": [
    "import numpy as np\n",
    "import pandas as pd\n",
    "\n",
    "from sklearn.model_selection import train_test_split\n",
    "from tensorflow.keras import Sequential\n",
    "from tensorflow.keras.layers import Dense"
   ]
  },
  {
   "cell_type": "code",
   "execution_count": 62,
   "metadata": {
    "ExecuteTime": {
     "end_time": "2020-07-02T05:48:50.165742Z",
     "start_time": "2020-07-02T05:48:49.573742Z"
    }
   },
   "outputs": [
    {
     "name": "stdout",
     "output_type": "stream",
     "text": [
      "(506, 14)\n"
     ]
    },
    {
     "data": {
      "text/html": [
       "<div>\n",
       "<style scoped>\n",
       "    .dataframe tbody tr th:only-of-type {\n",
       "        vertical-align: middle;\n",
       "    }\n",
       "\n",
       "    .dataframe tbody tr th {\n",
       "        vertical-align: top;\n",
       "    }\n",
       "\n",
       "    .dataframe thead th {\n",
       "        text-align: right;\n",
       "    }\n",
       "</style>\n",
       "<table border=\"1\" class=\"dataframe\">\n",
       "  <thead>\n",
       "    <tr style=\"text-align: right;\">\n",
       "      <th></th>\n",
       "      <th>0</th>\n",
       "      <th>1</th>\n",
       "      <th>2</th>\n",
       "      <th>3</th>\n",
       "      <th>4</th>\n",
       "      <th>5</th>\n",
       "      <th>6</th>\n",
       "      <th>7</th>\n",
       "      <th>8</th>\n",
       "      <th>9</th>\n",
       "      <th>10</th>\n",
       "      <th>11</th>\n",
       "      <th>12</th>\n",
       "      <th>13</th>\n",
       "    </tr>\n",
       "  </thead>\n",
       "  <tbody>\n",
       "    <tr>\n",
       "      <th>0</th>\n",
       "      <td>0.00632</td>\n",
       "      <td>18.0</td>\n",
       "      <td>2.31</td>\n",
       "      <td>0</td>\n",
       "      <td>0.538</td>\n",
       "      <td>6.575</td>\n",
       "      <td>65.2</td>\n",
       "      <td>4.0900</td>\n",
       "      <td>1</td>\n",
       "      <td>296.0</td>\n",
       "      <td>15.3</td>\n",
       "      <td>396.90</td>\n",
       "      <td>4.98</td>\n",
       "      <td>24.0</td>\n",
       "    </tr>\n",
       "    <tr>\n",
       "      <th>1</th>\n",
       "      <td>0.02731</td>\n",
       "      <td>0.0</td>\n",
       "      <td>7.07</td>\n",
       "      <td>0</td>\n",
       "      <td>0.469</td>\n",
       "      <td>6.421</td>\n",
       "      <td>78.9</td>\n",
       "      <td>4.9671</td>\n",
       "      <td>2</td>\n",
       "      <td>242.0</td>\n",
       "      <td>17.8</td>\n",
       "      <td>396.90</td>\n",
       "      <td>9.14</td>\n",
       "      <td>21.6</td>\n",
       "    </tr>\n",
       "    <tr>\n",
       "      <th>2</th>\n",
       "      <td>0.02729</td>\n",
       "      <td>0.0</td>\n",
       "      <td>7.07</td>\n",
       "      <td>0</td>\n",
       "      <td>0.469</td>\n",
       "      <td>7.185</td>\n",
       "      <td>61.1</td>\n",
       "      <td>4.9671</td>\n",
       "      <td>2</td>\n",
       "      <td>242.0</td>\n",
       "      <td>17.8</td>\n",
       "      <td>392.83</td>\n",
       "      <td>4.03</td>\n",
       "      <td>34.7</td>\n",
       "    </tr>\n",
       "    <tr>\n",
       "      <th>3</th>\n",
       "      <td>0.03237</td>\n",
       "      <td>0.0</td>\n",
       "      <td>2.18</td>\n",
       "      <td>0</td>\n",
       "      <td>0.458</td>\n",
       "      <td>6.998</td>\n",
       "      <td>45.8</td>\n",
       "      <td>6.0622</td>\n",
       "      <td>3</td>\n",
       "      <td>222.0</td>\n",
       "      <td>18.7</td>\n",
       "      <td>394.63</td>\n",
       "      <td>2.94</td>\n",
       "      <td>33.4</td>\n",
       "    </tr>\n",
       "    <tr>\n",
       "      <th>4</th>\n",
       "      <td>0.06905</td>\n",
       "      <td>0.0</td>\n",
       "      <td>2.18</td>\n",
       "      <td>0</td>\n",
       "      <td>0.458</td>\n",
       "      <td>7.147</td>\n",
       "      <td>54.2</td>\n",
       "      <td>6.0622</td>\n",
       "      <td>3</td>\n",
       "      <td>222.0</td>\n",
       "      <td>18.7</td>\n",
       "      <td>396.90</td>\n",
       "      <td>5.33</td>\n",
       "      <td>36.2</td>\n",
       "    </tr>\n",
       "  </tbody>\n",
       "</table>\n",
       "</div>"
      ],
      "text/plain": [
       "        0     1     2   3      4      5     6       7   8      9     10  \\\n",
       "0  0.00632  18.0  2.31   0  0.538  6.575  65.2  4.0900   1  296.0  15.3   \n",
       "1  0.02731   0.0  7.07   0  0.469  6.421  78.9  4.9671   2  242.0  17.8   \n",
       "2  0.02729   0.0  7.07   0  0.469  7.185  61.1  4.9671   2  242.0  17.8   \n",
       "3  0.03237   0.0  2.18   0  0.458  6.998  45.8  6.0622   3  222.0  18.7   \n",
       "4  0.06905   0.0  2.18   0  0.458  7.147  54.2  6.0622   3  222.0  18.7   \n",
       "\n",
       "       11    12    13  \n",
       "0  396.90  4.98  24.0  \n",
       "1  396.90  9.14  21.6  \n",
       "2  392.83  4.03  34.7  \n",
       "3  394.63  2.94  33.4  \n",
       "4  396.90  5.33  36.2  "
      ]
     },
     "execution_count": 62,
     "metadata": {},
     "output_type": "execute_result"
    }
   ],
   "source": [
    "## Load the data sets\n",
    "path = 'https://raw.githubusercontent.com/jbrownlee/Datasets/master/housing.csv'\n",
    "df = pd.read_csv(path, header=None)\n",
    "\n",
    "print(df.shape)\n",
    "df.head()\n"
   ]
  },
  {
   "cell_type": "code",
   "execution_count": 65,
   "metadata": {
    "ExecuteTime": {
     "end_time": "2020-07-02T05:53:28.758302Z",
     "start_time": "2020-07-02T05:53:28.748300Z"
    }
   },
   "outputs": [
    {
     "data": {
      "text/plain": [
       "array([[6.320e-03, 1.800e+01, 2.310e+00, 0.000e+00, 5.380e-01, 6.575e+00,\n",
       "        6.520e+01, 4.090e+00, 1.000e+00, 2.960e+02, 1.530e+01, 3.969e+02,\n",
       "        4.980e+00]])"
      ]
     },
     "execution_count": 65,
     "metadata": {},
     "output_type": "execute_result"
    }
   ],
   "source": [
    "## Split into input and output columns\n",
    "x,y = df.values[:, :-1], df.values[:,-1]\n",
    "x[:1]"
   ]
  },
  {
   "cell_type": "code",
   "execution_count": 68,
   "metadata": {
    "ExecuteTime": {
     "end_time": "2020-07-02T05:55:33.880348Z",
     "start_time": "2020-07-02T05:55:33.876330Z"
    }
   },
   "outputs": [
    {
     "name": "stdout",
     "output_type": "stream",
     "text": [
      "(339, 13) (167, 13) (339,) (167,)\n"
     ]
    }
   ],
   "source": [
    "## Split into train and testdatasets\n",
    "x_train, x_test, y_train, y_test = train_test_split(x,y, test_size = 0.33)\n",
    "print(x_train.shape, x_test.shape,y_train.shape, y_test.shape)"
   ]
  },
  {
   "cell_type": "code",
   "execution_count": 70,
   "metadata": {
    "ExecuteTime": {
     "end_time": "2020-07-02T06:41:20.540175Z",
     "start_time": "2020-07-02T06:41:18.962174Z"
    }
   },
   "outputs": [
    {
     "name": "stdout",
     "output_type": "stream",
     "text": [
      "Error 69.917236328125\n",
      "Predicted: 25.072\n"
     ]
    }
   ],
   "source": [
    "## determine the Number of input features (Column to use as input)\n",
    "n_features = x_train.shape[1] # Number of Column\n",
    "\n",
    "## Define the Model\n",
    "model = Sequential()\n",
    "model.add(Dense(10, activation = \"relu\", kernel_initializer = \"he_normal\",\n",
    "                input_shape = (n_features,)))\n",
    "model.add(Dense(8, activation = \"relu\", kernel_initializer = \"he_normal\"))\n",
    "model.add(Dense(1))\n",
    "\n",
    "## Compile the Model\n",
    "model.compile(optimizer = \"adam\", loss = \"mse\")\n",
    "\n",
    "## Fit the Model\n",
    "model.fit(x_train , y_train, epochs = 150, batch_size = 32, verbose = 0)\n",
    "\n",
    "## Evaluate the Model\n",
    "error = model.evaluate(x_test, y_test, verbose= 0)\n",
    "print(\"Error\", error)\n",
    "\n",
    "\n",
    "## Make a Prediction\n",
    "row = [0.00632,18.00,2.310,0,0.5380,6.5750,65.20,4.0900,1,296.0,15.30,396.90,4.98]\n",
    "\n",
    "y_hat = model.predict([row])\n",
    "print(\"Predicted: %.3f\"%y_hat)"
   ]
  },
  {
   "cell_type": "markdown",
   "metadata": {},
   "source": [
    "## Develop Convolutional Neural Network Models"
   ]
  },
  {
   "cell_type": "code",
   "execution_count": 71,
   "metadata": {
    "ExecuteTime": {
     "end_time": "2020-07-02T06:57:10.420556Z",
     "start_time": "2020-07-02T06:57:10.415558Z"
    }
   },
   "outputs": [],
   "source": [
    "# A Popular image classification task is the MNIST handwritten digit classification.\n",
    "# It involves tens of thousands of handwritten digits that must be classified as a number between 0 and 9.\n",
    "\n",
    "## The tf.keras API provides a convenience function to download and load this dataset directly"
   ]
  },
  {
   "cell_type": "code",
   "execution_count": 72,
   "metadata": {
    "ExecuteTime": {
     "end_time": "2020-07-02T06:59:08.850555Z",
     "start_time": "2020-07-02T06:59:06.888555Z"
    }
   },
   "outputs": [
    {
     "name": "stdout",
     "output_type": "stream",
     "text": [
      "Downloading data from https://storage.googleapis.com/tensorflow/tf-keras-datasets/mnist.npz\n",
      "11493376/11490434 [==============================] - 1s 0us/step\n"
     ]
    }
   ],
   "source": [
    "## Example of Loading and plotting the mnist dataset\n",
    "\n",
    "from tensorflow.keras.datasets.mnist import load_data\n",
    "from matplotlib import pyplot\n",
    "\n",
    "# load dataset\n",
    "(x_train, y_train),(x_test,y_test) = load_data()"
   ]
  },
  {
   "cell_type": "code",
   "execution_count": 75,
   "metadata": {
    "ExecuteTime": {
     "end_time": "2020-07-02T06:59:44.019553Z",
     "start_time": "2020-07-02T06:59:44.014554Z"
    }
   },
   "outputs": [
    {
     "data": {
      "text/plain": [
       "(1, 28, 28)"
      ]
     },
     "execution_count": 75,
     "metadata": {},
     "output_type": "execute_result"
    }
   ],
   "source": [
    "x_train[:1].shape"
   ]
  },
  {
   "cell_type": "code",
   "execution_count": 77,
   "metadata": {
    "ExecuteTime": {
     "end_time": "2020-07-02T07:15:35.021863Z",
     "start_time": "2020-07-02T07:15:35.016859Z"
    }
   },
   "outputs": [
    {
     "name": "stdout",
     "output_type": "stream",
     "text": [
      "(60000, 28, 28) (60000,)\n"
     ]
    }
   ],
   "source": [
    "## Summarize loaded dataset\n",
    "print(x_train.shape, y_train.shape)"
   ]
  },
  {
   "cell_type": "code",
   "execution_count": 79,
   "metadata": {
    "ExecuteTime": {
     "end_time": "2020-07-02T22:53:56.224708Z",
     "start_time": "2020-07-02T22:53:54.775710Z"
    }
   },
   "outputs": [
    {
     "data": {
      "image/png": "[encoded data removed]",
      "text/plain": [
       "<Figure size 432x288 with 25 Axes>"
      ]
     },
     "metadata": {
      "needs_background": "light"
     },
     "output_type": "display_data"
    }
   ],
   "source": [
    "## Display 25 Images\n",
    "for i in range(25):\n",
    "    # define subplot\n",
    "    pyplot.subplot(5,5,i+1)\n",
    "    # plot  raw pixel data\n",
    "    pyplot.imshow(x_train[i],cmap=pyplot.get_cmap(\"gray\"))\n",
    "\n",
    "# show the Figure\n",
    "pyplot.show()"
   ]
  },
  {
   "cell_type": "code",
   "execution_count": null,
   "metadata": {},
   "outputs": [],
   "source": [
    "# We can train a CNN Model to classify the images in the MNIST dataset.\n",
    "\n",
    "## Note that images are arrays of grayscale pixel data;\n",
    "\n",
    "# we must add a channel dimension to the data before we can use the images as input to the model.\n",
    "\n",
    "# The reason is that CNN models expect images in a channels-last format,\n",
    "# that is each example to the network has dimensions [rows, columns, channels],\n",
    "# where channels represent the colot channels of the image data\n",
    "\n",
    "## It is also a good idea to scale the pixel values \n",
    "## from the default range of 0-255 to 0-1  when training a CNN.\n",
    "\n",
    "# For more on scaling pixel values see tutorial\n",
    "# https://machinelearningmastery.com/how-to-manually-scale-image-pixel-data-for-deep-learning/\n"
   ]
  },
  {
   "cell_type": "code",
   "execution_count": 80,
   "metadata": {
    "ExecuteTime": {
     "end_time": "2020-07-02T23:03:48.223248Z",
     "start_time": "2020-07-02T23:03:48.218246Z"
    }
   },
   "outputs": [],
   "source": [
    "## Complete Example of fitting and evaluating a CNN model on the MNIST dataset is listed below.\n",
    "\n",
    "# Example of a cnn for image classification\n",
    "import pandas as pd\n",
    "import numpy as np\n",
    "\n",
    "from tensorflow.keras.datasets.mnist import load_data\n",
    "from tensorflow.keras import Sequential\n",
    "from tensorflow.keras.layers import Dense\n",
    "from tensorflow.keras.layers import Conv2D\n",
    "from tensorflow.keras.layers import MaxPool2D\n",
    "from tensorflow.keras.layers import Flatten\n",
    "from tensorflow.keras.layers import Dropout"
   ]
  },
  {
   "cell_type": "code",
   "execution_count": 81,
   "metadata": {
    "ExecuteTime": {
     "end_time": "2020-07-02T23:04:23.976383Z",
     "start_time": "2020-07-02T23:04:23.767281Z"
    }
   },
   "outputs": [],
   "source": [
    "# Load the data set\n",
    "(x_train,y_train),(x_test, y_test) = load_data()"
   ]
  },
  {
   "cell_type": "code",
   "execution_count": 84,
   "metadata": {
    "ExecuteTime": {
     "end_time": "2020-07-02T23:05:14.514874Z",
     "start_time": "2020-07-02T23:05:14.510846Z"
    }
   },
   "outputs": [
    {
     "data": {
      "text/plain": [
       "((60000, 28, 28), (60000,))"
      ]
     },
     "execution_count": 84,
     "metadata": {},
     "output_type": "execute_result"
    }
   ],
   "source": [
    "x_train.shape, y_train.shape"
   ]
  },
  {
   "cell_type": "code",
   "execution_count": 87,
   "metadata": {
    "ExecuteTime": {
     "end_time": "2020-07-02T23:09:24.915291Z",
     "start_time": "2020-07-02T23:09:24.910262Z"
    }
   },
   "outputs": [],
   "source": [
    "# Reshape data to have a single channel\n",
    "x_train = x_train.reshape((x_train.shape[0], x_train.shape[1], x_train.shape[2],1))\n",
    "x_test = x_test.reshape((x_test.shape[0], x_test.shape[1], x_test.shape[2],1))"
   ]
  },
  {
   "cell_type": "code",
   "execution_count": 88,
   "metadata": {
    "ExecuteTime": {
     "end_time": "2020-07-02T23:09:28.465676Z",
     "start_time": "2020-07-02T23:09:28.460649Z"
    }
   },
   "outputs": [
    {
     "data": {
      "text/plain": [
       "((60000, 28, 28, 1), (10000, 28, 28, 1))"
      ]
     },
     "execution_count": 88,
     "metadata": {},
     "output_type": "execute_result"
    }
   ],
   "source": [
    "x_train.shape, x_test.shape"
   ]
  },
  {
   "cell_type": "code",
   "execution_count": 91,
   "metadata": {
    "ExecuteTime": {
     "end_time": "2020-07-02T23:10:41.446278Z",
     "start_time": "2020-07-02T23:10:41.437248Z"
    }
   },
   "outputs": [
    {
     "name": "stdout",
     "output_type": "stream",
     "text": [
      "(28, 28, 1) 10\n"
     ]
    }
   ],
   "source": [
    "## Determine the shape of the input images\n",
    "in_shape = x_train.shape[1:] # Single image input shape, dimension\n",
    "\n",
    "## Determine the Number of Classes\n",
    "n_classes = len(np.unique(y_train))  # Y Classification\n",
    "print(in_shape, n_classes)"
   ]
  },
  {
   "cell_type": "code",
   "execution_count": 92,
   "metadata": {
    "ExecuteTime": {
     "end_time": "2020-07-02T23:13:22.057488Z",
     "start_time": "2020-07-02T23:13:21.832490Z"
    }
   },
   "outputs": [
    {
     "name": "stdout",
     "output_type": "stream",
     "text": [
      "(60000, 28, 28, 1) (10000, 28, 28, 1)\n"
     ]
    }
   ],
   "source": [
    "## Normalize pixel values\n",
    "x_train = x_train.astype(\"float32\")/255.0\n",
    "x_test = x_test.astype(\"float32\")/255\n",
    "\n",
    "print(x_train.shape, x_test.shape)"
   ]
  },
  {
   "cell_type": "markdown",
   "metadata": {},
   "source": [
    "## Define the Model"
   ]
  },
  {
   "cell_type": "code",
   "execution_count": 94,
   "metadata": {
    "ExecuteTime": {
     "end_time": "2020-07-02T23:22:25.484297Z",
     "start_time": "2020-07-02T23:21:17.475788Z"
    }
   },
   "outputs": [
    {
     "name": "stdout",
     "output_type": "stream",
     "text": [
      "Accuracy : 0.984\n"
     ]
    }
   ],
   "source": [
    "model = Sequential()\n",
    "model.add(Conv2D(32, (3,3), activation = \"relu\", kernel_initializer = \"he_uniform\",\n",
    "                input_shape = in_shape))\n",
    "model.add(MaxPool2D((2,2)))\n",
    "model.add(Flatten())\n",
    "model.add(Dense(100, activation = \"relu\", kernel_initializer = \"he_uniform\"))\n",
    "model.add(Dense(n_classes, activation = \"softmax\"))\n",
    "\n",
    "\n",
    "## Define Loss and optimizer\n",
    "model.compile(optimizer = \"adam\", loss = \"sparse_categorical_crossentropy\",\n",
    "              metrics = [\"accuracy\"])\n",
    "\n",
    "## fit the Model\n",
    "model.fit(x_train, y_train, epochs = 10, batch_size = 128, verbose=0 )\n",
    "\n",
    "## Evaluate the Model\n",
    "loss, acc = model.evaluate(x_test, y_test, verbose=0)\n",
    "print(\"Accuracy : %.3f\"%acc)"
   ]
  },
  {
   "cell_type": "code",
   "execution_count": 95,
   "metadata": {
    "ExecuteTime": {
     "end_time": "2020-07-02T23:22:56.497427Z",
     "start_time": "2020-07-02T23:22:56.452428Z"
    }
   },
   "outputs": [
    {
     "name": "stdout",
     "output_type": "stream",
     "text": [
      "Predicted Class =5\n"
     ]
    }
   ],
   "source": [
    "## Make a Prediction\n",
    "image = x_train[0]\n",
    "yhat = model.predict(np.asarray([image]))\n",
    "print(\"Predicted Class =%d\"%np.argmax(yhat))"
   ]
  },
  {
   "cell_type": "markdown",
   "metadata": {},
   "source": [
    "### Develop Recurrent Neural Network Models"
   ]
  },
  {
   "cell_type": "code",
   "execution_count": 97,
   "metadata": {
    "ExecuteTime": {
     "end_time": "2020-07-02T23:38:04.779412Z",
     "start_time": "2020-07-02T23:38:04.776407Z"
    }
   },
   "outputs": [],
   "source": [
    "## Recurrent Neural Networks, or RNNs for short,\n",
    "## are designed to operate upon sequences of data\n",
    "\n",
    "## They have proven to be very effective for natural language processing problems\n",
    "## where sequences of text are provided as input to the model.\n",
    "\n",
    "## RNNs have also seen some modest success for tiem series forecasting and speech recognition\n",
    "\n",
    "## The most popular type of RNN is the Long Short-Term Memory network, or LSTM for short.\n",
    "## LSTMs can be used in a model to accept a sequence of input data and make a prediction,\n",
    "# such as assign a class label or predict a numerical value like the next value or values in the sequence.\n",
    "\n",
    "\n",
    "## We will use the car sales dataset to demonstrate an LSTM RNN for univariate time series forecasting\n",
    "\n",
    "## We will use the last 12 Months of data as the test dataset\n",
    "\n",
    "## LSTMs expect each sample in the dataset to have two dimensions;\n",
    "## The first is the number of time steps (in this case it is 5)\n",
    "## and the second is the  number of observations per time step(in this case it is 1)\n",
    "\n",
    "## Because it is a regression type problem,\n",
    "## we will use a linear activation function (no activation function) in the output layer and\n",
    "## optimize the mean squared error loss function\n",
    "\n",
    "## We also evaluate the model using the mean absolute error (MAE) metric.\n",
    "\n",
    "## The complete example of fitting and evaluating an LSTM for a univariate time series forecasting problem is listed below."
   ]
  },
  {
   "cell_type": "code",
   "execution_count": 98,
   "metadata": {
    "ExecuteTime": {
     "end_time": "2020-07-02T23:38:30.156772Z",
     "start_time": "2020-07-02T23:38:17.899228Z"
    }
   },
   "outputs": [
    {
     "name": "stdout",
     "output_type": "stream",
     "text": [
      "(91, 5, 1) (12, 5, 1) (91,) (12,)\n",
      "Epoch 1/350\n",
      "3/3 - 0s - loss: 48340768.0000 - mae: 5644.7959 - val_loss: 42308148.0000 - val_mae: 5839.7031\n",
      "Epoch 2/350\n",
      "3/3 - 0s - loss: 31471830.0000 - mae: 4123.5947 - val_loss: 14134084.0000 - val_mae: 3217.8723\n",
      "Epoch 3/350\n",
      "3/3 - 0s - loss: 16461008.0000 - mae: 3210.3950 - val_loss: 28744752.0000 - val_mae: 3753.5908\n",
      "Epoch 4/350\n",
      "3/3 - 0s - loss: 15713540.0000 - mae: 3138.2178 - val_loss: 21287754.0000 - val_mae: 3453.5408\n",
      "Epoch 5/350\n",
      "3/3 - 0s - loss: 14979607.0000 - mae: 3094.7534 - val_loss: 22715808.0000 - val_mae: 3924.1296\n",
      "Epoch 6/350\n",
      "3/3 - 0s - loss: 14727320.0000 - mae: 3157.6108 - val_loss: 20608766.0000 - val_mae: 3987.3142\n",
      "Epoch 7/350\n",
      "3/3 - 0s - loss: 12768553.0000 - mae: 2909.1045 - val_loss: 25713344.0000 - val_mae: 4267.2065\n",
      "Epoch 8/350\n",
      "3/3 - 0s - loss: 11047544.0000 - mae: 2552.7520 - val_loss: 24367206.0000 - val_mae: 3929.1174\n",
      "Epoch 9/350\n",
      "3/3 - 0s - loss: 12424116.0000 - mae: 2621.8621 - val_loss: 21785878.0000 - val_mae: 3769.3145\n",
      "Epoch 10/350\n",
      "3/3 - 0s - loss: 11379720.0000 - mae: 2597.1287 - val_loss: 18248250.0000 - val_mae: 3726.6921\n",
      "Epoch 11/350\n",
      "3/3 - 0s - loss: 9796740.0000 - mae: 2489.5598 - val_loss: 16965674.0000 - val_mae: 3805.0039\n",
      "Epoch 12/350\n",
      "3/3 - 0s - loss: 9636619.0000 - mae: 2506.1768 - val_loss: 13138769.0000 - val_mae: 3275.3269\n",
      "Epoch 13/350\n",
      "3/3 - 0s - loss: 9085911.0000 - mae: 2435.4451 - val_loss: 12102615.0000 - val_mae: 3022.1074\n",
      "Epoch 14/350\n",
      "3/3 - 0s - loss: 10048034.0000 - mae: 2443.2551 - val_loss: 12979797.0000 - val_mae: 2943.9734\n",
      "Epoch 15/350\n",
      "3/3 - 0s - loss: 14929212.0000 - mae: 2573.8088 - val_loss: 12520699.0000 - val_mae: 2891.3191\n",
      "Epoch 16/350\n",
      "3/3 - 0s - loss: 8903548.0000 - mae: 2312.1755 - val_loss: 12174931.0000 - val_mae: 2691.8381\n",
      "Epoch 17/350\n",
      "3/3 - 0s - loss: 12351468.0000 - mae: 2485.6143 - val_loss: 10728360.0000 - val_mae: 2647.5159\n",
      "Epoch 18/350\n",
      "3/3 - 0s - loss: 11863409.0000 - mae: 2547.7693 - val_loss: 11983835.0000 - val_mae: 3058.1335\n",
      "Epoch 19/350\n",
      "3/3 - 0s - loss: 9996845.0000 - mae: 2571.9255 - val_loss: 9895211.0000 - val_mae: 2637.7537\n",
      "Epoch 20/350\n",
      "3/3 - 0s - loss: 7528020.5000 - mae: 2212.9595 - val_loss: 15234869.0000 - val_mae: 2920.7375\n",
      "Epoch 21/350\n",
      "3/3 - 0s - loss: 8193731.0000 - mae: 2210.4587 - val_loss: 12629044.0000 - val_mae: 2657.2048\n",
      "Epoch 22/350\n",
      "3/3 - 0s - loss: 8478477.0000 - mae: 2273.2393 - val_loss: 15976363.0000 - val_mae: 3167.3972\n",
      "Epoch 23/350\n",
      "3/3 - 0s - loss: 7848172.5000 - mae: 2167.2141 - val_loss: 15846067.0000 - val_mae: 3296.5977\n",
      "Epoch 24/350\n",
      "3/3 - 0s - loss: 7845668.5000 - mae: 2172.8083 - val_loss: 14782480.0000 - val_mae: 2964.8577\n",
      "Epoch 25/350\n",
      "3/3 - 0s - loss: 7827062.0000 - mae: 2171.8430 - val_loss: 16217205.0000 - val_mae: 3120.5264\n",
      "Epoch 26/350\n",
      "3/3 - 0s - loss: 8177967.0000 - mae: 2138.9014 - val_loss: 15651232.0000 - val_mae: 3068.2207\n",
      "Epoch 27/350\n",
      "3/3 - 0s - loss: 8072916.5000 - mae: 2155.0159 - val_loss: 15445917.0000 - val_mae: 3071.1438\n",
      "Epoch 28/350\n",
      "3/3 - 0s - loss: 8075705.5000 - mae: 2117.2454 - val_loss: 15618517.0000 - val_mae: 2965.0964\n",
      "Epoch 29/350\n",
      "3/3 - 0s - loss: 7692865.5000 - mae: 2111.1206 - val_loss: 18001850.0000 - val_mae: 3171.0618\n",
      "Epoch 30/350\n",
      "3/3 - 0s - loss: 8647108.0000 - mae: 2165.7637 - val_loss: 16263715.0000 - val_mae: 3031.0593\n",
      "Epoch 31/350\n",
      "3/3 - 0s - loss: 8559804.0000 - mae: 2185.6965 - val_loss: 19205294.0000 - val_mae: 3235.0828\n",
      "Epoch 32/350\n",
      "3/3 - 0s - loss: 7812314.0000 - mae: 2093.2942 - val_loss: 18855536.0000 - val_mae: 3402.2898\n",
      "Epoch 33/350\n",
      "3/3 - 0s - loss: 7795032.5000 - mae: 2132.0652 - val_loss: 17693926.0000 - val_mae: 3362.5042\n",
      "Epoch 34/350\n",
      "3/3 - 0s - loss: 8019760.0000 - mae: 2184.3108 - val_loss: 18993984.0000 - val_mae: 3393.7473\n",
      "Epoch 35/350\n",
      "3/3 - 0s - loss: 8014114.0000 - mae: 2218.1892 - val_loss: 16019792.0000 - val_mae: 3071.5618\n",
      "Epoch 36/350\n",
      "3/3 - 0s - loss: 7898604.5000 - mae: 2174.3264 - val_loss: 16861136.0000 - val_mae: 3336.3750\n",
      "Epoch 37/350\n",
      "3/3 - 0s - loss: 6963371.0000 - mae: 2030.2272 - val_loss: 14341619.0000 - val_mae: 3019.2004\n",
      "Epoch 38/350\n",
      "3/3 - 0s - loss: 7612704.5000 - mae: 2127.7634 - val_loss: 18365422.0000 - val_mae: 3704.0813\n",
      "Epoch 39/350\n",
      "3/3 - 0s - loss: 7749118.0000 - mae: 2120.6704 - val_loss: 18569690.0000 - val_mae: 3547.7656\n",
      "Epoch 40/350\n",
      "3/3 - 0s - loss: 7319235.5000 - mae: 2084.7485 - val_loss: 14335299.0000 - val_mae: 2978.3320\n",
      "Epoch 41/350\n",
      "3/3 - 0s - loss: 6881526.0000 - mae: 1996.6693 - val_loss: 14675213.0000 - val_mae: 3103.6028\n",
      "Epoch 42/350\n",
      "3/3 - 0s - loss: 6707497.5000 - mae: 1969.5984 - val_loss: 14792821.0000 - val_mae: 3065.6267\n",
      "Epoch 43/350\n",
      "3/3 - 0s - loss: 6771654.5000 - mae: 1952.5687 - val_loss: 12044768.0000 - val_mae: 2696.4011\n",
      "Epoch 44/350\n",
      "3/3 - 0s - loss: 6979716.0000 - mae: 1967.0010 - val_loss: 12365148.0000 - val_mae: 2783.6614\n",
      "Epoch 45/350\n",
      "3/3 - 0s - loss: 7475837.0000 - mae: 2048.9106 - val_loss: 16223863.0000 - val_mae: 3236.4280\n",
      "Epoch 46/350\n",
      "3/3 - 0s - loss: 6628353.5000 - mae: 1931.8960 - val_loss: 13046265.0000 - val_mae: 2753.9131\n",
      "Epoch 47/350\n",
      "3/3 - 0s - loss: 6748907.5000 - mae: 1945.0688 - val_loss: 14637968.0000 - val_mae: 2974.5862\n",
      "Epoch 48/350\n",
      "3/3 - 0s - loss: 6973222.0000 - mae: 1994.5316 - val_loss: 15992321.0000 - val_mae: 3230.2966\n",
      "Epoch 49/350\n",
      "3/3 - 0s - loss: 7095915.5000 - mae: 1991.3370 - val_loss: 14737480.0000 - val_mae: 2923.9590\n",
      "Epoch 50/350\n",
      "3/3 - 0s - loss: 7304895.5000 - mae: 1947.3699 - val_loss: 13206447.0000 - val_mae: 2799.1770\n",
      "Epoch 51/350\n",
      "3/3 - 0s - loss: 8591095.0000 - mae: 2124.5488 - val_loss: 12786099.0000 - val_mae: 3208.7883\n",
      "Epoch 52/350\n",
      "3/3 - 0s - loss: 8273124.0000 - mae: 2187.8650 - val_loss: 15588917.0000 - val_mae: 3305.6387\n",
      "Epoch 53/350\n",
      "3/3 - 0s - loss: 8690262.0000 - mae: 2283.4739 - val_loss: 15813283.0000 - val_mae: 3259.9758\n",
      "Epoch 54/350\n",
      "3/3 - 0s - loss: 8236169.0000 - mae: 2222.6250 - val_loss: 15523448.0000 - val_mae: 3328.9661\n",
      "Epoch 55/350\n",
      "3/3 - 0s - loss: 8476755.0000 - mae: 2268.0969 - val_loss: 16133360.0000 - val_mae: 3491.0569\n",
      "Epoch 56/350\n",
      "3/3 - 0s - loss: 7924103.5000 - mae: 2204.2080 - val_loss: 16152621.0000 - val_mae: 3269.3162\n",
      "Epoch 57/350\n",
      "3/3 - 0s - loss: 8981484.0000 - mae: 2192.7317 - val_loss: 13235876.0000 - val_mae: 3016.5842\n",
      "Epoch 58/350\n",
      "3/3 - 0s - loss: 8706874.0000 - mae: 2193.0642 - val_loss: 13861275.0000 - val_mae: 3348.5203\n",
      "Epoch 59/350\n",
      "3/3 - 0s - loss: 9512985.0000 - mae: 2363.4541 - val_loss: 13642121.0000 - val_mae: 3208.4177\n",
      "Epoch 60/350\n",
      "3/3 - 0s - loss: 9190033.0000 - mae: 2295.2104 - val_loss: 12477195.0000 - val_mae: 2927.9346\n",
      "Epoch 61/350\n",
      "3/3 - 0s - loss: 8719212.0000 - mae: 2257.9097 - val_loss: 12755320.0000 - val_mae: 3094.8562\n",
      "Epoch 62/350\n",
      "3/3 - 0s - loss: 9249510.0000 - mae: 2375.5437 - val_loss: 13200973.0000 - val_mae: 3164.9949\n",
      "Epoch 63/350\n",
      "3/3 - 0s - loss: 9681459.0000 - mae: 2403.0020 - val_loss: 14315673.0000 - val_mae: 3008.4319\n",
      "Epoch 64/350\n",
      "3/3 - 0s - loss: 10725260.0000 - mae: 2436.7102 - val_loss: 17929326.0000 - val_mae: 3467.1262\n",
      "Epoch 65/350\n",
      "3/3 - 0s - loss: 10343331.0000 - mae: 2472.5010 - val_loss: 18596346.0000 - val_mae: 3846.1687\n",
      "Epoch 66/350\n",
      "3/3 - 0s - loss: 10427927.0000 - mae: 2495.6638 - val_loss: 17213206.0000 - val_mae: 3577.6458\n",
      "Epoch 67/350\n",
      "3/3 - 0s - loss: 11154619.0000 - mae: 2624.7671 - val_loss: 13627129.0000 - val_mae: 3052.1562\n",
      "Epoch 68/350\n",
      "3/3 - 0s - loss: 11491298.0000 - mae: 2548.8887 - val_loss: 16892644.0000 - val_mae: 3513.4299\n",
      "Epoch 69/350\n",
      "3/3 - 0s - loss: 12545687.0000 - mae: 2774.2341 - val_loss: 16756885.0000 - val_mae: 3169.5891\n",
      "Epoch 70/350\n",
      "3/3 - 0s - loss: 12244567.0000 - mae: 2713.5288 - val_loss: 14967969.0000 - val_mae: 3190.7219\n",
      "Epoch 71/350\n",
      "3/3 - 0s - loss: 11620669.0000 - mae: 2665.7197 - val_loss: 22672616.0000 - val_mae: 4110.2603\n",
      "Epoch 72/350\n",
      "3/3 - 0s - loss: 11989093.0000 - mae: 2851.7712 - val_loss: 16501444.0000 - val_mae: 3255.4150\n",
      "Epoch 73/350\n",
      "3/3 - 0s - loss: 11560034.0000 - mae: 2593.6096 - val_loss: 16675667.0000 - val_mae: 3235.2625\n",
      "Epoch 74/350\n",
      "3/3 - 0s - loss: 9827787.0000 - mae: 2513.9351 - val_loss: 13159200.0000 - val_mae: 3390.0354\n",
      "Epoch 75/350\n",
      "3/3 - 0s - loss: 9523785.0000 - mae: 2477.0854 - val_loss: 17163182.0000 - val_mae: 3613.4004\n",
      "Epoch 76/350\n",
      "3/3 - 0s - loss: 9025291.0000 - mae: 2467.4341 - val_loss: 18400504.0000 - val_mae: 3129.2529\n",
      "Epoch 77/350\n"
     ]
    },
    {
     "name": "stdout",
     "output_type": "stream",
     "text": [
      "3/3 - 0s - loss: 9618576.0000 - mae: 2405.4209 - val_loss: 17997092.0000 - val_mae: 3250.5332\n",
      "Epoch 78/350\n",
      "3/3 - 0s - loss: 8601191.0000 - mae: 2342.6023 - val_loss: 17538074.0000 - val_mae: 3528.9167\n",
      "Epoch 79/350\n",
      "3/3 - 0s - loss: 8979957.0000 - mae: 2349.6514 - val_loss: 11551259.0000 - val_mae: 2812.5759\n",
      "Epoch 80/350\n",
      "3/3 - 0s - loss: 8934869.0000 - mae: 2336.9880 - val_loss: 11203411.0000 - val_mae: 2731.6719\n",
      "Epoch 81/350\n",
      "3/3 - 0s - loss: 8757510.0000 - mae: 2331.5422 - val_loss: 12297149.0000 - val_mae: 2798.5930\n",
      "Epoch 82/350\n",
      "3/3 - 0s - loss: 8479326.0000 - mae: 2367.2095 - val_loss: 10542270.0000 - val_mae: 2735.9404\n",
      "Epoch 83/350\n",
      "3/3 - 0s - loss: 8689442.0000 - mae: 2363.7427 - val_loss: 10614007.0000 - val_mae: 2725.7747\n",
      "Epoch 84/350\n",
      "3/3 - 0s - loss: 8537470.0000 - mae: 2366.1360 - val_loss: 10754973.0000 - val_mae: 2674.7200\n",
      "Epoch 85/350\n",
      "3/3 - 0s - loss: 8628635.0000 - mae: 2399.7576 - val_loss: 10463819.0000 - val_mae: 2675.5129\n",
      "Epoch 86/350\n",
      "3/3 - 0s - loss: 8399987.0000 - mae: 2368.1758 - val_loss: 10350392.0000 - val_mae: 2586.8142\n",
      "Epoch 87/350\n",
      "3/3 - 0s - loss: 8040647.5000 - mae: 2309.7686 - val_loss: 10569184.0000 - val_mae: 2612.5884\n",
      "Epoch 88/350\n",
      "3/3 - 0s - loss: 8045428.5000 - mae: 2314.1616 - val_loss: 11014415.0000 - val_mae: 2663.1550\n",
      "Epoch 89/350\n",
      "3/3 - 0s - loss: 8352934.5000 - mae: 2339.2949 - val_loss: 11322885.0000 - val_mae: 2725.8318\n",
      "Epoch 90/350\n",
      "3/3 - 0s - loss: 8575457.0000 - mae: 2330.0923 - val_loss: 10836989.0000 - val_mae: 2570.7468\n",
      "Epoch 91/350\n",
      "3/3 - 0s - loss: 8548907.0000 - mae: 2278.9858 - val_loss: 12819123.0000 - val_mae: 2923.3535\n",
      "Epoch 92/350\n",
      "3/3 - 0s - loss: 7892809.0000 - mae: 2210.9631 - val_loss: 13320560.0000 - val_mae: 2849.3848\n",
      "Epoch 93/350\n",
      "3/3 - 0s - loss: 8527831.0000 - mae: 2306.4238 - val_loss: 12795383.0000 - val_mae: 2763.3809\n",
      "Epoch 94/350\n",
      "3/3 - 0s - loss: 7772274.5000 - mae: 2208.3879 - val_loss: 13529160.0000 - val_mae: 3047.6709\n",
      "Epoch 95/350\n",
      "3/3 - 0s - loss: 8009641.0000 - mae: 2196.8330 - val_loss: 13844261.0000 - val_mae: 2952.1765\n",
      "Epoch 96/350\n",
      "3/3 - 0s - loss: 7637398.5000 - mae: 2173.6438 - val_loss: 14015968.0000 - val_mae: 2936.0232\n",
      "Epoch 97/350\n",
      "3/3 - 0s - loss: 7639791.0000 - mae: 2197.8999 - val_loss: 14031477.0000 - val_mae: 2981.9753\n",
      "Epoch 98/350\n",
      "3/3 - 0s - loss: 7841885.0000 - mae: 2231.5583 - val_loss: 14468587.0000 - val_mae: 2966.6270\n",
      "Epoch 99/350\n",
      "3/3 - 0s - loss: 7901887.5000 - mae: 2227.2786 - val_loss: 14084313.0000 - val_mae: 2903.7917\n",
      "Epoch 100/350\n",
      "3/3 - 0s - loss: 8081401.0000 - mae: 2266.1799 - val_loss: 13882012.0000 - val_mae: 2911.2292\n",
      "Epoch 101/350\n",
      "3/3 - 0s - loss: 8319672.5000 - mae: 2220.0881 - val_loss: 13646979.0000 - val_mae: 2805.9172\n",
      "Epoch 102/350\n",
      "3/3 - 0s - loss: 7864344.0000 - mae: 2211.1072 - val_loss: 15804651.0000 - val_mae: 3347.5039\n",
      "Epoch 103/350\n",
      "3/3 - 0s - loss: 7869430.0000 - mae: 2225.6838 - val_loss: 13433372.0000 - val_mae: 2795.8474\n",
      "Epoch 104/350\n",
      "3/3 - 0s - loss: 8090667.5000 - mae: 2205.0168 - val_loss: 13700391.0000 - val_mae: 2859.2117\n",
      "Epoch 105/350\n",
      "3/3 - 0s - loss: 7570108.0000 - mae: 2134.4595 - val_loss: 14333721.0000 - val_mae: 3016.8718\n",
      "Epoch 106/350\n",
      "3/3 - 0s - loss: 7551825.5000 - mae: 2165.6721 - val_loss: 14974145.0000 - val_mae: 3090.1145\n",
      "Epoch 107/350\n",
      "3/3 - 0s - loss: 7614915.0000 - mae: 2154.7129 - val_loss: 14457707.0000 - val_mae: 2841.0330\n",
      "Epoch 108/350\n",
      "3/3 - 0s - loss: 8014652.5000 - mae: 2200.2209 - val_loss: 14497417.0000 - val_mae: 2931.6843\n",
      "Epoch 109/350\n",
      "3/3 - 0s - loss: 7726329.5000 - mae: 2187.1455 - val_loss: 15523299.0000 - val_mae: 3088.4734\n",
      "Epoch 110/350\n",
      "3/3 - 0s - loss: 7745302.5000 - mae: 2150.0371 - val_loss: 15469717.0000 - val_mae: 3182.3132\n",
      "Epoch 111/350\n",
      "3/3 - 0s - loss: 7274669.0000 - mae: 2062.3562 - val_loss: 15573341.0000 - val_mae: 2993.8171\n",
      "Epoch 112/350\n",
      "3/3 - 0s - loss: 7488147.5000 - mae: 2220.7202 - val_loss: 15182544.0000 - val_mae: 3035.8567\n",
      "Epoch 113/350\n",
      "3/3 - 0s - loss: 6968009.0000 - mae: 2103.8691 - val_loss: 14412760.0000 - val_mae: 3169.8691\n",
      "Epoch 114/350\n",
      "3/3 - 0s - loss: 7705790.5000 - mae: 2246.6885 - val_loss: 15067677.0000 - val_mae: 3016.1631\n",
      "Epoch 115/350\n",
      "3/3 - 0s - loss: 7402985.0000 - mae: 2203.5657 - val_loss: 15480121.0000 - val_mae: 3067.9827\n",
      "Epoch 116/350\n",
      "3/3 - 0s - loss: 8558937.0000 - mae: 2305.6062 - val_loss: 15927677.0000 - val_mae: 3315.6516\n",
      "Epoch 117/350\n",
      "3/3 - 0s - loss: 7470998.0000 - mae: 2146.4485 - val_loss: 15453509.0000 - val_mae: 3097.0564\n",
      "Epoch 118/350\n",
      "3/3 - 0s - loss: 7494807.0000 - mae: 2224.8076 - val_loss: 15005883.0000 - val_mae: 3049.8848\n",
      "Epoch 119/350\n",
      "3/3 - 0s - loss: 8141007.0000 - mae: 2232.9973 - val_loss: 15546597.0000 - val_mae: 3127.1985\n",
      "Epoch 120/350\n",
      "3/3 - 0s - loss: 9018056.0000 - mae: 2408.4185 - val_loss: 13519149.0000 - val_mae: 2972.5120\n",
      "Epoch 121/350\n",
      "3/3 - 0s - loss: 8802417.0000 - mae: 2362.3210 - val_loss: 13820071.0000 - val_mae: 3041.9036\n",
      "Epoch 122/350\n",
      "3/3 - 0s - loss: 8373684.0000 - mae: 2316.0459 - val_loss: 14350676.0000 - val_mae: 3054.2637\n",
      "Epoch 123/350\n",
      "3/3 - 0s - loss: 8142200.5000 - mae: 2352.8730 - val_loss: 13526915.0000 - val_mae: 2945.3479\n",
      "Epoch 124/350\n",
      "3/3 - 0s - loss: 8227516.5000 - mae: 2314.5669 - val_loss: 14995583.0000 - val_mae: 3314.8855\n",
      "Epoch 125/350\n",
      "3/3 - 0s - loss: 7658279.5000 - mae: 2146.4958 - val_loss: 11566088.0000 - val_mae: 2775.3291\n",
      "Epoch 126/350\n",
      "3/3 - 0s - loss: 8941439.0000 - mae: 2387.0171 - val_loss: 12383021.0000 - val_mae: 2850.5559\n",
      "Epoch 127/350\n",
      "3/3 - 0s - loss: 8426461.0000 - mae: 2199.3833 - val_loss: 12942804.0000 - val_mae: 3020.3965\n",
      "Epoch 128/350\n",
      "3/3 - 0s - loss: 8789256.0000 - mae: 2367.9900 - val_loss: 12563979.0000 - val_mae: 2984.4236\n",
      "Epoch 129/350\n",
      "3/3 - 0s - loss: 8786114.0000 - mae: 2368.5715 - val_loss: 13198883.0000 - val_mae: 3042.8030\n",
      "Epoch 130/350\n",
      "3/3 - 0s - loss: 7842349.0000 - mae: 2207.5476 - val_loss: 12621531.0000 - val_mae: 2895.5837\n",
      "Epoch 131/350\n",
      "3/3 - 0s - loss: 8206009.5000 - mae: 2344.3010 - val_loss: 12308763.0000 - val_mae: 2916.9797\n",
      "Epoch 132/350\n",
      "3/3 - 0s - loss: 8894631.0000 - mae: 2300.6201 - val_loss: 12211671.0000 - val_mae: 2812.3503\n",
      "Epoch 133/350\n",
      "3/3 - 0s - loss: 8521599.0000 - mae: 2347.9875 - val_loss: 13452725.0000 - val_mae: 3099.4187\n",
      "Epoch 134/350\n",
      "3/3 - 0s - loss: 8736091.0000 - mae: 2359.5579 - val_loss: 13368913.0000 - val_mae: 2990.8264\n",
      "Epoch 135/350\n",
      "3/3 - 0s - loss: 8003284.5000 - mae: 2185.2996 - val_loss: 12585560.0000 - val_mae: 2905.1179\n",
      "Epoch 136/350\n",
      "3/3 - 0s - loss: 8279127.0000 - mae: 2358.0527 - val_loss: 12337261.0000 - val_mae: 2885.6379\n",
      "Epoch 137/350\n",
      "3/3 - 0s - loss: 7874788.0000 - mae: 2156.3042 - val_loss: 14683363.0000 - val_mae: 3139.7761\n",
      "Epoch 138/350\n",
      "3/3 - 0s - loss: 7823814.5000 - mae: 2159.9194 - val_loss: 13213864.0000 - val_mae: 2936.0339\n",
      "Epoch 139/350\n",
      "3/3 - 0s - loss: 8454988.0000 - mae: 2337.3469 - val_loss: 12934071.0000 - val_mae: 2855.9031\n",
      "Epoch 140/350\n",
      "3/3 - 0s - loss: 8264436.5000 - mae: 2195.0225 - val_loss: 13119619.0000 - val_mae: 2952.3730\n",
      "Epoch 141/350\n",
      "3/3 - 0s - loss: 8437665.0000 - mae: 2334.8650 - val_loss: 12979375.0000 - val_mae: 2951.0310\n",
      "Epoch 142/350\n",
      "3/3 - 0s - loss: 8188842.0000 - mae: 2304.2388 - val_loss: 12682419.0000 - val_mae: 2889.0811\n",
      "Epoch 143/350\n",
      "3/3 - 0s - loss: 7883271.0000 - mae: 2211.1667 - val_loss: 12268107.0000 - val_mae: 2817.0613\n",
      "Epoch 144/350\n",
      "3/3 - 0s - loss: 7969411.0000 - mae: 2259.2388 - val_loss: 11884640.0000 - val_mae: 2746.2825\n",
      "Epoch 145/350\n",
      "3/3 - 0s - loss: 8019758.5000 - mae: 2208.4246 - val_loss: 12111021.0000 - val_mae: 2702.3142\n",
      "Epoch 146/350\n",
      "3/3 - 0s - loss: 7923558.5000 - mae: 2262.8271 - val_loss: 12372161.0000 - val_mae: 2863.2981\n",
      "Epoch 147/350\n",
      "3/3 - 0s - loss: 7849250.0000 - mae: 2256.7488 - val_loss: 12806912.0000 - val_mae: 2916.1631\n",
      "Epoch 148/350\n",
      "3/3 - 0s - loss: 8048726.0000 - mae: 2185.0554 - val_loss: 12371881.0000 - val_mae: 2816.4998\n",
      "Epoch 149/350\n",
      "3/3 - 0s - loss: 7844214.0000 - mae: 2179.7705 - val_loss: 13914695.0000 - val_mae: 3069.4055\n",
      "Epoch 150/350\n",
      "3/3 - 0s - loss: 9617471.0000 - mae: 2458.7092 - val_loss: 13980209.0000 - val_mae: 3095.0007\n",
      "Epoch 151/350\n",
      "3/3 - 0s - loss: 9727595.0000 - mae: 2304.9172 - val_loss: 12146952.0000 - val_mae: 2844.4001\n",
      "Epoch 152/350\n",
      "3/3 - 0s - loss: 7643980.0000 - mae: 2212.1338 - val_loss: 12470467.0000 - val_mae: 2882.6042\n",
      "Epoch 153/350\n",
      "3/3 - 0s - loss: 7954446.0000 - mae: 2284.7490 - val_loss: 12153765.0000 - val_mae: 2790.9417\n"
     ]
    },
    {
     "name": "stdout",
     "output_type": "stream",
     "text": [
      "Epoch 154/350\n",
      "3/3 - 0s - loss: 8609515.0000 - mae: 2250.5298 - val_loss: 12361253.0000 - val_mae: 2802.3582\n",
      "Epoch 155/350\n",
      "3/3 - 0s - loss: 7990626.5000 - mae: 2313.2104 - val_loss: 12501563.0000 - val_mae: 2898.1252\n",
      "Epoch 156/350\n",
      "3/3 - 0s - loss: 7748246.5000 - mae: 2228.2737 - val_loss: 13124340.0000 - val_mae: 2968.4131\n",
      "Epoch 157/350\n",
      "3/3 - 0s - loss: 8226599.5000 - mae: 2218.8389 - val_loss: 12192355.0000 - val_mae: 2824.8640\n",
      "Epoch 158/350\n",
      "3/3 - 0s - loss: 7975887.0000 - mae: 2300.9707 - val_loss: 11671264.0000 - val_mae: 2756.7703\n",
      "Epoch 159/350\n",
      "3/3 - 0s - loss: 8015436.0000 - mae: 2200.3381 - val_loss: 12044905.0000 - val_mae: 2819.7278\n",
      "Epoch 160/350\n",
      "3/3 - 0s - loss: 7855766.0000 - mae: 2215.5142 - val_loss: 12530928.0000 - val_mae: 2887.6497\n",
      "Epoch 161/350\n",
      "3/3 - 0s - loss: 7850617.5000 - mae: 2203.7661 - val_loss: 12216561.0000 - val_mae: 2859.1213\n",
      "Epoch 162/350\n",
      "3/3 - 0s - loss: 7908491.5000 - mae: 2215.3325 - val_loss: 11744061.0000 - val_mae: 2749.6150\n",
      "Epoch 163/350\n",
      "3/3 - 0s - loss: 7632192.0000 - mae: 2177.8643 - val_loss: 11850200.0000 - val_mae: 2826.0977\n",
      "Epoch 164/350\n",
      "3/3 - 0s - loss: 7596434.5000 - mae: 2148.5754 - val_loss: 11587189.0000 - val_mae: 2770.4543\n",
      "Epoch 165/350\n",
      "3/3 - 0s - loss: 7837682.5000 - mae: 2196.2300 - val_loss: 11609277.0000 - val_mae: 2800.1960\n",
      "Epoch 166/350\n",
      "3/3 - 0s - loss: 7735851.5000 - mae: 2156.8457 - val_loss: 11861525.0000 - val_mae: 2805.6218\n",
      "Epoch 167/350\n",
      "3/3 - 0s - loss: 7963065.0000 - mae: 2282.3765 - val_loss: 11596156.0000 - val_mae: 2717.8113\n",
      "Epoch 168/350\n",
      "3/3 - 0s - loss: 7818226.0000 - mae: 2148.8083 - val_loss: 12457531.0000 - val_mae: 2936.3381\n",
      "Epoch 169/350\n",
      "3/3 - 0s - loss: 8069179.0000 - mae: 2244.9175 - val_loss: 12227035.0000 - val_mae: 2840.7607\n",
      "Epoch 170/350\n",
      "3/3 - 0s - loss: 8130634.5000 - mae: 2260.3794 - val_loss: 12420625.0000 - val_mae: 2832.4844\n",
      "Epoch 171/350\n",
      "3/3 - 0s - loss: 7816254.5000 - mae: 2147.5112 - val_loss: 12166712.0000 - val_mae: 2771.0764\n",
      "Epoch 172/350\n",
      "3/3 - 0s - loss: 8014739.0000 - mae: 2254.7734 - val_loss: 12142684.0000 - val_mae: 2785.7119\n",
      "Epoch 173/350\n",
      "3/3 - 0s - loss: 7556946.5000 - mae: 2150.5447 - val_loss: 12558227.0000 - val_mae: 2892.2664\n",
      "Epoch 174/350\n",
      "3/3 - 0s - loss: 8137771.5000 - mae: 2204.5754 - val_loss: 12794412.0000 - val_mae: 2860.0361\n",
      "Epoch 175/350\n",
      "3/3 - 0s - loss: 7850500.0000 - mae: 2150.4233 - val_loss: 11890240.0000 - val_mae: 2712.4045\n",
      "Epoch 176/350\n",
      "3/3 - 0s - loss: 7850714.5000 - mae: 2220.3140 - val_loss: 13682600.0000 - val_mae: 2990.7129\n",
      "Epoch 177/350\n",
      "3/3 - 0s - loss: 7812852.5000 - mae: 2163.8950 - val_loss: 14172152.0000 - val_mae: 3141.3613\n",
      "Epoch 178/350\n",
      "3/3 - 0s - loss: 8520679.0000 - mae: 2265.3589 - val_loss: 11844623.0000 - val_mae: 2769.1367\n",
      "Epoch 179/350\n",
      "3/3 - 0s - loss: 8232650.5000 - mae: 2227.7703 - val_loss: 11598795.0000 - val_mae: 2759.3674\n",
      "Epoch 180/350\n",
      "3/3 - 0s - loss: 8044672.5000 - mae: 2175.9485 - val_loss: 11754756.0000 - val_mae: 2801.2175\n",
      "Epoch 181/350\n",
      "3/3 - 0s - loss: 8023708.0000 - mae: 2194.4314 - val_loss: 11564020.0000 - val_mae: 2749.7354\n",
      "Epoch 182/350\n",
      "3/3 - 0s - loss: 8095792.0000 - mae: 2218.9731 - val_loss: 11711640.0000 - val_mae: 2765.0754\n",
      "Epoch 183/350\n",
      "3/3 - 0s - loss: 7766491.5000 - mae: 2167.3906 - val_loss: 12276472.0000 - val_mae: 2901.9861\n",
      "Epoch 184/350\n",
      "3/3 - 0s - loss: 8059293.0000 - mae: 2167.8784 - val_loss: 12311189.0000 - val_mae: 2850.8757\n",
      "Epoch 185/350\n",
      "3/3 - 0s - loss: 8303996.5000 - mae: 2246.6079 - val_loss: 12419740.0000 - val_mae: 2849.9324\n",
      "Epoch 186/350\n",
      "3/3 - 0s - loss: 8049698.5000 - mae: 2217.4062 - val_loss: 13776279.0000 - val_mae: 3120.1504\n",
      "Epoch 187/350\n",
      "3/3 - 0s - loss: 7959421.0000 - mae: 2137.2019 - val_loss: 11803141.0000 - val_mae: 2737.6895\n",
      "Epoch 188/350\n",
      "3/3 - 0s - loss: 8535511.0000 - mae: 2354.2422 - val_loss: 13101336.0000 - val_mae: 2947.7292\n",
      "Epoch 189/350\n",
      "3/3 - 0s - loss: 8080550.5000 - mae: 2189.8372 - val_loss: 14180904.0000 - val_mae: 3170.6560\n",
      "Epoch 190/350\n",
      "3/3 - 0s - loss: 7910505.5000 - mae: 2204.0767 - val_loss: 13811600.0000 - val_mae: 3032.6296\n",
      "Epoch 191/350\n",
      "3/3 - 0s - loss: 7944560.5000 - mae: 2267.0964 - val_loss: 14029955.0000 - val_mae: 3142.5508\n",
      "Epoch 192/350\n",
      "3/3 - 0s - loss: 8191678.5000 - mae: 2218.4133 - val_loss: 13340349.0000 - val_mae: 2979.2449\n",
      "Epoch 193/350\n",
      "3/3 - 0s - loss: 8049948.0000 - mae: 2329.0247 - val_loss: 13735513.0000 - val_mae: 2992.0139\n",
      "Epoch 194/350\n",
      "3/3 - 0s - loss: 7918707.5000 - mae: 2197.5938 - val_loss: 14385827.0000 - val_mae: 3191.6428\n",
      "Epoch 195/350\n",
      "3/3 - 0s - loss: 7399271.5000 - mae: 2122.0935 - val_loss: 13944876.0000 - val_mae: 3017.9863\n",
      "Epoch 196/350\n",
      "3/3 - 0s - loss: 7922820.0000 - mae: 2305.5017 - val_loss: 13261597.0000 - val_mae: 2950.8750\n",
      "Epoch 197/350\n",
      "3/3 - 0s - loss: 7944231.5000 - mae: 2190.8123 - val_loss: 12645085.0000 - val_mae: 2949.4207\n",
      "Epoch 198/350\n",
      "3/3 - 0s - loss: 7480839.5000 - mae: 2170.9829 - val_loss: 13339175.0000 - val_mae: 2945.1331\n",
      "Epoch 199/350\n",
      "3/3 - 0s - loss: 8050004.5000 - mae: 2282.3145 - val_loss: 12976047.0000 - val_mae: 3057.2722\n",
      "Epoch 200/350\n",
      "3/3 - 0s - loss: 7262125.0000 - mae: 2107.5356 - val_loss: 13088075.0000 - val_mae: 2879.2883\n",
      "Epoch 201/350\n",
      "3/3 - 0s - loss: 7904560.0000 - mae: 2281.6377 - val_loss: 12599344.0000 - val_mae: 2917.3210\n",
      "Epoch 202/350\n",
      "3/3 - 0s - loss: 7970731.5000 - mae: 2201.2397 - val_loss: 13167112.0000 - val_mae: 3108.7722\n",
      "Epoch 203/350\n",
      "3/3 - 0s - loss: 7535420.5000 - mae: 2211.4216 - val_loss: 13592032.0000 - val_mae: 2955.5002\n",
      "Epoch 204/350\n",
      "3/3 - 0s - loss: 7728799.0000 - mae: 2271.1978 - val_loss: 12880728.0000 - val_mae: 3069.4695\n",
      "Epoch 205/350\n",
      "3/3 - 0s - loss: 7489291.5000 - mae: 2116.5762 - val_loss: 12485467.0000 - val_mae: 2882.7219\n",
      "Epoch 206/350\n",
      "3/3 - 0s - loss: 7290686.0000 - mae: 2152.4736 - val_loss: 12783563.0000 - val_mae: 2871.2891\n",
      "Epoch 207/350\n",
      "3/3 - 0s - loss: 7153453.0000 - mae: 2102.5728 - val_loss: 12888661.0000 - val_mae: 3057.0293\n",
      "Epoch 208/350\n",
      "3/3 - 0s - loss: 7151358.5000 - mae: 2069.5574 - val_loss: 12689597.0000 - val_mae: 2873.4131\n",
      "Epoch 209/350\n",
      "3/3 - 0s - loss: 7287792.5000 - mae: 2147.7434 - val_loss: 12664032.0000 - val_mae: 2868.1985\n",
      "Epoch 210/350\n",
      "3/3 - 0s - loss: 7346505.0000 - mae: 2116.2219 - val_loss: 12884875.0000 - val_mae: 3068.4553\n",
      "Epoch 211/350\n",
      "3/3 - 0s - loss: 6948758.5000 - mae: 2020.6802 - val_loss: 13292219.0000 - val_mae: 2897.1511\n",
      "Epoch 212/350\n",
      "3/3 - 0s - loss: 7610817.5000 - mae: 2230.5061 - val_loss: 12653811.0000 - val_mae: 2880.9109\n",
      "Epoch 213/350\n",
      "3/3 - 0s - loss: 8028822.5000 - mae: 2152.7185 - val_loss: 13238029.0000 - val_mae: 3133.1338\n",
      "Epoch 214/350\n",
      "3/3 - 0s - loss: 7169538.0000 - mae: 2065.9810 - val_loss: 13961724.0000 - val_mae: 2970.2307\n",
      "Epoch 215/350\n",
      "3/3 - 0s - loss: 7575364.0000 - mae: 2159.0247 - val_loss: 13375827.0000 - val_mae: 3158.2971\n",
      "Epoch 216/350\n",
      "3/3 - 0s - loss: 7713593.0000 - mae: 2149.8650 - val_loss: 12639603.0000 - val_mae: 2941.1853\n",
      "Epoch 217/350\n",
      "3/3 - 0s - loss: 7321412.0000 - mae: 2076.5681 - val_loss: 12599947.0000 - val_mae: 2932.1895\n",
      "Epoch 218/350\n",
      "3/3 - 0s - loss: 7163536.0000 - mae: 2087.1143 - val_loss: 12988605.0000 - val_mae: 2859.8250\n",
      "Epoch 219/350\n",
      "3/3 - 0s - loss: 7050812.5000 - mae: 2099.0288 - val_loss: 13065965.0000 - val_mae: 3103.9180\n",
      "Epoch 220/350\n",
      "3/3 - 0s - loss: 7069739.5000 - mae: 2038.2385 - val_loss: 12829327.0000 - val_mae: 2887.8035\n",
      "Epoch 221/350\n",
      "3/3 - 0s - loss: 6986690.0000 - mae: 2071.3674 - val_loss: 12962277.0000 - val_mae: 2897.1531\n",
      "Epoch 222/350\n",
      "3/3 - 0s - loss: 6947096.0000 - mae: 2075.3003 - val_loss: 12651149.0000 - val_mae: 2940.1511\n",
      "Epoch 223/350\n",
      "3/3 - 0s - loss: 7058840.5000 - mae: 2043.2179 - val_loss: 12543603.0000 - val_mae: 2951.3965\n",
      "Epoch 224/350\n",
      "3/3 - 0s - loss: 6968018.5000 - mae: 2066.0110 - val_loss: 12779659.0000 - val_mae: 2846.1179\n",
      "Epoch 225/350\n",
      "3/3 - 0s - loss: 6925952.5000 - mae: 2062.9448 - val_loss: 12571584.0000 - val_mae: 2986.4854\n",
      "Epoch 226/350\n",
      "3/3 - 0s - loss: 7295456.5000 - mae: 2067.2749 - val_loss: 12558789.0000 - val_mae: 2904.4695\n",
      "Epoch 227/350\n",
      "3/3 - 0s - loss: 6999902.0000 - mae: 2118.1416 - val_loss: 13174489.0000 - val_mae: 2907.8518\n",
      "Epoch 228/350\n",
      "3/3 - 0s - loss: 7308405.5000 - mae: 2120.0430 - val_loss: 12869392.0000 - val_mae: 3076.3516\n",
      "Epoch 229/350\n",
      "3/3 - 0s - loss: 6984332.5000 - mae: 2035.9087 - val_loss: 13032968.0000 - val_mae: 2903.8613\n"
     ]
    },
    {
     "name": "stdout",
     "output_type": "stream",
     "text": [
      "Epoch 230/350\n",
      "3/3 - 0s - loss: 6924056.0000 - mae: 2068.4495 - val_loss: 12774288.0000 - val_mae: 3005.2229\n",
      "Epoch 231/350\n",
      "3/3 - 0s - loss: 7368932.0000 - mae: 2073.7366 - val_loss: 12674360.0000 - val_mae: 2960.6687\n",
      "Epoch 232/350\n",
      "3/3 - 0s - loss: 6794196.5000 - mae: 2033.0607 - val_loss: 13341939.0000 - val_mae: 2898.9543\n",
      "Epoch 233/350\n",
      "3/3 - 0s - loss: 7069853.5000 - mae: 2094.1091 - val_loss: 12584061.0000 - val_mae: 2977.9680\n",
      "Epoch 234/350\n",
      "3/3 - 0s - loss: 7197061.5000 - mae: 2061.0859 - val_loss: 12615123.0000 - val_mae: 2867.0164\n",
      "Epoch 235/350\n",
      "3/3 - 0s - loss: 7706617.0000 - mae: 2203.9744 - val_loss: 12639891.0000 - val_mae: 2873.0203\n",
      "Epoch 236/350\n",
      "3/3 - 0s - loss: 6700182.0000 - mae: 1973.6749 - val_loss: 13583155.0000 - val_mae: 3219.4099\n",
      "Epoch 237/350\n",
      "3/3 - 0s - loss: 7445058.0000 - mae: 2110.3413 - val_loss: 13477231.0000 - val_mae: 2903.7737\n",
      "Epoch 238/350\n",
      "3/3 - 0s - loss: 7109152.5000 - mae: 2101.1711 - val_loss: 12666027.0000 - val_mae: 3013.3621\n",
      "Epoch 239/350\n",
      "3/3 - 0s - loss: 7573294.5000 - mae: 2137.3003 - val_loss: 12642705.0000 - val_mae: 2999.4480\n",
      "Epoch 240/350\n",
      "3/3 - 0s - loss: 6812795.0000 - mae: 2020.1774 - val_loss: 14045296.0000 - val_mae: 2966.1230\n",
      "Epoch 241/350\n",
      "3/3 - 0s - loss: 7172564.5000 - mae: 2074.1455 - val_loss: 13070400.0000 - val_mae: 3125.3655\n",
      "Epoch 242/350\n",
      "3/3 - 0s - loss: 6995379.5000 - mae: 2018.4087 - val_loss: 12925465.0000 - val_mae: 2896.1492\n",
      "Epoch 243/350\n",
      "3/3 - 0s - loss: 7102357.0000 - mae: 2108.1233 - val_loss: 13104395.0000 - val_mae: 2901.2883\n",
      "Epoch 244/350\n",
      "3/3 - 0s - loss: 6902057.0000 - mae: 2057.6523 - val_loss: 13390893.0000 - val_mae: 3183.6934\n",
      "Epoch 245/350\n",
      "3/3 - 0s - loss: 6993884.0000 - mae: 2028.0546 - val_loss: 13216859.0000 - val_mae: 2905.4231\n",
      "Epoch 246/350\n",
      "3/3 - 0s - loss: 7044747.5000 - mae: 2079.5686 - val_loss: 13003647.0000 - val_mae: 2895.1501\n",
      "Epoch 247/350\n",
      "3/3 - 0s - loss: 6784939.0000 - mae: 2032.0721 - val_loss: 12732256.0000 - val_mae: 2935.4812\n",
      "Epoch 248/350\n",
      "3/3 - 0s - loss: 6789075.0000 - mae: 1997.9320 - val_loss: 12713536.0000 - val_mae: 2960.8535\n",
      "Epoch 249/350\n",
      "3/3 - 0s - loss: 6917491.5000 - mae: 2046.1394 - val_loss: 13114504.0000 - val_mae: 2897.0891\n",
      "Epoch 250/350\n",
      "3/3 - 0s - loss: 7442773.0000 - mae: 2104.1045 - val_loss: 12736976.0000 - val_mae: 3011.5703\n",
      "Epoch 251/350\n",
      "3/3 - 0s - loss: 6579812.5000 - mae: 1987.6144 - val_loss: 13890235.0000 - val_mae: 2940.2263\n",
      "Epoch 252/350\n",
      "3/3 - 0s - loss: 7118939.5000 - mae: 2107.8926 - val_loss: 12691749.0000 - val_mae: 2972.2297\n",
      "Epoch 253/350\n",
      "3/3 - 0s - loss: 6866553.0000 - mae: 2034.9481 - val_loss: 12703671.0000 - val_mae: 2946.1062\n",
      "Epoch 254/350\n",
      "3/3 - 0s - loss: 6771061.5000 - mae: 2022.1813 - val_loss: 12850899.0000 - val_mae: 2872.5144\n",
      "Epoch 255/350\n",
      "3/3 - 0s - loss: 6729231.0000 - mae: 2022.6072 - val_loss: 12898377.0000 - val_mae: 2891.2239\n",
      "Epoch 256/350\n",
      "3/3 - 0s - loss: 6753675.5000 - mae: 2000.6971 - val_loss: 12765523.0000 - val_mae: 2970.6140\n",
      "Epoch 257/350\n",
      "3/3 - 0s - loss: 6660556.5000 - mae: 1990.2010 - val_loss: 13201981.0000 - val_mae: 2905.2566\n",
      "Epoch 258/350\n",
      "3/3 - 0s - loss: 6759798.0000 - mae: 2037.3149 - val_loss: 12759287.0000 - val_mae: 2919.9727\n",
      "Epoch 259/350\n",
      "3/3 - 0s - loss: 6727936.0000 - mae: 2017.7776 - val_loss: 12754501.0000 - val_mae: 2996.4817\n",
      "Epoch 260/350\n",
      "3/3 - 0s - loss: 6809562.5000 - mae: 2032.0481 - val_loss: 13268580.0000 - val_mae: 2894.6575\n",
      "Epoch 261/350\n",
      "3/3 - 0s - loss: 6815239.0000 - mae: 2047.5067 - val_loss: 12775689.0000 - val_mae: 2962.1035\n",
      "Epoch 262/350\n",
      "3/3 - 0s - loss: 6788890.0000 - mae: 2002.5962 - val_loss: 12855475.0000 - val_mae: 2907.4758\n",
      "Epoch 263/350\n",
      "3/3 - 0s - loss: 6710846.0000 - mae: 2021.3601 - val_loss: 13093715.0000 - val_mae: 2893.6924\n",
      "Epoch 264/350\n",
      "3/3 - 0s - loss: 6706654.0000 - mae: 2021.8939 - val_loss: 12827512.0000 - val_mae: 3028.9727\n",
      "Epoch 265/350\n",
      "3/3 - 0s - loss: 7507681.0000 - mae: 2130.3828 - val_loss: 12871168.0000 - val_mae: 2903.2744\n",
      "Epoch 266/350\n",
      "3/3 - 0s - loss: 6822095.0000 - mae: 2034.7761 - val_loss: 13185336.0000 - val_mae: 2896.0686\n",
      "Epoch 267/350\n",
      "3/3 - 0s - loss: 6773225.0000 - mae: 2018.9773 - val_loss: 12878180.0000 - val_mae: 2968.1331\n",
      "Epoch 268/350\n",
      "3/3 - 0s - loss: 6797267.0000 - mae: 2005.2614 - val_loss: 13097568.0000 - val_mae: 2902.1738\n",
      "Epoch 269/350\n",
      "3/3 - 0s - loss: 6774523.0000 - mae: 2022.5697 - val_loss: 13119541.0000 - val_mae: 2900.5232\n",
      "Epoch 270/350\n",
      "3/3 - 0s - loss: 6695057.0000 - mae: 2019.7458 - val_loss: 12917652.0000 - val_mae: 3059.2971\n",
      "Epoch 271/350\n",
      "3/3 - 0s - loss: 6782606.0000 - mae: 1981.5800 - val_loss: 13376313.0000 - val_mae: 2900.9375\n",
      "Epoch 272/350\n",
      "3/3 - 0s - loss: 6924190.0000 - mae: 2043.0728 - val_loss: 12809201.0000 - val_mae: 2970.2000\n",
      "Epoch 273/350\n",
      "3/3 - 0s - loss: 6697012.5000 - mae: 2001.5765 - val_loss: 12815133.0000 - val_mae: 2995.9890\n",
      "Epoch 274/350\n",
      "3/3 - 0s - loss: 6771145.0000 - mae: 2001.4380 - val_loss: 12959904.0000 - val_mae: 2892.7634\n",
      "Epoch 275/350\n",
      "3/3 - 0s - loss: 6774304.5000 - mae: 2026.1619 - val_loss: 13311893.0000 - val_mae: 2903.7266\n",
      "Epoch 276/350\n",
      "3/3 - 0s - loss: 6681887.5000 - mae: 1980.2390 - val_loss: 12937301.0000 - val_mae: 3065.7029\n",
      "Epoch 277/350\n",
      "3/3 - 0s - loss: 6698714.0000 - mae: 1991.3202 - val_loss: 13284925.0000 - val_mae: 2894.2908\n",
      "Epoch 278/350\n",
      "3/3 - 0s - loss: 6778210.5000 - mae: 2016.5920 - val_loss: 13150799.0000 - val_mae: 2890.7200\n",
      "Epoch 279/350\n",
      "3/3 - 0s - loss: 6764469.5000 - mae: 2020.8978 - val_loss: 12949760.0000 - val_mae: 2924.4495\n",
      "Epoch 280/350\n",
      "3/3 - 0s - loss: 6690849.0000 - mae: 2010.6810 - val_loss: 12953949.0000 - val_mae: 2922.1184\n",
      "Epoch 281/350\n",
      "3/3 - 0s - loss: 7151015.5000 - mae: 2101.2600 - val_loss: 13194163.0000 - val_mae: 2882.6211\n",
      "Epoch 282/350\n",
      "3/3 - 0s - loss: 7291784.5000 - mae: 2134.4175 - val_loss: 13038109.0000 - val_mae: 3106.2502\n",
      "Epoch 283/350\n",
      "3/3 - 0s - loss: 7001098.5000 - mae: 2070.2290 - val_loss: 15578152.0000 - val_mae: 3105.9648\n",
      "Epoch 284/350\n",
      "3/3 - 0s - loss: 7388340.0000 - mae: 2124.7520 - val_loss: 13101233.0000 - val_mae: 3108.0715\n",
      "Epoch 285/350\n",
      "3/3 - 0s - loss: 6921905.0000 - mae: 2021.4349 - val_loss: 13289751.0000 - val_mae: 2904.0901\n",
      "Epoch 286/350\n",
      "3/3 - 0s - loss: 6670919.0000 - mae: 2014.0165 - val_loss: 12967771.0000 - val_mae: 2969.8152\n",
      "Epoch 287/350\n",
      "3/3 - 0s - loss: 6768644.0000 - mae: 1996.7910 - val_loss: 13070693.0000 - val_mae: 2932.5271\n",
      "Epoch 288/350\n",
      "3/3 - 0s - loss: 6880377.0000 - mae: 2077.4458 - val_loss: 13549549.0000 - val_mae: 2895.1946\n",
      "Epoch 289/350\n",
      "3/3 - 0s - loss: 7043539.5000 - mae: 2045.8425 - val_loss: 13196605.0000 - val_mae: 3124.6240\n",
      "Epoch 290/350\n",
      "3/3 - 0s - loss: 6933483.5000 - mae: 2043.9044 - val_loss: 14456037.0000 - val_mae: 2947.4812\n",
      "Epoch 291/350\n",
      "3/3 - 0s - loss: 7039966.0000 - mae: 2043.4371 - val_loss: 13058684.0000 - val_mae: 3041.2532\n",
      "Epoch 292/350\n",
      "3/3 - 0s - loss: 6747871.5000 - mae: 2042.4495 - val_loss: 13363751.0000 - val_mae: 2894.6689\n",
      "Epoch 293/350\n",
      "3/3 - 0s - loss: 6921531.0000 - mae: 2032.7915 - val_loss: 13093153.0000 - val_mae: 2958.4543\n",
      "Epoch 294/350\n",
      "3/3 - 0s - loss: 7132115.5000 - mae: 2111.7849 - val_loss: 13367865.0000 - val_mae: 2904.5742\n",
      "Epoch 295/350\n",
      "3/3 - 0s - loss: 7877556.5000 - mae: 2213.8245 - val_loss: 11527363.0000 - val_mae: 2928.8210\n",
      "Epoch 296/350\n",
      "3/3 - 0s - loss: 8984025.0000 - mae: 2354.2842 - val_loss: 11743011.0000 - val_mae: 2889.5437\n",
      "Epoch 297/350\n",
      "3/3 - 0s - loss: 7490513.5000 - mae: 2124.4666 - val_loss: 13562595.0000 - val_mae: 2977.9895\n",
      "Epoch 298/350\n",
      "3/3 - 0s - loss: 7099049.0000 - mae: 2089.4866 - val_loss: 13455111.0000 - val_mae: 3008.3223\n",
      "Epoch 299/350\n",
      "3/3 - 0s - loss: 7421218.5000 - mae: 2205.0415 - val_loss: 13495096.0000 - val_mae: 2898.2422\n",
      "Epoch 300/350\n",
      "3/3 - 0s - loss: 7179160.0000 - mae: 2100.0776 - val_loss: 12963763.0000 - val_mae: 2926.3887\n",
      "Epoch 301/350\n",
      "3/3 - 0s - loss: 6865797.5000 - mae: 2071.3699 - val_loss: 13680089.0000 - val_mae: 2917.8906\n",
      "Epoch 302/350\n",
      "3/3 - 0s - loss: 7248989.5000 - mae: 2112.7161 - val_loss: 12840627.0000 - val_mae: 3001.0906\n",
      "Epoch 303/350\n",
      "3/3 - 0s - loss: 7084015.0000 - mae: 2081.4290 - val_loss: 13479561.0000 - val_mae: 2910.1003\n",
      "Epoch 304/350\n",
      "3/3 - 0s - loss: 7049234.5000 - mae: 2092.2810 - val_loss: 13018563.0000 - val_mae: 3047.8691\n",
      "Epoch 305/350\n",
      "3/3 - 0s - loss: 6746704.0000 - mae: 2037.0421 - val_loss: 13976515.0000 - val_mae: 2884.7859\n"
     ]
    },
    {
     "name": "stdout",
     "output_type": "stream",
     "text": [
      "Epoch 306/350\n",
      "3/3 - 0s - loss: 6945362.5000 - mae: 2102.9163 - val_loss: 12576936.0000 - val_mae: 2847.7930\n",
      "Epoch 307/350\n",
      "3/3 - 0s - loss: 7035075.0000 - mae: 2097.9526 - val_loss: 12772061.0000 - val_mae: 3067.3992\n",
      "Epoch 308/350\n",
      "3/3 - 0s - loss: 7252265.0000 - mae: 2155.3694 - val_loss: 12871739.0000 - val_mae: 2960.1125\n",
      "Epoch 309/350\n",
      "3/3 - 0s - loss: 7556890.5000 - mae: 2152.6733 - val_loss: 13114808.0000 - val_mae: 3149.9219\n",
      "Epoch 310/350\n",
      "3/3 - 0s - loss: 7443799.0000 - mae: 2121.7104 - val_loss: 13203387.0000 - val_mae: 2996.3379\n",
      "Epoch 311/350\n",
      "3/3 - 0s - loss: 7720628.5000 - mae: 2191.3728 - val_loss: 12728477.0000 - val_mae: 2886.7666\n",
      "Epoch 312/350\n",
      "3/3 - 0s - loss: 7596190.0000 - mae: 2196.3372 - val_loss: 12391203.0000 - val_mae: 2896.6453\n",
      "Epoch 313/350\n",
      "3/3 - 0s - loss: 7968149.0000 - mae: 2181.9448 - val_loss: 12215301.0000 - val_mae: 2854.5476\n",
      "Epoch 314/350\n",
      "3/3 - 0s - loss: 7815737.5000 - mae: 2240.8982 - val_loss: 14140424.0000 - val_mae: 2986.6721\n",
      "Epoch 315/350\n",
      "3/3 - 0s - loss: 8437669.0000 - mae: 2311.4441 - val_loss: 13326980.0000 - val_mae: 3112.3330\n",
      "Epoch 316/350\n",
      "3/3 - 0s - loss: 7829736.0000 - mae: 2207.5652 - val_loss: 14176840.0000 - val_mae: 2935.6848\n",
      "Epoch 317/350\n",
      "3/3 - 0s - loss: 7833122.0000 - mae: 2272.4412 - val_loss: 12854299.0000 - val_mae: 3094.3516\n",
      "Epoch 318/350\n",
      "3/3 - 0s - loss: 7586067.0000 - mae: 2143.9199 - val_loss: 12411175.0000 - val_mae: 2819.7878\n",
      "Epoch 319/350\n",
      "3/3 - 0s - loss: 7460263.5000 - mae: 2216.6328 - val_loss: 12721957.0000 - val_mae: 2759.7844\n",
      "Epoch 320/350\n",
      "3/3 - 0s - loss: 7148497.5000 - mae: 2137.0847 - val_loss: 12680643.0000 - val_mae: 3072.9407\n",
      "Epoch 321/350\n",
      "3/3 - 0s - loss: 7258467.0000 - mae: 2107.3235 - val_loss: 12532829.0000 - val_mae: 2778.7385\n",
      "Epoch 322/350\n",
      "3/3 - 0s - loss: 7201254.5000 - mae: 2151.0137 - val_loss: 12579885.0000 - val_mae: 2776.7480\n",
      "Epoch 323/350\n",
      "3/3 - 0s - loss: 7263666.5000 - mae: 2156.6890 - val_loss: 12436808.0000 - val_mae: 2983.5945\n",
      "Epoch 324/350\n",
      "3/3 - 0s - loss: 7112322.0000 - mae: 2095.7339 - val_loss: 12431063.0000 - val_mae: 2939.9563\n",
      "Epoch 325/350\n",
      "3/3 - 0s - loss: 7344852.5000 - mae: 2122.2278 - val_loss: 12678199.0000 - val_mae: 2805.8594\n",
      "Epoch 326/350\n",
      "3/3 - 0s - loss: 7250757.0000 - mae: 2173.7131 - val_loss: 12490792.0000 - val_mae: 2886.5635\n",
      "Epoch 327/350\n",
      "3/3 - 0s - loss: 6983562.0000 - mae: 2083.8303 - val_loss: 12423997.0000 - val_mae: 2997.8835\n",
      "Epoch 328/350\n",
      "3/3 - 0s - loss: 7234467.0000 - mae: 2102.6982 - val_loss: 12193421.0000 - val_mae: 2819.7488\n",
      "Epoch 329/350\n",
      "3/3 - 0s - loss: 8008982.5000 - mae: 2304.9036 - val_loss: 12372808.0000 - val_mae: 2735.6672\n",
      "Epoch 330/350\n",
      "3/3 - 0s - loss: 7378469.5000 - mae: 2057.5735 - val_loss: 13153657.0000 - val_mae: 3162.9648\n",
      "Epoch 331/350\n",
      "3/3 - 0s - loss: 7717907.5000 - mae: 2133.0332 - val_loss: 12993000.0000 - val_mae: 2763.1602\n",
      "Epoch 332/350\n",
      "3/3 - 0s - loss: 7290182.5000 - mae: 2161.6519 - val_loss: 11978739.0000 - val_mae: 2914.2910\n",
      "Epoch 333/350\n",
      "3/3 - 0s - loss: 7368350.0000 - mae: 2091.9534 - val_loss: 12020931.0000 - val_mae: 2935.7258\n",
      "Epoch 334/350\n",
      "3/3 - 0s - loss: 7203304.0000 - mae: 2155.9900 - val_loss: 12537169.0000 - val_mae: 2727.4617\n",
      "Epoch 335/350\n",
      "3/3 - 0s - loss: 7091788.5000 - mae: 2153.5100 - val_loss: 12002968.0000 - val_mae: 2937.1016\n",
      "Epoch 336/350\n",
      "3/3 - 0s - loss: 7120052.5000 - mae: 2088.6184 - val_loss: 11950403.0000 - val_mae: 2892.3264\n",
      "Epoch 337/350\n",
      "3/3 - 0s - loss: 6999702.5000 - mae: 2091.9424 - val_loss: 11952239.0000 - val_mae: 2834.6575\n",
      "Epoch 338/350\n",
      "3/3 - 0s - loss: 7022981.5000 - mae: 2097.3081 - val_loss: 12004101.0000 - val_mae: 2780.3164\n",
      "Epoch 339/350\n",
      "3/3 - 0s - loss: 7337881.5000 - mae: 2174.2476 - val_loss: 11849172.0000 - val_mae: 2857.2336\n",
      "Epoch 340/350\n",
      "3/3 - 0s - loss: 7106475.5000 - mae: 2091.0417 - val_loss: 11970699.0000 - val_mae: 2958.7019\n",
      "Epoch 341/350\n",
      "3/3 - 0s - loss: 7105998.0000 - mae: 2093.5608 - val_loss: 12379409.0000 - val_mae: 2721.7190\n",
      "Epoch 342/350\n",
      "3/3 - 0s - loss: 7177144.5000 - mae: 2126.0078 - val_loss: 11949305.0000 - val_mae: 2940.9612\n",
      "Epoch 343/350\n",
      "3/3 - 0s - loss: 7082864.0000 - mae: 2073.0935 - val_loss: 12039376.0000 - val_mae: 2768.5813\n",
      "Epoch 344/350\n",
      "3/3 - 0s - loss: 7451933.5000 - mae: 2210.0374 - val_loss: 12015397.0000 - val_mae: 2772.8445\n",
      "Epoch 345/350\n",
      "3/3 - 0s - loss: 7106176.5000 - mae: 2095.3770 - val_loss: 12731581.0000 - val_mae: 3148.6553\n",
      "Epoch 346/350\n",
      "3/3 - 0s - loss: 7054262.0000 - mae: 2061.4900 - val_loss: 12964609.0000 - val_mae: 2847.7883\n",
      "Epoch 347/350\n",
      "3/3 - 0s - loss: 7492749.5000 - mae: 2209.2532 - val_loss: 12150444.0000 - val_mae: 2989.3728\n",
      "Epoch 348/350\n",
      "3/3 - 0s - loss: 7235131.0000 - mae: 2100.9292 - val_loss: 12596567.0000 - val_mae: 3120.5520\n",
      "Epoch 349/350\n",
      "3/3 - 0s - loss: 7064738.0000 - mae: 2065.2307 - val_loss: 12899533.0000 - val_mae: 2826.3486\n",
      "Epoch 350/350\n",
      "3/3 - 0s - loss: 7164300.5000 - mae: 2149.0906 - val_loss: 12111456.0000 - val_mae: 2989.2141\n",
      "MSE: 12111456.000, RMSE: 3480.152, MAE: 2989.214\n",
      "Predicted: 17207.486\n"
     ]
    }
   ],
   "source": [
    "9\n",
    "10\n",
    "11\n",
    "12\n",
    "13\n",
    "14\n",
    "15\n",
    "16\n",
    "17\n",
    "18\n",
    "19\n",
    "20\n",
    "21\n",
    "22\n",
    "23\n",
    "24\n",
    "25\n",
    "26\n",
    "27\n",
    "28\n",
    "29\n",
    "30\n",
    "31\n",
    "32\n",
    "33\n",
    "34\n",
    "35\n",
    "36\n",
    "37\n",
    "38\n",
    "39\n",
    "40\n",
    "41\n",
    "42\n",
    "43\n",
    "44\n",
    "45\n",
    "46\n",
    "47\n",
    "48\n",
    "49\n",
    "50\n",
    "51\n",
    "52\n",
    "53\n",
    "54\n",
    "55\n",
    "# lstm for time series forecasting\n",
    "from numpy import sqrt\n",
    "from numpy import asarray\n",
    "from pandas import read_csv\n",
    "from tensorflow.keras import Sequential\n",
    "from tensorflow.keras.layers import Dense\n",
    "from tensorflow.keras.layers import LSTM\n",
    " \n",
    "# split a univariate sequence into samples\n",
    "def split_sequence(sequence, n_steps):\n",
    "\tX, y = list(), list()\n",
    "\tfor i in range(len(sequence)):\n",
    "\t\t# find the end of this pattern\n",
    "\t\tend_ix = i + n_steps\n",
    "\t\t# check if we are beyond the sequence\n",
    "\t\tif end_ix > len(sequence)-1:\n",
    "\t\t\tbreak\n",
    "\t\t# gather input and output parts of the pattern\n",
    "\t\tseq_x, seq_y = sequence[i:end_ix], sequence[end_ix]\n",
    "\t\tX.append(seq_x)\n",
    "\t\ty.append(seq_y)\n",
    "\treturn asarray(X), asarray(y)\n",
    " \n",
    "# load the dataset\n",
    "path = 'https://raw.githubusercontent.com/jbrownlee/Datasets/master/monthly-car-sales.csv'\n",
    "df = read_csv(path, header=0, index_col=0, squeeze=True)\n",
    "# retrieve the values\n",
    "values = df.values.astype('float32')\n",
    "# specify the window size\n",
    "n_steps = 5\n",
    "# split into samples\n",
    "X, y = split_sequence(values, n_steps)\n",
    "# reshape into [samples, timesteps, features]\n",
    "X = X.reshape((X.shape[0], X.shape[1], 1))\n",
    "# split into train/test\n",
    "n_test = 12\n",
    "X_train, X_test, y_train, y_test = X[:-n_test], X[-n_test:], y[:-n_test], y[-n_test:]\n",
    "print(X_train.shape, X_test.shape, y_train.shape, y_test.shape)\n",
    "# define model\n",
    "model = Sequential()\n",
    "model.add(LSTM(100, activation='relu', kernel_initializer='he_normal', input_shape=(n_steps,1)))\n",
    "model.add(Dense(50, activation='relu', kernel_initializer='he_normal'))\n",
    "model.add(Dense(50, activation='relu', kernel_initializer='he_normal'))\n",
    "model.add(Dense(1))\n",
    "# compile the model\n",
    "model.compile(optimizer='adam', loss='mse', metrics=['mae'])\n",
    "# fit the model\n",
    "model.fit(X_train, y_train, epochs=350, batch_size=32, verbose=2, validation_data=(X_test, y_test))\n",
    "# evaluate the model\n",
    "mse, mae = model.evaluate(X_test, y_test, verbose=0)\n",
    "print('MSE: %.3f, RMSE: %.3f, MAE: %.3f' % (mse, sqrt(mse), mae))\n",
    "# make a prediction\n",
    "row = asarray([18024.0, 16722.0, 14385.0, 21342.0, 17180.0]).reshape((1, n_steps, 1))\n",
    "yhat = model.predict(row)\n",
    "print('Predicted: %.3f' % (yhat))"
   ]
  },
  {
   "cell_type": "markdown",
   "metadata": {},
   "source": [
    "# How to Use Advanced Model Features\n",
    "## How to Visualize a Deep Learning Model"
   ]
  },
  {
   "cell_type": "code",
   "execution_count": 99,
   "metadata": {
    "ExecuteTime": {
     "end_time": "2020-07-02T23:41:27.029298Z",
     "start_time": "2020-07-02T23:41:27.025270Z"
    }
   },
   "outputs": [],
   "source": [
    "### The architecture of deep learning models can quickly become large and complex.\n",
    "## There are two tools we can use to visualize our model;\n",
    "## a text description and a plot"
   ]
  },
  {
   "cell_type": "markdown",
   "metadata": {},
   "source": [
    "### Model Text Description `model.summary()`"
   ]
  },
  {
   "cell_type": "code",
   "execution_count": 101,
   "metadata": {
    "ExecuteTime": {
     "end_time": "2020-07-02T23:46:15.558402Z",
     "start_time": "2020-07-02T23:46:15.533373Z"
    }
   },
   "outputs": [
    {
     "name": "stdout",
     "output_type": "stream",
     "text": [
      "Model: \"sequential_19\"\n",
      "_________________________________________________________________\n",
      "Layer (type)                 Output Shape              Param #   \n",
      "=================================================================\n",
      "dense_46 (Dense)             (None, 10)                90        \n",
      "_________________________________________________________________\n",
      "dense_47 (Dense)             (None, 8)                 88        \n",
      "_________________________________________________________________\n",
      "dense_48 (Dense)             (None, 1)                 9         \n",
      "=================================================================\n",
      "Total params: 187\n",
      "Trainable params: 187\n",
      "Non-trainable params: 0\n",
      "_________________________________________________________________\n"
     ]
    }
   ],
   "source": [
    "## A text description of your model can be displayed by caling the summary() function on Your Model.\n",
    "## The Example below defines a small model with three layers and then summarizes the structure.\n",
    "\n",
    "## Example\n",
    "from tensorflow.keras import Sequential\n",
    "from tensorflow.keras.layers import Dense\n",
    "\n",
    "# Define model\n",
    "model = Sequential()\n",
    "model.add(Dense(10,activation = \"relu\", kernel_initializer = \"he_normal\",\n",
    "               input_shape =(8,)))\n",
    "model.add(Dense(8,activation = \"relu\", kernel_initializer = \"he_normal\"))\n",
    "model.add(Dense(1, activation = \"sigmoid\"))\n",
    "\n",
    "############################\n",
    "model.summary()"
   ]
  },
  {
   "cell_type": "markdown",
   "metadata": {},
   "source": [
    "### Model Artichitecture Plot `keras.utils.plot_model()`"
   ]
  },
  {
   "cell_type": "code",
   "execution_count": 116,
   "metadata": {
    "ExecuteTime": {
     "end_time": "2020-07-02T23:58:14.019985Z",
     "start_time": "2020-07-02T23:58:13.992989Z"
    }
   },
   "outputs": [
    {
     "name": "stdout",
     "output_type": "stream",
     "text": [
      "Failed to import pydot. You must install pydot and graphviz for `pydotprint` to work.\n"
     ]
    }
   ],
   "source": [
    "## Example of Plotting a Model\n",
    "from tensorflow.keras import Sequential\n",
    "from tensorflow.keras.layers import Dense\n",
    "from tensorflow.keras.utils import plot_model\n",
    "\n",
    "## Define Model\n",
    "model = Sequential()\n",
    "model.add(Dense(10,activation = \"relu\", kernel_initializer = \"he_normal\", input_shape =(8,)))\n",
    "model.add(Dense(8, activation=\"relu\", kernel_initializer = \"he_normal\"))\n",
    "model.add(Dense(1,activation = \"sigmoid\"))\n",
    "\n",
    "## Summarize the model\n",
    "plot_model(model, \"model.png\", show_shapes=True)\n"
   ]
  },
  {
   "cell_type": "markdown",
   "metadata": {},
   "source": [
    "## How to Plot Model Learning Curves"
   ]
  },
  {
   "cell_type": "code",
   "execution_count": 117,
   "metadata": {
    "ExecuteTime": {
     "end_time": "2020-07-03T00:04:10.164232Z",
     "start_time": "2020-07-03T00:04:10.160203Z"
    }
   },
   "outputs": [],
   "source": [
    "## Learning curves are a plot of neural Network model performance over time, \n",
    "## such as calculated at the end of each training epoch.\n",
    "\n",
    "## Plots of learning curves provide insight into the learning dynamics of the model,\n",
    "## such as whether the model is learning well,\n",
    "## Weather it is underfitting the training dataset, \n",
    "## or whether it is overfitting the training dataset.\n",
    "\n",
    "## For more read this tutorial\n",
    "#https://machinelearningmastery.com/learning-curves-for-diagnosing-machine-learning-model-performance/"
   ]
  },
  {
   "cell_type": "code",
   "execution_count": 119,
   "metadata": {
    "ExecuteTime": {
     "end_time": "2020-07-03T00:14:02.930550Z",
     "start_time": "2020-07-03T00:13:59.558700Z"
    }
   },
   "outputs": [],
   "source": [
    "## The Example below fits a small Neural Network on a synthetic binary classification Problem.\n",
    "## A validatiaon split of 30 % is used to evaluate the model during training and cross-entropy loss \n",
    "## on the train and validation datasets are then graphed using a line plot.\n",
    "\n",
    "## Example of plotting learning curves\n",
    "from sklearn.datasets import make_classification\n",
    "from tensorflow.keras import Sequential\n",
    "from tensorflow.keras.layers import Dense\n",
    "from tensorflow.keras.optimizers import SGD\n",
    "from matplotlib import pyplot\n",
    "\n",
    "## Create the dataset\n",
    "x,y = make_classification(n_samples=1000, n_classes = 2, random_state=1)\n",
    "\n",
    "## Determine the number of input features\n",
    "n_features = x.shape[1]\n",
    "\n",
    "## Define Model\n",
    "model = Sequential()\n",
    "model.add(Dense(10, activation = \"relu\", kernel_initializer = \"he_normal\", input_shape = (n_features,)))\n",
    "model.add(Dense(1,activation = \"sigmoid\"))\n",
    "\n",
    "## Compile the Model\n",
    "sgd = SGD(learning_rate=0.001, momentum=0.8)\n",
    "model.compile(optimizer=sgd, loss=\"binary_crossentropy\")\n",
    "\n",
    "## Fit the Model\n",
    "history = model.fit(x,y, epochs=100, batch_size=32, verbose=0, validation_split=0.3)"
   ]
  },
  {
   "cell_type": "code",
   "execution_count": 120,
   "metadata": {
    "ExecuteTime": {
     "end_time": "2020-07-03T00:16:13.698484Z",
     "start_time": "2020-07-03T00:16:13.589486Z"
    }
   },
   "outputs": [
    {
     "data": {
      "image/png": "[encoded data removed]",
      "text/plain": [
       "<Figure size 432x288 with 1 Axes>"
      ]
     },
     "metadata": {
      "needs_background": "light"
     },
     "output_type": "display_data"
    }
   ],
   "source": [
    "## Plot Learning Curves\n",
    "pyplot.title(\"Learning Curves\")\n",
    "pyplot.xlabel(\"Epoch\")\n",
    "pyplot.ylabel(\"Cross Entropy\")\n",
    "\n",
    "pyplot.plot(history.history[\"loss\"], label = \"Trian\")\n",
    "pyplot.plot(history.history[\"val_loss\"], label = \"Val\")\n",
    "pyplot.legend()\n",
    "pyplot.show()"
   ]
  },
  {
   "cell_type": "markdown",
   "metadata": {},
   "source": [
    "# How to save and Load Your Model "
   ]
  },
  {
   "cell_type": "code",
   "execution_count": null,
   "metadata": {},
   "outputs": [],
   "source": [
    "## Training and evaluating models is great,\n",
    "## but we may want to use a model later without retraining it each time.\n",
    "\n",
    "## This can be achieved by saving the model to file and later loading it and using it to make predictions\n",
    "\n",
    "## This can be achieved using the save() function on the model to save the model.\n",
    "## It can be loaded later using the load_model() Function\n",
    "\n",
    "\n",
    "## The model is Saved in H% format, an efficient array storage format.\n",
    "## As such, you must ensure that the h5py library is installed on your workstation.\n",
    "# pip install h5py"
   ]
  },
  {
   "cell_type": "code",
   "execution_count": 122,
   "metadata": {
    "ExecuteTime": {
     "end_time": "2020-07-03T00:23:48.933096Z",
     "start_time": "2020-07-03T00:23:48.930123Z"
    }
   },
   "outputs": [],
   "source": [
    "## The example below fits a simple model on a synthetic binary classification problem and then saves the model file\n",
    "\n",
    "## Example of saving a fit Model\n",
    "from sklearn.datasets import make_classification\n",
    "from tensorflow.keras import Sequential\n",
    "from tensorflow.keras.layers import Dense\n",
    "from tensorflow.keras.optimizers import SGD\n"
   ]
  },
  {
   "cell_type": "code",
   "execution_count": 124,
   "metadata": {
    "ExecuteTime": {
     "end_time": "2020-07-03T00:41:57.293280Z",
     "start_time": "2020-07-03T00:41:53.904735Z"
    }
   },
   "outputs": [],
   "source": [
    "## Create the data set\n",
    "x, y = make_classification(n_samples=1000, n_features=4, n_classes=2, random_state=1)\n",
    "\n",
    "## Determine the number of input features\n",
    "n_features = x.shape[1]\n",
    "\n",
    "## define Model\n",
    "model = Sequential()\n",
    "model.add(Dense(10, activation = \"relu\", kernel_initializer = \"he_normal\",\n",
    "                input_shape = (n_features,)))\n",
    "model.add(Dense(1, activation = \"sigmoid\"))\n",
    "\n",
    "# compile the Model\n",
    "sgd = SGD(learning_rate=0.001, momentum=0.8)\n",
    "model.compile(optimizer = sgd, loss = \"binary_crossentropy\")\n",
    "\n",
    "## Fit the Model\n",
    "model.fit(x,y, epochs = 100, batch_size = 32, verbose = 0, validation_split = 0.3)\n",
    "\n",
    "# save model to file\n",
    "model.save(\"model.h5\")\n"
   ]
  },
  {
   "cell_type": "code",
   "execution_count": 125,
   "metadata": {
    "ExecuteTime": {
     "end_time": "2020-07-03T00:46:50.039020Z",
     "start_time": "2020-07-03T00:46:49.971020Z"
    }
   },
   "outputs": [
    {
     "name": "stdout",
     "output_type": "stream",
     "text": [
      "Predicted: 0.826\n"
     ]
    }
   ],
   "source": [
    "## The Example below loads the model and uses it to make a prediction.\n",
    "# Example of loading a saved model\n",
    "from sklearn.datasets import make_classification\n",
    "from tensorflow.keras.models import load_model\n",
    "\n",
    "## Create the dataset\n",
    "x,y = make_classification(n_samples=1000, n_features=4, n_classes=2, \n",
    "                         random_state=1)\n",
    "\n",
    "## Load the model from file \n",
    "models = load_model(\"model.h5\")\n",
    "\n",
    "## Make prediction \n",
    "row = [1.91518414, 1.14995454, -1.52847073, 0.79430654]\n",
    "\n",
    "yhat = model.predict([row])\n",
    "print(\"Predicted: %.3f\"%yhat[0])"
   ]
  },
  {
   "cell_type": "markdown",
   "metadata": {},
   "source": [
    "# How to Get Better  Model Performance"
   ]
  },
  {
   "cell_type": "code",
   "execution_count": null,
   "metadata": {},
   "outputs": [],
   "source": [
    "## In this section, you will doscover some of the techniques \n",
    "## that you can use to improve the performance of your deep learning models.\n",
    "\n",
    "## A Big part of imoproving deep learning performance involves avoiding overfitting \n",
    "## by slowing down the learning process or stopping the learning process at the right time."
   ]
  },
  {
   "cell_type": "markdown",
   "metadata": {},
   "source": [
    "## How to Reduce Overfitting With Dropout"
   ]
  },
  {
   "cell_type": "markdown",
   "metadata": {},
   "source": [
    "`Dropout is a clever regularization method that reduces overfitting \n",
    "of the training dataset and makes the model more robust`\n",
    "\n",
    "**This is achieved during training, where some number of layer outputs oare randomly\n",
    "ignored or \"dropped out\".<br>This has the effect of making the layer look like \n",
    "and be treated like a layer <br>with a different number of nodes and connectivity to the prior layer**"
   ]
  },
  {
   "cell_type": "code",
   "execution_count": null,
   "metadata": {},
   "outputs": [],
   "source": [
    "# https://machinelearningmastery.com/dropout-for-regularizing-deep-neural-networks/\n",
    "\n",
    "\n",
    "## Dropout() This involves adding a layer called Dropout() \n",
    "## that takes an argumnet that specifies the probability \n",
    "## that each ouptut from the previous to drop. E.g 0.4 means 40 percent of \n",
    "## inputs will be dropped each update to the model\n",
    "\n",
    "## You can add Dropout layers in MLP, CNN and RNN models,\n",
    "## although there are also specializedversions of dropout for use with \n",
    "## CNN and RNN models that you might also want to explore\n"
   ]
  },
  {
   "cell_type": "code",
   "execution_count": 126,
   "metadata": {
    "ExecuteTime": {
     "end_time": "2020-07-03T01:05:41.916747Z",
     "start_time": "2020-07-03T01:05:41.912744Z"
    }
   },
   "outputs": [],
   "source": [
    "## A dropout layer with 50 percent dropout is inserted between the first hidden\n",
    "## layer and the output layer.\n",
    "\n",
    "# Example of using dropout\n",
    "from sklearn.datasets import make_classification\n",
    "from tensorflow.keras import Sequential\n",
    "from tensorflow.keras.layers import Dense\n",
    "from tensorflow.keras.layers import Dropout\n",
    "\n",
    "import matplotlib.pyplot as plt"
   ]
  },
  {
   "cell_type": "code",
   "execution_count": 128,
   "metadata": {
    "ExecuteTime": {
     "end_time": "2020-07-03T01:09:37.967868Z",
     "start_time": "2020-07-03T01:09:37.936869Z"
    }
   },
   "outputs": [],
   "source": [
    "## Create the data set\n",
    "x,y = make_classification(n_samples=1000, n_classes= 2, random_state=1)\n",
    "\n",
    "## Determine the number of input features\n",
    "n_features = x.shape[1]\n",
    "\n",
    "## Define Model\n",
    "model = Sequential()\n",
    "model.add(Dense(10,activation = \"relu\", kernel_initializer = \"he_normal\", \n",
    "               input_shape = (n_features,) ))\n",
    "model.add(Dropout(0.5))\n",
    "model.add(Dense(1,activation = \"sigmoid\"))"
   ]
  },
  {
   "cell_type": "code",
   "execution_count": 129,
   "metadata": {
    "ExecuteTime": {
     "end_time": "2020-07-03T01:11:52.741736Z",
     "start_time": "2020-07-03T01:11:51.253768Z"
    }
   },
   "outputs": [
    {
     "data": {
      "text/plain": [
       "<tensorflow.python.keras.callbacks.History at 0x25829070d08>"
      ]
     },
     "execution_count": 129,
     "metadata": {},
     "output_type": "execute_result"
    }
   ],
   "source": [
    "## Compile the Model\n",
    "model.compile(optimizer=\"adam\", loss = \"binary_crossentropy\")\n",
    "\n",
    "## Fit the model\n",
    "model.fit(x,y, epochs=100, batch_size=32, verbose=0)"
   ]
  },
  {
   "cell_type": "code",
   "execution_count": null,
   "metadata": {},
   "outputs": [],
   "source": [
    "# https://www.tensorflow.org/addons/tutorials/layers_normalizations\n",
    "# Normalize Guide"
   ]
  },
  {
   "cell_type": "markdown",
   "metadata": {},
   "source": [
    "## How to Halt Training at the Right Time With Early Stopping"
   ]
  },
  {
   "cell_type": "code",
   "execution_count": null,
   "metadata": {},
   "outputs": [],
   "source": [
    "## Neural Networks are challenging to train\n",
    "## Too little training and the model is underfit \n",
    "## Too much training and the model overfits the training\n",
    "## Both cases result in a model that is less effective than it could be.\n",
    "\n",
    "## One approach to solving this poroblem is to use early stopping.\n",
    "## This involves monitoring the loss on the training dataset and \n",
    "## a validation dataset ( a subset of teh training oset not used to fity the model)\n",
    "\n",
    "##https://machinelearningmastery.com/early-stopping-to-avoid-overtraining-neural-network-models/\n",
    "\n",
    "## For More details on Early Stopping\n"
   ]
  },
  {
   "cell_type": "code",
   "execution_count": 135,
   "metadata": {
    "ExecuteTime": {
     "end_time": "2020-07-03T01:45:04.924200Z",
     "start_time": "2020-07-03T01:45:02.274225Z"
    }
   },
   "outputs": [],
   "source": [
    "## Example of Using early stopping\n",
    "from sklearn.datasets import make_classification\n",
    "from tensorflow.keras import Sequential\n",
    "from tensorflow.keras.layers import Dense\n",
    "from tensorflow.keras.callbacks import EarlyStopping\n",
    "\n",
    "## Create the data set\n",
    "x, y = make_classification(n_samples=1000, n_classes=2, random_state=1)\n",
    "\n",
    "# determine the Number of input features\n",
    "n_features = x.shape[1]\n",
    "\n",
    "## Define the Model\n",
    "model = Sequential()\n",
    "model.add(Dense(10,activation=\"relu\", kernel_initializer = \"he_normal\",\n",
    "               input_shape = (n_features,)))\n",
    "model.add(Dense(1,activation = \"sigmoid\"))\n",
    "\n",
    "## Compile the Model\n",
    "model.compile(optimizer=\"adam\", loss = \"binary_crossentropy\")\n",
    "\n",
    "# Configure early stopping\n",
    "es = EarlyStopping(monitor='loss', patience=5)\n",
    "\n",
    "## Fit the Model\n",
    "hostory = model.fit(x,y, epochs = 200, batch_size = 32, verbose = 0,\n",
    "                       validation_split = 0, callbacks=[es])\n",
    "          "
   ]
  },
  {
   "cell_type": "code",
   "execution_count": null,
   "metadata": {},
   "outputs": [],
   "source": []
  },
  {
   "cell_type": "code",
   "execution_count": null,
   "metadata": {},
   "outputs": [],
   "source": []
  }
 ],
 "metadata": {
  "kernelspec": {
   "display_name": "Python 3",
   "language": "python",
   "name": "python3"
  },
  "language_info": {
   "codemirror_mode": {
    "name": "ipython",
    "version": 3
   },
   "file_extension": ".py",
   "mimetype": "text/x-python",
   "name": "python",
   "nbconvert_exporter": "python",
   "pygments_lexer": "ipython3",
   "version": "3.7.6"
  },
  "nbTranslate": {
   "displayLangs": [
    "*"
   ],
   "hotkey": "alt-t",
   "langInMainMenu": true,
   "sourceLang": "en",
   "targetLang": "fr",
   "useGoogleTranslate": true
  },
  "toc": {
   "base_numbering": 1,
   "nav_menu": {},
   "number_sections": true,
   "sideBar": true,
   "skip_h1_title": false,
   "title_cell": "Table of Contents",
   "title_sidebar": "Contents",
   "toc_cell": false,
   "toc_position": {},
   "toc_section_display": true,
   "toc_window_display": false
  }
 },
 "nbformat": 4,
 "nbformat_minor": 4
}
