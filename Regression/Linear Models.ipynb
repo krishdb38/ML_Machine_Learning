{
 "cells": [
  {
   "cell_type": "code",
   "execution_count": 4,
   "metadata": {},
   "outputs": [
    {
     "data": {
      "text/plain": [
       "array([ 8.46153846, -3.07692308])"
      ]
     },
     "execution_count": 4,
     "metadata": {},
     "output_type": "execute_result"
    }
   ],
   "source": [
    "from sklearn import linear_model\n",
    "reg = linear_model.LinearRegression()\n",
    "reg.fit([[1,2],[2,4],[5,10],[3,3]],[5,10,15,20])\n",
    "reg.coef_"
   ]
  },
  {
   "cell_type": "markdown",
   "metadata": {},
   "source": [
    "### Linear Rigression Example"
   ]
  },
  {
   "cell_type": "code",
   "execution_count": 10,
   "metadata": {},
   "outputs": [
    {
     "name": "stdout",
     "output_type": "stream",
     "text": [
      "Automatically created module for IPython interactive environment\n"
     ]
    },
    {
     "data": {
      "text/plain": [
       "((442, 10), (442,))"
      ]
     },
     "execution_count": 10,
     "metadata": {},
     "output_type": "execute_result"
    }
   ],
   "source": [
    "print(__doc__)\n",
    "import matplotlib.pyplot as plt\n",
    "import numpy as np\n",
    "from sklearn import datasets , linear_model\n",
    "from sklearn.metrics import mean_squared_error, r2_score\n",
    "\n",
    "#Load diabetes dataset\n",
    "diabetes_x , diabetes_y = datasets.load_diabetes(return_X_y=True)\n",
    "diabetes_x.shape,diabetes_y.shape"
   ]
  },
  {
   "cell_type": "code",
   "execution_count": 18,
   "metadata": {},
   "outputs": [
    {
     "data": {
      "text/plain": [
       "((442, 1), array([0.04445121]))"
      ]
     },
     "execution_count": 18,
     "metadata": {},
     "output_type": "execute_result"
    }
   ],
   "source": [
    "#diabetes_x = diabetes_x[:,np.newaxis,2]\n",
    "diabetes_x.shape,diabetes_x[2]"
   ]
  },
  {
   "cell_type": "code",
   "execution_count": 24,
   "metadata": {},
   "outputs": [
    {
     "name": "stdout",
     "output_type": "stream",
     "text": [
      "Coefficients \n",
      " [938.23786125]\n",
      "The Mean Square Error 2548.0723987259703\n",
      "Coefficient of determination : 0.47257544798227136\n"
     ]
    },
    {
     "data": {
      "image/png": "[encoded data removed]",
      "text/plain": [
       "<Figure size 432x288 with 1 Axes>"
      ]
     },
     "metadata": {
      "needs_background": "light"
     },
     "output_type": "display_data"
    }
   ],
   "source": [
    "#Split the data into training and testing sets\n",
    "diabetes_x_train = diabetes_x[:-20] #all data upto -20\n",
    "diabetes_x_test  = diabetes_x[-20:] #last 20 datas\n",
    "\n",
    "#Split the targets into training /testing sets\n",
    "diabetes_y_train = diabetes_y[:-20]\n",
    "diabetes_y_test  = diabetes_y[-20:]\n",
    "\n",
    "#Create the linear regression object\n",
    "regr= linear_model.LinearRegression()\n",
    "\n",
    "#train the model using the training sets\n",
    "regr.fit(diabetes_x_train,diabetes_y_train)\n",
    "\n",
    "#make the Prediction using the test set\n",
    "diabetes_y_pred = regr.predict(diabetes_x_test)\n",
    "\n",
    "#The coefficient \n",
    "print(\"Coefficients \\n\",regr.coef_)\n",
    "\n",
    "#The mean Square Error\n",
    "print(\"The Mean Square Error\",mean_squared_error(diabetes_y_test,diabetes_y_pred))\n",
    "\n",
    "#The Coefficient of determination 1 is perfect prediction\n",
    "print(\"Coefficient of determination :\",r2_score(diabetes_y_test,diabetes_y_pred))\n",
    "\n",
    "#Plot the Outputs\n",
    "plt.scatter(diabetes_x_test , diabetes_y_test,color = \"black\")\n",
    "plt.scatter(diabetes_x_test,diabetes_y_pred, c=\"r\")\n",
    "plt.show()"
   ]
  },
  {
   "cell_type": "code",
   "execution_count": 20,
   "metadata": {},
   "outputs": [
    {
     "data": {
      "text/plain": [
       "(array([225.9732401 , 115.74763374, 163.27610621, 114.73638965,\n",
       "        120.80385422, 158.21988574, 236.08568105, 121.81509832,\n",
       "         99.56772822, 123.83758651, 204.73711411,  96.53399594,\n",
       "        154.17490936, 130.91629517,  83.3878227 , 171.36605897,\n",
       "        137.99500384, 137.99500384, 189.56845268,  84.3990668 ]),\n",
       " array([233.,  91., 111., 152., 120.,  67., 310.,  94., 183.,  66., 173.,\n",
       "         72.,  49.,  64.,  48., 178., 104., 132., 220.,  57.]))"
      ]
     },
     "execution_count": 20,
     "metadata": {},
     "output_type": "execute_result"
    }
   ],
   "source": []
  },
  {
   "cell_type": "markdown",
   "metadata": {},
   "source": [
    "## Ridge Regression and classification"
   ]
  },
  {
   "cell_type": "code",
   "execution_count": null,
   "metadata": {},
   "outputs": [],
   "source": [
    "# Ridge regression addresses some of  the problems of Ordinary Least Squares by imposing a penalty \n",
    "# on the size of the coefficients.\n",
    "#The larger the the value of a alpha the greater the amount of shrinkage and thus the coefficinets become more robust to collinearity\n",
    "from sklearn import linear_model\n",
    "reg = linear_model.Ridge(alpha=0.5)\n",
    "reg.fit([[0,0],[0,0],[1,1]],[0,0.1,1])\n",
    "\n"
   ]
  },
  {
   "cell_type": "code",
   "execution_count": null,
   "metadata": {},
   "outputs": [],
   "source": []
  },
  {
   "cell_type": "code",
   "execution_count": null,
   "metadata": {},
   "outputs": [],
   "source": []
  }
 ],
 "metadata": {
  "kernelspec": {
   "display_name": "Python 3",
   "language": "python",
   "name": "python3"
  },
  "language_info": {
   "codemirror_mode": {
    "name": "ipython",
    "version": 3
   },
   "file_extension": ".py",
   "mimetype": "text/x-python",
   "name": "python",
   "nbconvert_exporter": "python",
   "pygments_lexer": "ipython3",
   "version": "3.7.4"
  }
 },
 "nbformat": 4,
 "nbformat_minor": 2
}
