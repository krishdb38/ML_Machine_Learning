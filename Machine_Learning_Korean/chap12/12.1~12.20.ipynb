{
 "cells": [
  {
   "cell_type": "markdown",
   "metadata": {},
   "source": [
    "## 12.1 관련 라이브러리 불러오기"
   ]
  },
  {
   "cell_type": "code",
   "execution_count": 1,
   "metadata": {},
   "outputs": [],
   "source": [
    "import tensorflow as tf\n",
    "import numpy as np\n",
    "import random\n",
    "\n",
    "%matplotlib inline\n",
    "import matplotlib.pyplot as plt"
   ]
  },
  {
   "cell_type": "markdown",
   "metadata": {},
   "source": [
    "## 12.2 더미 학습 데이터 생성하기"
   ]
  },
  {
   "cell_type": "code",
   "execution_count": 2,
   "metadata": {},
   "outputs": [
    {
     "data": {
      "image/png": "[encoded data removed]",
      "text/plain": [
       "<Figure size 432x288 with 1 Axes>"
      ]
     },
     "metadata": {
      "needs_background": "light"
     },
     "output_type": "display_data"
    }
   ],
   "source": [
    "n_features = 2 # 보기좋게 시각화하기 위해 2차원의 데이터를 생성합니다\n",
    "\n",
    "def get_data():\n",
    "    data_a = np.random.rand(10, n_features) + 1 # 더 높은 유틸리티를 생산해야 하는 포인트들\n",
    "    data_b = np.random.rand(10, n_features) # 덜 선호되는 포인트들\n",
    "    \n",
    "    plt.scatter(data_a[:, 0], data_a[:, 1], c='r', marker='x')\n",
    "    plt.scatter(data_b[:, 0], data_b[:, 1], c='g', marker='o')\n",
    "    plt.show()\n",
    "    \n",
    "    return data_a, data_b\n",
    "\n",
    "data_a, data_b = get_data()"
   ]
  },
  {
   "cell_type": "markdown",
   "metadata": {},
   "source": [
    "## 12.3 플레이스홀더"
   ]
  },
  {
   "cell_type": "code",
   "execution_count": 3,
   "metadata": {},
   "outputs": [],
   "source": [
    "with tf.name_scope(\"input\"):\n",
    "    x1 = tf.placeholder(tf.float32, [None, n_features], name=\"x1\") # 선호되는 포인트들에 대한 입력 플레이스홀더\n",
    "    x2 = tf.placeholder(tf.float32, [None, n_features], name=\"x2\") # 선호되지 않는 포인트들에 대한 입력 플레이스홀더\n",
    "    dropout_keep_prob = tf.placeholder(tf.float32, name='dropout_prob')"
   ]
  },
  {
   "cell_type": "markdown",
   "metadata": {},
   "source": [
    "## 12.4 히든 레이어"
   ]
  },
  {
   "cell_type": "code",
   "execution_count": 4,
   "metadata": {},
   "outputs": [],
   "source": [
    "n_hidden = 10"
   ]
  },
  {
   "cell_type": "code",
   "execution_count": 5,
   "metadata": {},
   "outputs": [],
   "source": [
    "with tf.name_scope(\"hidden_layer\"):\n",
    "    with tf.name_scope(\"weights\"):\n",
    "        w1 = tf.Variable(tf.random_normal([n_features, n_hidden]), name=\"w1\")\n",
    "        tf.summary.histogram(\"w1\", w1)\n",
    "        b1 = tf.Variable(tf.random_normal([n_hidden]), name=\"b1\")\n",
    "        tf.summary.histogram(\"b1\", b1)\n",
    "        \n",
    "    with tf.name_scope(\"output\"):\n",
    "        h1 = tf.nn.dropout(tf.nn.relu(tf.matmul(x1,w1) + b1), keep_prob=dropout_keep_prob)\n",
    "        tf.summary.histogram(\"h1\", h1)\n",
    "        h2 = tf.nn.dropout(tf.nn.relu(tf.matmul(x2, w1) + b1), keep_prob=dropout_keep_prob)\n",
    "        tf.summary.histogram(\"h2\", h2)"
   ]
  },
  {
   "cell_type": "markdown",
   "metadata": {},
   "source": [
    "## 12.5 출력 레이어"
   ]
  },
  {
   "cell_type": "code",
   "execution_count": 6,
   "metadata": {},
   "outputs": [],
   "source": [
    "with tf.name_scope(\"output_layer\"):\n",
    "    with tf.name_scope(\"weights\"):\n",
    "        w2 = tf.Variable(tf.random_normal([n_hidden, 1]), name=\"w2\")\n",
    "        tf.summary.histogram(\"w2\", w2)\n",
    "        b2 = tf.Variable(tf.random_normal([1]), name=\"b2\")\n",
    "        tf.summary.histogram(\"b2\", b2)\n",
    "        \n",
    "    with tf.name_scope(\"output\"):\n",
    "        s1 = tf.matmul(h1, w2) + b2 # 입력 x1의 유틸리티 점수\n",
    "        s2 = tf.matmul(h2, w2) + b2 # 입력 x2의 유틸리티 점수"
   ]
  },
  {
   "cell_type": "markdown",
   "metadata": {},
   "source": [
    "## 12.6 비용과 최적화기"
   ]
  },
  {
   "cell_type": "code",
   "execution_count": 7,
   "metadata": {},
   "outputs": [],
   "source": [
    "with tf.name_scope(\"loss\"):\n",
    "    s12 = s1 - s2\n",
    "    s12_flat = tf.reshape(s12, [-1])\n",
    "    cross_entropy = tf.nn.softmax_cross_entropy_with_logits_v2(\n",
    "        labels=tf.zeros_like(s12_flat),\n",
    "        logits=s12_flat + 1)\n",
    "    \n",
    "    loss = tf.reduce_mean(cross_entropy)\n",
    "    tf.summary.scalar(\"loss\", loss)\n",
    "    \n",
    "with tf.name_scope(\"train_op\"):\n",
    "    train_op = tf.train.AdamOptimizer(0.001).minimize(loss)"
   ]
  },
  {
   "cell_type": "markdown",
   "metadata": {},
   "source": [
    "## 12.7 세션 준비하기"
   ]
  },
  {
   "cell_type": "code",
   "execution_count": 8,
   "metadata": {},
   "outputs": [],
   "source": [
    "sess = tf.InteractiveSession()\n",
    "summary_op = tf.summary.merge_all()\n",
    "writer = tf.summary.FileWriter(\"tb_files\", sess.graph)\n",
    "init = tf.global_variables_initializer()\n",
    "sess.run(init)"
   ]
  },
  {
   "cell_type": "markdown",
   "metadata": {},
   "source": [
    "## 12.8 네트워크 학습시키기"
   ]
  },
  {
   "cell_type": "code",
   "execution_count": 9,
   "metadata": {},
   "outputs": [],
   "source": [
    "for epoch in range(0, 10000):\n",
    "    loss_val, _ = sess.run([loss, train_op], feed_dict={x1:data_a, x2:data_b, dropout_keep_prob:0.5})\n",
    "    if epoch % 100 == 0 :\n",
    "        summary_result = sess.run(summary_op, \n",
    "                                  feed_dict={x1:data_a, # 선호되는 포인트들\n",
    "                                             x2:data_b, # 선호되지 않는 포인트들\n",
    "                                             dropout_keep_prob:1}) # 테스트 시 dropout_keep_prob은 항상 1입니다\n",
    "        writer.add_summary(summary_result, epoch)\n"
   ]
  },
  {
   "cell_type": "markdown",
   "metadata": {},
   "source": [
    "## 12.9 테스트 데이터 준비하기"
   ]
  },
  {
   "cell_type": "code",
   "execution_count": 10,
   "metadata": {},
   "outputs": [],
   "source": [
    "grid_size = 10\n",
    "data_test = []\n",
    "for y in np.linspace(0., 1., num=grid_size): # 행을 따라 반복합니다\n",
    "    for x in np.linspace(0., 1., num=grid_size): # 열을 따라 반복합니다\n",
    "        data_test.append([x, y])"
   ]
  },
  {
   "cell_type": "markdown",
   "metadata": {},
   "source": [
    "## 12.10 결과 시각화하기"
   ]
  },
  {
   "cell_type": "code",
   "execution_count": 11,
   "metadata": {},
   "outputs": [
    {
     "data": {
      "image/png": "[encoded data removed]",
      "text/plain": [
       "<Figure size 432x288 with 2 Axes>"
      ]
     },
     "metadata": {
      "needs_background": "light"
     },
     "output_type": "display_data"
    }
   ],
   "source": [
    "def visualize_results(data_test):\n",
    "    plt.figure()\n",
    "    scores_test = sess.run(s1, feed_dict={x1:data_test, dropout_keep_prob:1}) # 모든 포인트들의 유틸리티를 계산합니다\n",
    "    scores_img = np.reshape(scores_test, [grid_size, grid_size]) # 유틸리티를 행렬로 변환해줌으로써 Matplotlib을 이용하여 이미지를 시각화하도록 합니다\n",
    "    plt.imshow(scores_img, origin='lower')\n",
    "    plt.colorbar()\n",
    "    \n",
    "visualize_results(data_test)\n",
    "sess.close()"
   ]
  },
  {
   "cell_type": "markdown",
   "metadata": {},
   "source": [
    "## 12.11 라이브러리 불러오기"
   ]
  },
  {
   "cell_type": "code",
   "execution_count": 23,
   "metadata": {},
   "outputs": [],
   "source": [
    "tf.reset_default_graph()"
   ]
  },
  {
   "cell_type": "code",
   "execution_count": 24,
   "metadata": {},
   "outputs": [],
   "source": [
    "import tensorflow as tf\n",
    "import numpy as np\n",
    "from vgg16 import vgg16\n",
    "import glob, os\n",
    "from scipy.misc import imread, imresize"
   ]
  },
  {
   "cell_type": "markdown",
   "metadata": {},
   "source": [
    "## 12.12 학습 데이터 준비하기"
   ]
  },
  {
   "cell_type": "code",
   "execution_count": 25,
   "metadata": {},
   "outputs": [
    {
     "name": "stderr",
     "output_type": "stream",
     "text": [
      "c:\\users\\kcsgo\\anaconda3\\envs\\py3.6\\lib\\site-packages\\ipykernel_launcher.py:11: DeprecationWarning: `imread` is deprecated!\n",
      "`imread` is deprecated in SciPy 1.0.0, and will be removed in 1.2.0.\n",
      "Use ``imageio.imread`` instead.\n",
      "  # This is added back by InteractiveShellApp.init_path()\n",
      "c:\\users\\kcsgo\\anaconda3\\envs\\py3.6\\lib\\site-packages\\ipykernel_launcher.py:12: DeprecationWarning: `imresize` is deprecated!\n",
      "`imresize` is deprecated in SciPy 1.0.0, and will be removed in 1.3.0.\n",
      "Use Pillow instead: ``numpy.array(Image.fromarray(arr).resize())``.\n",
      "  if sys.path[0] == '':\n"
     ]
    },
    {
     "name": "stdout",
     "output_type": "stream",
     "text": [
      "Images of starting state (45, 224, 224, 3)\n",
      "Images of ending state (45, 224, 224, 3)\n"
     ]
    }
   ],
   "source": [
    "DATASET_DIR = './cloth_folding_rgb_vids' # 다운로드된 파일들의 디렉토리\n",
    "NUM_VIDS = 45 # 로드할 비디오의 개수\n",
    "\n",
    "def get_img_pair(video_id): # 비디오에서 시작 이미지와 마지막 이미지를 얻습니다\n",
    "    img_files = sorted(glob.glob(os.path.join(DATASET_DIR, video_id,\n",
    "                                              '*.png')))\n",
    "    start_img = img_files[0]\n",
    "    end_img = img_files[-1]\n",
    "    pair = []\n",
    "    for image_file in [start_img, end_img]:\n",
    "        img_original = imread(image_file)\n",
    "        img_resized = imresize(img_original, (224, 224))\n",
    "        pair.append(img_resized)\n",
    "    return tuple(pair)\n",
    "\n",
    "start_imgs = []\n",
    "end_imgs= []\n",
    "for vid_id in range(1, NUM_VIDS + 1):\n",
    "    start_img, end_img = get_img_pair(str(vid_id))\n",
    "    start_imgs.append(start_img)\n",
    "    end_imgs.append(end_img)\n",
    "\n",
    "print('Images of starting state {}'.format(np.shape(start_imgs)))\n",
    "print('Images of ending state {}'.format(np.shape(end_imgs)))"
   ]
  },
  {
   "cell_type": "markdown",
   "metadata": {},
   "source": [
    "## 12.13 플레이스홀더"
   ]
  },
  {
   "cell_type": "code",
   "execution_count": 26,
   "metadata": {},
   "outputs": [],
   "source": [
    "imgs_plc = tf.placeholder(tf.float32, [None, 224, 224, 3])"
   ]
  },
  {
   "cell_type": "code",
   "execution_count": 28,
   "metadata": {},
   "outputs": [],
   "source": [
    "n_features = 4096\n",
    "n_hidden = 10 # n_features * 2\n",
    "\n",
    "with tf.name_scope(\"input\"):\n",
    "    x1 = tf.placeholder(tf.float32, [None, n_features], name=\"x1\")\n",
    "    x2 = tf.placeholder(tf.float32, [None, n_features], name=\"x2\")\n",
    "    dropout_keep_prob = tf.placeholder(tf.float32, name='dropout_prob')\n",
    "\n",
    "\n",
    "with tf.name_scope(\"hidden_layer\"):\n",
    "    with tf.name_scope(\"weights\"):\n",
    "        w1 = tf.Variable(tf.random_normal([n_features, n_hidden]), name=\"w1\")\n",
    "        tf.summary.histogram(\"w1\", w1)\n",
    "        b1 = tf.Variable(tf.random_normal([n_hidden]), name=\"b1\")\n",
    "        tf.summary.histogram(\"b1\", b1)\n",
    " \n",
    "    with tf.name_scope(\"output\"):\n",
    "        h1 = tf.nn.dropout(tf.nn.relu(tf.matmul(x1,w1) + b1), keep_prob=dropout_keep_prob)\n",
    "        tf.summary.histogram(\"h1\", h1)\n",
    "        h2 = tf.nn.dropout(tf.nn.relu(tf.matmul(x2, w1) + b1), keep_prob=dropout_keep_prob)\n",
    "        tf.summary.histogram(\"h2\", h2)\n",
    " \n",
    "\n",
    "with tf.name_scope(\"output_layer\"):\n",
    "    with tf.name_scope(\"weights\"):\n",
    "        w2 = tf.Variable(tf.random_normal([n_hidden, 1]), name=\"w2\")\n",
    "        tf.summary.histogram(\"w2\", w2)\n",
    "        b2 = tf.Variable(tf.random_normal([1]), name=\"b2\")\n",
    "        tf.summary.histogram(\"b2\", b2)\n",
    " \n",
    "    with tf.name_scope(\"output\"):\n",
    "        s1 = tf.matmul(h1, w2) + b2\n",
    "        s2 = tf.matmul(h2, w2) + b2\n",
    " \n",
    " \n",
    "with tf.name_scope(\"loss\"):\n",
    "    s12 = s1 - s2\n",
    "    s12_flat = tf.reshape(s12, [-1])\n",
    "    \n",
    "    pred = tf.sigmoid(s12)\n",
    "    lable_p = tf.sigmoid(-tf.ones_like(s12))\n",
    "    \n",
    "    cross_entropy = tf.nn.softmax_cross_entropy_with_logits_v2(labels=tf.zeros_like(s12_flat), logits=s12_flat + 1)\n",
    "    \n",
    "    loss = tf.reduce_mean(cross_entropy)\n",
    "    tf.summary.scalar(\"loss\", loss)\n",
    " \n",
    "with tf.name_scope(\"train_op\"):\n",
    "    train_op = tf.train.AdamOptimizer(0.001).minimize(loss)"
   ]
  },
  {
   "cell_type": "markdown",
   "metadata": {},
   "source": [
    "##  12.14 세션 준비하기"
   ]
  },
  {
   "cell_type": "code",
   "execution_count": 29,
   "metadata": {},
   "outputs": [
    {
     "name": "stderr",
     "output_type": "stream",
     "text": [
      "C:\\Users\\kcsgo\\AppData\\Roaming\\Python\\Python36\\site-packages\\tensorflow\\python\\client\\session.py:1714: UserWarning: An interactive session is already active. This can cause out-of-memory errors in some cases. You must explicitly call `InteractiveSession.close()` to release resources held by the other session(s).\n",
      "  warnings.warn('An interactive session is already active. This can '\n"
     ]
    }
   ],
   "source": [
    "sess = tf.InteractiveSession()\n",
    "sess.run(tf.global_variables_initializer())"
   ]
  },
  {
   "cell_type": "markdown",
   "metadata": {},
   "source": [
    "## 12.15 VGG16 모델 불러오기"
   ]
  },
  {
   "cell_type": "code",
   "execution_count": 30,
   "metadata": {},
   "outputs": [
    {
     "name": "stdout",
     "output_type": "stream",
     "text": [
      "Loading model...\n",
      "0 conv1_1_W (3, 3, 3, 64)\n",
      "1 conv1_1_b (64,)\n",
      "2 conv1_2_W (3, 3, 64, 64)\n",
      "3 conv1_2_b (64,)\n",
      "4 conv2_1_W (3, 3, 64, 128)\n",
      "5 conv2_1_b (128,)\n",
      "6 conv2_2_W (3, 3, 128, 128)\n",
      "7 conv2_2_b (128,)\n",
      "8 conv3_1_W (3, 3, 128, 256)\n",
      "9 conv3_1_b (256,)\n",
      "10 conv3_2_W (3, 3, 256, 256)\n",
      "11 conv3_2_b (256,)\n",
      "12 conv3_3_W (3, 3, 256, 256)\n",
      "13 conv3_3_b (256,)\n",
      "14 conv4_1_W (3, 3, 256, 512)\n",
      "15 conv4_1_b (512,)\n",
      "16 conv4_2_W (3, 3, 512, 512)\n",
      "17 conv4_2_b (512,)\n",
      "18 conv4_3_W (3, 3, 512, 512)\n",
      "19 conv4_3_b (512,)\n",
      "20 conv5_1_W (3, 3, 512, 512)\n",
      "21 conv5_1_b (512,)\n",
      "22 conv5_2_W (3, 3, 512, 512)\n",
      "23 conv5_2_b (512,)\n",
      "24 conv5_3_W (3, 3, 512, 512)\n",
      "25 conv5_3_b (512,)\n",
      "Done loading!\n"
     ]
    }
   ],
   "source": [
    "print('Loading model...')\n",
    "vgg = vgg16(imgs_plc, 'vgg16_weights.npz', sess)\n",
    "print('Done loading!')"
   ]
  },
  {
   "cell_type": "markdown",
   "metadata": {},
   "source": [
    "## 12.16 등수를 매기기 위한 데이터 준비하기"
   ]
  },
  {
   "cell_type": "code",
   "execution_count": 31,
   "metadata": {},
   "outputs": [
    {
     "name": "stdout",
     "output_type": "stream",
     "text": [
      "Train start imgs (33, 4096)\n",
      "Train end imgs (33, 4096)\n",
      "Test start imgs (12, 4096)\n",
      "Test end imgs (12, 4096)\n"
     ]
    }
   ],
   "source": [
    "sess.run(tf.global_variables_initializer())\n",
    "start_imgs_embedded = sess.run(vgg.fc1, feed_dict={vgg.imgs: start_imgs})\n",
    "end_imgs_embedded = sess.run(vgg.fc1, feed_dict={vgg.imgs: end_imgs})\n",
    "\n",
    "idxs = np.random.choice(NUM_VIDS, NUM_VIDS, replace=False)\n",
    "train_idxs = idxs[0:int(NUM_VIDS * 0.75)]\n",
    "test_idxs = idxs[int(NUM_VIDS * 0.75):]\n",
    "\n",
    "train_start_imgs = start_imgs_embedded[train_idxs]\n",
    "train_end_imgs = end_imgs_embedded[train_idxs]\n",
    "test_start_imgs = start_imgs_embedded[test_idxs]\n",
    "test_end_imgs = end_imgs_embedded[test_idxs]\n",
    "\n",
    "print('Train start imgs {}'.format(np.shape(train_start_imgs)))\n",
    "print('Train end imgs {}'.format(np.shape(train_end_imgs)))\n",
    "print('Test start imgs {}'.format(np.shape(test_start_imgs)))\n",
    "print('Test end imgs {}'.format(np.shape(test_end_imgs)))"
   ]
  },
  {
   "cell_type": "markdown",
   "metadata": {},
   "source": [
    "## 12.17 랭킹 네트워크 학습시키기"
   ]
  },
  {
   "cell_type": "code",
   "execution_count": 32,
   "metadata": {},
   "outputs": [
    {
     "name": "stdout",
     "output_type": "stream",
     "text": [
      "0. 0.0\n",
      "Accuracy: 91.66666666666666%\n",
      "1. 0.0\n",
      "Accuracy: 100.0%\n",
      "2. 0.0\n",
      "Accuracy: 100.0%\n",
      "3. 0.0\n",
      "Accuracy: 100.0%\n",
      "4. 0.0\n",
      "Accuracy: 100.0%\n",
      "5. 0.0\n",
      "Accuracy: 100.0%\n",
      "6. 0.0\n",
      "Accuracy: 100.0%\n",
      "7. 0.0\n",
      "Accuracy: 100.0%\n",
      "8. 0.0\n",
      "Accuracy: 100.0%\n",
      "9. 0.0\n",
      "Accuracy: 100.0%\n",
      "10. 0.0\n",
      "Accuracy: 100.0%\n",
      "11. 0.0\n",
      "Accuracy: 100.0%\n",
      "12. 0.0\n",
      "Accuracy: 100.0%\n",
      "13. 0.0\n",
      "Accuracy: 100.0%\n",
      "14. 0.0\n",
      "Accuracy: 100.0%\n",
      "15. 0.0\n",
      "Accuracy: 100.0%\n",
      "16. 0.0\n",
      "Accuracy: 100.0%\n",
      "17. 0.0\n",
      "Accuracy: 100.0%\n",
      "18. 0.0\n",
      "Accuracy: 100.0%\n",
      "19. 0.0\n",
      "Accuracy: 100.0%\n",
      "20. 0.0\n",
      "Accuracy: 100.0%\n",
      "21. 0.0\n",
      "Accuracy: 100.0%\n",
      "22. 0.0\n",
      "Accuracy: 100.0%\n",
      "23. 0.0\n",
      "Accuracy: 100.0%\n",
      "24. 0.0\n",
      "Accuracy: 100.0%\n",
      "25. 0.0\n",
      "Accuracy: 100.0%\n",
      "26. 0.0\n",
      "Accuracy: 100.0%\n",
      "27. 0.0\n",
      "Accuracy: 100.0%\n",
      "28. 0.0\n",
      "Accuracy: 100.0%\n",
      "29. 0.0\n",
      "Accuracy: 100.0%\n",
      "30. 0.0\n",
      "Accuracy: 100.0%\n",
      "31. 0.0\n",
      "Accuracy: 100.0%\n",
      "32. 0.0\n",
      "Accuracy: 100.0%\n",
      "33. 0.0\n",
      "Accuracy: 100.0%\n",
      "34. 0.0\n",
      "Accuracy: 100.0%\n",
      "35. 0.0\n",
      "Accuracy: 100.0%\n",
      "36. 0.0\n",
      "Accuracy: 100.0%\n",
      "37. 0.0\n",
      "Accuracy: 100.0%\n",
      "38. 0.0\n",
      "Accuracy: 100.0%\n",
      "39. 0.0\n",
      "Accuracy: 100.0%\n",
      "40. 0.0\n",
      "Accuracy: 100.0%\n",
      "41. 0.0\n",
      "Accuracy: 100.0%\n",
      "42. 0.0\n",
      "Accuracy: 100.0%\n",
      "43. 0.0\n",
      "Accuracy: 100.0%\n",
      "44. 0.0\n",
      "Accuracy: 100.0%\n",
      "45. 0.0\n",
      "Accuracy: 100.0%\n",
      "46. 0.0\n",
      "Accuracy: 100.0%\n",
      "47. 0.0\n",
      "Accuracy: 100.0%\n",
      "48. 0.0\n",
      "Accuracy: 100.0%\n",
      "49. 0.0\n",
      "Accuracy: 100.0%\n",
      "50. 0.0\n",
      "Accuracy: 100.0%\n",
      "51. 0.0\n",
      "Accuracy: 100.0%\n",
      "52. 0.0\n",
      "Accuracy: 100.0%\n",
      "53. 0.0\n",
      "Accuracy: 100.0%\n",
      "54. 0.0\n",
      "Accuracy: 100.0%\n",
      "55. 0.0\n",
      "Accuracy: 100.0%\n",
      "56. 0.0\n",
      "Accuracy: 100.0%\n",
      "57. 0.0\n",
      "Accuracy: 100.0%\n",
      "58. 0.0\n",
      "Accuracy: 100.0%\n",
      "59. 0.0\n",
      "Accuracy: 100.0%\n",
      "60. 0.0\n",
      "Accuracy: 100.0%\n",
      "61. 0.0\n",
      "Accuracy: 100.0%\n",
      "62. 0.0\n",
      "Accuracy: 100.0%\n",
      "63. 0.0\n",
      "Accuracy: 100.0%\n",
      "64. 0.0\n",
      "Accuracy: 100.0%\n",
      "65. 0.0\n",
      "Accuracy: 100.0%\n",
      "66. 0.0\n",
      "Accuracy: 100.0%\n",
      "67. 0.0\n",
      "Accuracy: 100.0%\n",
      "68. 0.0\n",
      "Accuracy: 100.0%\n",
      "69. 0.0\n",
      "Accuracy: 100.0%\n",
      "70. 0.0\n",
      "Accuracy: 100.0%\n",
      "71. 0.0\n",
      "Accuracy: 100.0%\n",
      "72. 0.0\n",
      "Accuracy: 100.0%\n",
      "73. 0.0\n",
      "Accuracy: 100.0%\n",
      "74. 0.0\n",
      "Accuracy: 100.0%\n",
      "75. 0.0\n",
      "Accuracy: 100.0%\n",
      "76. 0.0\n",
      "Accuracy: 100.0%\n",
      "77. 0.0\n",
      "Accuracy: 100.0%\n",
      "78. 0.0\n",
      "Accuracy: 100.0%\n",
      "79. 0.0\n",
      "Accuracy: 100.0%\n",
      "80. 0.0\n",
      "Accuracy: 100.0%\n",
      "81. 0.0\n",
      "Accuracy: 100.0%\n",
      "82. 0.0\n",
      "Accuracy: 100.0%\n",
      "83. 0.0\n",
      "Accuracy: 100.0%\n",
      "84. 0.0\n",
      "Accuracy: 100.0%\n",
      "85. 0.0\n",
      "Accuracy: 100.0%\n",
      "86. 0.0\n",
      "Accuracy: 100.0%\n",
      "87. 0.0\n",
      "Accuracy: 100.0%\n",
      "88. 0.0\n",
      "Accuracy: 100.0%\n",
      "89. 0.0\n",
      "Accuracy: 100.0%\n",
      "90. 0.0\n",
      "Accuracy: 100.0%\n",
      "91. 0.0\n",
      "Accuracy: 100.0%\n",
      "92. 0.0\n",
      "Accuracy: 100.0%\n",
      "93. 0.0\n",
      "Accuracy: 100.0%\n",
      "94. 0.0\n",
      "Accuracy: 100.0%\n",
      "95. 0.0\n",
      "Accuracy: 100.0%\n",
      "96. 0.0\n",
      "Accuracy: 100.0%\n",
      "97. 0.0\n",
      "Accuracy: 100.0%\n",
      "98. 0.0\n",
      "Accuracy: 100.0%\n",
      "99. 0.0\n",
      "Accuracy: 100.0%\n"
     ]
    }
   ],
   "source": [
    "train_y1 = np.expand_dims(np.zeros(np.shape(train_start_imgs)[0]), axis=1)\n",
    "train_y2 = np.expand_dims(np.ones(np.shape(train_end_imgs)[0]), axis=1)\n",
    "for epoch in range(100):\n",
    "    for i in range(np.shape(train_start_imgs)[0]):\n",
    "        _, cost_val = sess.run([train_op, loss], \n",
    "                               feed_dict={x1: train_start_imgs[i:i+1,:], \n",
    "                                          x2: train_end_imgs[i:i+1,:], \n",
    "                                          dropout_keep_prob: 0.5})\n",
    "    print('{}. {}'.format(epoch, cost_val))\n",
    "    s1_val, s2_val = sess.run([s1, s2], feed_dict={x1: test_start_imgs, x2: test_end_imgs, dropout_keep_prob: 1})\n",
    "    print('Accuracy: {}%'.format(100 * np.mean(s1_val < s2_val)))"
   ]
  },
  {
   "cell_type": "markdown",
   "metadata": {},
   "source": [
    "## 12.18 비디오로부터 이미지 시퀀스 준비하기"
   ]
  },
  {
   "cell_type": "code",
   "execution_count": 33,
   "metadata": {},
   "outputs": [
    {
     "name": "stderr",
     "output_type": "stream",
     "text": [
      "c:\\users\\kcsgo\\anaconda3\\envs\\py3.6\\lib\\site-packages\\ipykernel_launcher.py:6: DeprecationWarning: `imread` is deprecated!\n",
      "`imread` is deprecated in SciPy 1.0.0, and will be removed in 1.2.0.\n",
      "Use ``imageio.imread`` instead.\n",
      "  \n",
      "c:\\users\\kcsgo\\anaconda3\\envs\\py3.6\\lib\\site-packages\\ipykernel_launcher.py:7: DeprecationWarning: `imresize` is deprecated!\n",
      "`imresize` is deprecated in SciPy 1.0.0, and will be removed in 1.3.0.\n",
      "Use Pillow instead: ``numpy.array(Image.fromarray(arr).resize())``.\n",
      "  import sys\n"
     ]
    }
   ],
   "source": [
    "def get_img_seq(video_id):\n",
    "    img_files = sorted(glob.glob(os.path.join(DATASET_DIR, video_id,\n",
    "                                              '*.png')))\n",
    "    imgs = []\n",
    "    for image_file in img_files:\n",
    "        img_original = imread(image_file)\n",
    "        img_resized = imresize(img_original, (224, 224))\n",
    "        imgs.append(img_resized)\n",
    "    return imgs\n",
    "\n",
    "imgs = get_img_seq('1')"
   ]
  },
  {
   "cell_type": "markdown",
   "metadata": {},
   "source": [
    "## 12.19 이미지의 유틸리티 계산하기"
   ]
  },
  {
   "cell_type": "code",
   "execution_count": 34,
   "metadata": {},
   "outputs": [],
   "source": [
    "imgs_embedded = sess.run(vgg.fc1, feed_dict={vgg.imgs: imgs})\n",
    "scores = sess.run([s1], feed_dict={x1: imgs_embedded,\n",
    "                                   dropout_keep_prob: 1})"
   ]
  },
  {
   "cell_type": "markdown",
   "metadata": {},
   "source": [
    "## 12.20 유틸리티 점수 시각화하기"
   ]
  },
  {
   "cell_type": "code",
   "execution_count": 35,
   "metadata": {},
   "outputs": [
    {
     "data": {
      "text/plain": [
       "[<matplotlib.lines.Line2D at 0x13c99585128>]"
      ]
     },
     "execution_count": 35,
     "metadata": {},
     "output_type": "execute_result"
    },
    {
     "data": {
      "image/png": "[encoded data removed]",
      "text/plain": [
       "<Figure size 432x288 with 1 Axes>"
      ]
     },
     "metadata": {
      "needs_background": "light"
     },
     "output_type": "display_data"
    }
   ],
   "source": [
    "from matplotlib import pyplot as plt\n",
    "plt.figure()\n",
    "plt.title('Utility of cloth-folding over time')\n",
    "plt.xlabel('time (video frame #)')\n",
    "plt.ylabel('Utility')\n",
    "plt.plot(scores[-1])"
   ]
  },
  {
   "cell_type": "code",
   "execution_count": 36,
   "metadata": {},
   "outputs": [],
   "source": [
    "sess.close()"
   ]
  }
 ],
 "metadata": {
  "kernelspec": {
   "display_name": "Python 3",
   "language": "python",
   "name": "python3"
  },
  "language_info": {
   "codemirror_mode": {
    "name": "ipython",
    "version": 3
   },
   "file_extension": ".py",
   "mimetype": "text/x-python",
   "name": "python",
   "nbconvert_exporter": "python",
   "pygments_lexer": "ipython3",
   "version": "3.6.5"
  }
 },
 "nbformat": 4,
 "nbformat_minor": 2
}
