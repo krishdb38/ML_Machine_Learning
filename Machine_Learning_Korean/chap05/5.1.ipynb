{
 "cells": [
  {
   "cell_type": "markdown",
   "metadata": {},
   "source": [
    "## 5.1 디렉토리를 탐색하여 데이터 읽어오기"
   ]
  },
  {
   "cell_type": "code",
   "execution_count": 7,
   "metadata": {},
   "outputs": [
    {
     "name": "stdout",
     "output_type": "stream",
     "text": [
      "1\n",
      "[b'.\\\\audio_dataset\\\\cough_1.wav']\n",
      "INFO:tensorflow:Error reported to Coordinator: <class 'tensorflow.python.framework.errors_impl.CancelledError'>, Run call was cancelled\n"
     ]
    }
   ],
   "source": [
    "import tensorflow as tf\n",
    "\n",
    "filenames = tf.train.match_filenames_once('./audio_dataset/*.wav') # 패턴 매칭되는 파일명을 저장합니다\n",
    "count_num_files = tf.size(filenames)\n",
    "filename_queue = tf.data.Dataset.from_tensor_slices(filenames)\n",
    "reader = filename_queue.map(tf.read_file)\n",
    "#filename, file_contents = reader.read(filename_queue)\n",
    "with tf.Session() as sess:\n",
    "    sess.run(tf.global_variables_initializer())\n",
    "    sess.run(tf.local_variables_initializer())\n",
    "\n",
    "    num_files = sess.run(count_num_files)\n",
    "    print(num_files)\n",
    "\n",
    "    coord = tf.train.Coordinator()\n",
    "    threads = tf.train.start_queue_runners(coord = coord)\n",
    "    for i in range(num_files):\n",
    "        audio_file = sess.run(filenames)\n",
    "        print(audio_file)"
   ]
  }
 ],
 "metadata": {
  "kernelspec": {
   "display_name": "Python 3",
   "language": "python",
   "name": "python3"
  },
  "language_info": {
   "codemirror_mode": {
    "name": "ipython",
    "version": 3
   },
   "file_extension": ".py",
   "mimetype": "text/x-python",
   "name": "python",
   "nbconvert_exporter": "python",
   "pygments_lexer": "ipython3",
   "version": "3.6.5"
  }
 },
 "nbformat": 4,
 "nbformat_minor": 2
}
