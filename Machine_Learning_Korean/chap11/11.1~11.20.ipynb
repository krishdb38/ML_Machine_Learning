{
 "cells": [
  {
   "cell_type": "markdown",
   "metadata": {},
   "source": [
    "## 11.1 상수와 플레이스홀더 설정"
   ]
  },
  {
   "cell_type": "code",
   "execution_count": 1,
   "metadata": {},
   "outputs": [],
   "source": [
    "import tensorflow as tf # 텐서플로우 라이브러리만 불러오면 됩니다"
   ]
  },
  {
   "cell_type": "code",
   "execution_count": 2,
   "metadata": {},
   "outputs": [],
   "source": [
    "input_dim = 1 # 각 시퀀스 요소의 차원\n",
    "seq_size = 6 # 시퀀스의 최대 길이\n",
    "\n",
    "input_placeholder = tf.placeholder(dtype=tf.float32,\n",
    "                                   shape=[None, seq_size, input_dim])"
   ]
  },
  {
   "cell_type": "markdown",
   "metadata": {},
   "source": [
    "## 11.2 간단한 RNN 셀 만들기"
   ]
  },
  {
   "cell_type": "code",
   "execution_count": 3,
   "metadata": {},
   "outputs": [],
   "source": [
    "def make_cell(state_dim):\n",
    "    return tf.contrib.rnn.LSTMCell(state_dim) # GRU 같은 다른 종류의 셀에 대해서는 tf.contrib.rnn 문서를 확인하기 바랍니다\n",
    "\n",
    "with tf.variable_scope(\"first_cell\") as scope:\n",
    "    cell = make_cell(state_dim=10)\n",
    "    outputs, states = tf.nn.dynamic_rnn(cell, # 출력과 상태의 2개의 결과를 생성하게 됩니다\n",
    "                                        input_placeholder, # RNN에 입력 시퀀스로 들어가게 됩니다\n",
    "                                        dtype=tf.float32)"
   ]
  },
  {
   "cell_type": "markdown",
   "metadata": {},
   "source": [
    "## 11.3 2개의 RNN 셀 쌓기"
   ]
  },
  {
   "cell_type": "code",
   "execution_count": 4,
   "metadata": {},
   "outputs": [],
   "source": [
    "with tf.variable_scope(\"second_cell\") as scope: # 변수의 범위를 정의함으로써 변수의 재사용에 따른 런타임 오류를 피하도록 합니다\n",
    "    cell2 = make_cell(state_dim=10)\n",
    "    outputs2, states2 = tf.nn.dynamic_rnn(cell2,\n",
    "                                          outputs, # 이 셀의 입력은 다른 셀의 출력입니다\n",
    "                                          dtype=tf.float32)"
   ]
  },
  {
   "cell_type": "markdown",
   "metadata": {},
   "source": [
    "## 11.4 여러 개의 셀을 쌓기 위해 MultiRNNCell 사용하기"
   ]
  },
  {
   "cell_type": "code",
   "execution_count": 5,
   "metadata": {},
   "outputs": [],
   "source": [
    "def make_multi_cell(state_dim, num_layers):\n",
    "    cells = [make_cell(state_dim) for _ in range(num_layers)] # RNN 셀의 리스트를 구축하는 경우 for-loop 문법이 선호됩니다\n",
    "    return tf.contrib.rnn.MultiRNNCell(cells)\n",
    "\n",
    "multi_cell = make_multi_cell(state_dim=10, num_layers=4)\n",
    "outputs4, states4 = tf.nn.dynamic_rnn(multi_cell,\n",
    "                                      input_placeholder,\n",
    "                                      dtype=tf.float32)"
   ]
  },
  {
   "cell_type": "markdown",
   "metadata": {},
   "source": [
    "## 11.5 스칼라로 된 참조표 정의"
   ]
  },
  {
   "cell_type": "code",
   "execution_count": 6,
   "metadata": {},
   "outputs": [],
   "source": [
    "embeddings_0d = tf.constant([17, 22, 35, 51])"
   ]
  },
  {
   "cell_type": "markdown",
   "metadata": {},
   "source": [
    "## 11.6 4D 벡터의 참조표 정의"
   ]
  },
  {
   "cell_type": "code",
   "execution_count": 7,
   "metadata": {},
   "outputs": [],
   "source": [
    "embeddings_4d = tf.constant([[1, 0, 0, 0],\n",
    "                             [0, 1, 0, 0],\n",
    "                             [0, 0, 1, 0],\n",
    "                             [0, 0, 0, 1]])"
   ]
  },
  {
   "cell_type": "markdown",
   "metadata": {},
   "source": [
    "## 11.7 텐서 참조표 정의"
   ]
  },
  {
   "cell_type": "code",
   "execution_count": 8,
   "metadata": {},
   "outputs": [],
   "source": [
    "embeddings_2x2d = tf.constant([[[1, 0], [0, 0]],\n",
    "                               [[0, 1], [0, 0]],\n",
    "                               [[0, 0], [1, 0]],\n",
    "                               [[0, 0], [0, 1]]])"
   ]
  },
  {
   "cell_type": "markdown",
   "metadata": {},
   "source": [
    "## 11.8 임베딩 검색"
   ]
  },
  {
   "cell_type": "code",
   "execution_count": 9,
   "metadata": {},
   "outputs": [
    {
     "name": "stdout",
     "output_type": "stream",
     "text": [
      "[22 17 35]\n",
      "[[0 1 0 0]\n",
      " [1 0 0 0]\n",
      " [0 0 1 0]]\n",
      "[[[0 1]\n",
      "  [0 0]]\n",
      "\n",
      " [[1 0]\n",
      "  [0 0]]\n",
      "\n",
      " [[0 0]\n",
      "  [1 0]]]\n"
     ]
    }
   ],
   "source": [
    "with tf.Session() as sess:\n",
    "    ids = tf.constant([1, 0, 2]) # fight, the, wind 같은 단어에 상응하는 참조를 임베딩합니다\n",
    "    lookup_0d = sess.run(tf.nn.embedding_lookup(embeddings_0d, ids))\n",
    "    print(lookup_0d)\n",
    "\n",
    "    lookup_4d = sess.run(tf.nn.embedding_lookup(embeddings_4d, ids))\n",
    "    print(lookup_4d)\n",
    "\n",
    "    lookup_2x2d = sess.run(tf.nn.embedding_lookup(embeddings_2x2d, ids))\n",
    "    print(lookup_2x2d)"
   ]
  },
  {
   "cell_type": "markdown",
   "metadata": {},
   "source": [
    "## 11.9 문자 어휘 추출"
   ]
  },
  {
   "cell_type": "code",
   "execution_count": 10,
   "metadata": {},
   "outputs": [],
   "source": [
    "def extract_character_vocab(data):\n",
    "    special_symbols = ['<PAD>', '<UNK>', '<GO>',  '<EOS>']\n",
    "    set_symbols = set([character for line in data for character in line])\n",
    "    all_symbols = special_symbols + list(set_symbols)\n",
    "    int_to_symbol = {word_i: word\n",
    "                     for word_i, word in enumerate(all_symbols)}\n",
    "    symbol_to_int = {word: word_i\n",
    "                     for word_i, word in int_to_symbol.items()}\n",
    "    return int_to_symbol, symbol_to_int"
   ]
  },
  {
   "cell_type": "code",
   "execution_count": 14,
   "metadata": {},
   "outputs": [],
   "source": [
    "import os, re\n",
    "\n",
    "MAX_CHAR_PER_LINE = 20\n",
    "\n",
    "def load_sentences(path):\n",
    "    with open(path, 'r', encoding=\"ISO-8859-1\") as f:\n",
    "        data_raw = f.read().encode('ascii', 'ignore').decode('UTF-8').lower()\n",
    "        data_alpha = re.sub('[^a-z\\n]+', ' ', data_raw)\n",
    "        data = []\n",
    "        for line in data_alpha.split('\\n'):\n",
    "            data.append(line[:MAX_CHAR_PER_LINE])\n",
    "    return data"
   ]
  },
  {
   "cell_type": "code",
   "execution_count": 15,
   "metadata": {},
   "outputs": [],
   "source": [
    "input_sentences = load_sentences('data/words_input.txt') # 입력 문장을 문자열 리스트로 불러옵니다\n",
    "output_sentences = load_sentences('data/words_output.txt') # 출력 문장을 동일한 방법으로 불러옵니다\n",
    "input_int_to_symbol, input_symbol_to_int = extract_character_vocab(input_sentences)\n",
    "output_int_to_symbol, output_symbol_to_int = extract_character_vocab(output_sentences)"
   ]
  },
  {
   "cell_type": "markdown",
   "metadata": {},
   "source": [
    "## 11.10 하이퍼파라미터 정의"
   ]
  },
  {
   "cell_type": "code",
   "execution_count": 16,
   "metadata": {},
   "outputs": [],
   "source": [
    "NUM_EPOCS = 300 # 에포크의 수\n",
    "RNN_STATE_DIM = 512 # RNN의 숨겨진 차원 크기\n",
    "RNN_NUM_LAYERS = 2 # RNN의 쌓은 셀의 개수\n",
    "ENCODER_EMBEDDING_DIM = DECODER_EMBEDDING_DIM = 64 # 인코더와 디코더를 위한 시퀀스 요소의 임베딩 차원\n",
    "\n",
    "BATCH_SIZE = int(32)\n",
    "LEARNING_RATE = 0.0003\n",
    "\n",
    "INPUT_NUM_VOCAB = len(input_symbol_to_int) # 배치 크기\n",
    "OUTPUT_NUM_VOCAB = len(output_symbol_to_int) # 인코더와 디코더 간에 다른 어휘를 가질 수 있습니다"
   ]
  },
  {
   "cell_type": "markdown",
   "metadata": {},
   "source": [
    "## 11.11 플레이스홀더 목록"
   ]
  },
  {
   "cell_type": "code",
   "execution_count": 17,
   "metadata": {},
   "outputs": [],
   "source": [
    "tf.reset_default_graph()"
   ]
  },
  {
   "cell_type": "code",
   "execution_count": 18,
   "metadata": {},
   "outputs": [],
   "source": [
    "# 인코더 플레이스홀더\n",
    "\n",
    "encoder_input_seq = tf.placeholder( # 인코더의 입력을 위한 정수 시퀀스 \n",
    "    tf.int32,\n",
    "    [None, None], # 형태는 배치 크기 x 시퀀스 길이\n",
    "    name='encoder_input_seq'\n",
    ")\n",
    "\n",
    "encoder_seq_len = tf.placeholder( # 배치 내 시퀀스의 길이\n",
    "    tf.int32,\n",
    "    (None,), # 시퀀스의 길이가 가변적이기 때문에 형태도 동적입니다\n",
    "    name='encoder_seq_len'\n",
    ")\n",
    "\n",
    "# 디코더 플레이스홀더\n",
    "\n",
    "decoder_output_seq = tf.placeholder( # 디코더의 출력을 위한 정수 시퀀스\n",
    "    tf.int32,\n",
    "    [None, None], # 형태는 배치 크기 x 시퀀스 길이\n",
    "    name='decoder_output_seq'\n",
    ")\n",
    "\n",
    "decoder_seq_len = tf.placeholder( # 배치 내의 시퀀스의 길이\n",
    "    tf.int32,\n",
    "    (None,), # 시퀀스의 길이가 가변적이기 때문에 형태도 동적입니다\n",
    "    name='decoder_seq_len'\n",
    ")\n",
    "\n",
    "max_decoder_seq_len = tf.reduce_max( # 배치 내의 디코더 시퀀스의 최대 길이\n",
    "    decoder_seq_len, \n",
    "    name='max_decoder_seq_len'\n",
    ")"
   ]
  },
  {
   "cell_type": "markdown",
   "metadata": {},
   "source": [
    "## 11.12 RNN 셀 구축을 위한 도우미 함수"
   ]
  },
  {
   "cell_type": "code",
   "execution_count": 19,
   "metadata": {},
   "outputs": [],
   "source": [
    "def make_cell(state_dim):\n",
    "    lstm_initializer = tf.random_uniform_initializer(-0.1, 0.1)\n",
    "    return tf.contrib.rnn.LSTMCell(state_dim, initializer=lstm_initializer)\n",
    "\n",
    "def make_multi_cell(state_dim, num_layers):\n",
    "    cells = [make_cell(state_dim) for _ in range(num_layers)]\n",
    "    return tf.contrib.rnn.MultiRNNCell(cells)"
   ]
  },
  {
   "cell_type": "markdown",
   "metadata": {},
   "source": [
    "## 11.13 인코더 임베딩과 셀"
   ]
  },
  {
   "cell_type": "code",
   "execution_count": 20,
   "metadata": {},
   "outputs": [],
   "source": [
    "# 인코더 임베딩\n",
    "\n",
    "encoder_input_embedded = tf.contrib.layers.embed_sequence(\n",
    "    encoder_input_seq, # 숫자의 입력 시퀀스 (행 인덱스)\n",
    "    INPUT_NUM_VOCAB, # 임베딩 행렬의 행\n",
    "    ENCODER_EMBEDDING_DIM # 임베딩 행렬의 열\n",
    ")\n",
    "\n",
    "\n",
    "# 인코더 출력\n",
    "\n",
    "encoder_multi_cell = make_multi_cell(RNN_STATE_DIM, RNN_NUM_LAYERS)\n",
    "\n",
    "encoder_output, encoder_state = tf.nn.dynamic_rnn(\n",
    "    encoder_multi_cell,\n",
    "    encoder_input_embedded,\n",
    "    sequence_length=encoder_seq_len,\n",
    "    dtype=tf.float32\n",
    ")\n",
    "\n",
    "del(encoder_output) # 이 값을 저장하고 있을 필요가 없습니다"
   ]
  },
  {
   "cell_type": "markdown",
   "metadata": {},
   "source": [
    "## 11.14 디코더를 위한 입력 시퀀스 준비"
   ]
  },
  {
   "cell_type": "code",
   "execution_count": 21,
   "metadata": {},
   "outputs": [],
   "source": [
    "decoder_raw_seq = decoder_output_seq[:, :-1] # 가장 마지막 열을 무시함으로써 행렬을 잘라줍니다\n",
    "go_prefixes = tf.fill([BATCH_SIZE, 1], output_symbol_to_int['<GO>']) # <GO> 기호의 컬럼 벡터를 생성해 줍니다\n",
    "decoder_input_seq = tf.concat([go_prefixes, decoder_raw_seq], 1) # (<GO> 벡터를 잘라낸 행렬의 앞쪽에 붙여줍니다"
   ]
  },
  {
   "cell_type": "markdown",
   "metadata": {},
   "source": [
    " ## 11.15 디코더 임베딩과 셀"
   ]
  },
  {
   "cell_type": "code",
   "execution_count": 22,
   "metadata": {},
   "outputs": [],
   "source": [
    "from tensorflow.python.layers.core import Dense\n",
    "\n",
    "decoder_embedding = tf.Variable(tf.random_uniform([OUTPUT_NUM_VOCAB, DECODER_EMBEDDING_DIM]))\n",
    "decoder_input_embedded = tf.nn.embedding_lookup(decoder_embedding,\n",
    "                                                decoder_input_seq)\n",
    "decoder_multi_cell = make_multi_cell(RNN_STATE_DIM, RNN_NUM_LAYERS)\n",
    "output_layer_kernel_initializer = tf.truncated_normal_initializer(mean=0.0, stddev=0.1)\n",
    "output_layer = Dense(\n",
    "    OUTPUT_NUM_VOCAB,\n",
    "    kernel_initializer = output_layer_kernel_initializer\n",
    ")"
   ]
  },
  {
   "cell_type": "markdown",
   "metadata": {},
   "source": [
    "## 11.16 디코더의 출력 (학습)"
   ]
  },
  {
   "cell_type": "code",
   "execution_count": 23,
   "metadata": {},
   "outputs": [],
   "source": [
    "with tf.variable_scope(\"decode\"):\n",
    "    training_helper = tf.contrib.seq2seq.TrainingHelper(\n",
    "        inputs=decoder_input_embedded,\n",
    "        sequence_length=decoder_seq_len,\n",
    "        time_major=False\n",
    "    )\n",
    "    training_decoder = tf.contrib.seq2seq.BasicDecoder(\n",
    "        decoder_multi_cell,\n",
    "        training_helper,\n",
    "        encoder_state,\n",
    "        output_layer\n",
    "    )\n",
    "    training_decoder_output_seq, _, _ = tf.contrib.seq2seq.dynamic_decode(\n",
    "        training_decoder,\n",
    "        impute_finished=True,\n",
    "        maximum_iterations=max_decoder_seq_len\n",
    "    )"
   ]
  },
  {
   "cell_type": "markdown",
   "metadata": {},
   "source": [
    "## 11.17 디코더의 출력 (테스트)"
   ]
  },
  {
   "cell_type": "code",
   "execution_count": 24,
   "metadata": {},
   "outputs": [],
   "source": [
    "with tf.variable_scope(\"decode\", reuse=True):\n",
    "    \n",
    "    start_tokens = tf.tile(\n",
    "        tf.constant([output_symbol_to_int['<GO>']],\n",
    "                    dtype=tf.int32),\n",
    "        [BATCH_SIZE],\n",
    "        name='start_tokens')\n",
    "    \n",
    "    inference_helper = tf.contrib.seq2seq.GreedyEmbeddingHelper( # 테스트 과정을 위한 도우미\n",
    "        embedding=decoder_embedding,\n",
    "        start_tokens=start_tokens,\n",
    "        end_token=output_symbol_to_int['<EOS>']\n",
    "    )\n",
    "    \n",
    "    inference_decoder = tf.contrib.seq2seq.BasicDecoder( # 기본 디코딩\n",
    "        decoder_multi_cell,\n",
    "        inference_helper,\n",
    "        encoder_state,\n",
    "        output_layer\n",
    "    )\n",
    "    \n",
    "    inference_decoder_output_seq, _, _ = tf.contrib.seq2seq.dynamic_decode( # 디코더를 이용하여 동적 디코딩을 수행합니다\n",
    "        inference_decoder,\n",
    "        impute_finished=True,\n",
    "        maximum_iterations=max_decoder_seq_len\n",
    "    )"
   ]
  },
  {
   "cell_type": "markdown",
   "metadata": {},
   "source": [
    "## 11.18 비용 함수"
   ]
  },
  {
   "cell_type": "code",
   "execution_count": 25,
   "metadata": {},
   "outputs": [],
   "source": [
    "training_logits = tf.identity(training_decoder_output_seq.rnn_output, name='logits') # 편의를 위해 텐서명을 변경합니다\n",
    "inference_logits = tf.identity(inference_decoder_output_seq.sample_id, name='predictions')\n",
    "\n",
    "masks = tf.sequence_mask( # sequence_loss에 대한 가중치를 생성합니다\n",
    "    decoder_seq_len,\n",
    "    max_decoder_seq_len,\n",
    "    dtype=tf.float32,\n",
    "    name='masks'\n",
    ")\n",
    "\n",
    "cost = tf.contrib.seq2seq.sequence_loss( # 텐서플로우의 내장 시퀀스 비용 함수를 이용합니다\n",
    "    training_logits,\n",
    "    decoder_output_seq,\n",
    "    masks\n",
    ")"
   ]
  },
  {
   "cell_type": "markdown",
   "metadata": {},
   "source": [
    "## 11.19 최적화기 호출하기"
   ]
  },
  {
   "cell_type": "code",
   "execution_count": 26,
   "metadata": {},
   "outputs": [],
   "source": [
    "optimizer = tf.train.AdamOptimizer(LEARNING_RATE)\n",
    "\n",
    "gradients = optimizer.compute_gradients(cost)\n",
    "capped_gradients = [(tf.clip_by_value(grad, -5., 5.), var) # 그래디언트 클립핑\n",
    "                    for grad, var in gradients if grad is not None]\n",
    "train_op = optimizer.apply_gradients(capped_gradients)"
   ]
  },
  {
   "cell_type": "markdown",
   "metadata": {},
   "source": [
    "## 11.20 모델 학습시키기"
   ]
  },
  {
   "cell_type": "code",
   "execution_count": 27,
   "metadata": {},
   "outputs": [],
   "source": [
    "def pad(xs, size, pad):\n",
    "    return xs + [pad] * (size - len(xs))"
   ]
  },
  {
   "cell_type": "code",
   "execution_count": 28,
   "metadata": {},
   "outputs": [
    {
     "name": "stdout",
     "output_type": "stream",
     "text": [
      "Epoch 0. Batch 0/6919. Cost 3.6316235065460205\n",
      "Epoch 0. Batch 629/6919. Cost 0.9069143533706665\n",
      "Epoch 0. Batch 1258/6919. Cost 0.6907403469085693\n"
     ]
    },
    {
     "ename": "KeyboardInterrupt",
     "evalue": "",
     "output_type": "error",
     "traceback": [
      "\u001b[1;31m---------------------------------------------------------------------------\u001b[0m",
      "\u001b[1;31mKeyboardInterrupt\u001b[0m                         Traceback (most recent call last)",
      "\u001b[1;32m<ipython-input-28-bed75742c0f2>\u001b[0m in \u001b[0;36m<module>\u001b[1;34m\u001b[0m\n\u001b[0;32m     40\u001b[0m                 \u001b[0mencoder_seq_len\u001b[0m\u001b[1;33m:\u001b[0m \u001b[0minput_lengths\u001b[0m\u001b[1;33m,\u001b[0m\u001b[1;33m\u001b[0m\u001b[0m\n\u001b[0;32m     41\u001b[0m                 \u001b[0mdecoder_output_seq\u001b[0m\u001b[1;33m:\u001b[0m \u001b[0moutput_batch\u001b[0m\u001b[1;33m,\u001b[0m\u001b[1;33m\u001b[0m\u001b[0m\n\u001b[1;32m---> 42\u001b[1;33m                 \u001b[0mdecoder_seq_len\u001b[0m\u001b[1;33m:\u001b[0m \u001b[0moutput_lengths\u001b[0m\u001b[1;33m\u001b[0m\u001b[0m\n\u001b[0m\u001b[0;32m     43\u001b[0m             }\n\u001b[0;32m     44\u001b[0m         )\n",
      "\u001b[1;32m~\\AppData\\Roaming\\Python\\Python36\\site-packages\\tensorflow\\python\\client\\session.py\u001b[0m in \u001b[0;36mrun\u001b[1;34m(self, fetches, feed_dict, options, run_metadata)\u001b[0m\n\u001b[0;32m    898\u001b[0m     \u001b[1;32mtry\u001b[0m\u001b[1;33m:\u001b[0m\u001b[1;33m\u001b[0m\u001b[0m\n\u001b[0;32m    899\u001b[0m       result = self._run(None, fetches, feed_dict, options_ptr,\n\u001b[1;32m--> 900\u001b[1;33m                          run_metadata_ptr)\n\u001b[0m\u001b[0;32m    901\u001b[0m       \u001b[1;32mif\u001b[0m \u001b[0mrun_metadata\u001b[0m\u001b[1;33m:\u001b[0m\u001b[1;33m\u001b[0m\u001b[0m\n\u001b[0;32m    902\u001b[0m         \u001b[0mproto_data\u001b[0m \u001b[1;33m=\u001b[0m \u001b[0mtf_session\u001b[0m\u001b[1;33m.\u001b[0m\u001b[0mTF_GetBuffer\u001b[0m\u001b[1;33m(\u001b[0m\u001b[0mrun_metadata_ptr\u001b[0m\u001b[1;33m)\u001b[0m\u001b[1;33m\u001b[0m\u001b[0m\n",
      "\u001b[1;32m~\\AppData\\Roaming\\Python\\Python36\\site-packages\\tensorflow\\python\\client\\session.py\u001b[0m in \u001b[0;36m_run\u001b[1;34m(self, handle, fetches, feed_dict, options, run_metadata)\u001b[0m\n\u001b[0;32m   1133\u001b[0m     \u001b[1;32mif\u001b[0m \u001b[0mfinal_fetches\u001b[0m \u001b[1;32mor\u001b[0m \u001b[0mfinal_targets\u001b[0m \u001b[1;32mor\u001b[0m \u001b[1;33m(\u001b[0m\u001b[0mhandle\u001b[0m \u001b[1;32mand\u001b[0m \u001b[0mfeed_dict_tensor\u001b[0m\u001b[1;33m)\u001b[0m\u001b[1;33m:\u001b[0m\u001b[1;33m\u001b[0m\u001b[0m\n\u001b[0;32m   1134\u001b[0m       results = self._do_run(handle, final_targets, final_fetches,\n\u001b[1;32m-> 1135\u001b[1;33m                              feed_dict_tensor, options, run_metadata)\n\u001b[0m\u001b[0;32m   1136\u001b[0m     \u001b[1;32melse\u001b[0m\u001b[1;33m:\u001b[0m\u001b[1;33m\u001b[0m\u001b[0m\n\u001b[0;32m   1137\u001b[0m       \u001b[0mresults\u001b[0m \u001b[1;33m=\u001b[0m \u001b[1;33m[\u001b[0m\u001b[1;33m]\u001b[0m\u001b[1;33m\u001b[0m\u001b[0m\n",
      "\u001b[1;32m~\\AppData\\Roaming\\Python\\Python36\\site-packages\\tensorflow\\python\\client\\session.py\u001b[0m in \u001b[0;36m_do_run\u001b[1;34m(self, handle, target_list, fetch_list, feed_dict, options, run_metadata)\u001b[0m\n\u001b[0;32m   1314\u001b[0m     \u001b[1;32mif\u001b[0m \u001b[0mhandle\u001b[0m \u001b[1;32mis\u001b[0m \u001b[1;32mNone\u001b[0m\u001b[1;33m:\u001b[0m\u001b[1;33m\u001b[0m\u001b[0m\n\u001b[0;32m   1315\u001b[0m       return self._do_call(_run_fn, feeds, fetches, targets, options,\n\u001b[1;32m-> 1316\u001b[1;33m                            run_metadata)\n\u001b[0m\u001b[0;32m   1317\u001b[0m     \u001b[1;32melse\u001b[0m\u001b[1;33m:\u001b[0m\u001b[1;33m\u001b[0m\u001b[0m\n\u001b[0;32m   1318\u001b[0m       \u001b[1;32mreturn\u001b[0m \u001b[0mself\u001b[0m\u001b[1;33m.\u001b[0m\u001b[0m_do_call\u001b[0m\u001b[1;33m(\u001b[0m\u001b[0m_prun_fn\u001b[0m\u001b[1;33m,\u001b[0m \u001b[0mhandle\u001b[0m\u001b[1;33m,\u001b[0m \u001b[0mfeeds\u001b[0m\u001b[1;33m,\u001b[0m \u001b[0mfetches\u001b[0m\u001b[1;33m)\u001b[0m\u001b[1;33m\u001b[0m\u001b[0m\n",
      "\u001b[1;32m~\\AppData\\Roaming\\Python\\Python36\\site-packages\\tensorflow\\python\\client\\session.py\u001b[0m in \u001b[0;36m_do_call\u001b[1;34m(self, fn, *args)\u001b[0m\n\u001b[0;32m   1320\u001b[0m   \u001b[1;32mdef\u001b[0m \u001b[0m_do_call\u001b[0m\u001b[1;33m(\u001b[0m\u001b[0mself\u001b[0m\u001b[1;33m,\u001b[0m \u001b[0mfn\u001b[0m\u001b[1;33m,\u001b[0m \u001b[1;33m*\u001b[0m\u001b[0margs\u001b[0m\u001b[1;33m)\u001b[0m\u001b[1;33m:\u001b[0m\u001b[1;33m\u001b[0m\u001b[0m\n\u001b[0;32m   1321\u001b[0m     \u001b[1;32mtry\u001b[0m\u001b[1;33m:\u001b[0m\u001b[1;33m\u001b[0m\u001b[0m\n\u001b[1;32m-> 1322\u001b[1;33m       \u001b[1;32mreturn\u001b[0m \u001b[0mfn\u001b[0m\u001b[1;33m(\u001b[0m\u001b[1;33m*\u001b[0m\u001b[0margs\u001b[0m\u001b[1;33m)\u001b[0m\u001b[1;33m\u001b[0m\u001b[0m\n\u001b[0m\u001b[0;32m   1323\u001b[0m     \u001b[1;32mexcept\u001b[0m \u001b[0merrors\u001b[0m\u001b[1;33m.\u001b[0m\u001b[0mOpError\u001b[0m \u001b[1;32mas\u001b[0m \u001b[0me\u001b[0m\u001b[1;33m:\u001b[0m\u001b[1;33m\u001b[0m\u001b[0m\n\u001b[0;32m   1324\u001b[0m       \u001b[0mmessage\u001b[0m \u001b[1;33m=\u001b[0m \u001b[0mcompat\u001b[0m\u001b[1;33m.\u001b[0m\u001b[0mas_text\u001b[0m\u001b[1;33m(\u001b[0m\u001b[0me\u001b[0m\u001b[1;33m.\u001b[0m\u001b[0mmessage\u001b[0m\u001b[1;33m)\u001b[0m\u001b[1;33m\u001b[0m\u001b[0m\n",
      "\u001b[1;32m~\\AppData\\Roaming\\Python\\Python36\\site-packages\\tensorflow\\python\\client\\session.py\u001b[0m in \u001b[0;36m_run_fn\u001b[1;34m(feed_dict, fetch_list, target_list, options, run_metadata)\u001b[0m\n\u001b[0;32m   1305\u001b[0m       \u001b[0mself\u001b[0m\u001b[1;33m.\u001b[0m\u001b[0m_extend_graph\u001b[0m\u001b[1;33m(\u001b[0m\u001b[1;33m)\u001b[0m\u001b[1;33m\u001b[0m\u001b[0m\n\u001b[0;32m   1306\u001b[0m       return self._call_tf_sessionrun(\n\u001b[1;32m-> 1307\u001b[1;33m           options, feed_dict, fetch_list, target_list, run_metadata)\n\u001b[0m\u001b[0;32m   1308\u001b[0m \u001b[1;33m\u001b[0m\u001b[0m\n\u001b[0;32m   1309\u001b[0m     \u001b[1;32mdef\u001b[0m \u001b[0m_prun_fn\u001b[0m\u001b[1;33m(\u001b[0m\u001b[0mhandle\u001b[0m\u001b[1;33m,\u001b[0m \u001b[0mfeed_dict\u001b[0m\u001b[1;33m,\u001b[0m \u001b[0mfetch_list\u001b[0m\u001b[1;33m)\u001b[0m\u001b[1;33m:\u001b[0m\u001b[1;33m\u001b[0m\u001b[0m\n",
      "\u001b[1;32m~\\AppData\\Roaming\\Python\\Python36\\site-packages\\tensorflow\\python\\client\\session.py\u001b[0m in \u001b[0;36m_call_tf_sessionrun\u001b[1;34m(self, options, feed_dict, fetch_list, target_list, run_metadata)\u001b[0m\n\u001b[0;32m   1407\u001b[0m       return tf_session.TF_SessionRun_wrapper(\n\u001b[0;32m   1408\u001b[0m           \u001b[0mself\u001b[0m\u001b[1;33m.\u001b[0m\u001b[0m_session\u001b[0m\u001b[1;33m,\u001b[0m \u001b[0moptions\u001b[0m\u001b[1;33m,\u001b[0m \u001b[0mfeed_dict\u001b[0m\u001b[1;33m,\u001b[0m \u001b[0mfetch_list\u001b[0m\u001b[1;33m,\u001b[0m \u001b[0mtarget_list\u001b[0m\u001b[1;33m,\u001b[0m\u001b[1;33m\u001b[0m\u001b[0m\n\u001b[1;32m-> 1409\u001b[1;33m           run_metadata)\n\u001b[0m\u001b[0;32m   1410\u001b[0m     \u001b[1;32melse\u001b[0m\u001b[1;33m:\u001b[0m\u001b[1;33m\u001b[0m\u001b[0m\n\u001b[0;32m   1411\u001b[0m       \u001b[1;32mwith\u001b[0m \u001b[0merrors\u001b[0m\u001b[1;33m.\u001b[0m\u001b[0mraise_exception_on_not_ok_status\u001b[0m\u001b[1;33m(\u001b[0m\u001b[1;33m)\u001b[0m \u001b[1;32mas\u001b[0m \u001b[0mstatus\u001b[0m\u001b[1;33m:\u001b[0m\u001b[1;33m\u001b[0m\u001b[0m\n",
      "\u001b[1;31mKeyboardInterrupt\u001b[0m: "
     ]
    }
   ],
   "source": [
    "\n",
    "\n",
    "\n",
    "\n",
    "input_seq = [\n",
    "    [input_symbol_to_int.get(symbol, input_symbol_to_int['<UNK>']) \n",
    "        for symbol in line]  \n",
    "    for line in input_sentences  \n",
    "]\n",
    " \n",
    "output_seq = [\n",
    "    [output_symbol_to_int.get(symbol, output_symbol_to_int['<UNK>']) \n",
    "        for symbol in line] + [output_symbol_to_int['<EOS>']]  \n",
    "    for line in output_sentences  \n",
    "]\n",
    "\n",
    "sess = tf.InteractiveSession()\n",
    "sess.run(tf.global_variables_initializer())\n",
    "saver = tf.train.Saver()  \n",
    " \n",
    "for epoch in range(NUM_EPOCS + 1):  \n",
    "    for batch_idx in range(len(input_sentences) // BATCH_SIZE): \n",
    "        \n",
    "        input_batch, input_lengths, output_batch, output_lengths = [], [], [], []\n",
    "        for sentence in input_sentences[batch_idx:batch_idx + BATCH_SIZE]:\n",
    "            symbol_sent = [input_symbol_to_int[symbol] for symbol in sentence]\n",
    "            padded_symbol_sent = pad(symbol_sent, MAX_CHAR_PER_LINE, input_symbol_to_int['<PAD>'])\n",
    "            input_batch.append(padded_symbol_sent)\n",
    "            input_lengths.append(len(sentence))\n",
    "        for sentence in output_sentences[batch_idx:batch_idx + BATCH_SIZE]:\n",
    "            symbol_sent = [output_symbol_to_int[symbol] for symbol in sentence]\n",
    "            padded_symbol_sent = pad(symbol_sent, MAX_CHAR_PER_LINE, output_symbol_to_int['<PAD>'])\n",
    "            output_batch.append(padded_symbol_sent)\n",
    "            output_lengths.append(len(sentence))\n",
    "\n",
    "        _, cost_val = sess.run( \n",
    "            [train_op, cost],\n",
    "            feed_dict={\n",
    "                encoder_input_seq: input_batch,\n",
    "                encoder_seq_len: input_lengths,\n",
    "                decoder_output_seq: output_batch,\n",
    "                decoder_seq_len: output_lengths\n",
    "            }\n",
    "        )\n",
    "        \n",
    "        if batch_idx % 629 == 0:\n",
    "            print('Epoch {}. Batch {}/{}. Cost {}'.format(epoch, batch_idx, len(input_sentences) // BATCH_SIZE, cost_val))\n",
    "\n",
    "    saver.save(sess, 'model.ckpt')   \n",
    "sess.close()"
   ]
  },
  {
   "cell_type": "code",
   "execution_count": null,
   "metadata": {},
   "outputs": [],
   "source": [
    "sess = tf.InteractiveSession()    \n",
    "saver.restore(sess, 'model.ckpt')\n",
    "\n",
    "example_input_sent = \"do you want to play games\"\n",
    "example_input_symb = [input_symbol_to_int[symbol] for symbol in example_input_sent]\n",
    "example_input_batch = [pad(example_input_symb, MAX_CHAR_PER_LINE, input_symbol_to_int['<PAD>'])] * BATCH_SIZE\n",
    "example_input_lengths = [len(example_input_sent)] * BATCH_SIZE\n",
    "\n",
    "output_ints = sess.run(inference_logits, feed_dict={\n",
    "    encoder_input_seq: example_input_batch,\n",
    "    encoder_seq_len: example_input_lengths,\n",
    "    decoder_seq_len: example_input_lengths\n",
    "})[0]\n",
    "\n",
    "output_str = ''.join([output_int_to_symbol[i] for i in output_ints])\n",
    "print(output_str)"
   ]
  }
 ],
 "metadata": {
  "kernelspec": {
   "display_name": "Python 3",
   "language": "python",
   "name": "python3"
  },
  "language_info": {
   "codemirror_mode": {
    "name": "ipython",
    "version": 3
   },
   "file_extension": ".py",
   "mimetype": "text/x-python",
   "name": "python",
   "nbconvert_exporter": "python",
   "pygments_lexer": "ipython3",
   "version": "3.6.5"
  }
 },
 "nbformat": 4,
 "nbformat_minor": 2
}
