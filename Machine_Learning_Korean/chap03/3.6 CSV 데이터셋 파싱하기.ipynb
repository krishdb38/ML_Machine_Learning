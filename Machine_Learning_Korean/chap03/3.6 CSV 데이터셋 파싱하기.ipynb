{
 "cells": [
  {
   "cell_type": "code",
   "execution_count": 1,
   "metadata": {},
   "outputs": [],
   "source": [
    "import csv # CSV 파일을 쉽게 읽어오기 위해 불러옵니다\n",
    "import time # 유용한 데이터 함수를 사용하기 위해 불러옵니다"
   ]
  },
  {
   "cell_type": "code",
   "execution_count": 5,
   "metadata": {},
   "outputs": [],
   "source": [
    "def read(filename, date_idx, date_parse, year, bucket=7):\n",
    "    \n",
    "    days_in_year = 365\n",
    "    \n",
    "    freq = {} # 빈도 맵을 초기화합니다\n",
    "    \n",
    "    for period in range(0, int(days_in_year / bucket)):\n",
    "        freq[period] = 0\n",
    "    \n",
    "    with open(filename, 'r') as csvfile: # 데이터를 읽고 기간별 수를 합쳐줍니다\n",
    "        csvreader = csv.reader(csvfile)\n",
    "        next(csvreader)\n",
    "        for row in csvreader:\n",
    "            if row[date_idx] == '':\n",
    "                continue\n",
    "            t = time.strptime(row[date_idx], date_parse)\n",
    "            if t.tm_year == year and t.tm_yday < (days_in_year-1):\n",
    "                freq[int(t.tm_yday / bucket)] += 1\n",
    "    return freq"
   ]
  },
  {
   "cell_type": "code",
   "execution_count": 6,
   "metadata": {},
   "outputs": [],
   "source": [
    "freq = read('311.csv', 0, '%Y-%m-%dT%H:%M:%S', 2014) # 2014년에 있었던 주별 3-1-1 통화 건수를 얻습니다"
   ]
  },
  {
   "cell_type": "code",
   "execution_count": 7,
   "metadata": {},
   "outputs": [
    {
     "name": "stdout",
     "output_type": "stream",
     "text": [
      "{0: 10278, 1: 16752, 2: 15023, 3: 16961, 4: 16568, 5: 16276, 6: 14739, 7: 17424, 8: 17247, 9: 16508, 10: 17192, 11: 17296, 12: 17073, 13: 18252, 14: 17658, 15: 16604, 16: 17604, 17: 18274, 18: 17708, 19: 19276, 20: 15542, 21: 19434, 22: 17733, 23: 17580, 24: 18232, 25: 18809, 26: 15896, 27: 18436, 28: 19021, 29: 19186, 30: 18396, 31: 17901, 32: 19212, 33: 18941, 34: 16145, 35: 19536, 36: 18135, 37: 17970, 38: 17595, 39: 18952, 40: 17257, 41: 18368, 42: 18252, 43: 18246, 44: 18069, 45: 17623, 46: 18332, 47: 12117, 48: 17130, 49: 18217, 50: 17510, 51: 11972}\n"
     ]
    }
   ],
   "source": [
    "print(freq)"
   ]
  }
 ],
 "metadata": {
  "kernelspec": {
   "display_name": "Python 3",
   "language": "python",
   "name": "python3"
  },
  "language_info": {
   "codemirror_mode": {
    "name": "ipython",
    "version": 3
   },
   "file_extension": ".py",
   "mimetype": "text/x-python",
   "name": "python",
   "nbconvert_exporter": "python",
   "pygments_lexer": "ipython3",
   "version": "3.6.5"
  }
 },
 "nbformat": 4,
 "nbformat_minor": 2
}
