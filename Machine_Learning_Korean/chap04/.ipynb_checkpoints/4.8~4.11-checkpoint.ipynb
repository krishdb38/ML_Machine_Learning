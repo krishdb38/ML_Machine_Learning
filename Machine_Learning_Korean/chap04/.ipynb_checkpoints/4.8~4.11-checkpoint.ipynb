{
 "cells": [
  {
   "cell_type": "markdown",
   "metadata": {},
   "source": [
    "## 4.8 다중클래스 데이터의 시각화"
   ]
  },
  {
   "cell_type": "code",
   "execution_count": 3,
   "metadata": {},
   "outputs": [],
   "source": [
    "import tensorflow as tf\n",
    "import numpy as np # NumPy와 matplotlib을 불러옵니다\n",
    "import matplotlib.pyplot as plt"
   ]
  },
  {
   "cell_type": "code",
   "execution_count": 4,
   "metadata": {},
   "outputs": [],
   "source": [
    "x1_label0 = np.random.normal(1, 1, (100, 1)) # (1, 1) 근처에 점들을 생성합니다\n",
    "x2_label0 = np.random.normal(1, 1, (100, 1))\n",
    "x1_label1 = np.random.normal(5, 1, (100, 1)) # (5, 4) 근처에 점들을 생성합니다\n",
    "x2_label1 = np.random.normal(4, 1, (100, 1))\n",
    "x1_label2 = np.random.normal(8, 1, (100, 1)) # (8, 0) 근처에 점들을 생성합니다\n",
    "x2_label2 = np.random.normal(0, 1, (100, 1))"
   ]
  },
  {
   "cell_type": "code",
   "execution_count": 5,
   "metadata": {},
   "outputs": [
    {
     "data": {
      "image/png": "[encoded data removed]",
      "text/plain": [
       "<Figure size 432x288 with 1 Axes>"
      ]
     },
     "metadata": {
      "needs_background": "light"
     },
     "output_type": "display_data"
    }
   ],
   "source": [
    "plt.scatter(x1_label0, x2_label0, c='r', marker='o', s=60) # 3개의 레이블을 산포도로 시각화합니다\n",
    "plt.scatter(x1_label1, x2_label1, c='g', marker='x', s=60)\n",
    "plt.scatter(x1_label2, x2_label2, c='b', marker='_', s=60)\n",
    "plt.show()"
   ]
  },
  {
   "cell_type": "markdown",
   "metadata": {},
   "source": [
    "## 4.9 다중 클래스 분류를 위한 학습 데이터와 테스트 데이터 설정"
   ]
  },
  {
   "cell_type": "code",
   "execution_count": 6,
   "metadata": {},
   "outputs": [],
   "source": [
    "xs_label0 = np.hstack((x1_label0, x2_label0)) # 모든 입력 데이터를 하나의 큰 행렬로 조합합니다\n",
    "xs_label1 = np.hstack((x1_label1, x2_label1))\n",
    "xs_label2 = np.hstack((x1_label2, x2_label2))\n",
    "xs = np.vstack((xs_label0, xs_label1, xs_label2))\n",
    "\n",
    "labels = np.matrix([[1., 0., 0.]] * len(x1_label0) + [[0., 1., 0.]] * len(x1_label1) + [[0., 0., 1.]] * len(x1_label2)) # 원핫 레이블을 생성합니다\n",
    "\n",
    "arr = np.arange(xs.shape[0]) # 데이터셋을 섞어줍니다\n",
    "np.random.shuffle(arr)\n",
    "xs = xs[arr, :]\n",
    "labels = labels[arr, :]\n",
    "\n",
    "test_x1_label0 = np.random.normal(1, 1, (10, 1)) # 테스트 데이터셋과 레이블을 구성합니다\n",
    "test_x2_label0 = np.random.normal(1, 1, (10, 1))\n",
    "test_x1_label1 = np.random.normal(5, 1, (10, 1))\n",
    "test_x2_label1 = np.random.normal(4, 1, (10, 1))\n",
    "test_x1_label2 = np.random.normal(8, 1, (10, 1))\n",
    "test_x2_label2 = np.random.normal(0, 1, (10, 1))\n",
    "test_xs_label0 = np.hstack((test_x1_label0, test_x2_label0))\n",
    "test_xs_label1 = np.hstack((test_x1_label1, test_x2_label1))\n",
    "test_xs_label2 = np.hstack((test_x1_label2, test_x2_label2))\n",
    "\n",
    "test_xs = np.vstack((test_xs_label0, test_xs_label1, test_xs_label2))\n",
    "test_labels = np.matrix([[1., 0., 0.]] * 10 + [[0., 1., 0.]] * 10 + [[0., 0., 1.]] * 10)\n",
    "\n",
    "train_size, num_features = xs.shape # 데이터셋의 형태를 통해 데이터의 수와 데이터 별 피쳐의 수를 알 수 있습니다"
   ]
  },
  {
   "cell_type": "markdown",
   "metadata": {},
   "source": [
    "## 4.10 소프트맥스 회귀 사용하기"
   ]
  },
  {
   "cell_type": "code",
   "execution_count": 7,
   "metadata": {},
   "outputs": [],
   "source": [
    "learning_rate = 0.01 # 하이퍼파라미터를 정의합니다\n",
    "training_epochs = 1000\n",
    "num_labels = 3\n",
    "batch_size = 100\n",
    "\n",
    "X = tf.placeholder(\"float\", shape=[None, num_features]) # 입력/출력 플레이스홀더 노드를 정의합니다\n",
    "Y = tf.placeholder(\"float\", shape=[None, num_labels])\n",
    "\n",
    "W = tf.Variable(tf.zeros([num_features, num_labels])) # 모델 파라미터를 정의합니다\n",
    "b = tf.Variable(tf.zeros([num_labels]))\n",
    "y_model = tf.nn.softmax(tf.matmul(X, W) + b) # 소프트맥스 모델을 디자인합니다\n",
    "\n",
    "cost = -tf.reduce_sum(Y * tf.log(y_model)) # 학습 알고리즘을 설정합니다\n",
    "train_op = tf.train.GradientDescentOptimizer(learning_rate).minimize(cost)\n",
    "\n",
    "correct_prediction = tf.equal(tf.argmax(y_model, 1), tf.argmax(Y, 1)) # 성공율을 측정할 연산을 정의합니다\n",
    "accuracy = tf.reduce_mean(tf.cast(correct_prediction, \"float\"))"
   ]
  },
  {
   "cell_type": "markdown",
   "metadata": {},
   "source": [
    "## 4.11 그래프 실행하기"
   ]
  },
  {
   "cell_type": "code",
   "execution_count": 8,
   "metadata": {},
   "outputs": [
    {
     "name": "stdout",
     "output_type": "stream",
     "text": [
      "0 109.86123\n",
      "100 8.332103\n",
      "200 4.032568\n",
      "300 4.3345375\n",
      "400 4.7097325\n",
      "500 2.6960976\n",
      "600 3.5268257\n",
      "700 3.8269508\n",
      "800 2.250238\n",
      "900 3.0878446\n",
      "1000 3.3409193\n",
      "1100 2.0098712\n",
      "1200 2.7857225\n",
      "1300 3.0122564\n",
      "1400 1.8561938\n",
      "1500 2.5568998\n",
      "1600 2.7667878\n",
      "1700 1.7483873\n",
      "1800 2.3747618\n",
      "1900 2.572531\n",
      "2000 1.6680377\n",
      "2100 2.2252743\n",
      "2200 2.4129002\n",
      "2300 1.6055013\n",
      "2400 2.0999496\n",
      "2500 2.2782245\n",
      "2600 1.5551987\n",
      "2700 1.993162\n",
      "2800 2.1623614\n",
      "2900 1.5136794\n",
      "w [[-2.8722188   0.5088721   2.36335   ]\n",
      " [ 0.08900784  1.8130009  -1.9020085 ]]\n",
      "b [11.106531 -3.377968 -7.728552]\n",
      "accuracy 1.0\n"
     ]
    }
   ],
   "source": [
    "with tf.Session() as sess: # 새로운 세션을 열고 모든 변수를 초기화합니다\n",
    "    tf.global_variables_initializer().run()\n",
    "    \n",
    "    for step in range(training_epochs * train_size // batch_size): # 데이터셋을 한번 돌 만큼 반복합니다\n",
    "        offset = (step * batch_size) % train_size # 현재의 배치 (batch) 에 따른 데이터셋 부분에 대해 수행합니다\n",
    "        batch_xs = xs[offset: (offset + batch_size), :]\n",
    "        batch_labels = labels[offset: (offset + batch_size)]\n",
    "        err, _ = sess.run([cost, train_op], feed_dict={X: batch_xs, Y: batch_labels}) # 이 배치에 대해 최적화기를 실행합니다\n",
    "        if step % 100 == 0: # 결과를 출력해 줍니다\n",
    "            print(step, err)\n",
    "            \n",
    "    W_val = sess.run(W) # 최종 학습 파라미터를 출력합니다\n",
    "    print('w', W_val)\n",
    "    b_val = sess.run(b)\n",
    "    print('b', b_val)\n",
    "    print(\"accuracy\", accuracy.eval(feed_dict={X: test_xs, Y: test_labels})) # 성공율을 출력합니다"
   ]
  }
 ],
 "metadata": {
  "kernelspec": {
   "display_name": "Python 3",
   "language": "python",
   "name": "python3"
  },
  "language_info": {
   "codemirror_mode": {
    "name": "ipython",
    "version": 3
   },
   "file_extension": ".py",
   "mimetype": "text/x-python",
   "name": "python",
   "nbconvert_exporter": "python",
   "pygments_lexer": "ipython3",
   "version": "3.6.5"
  }
 },
 "nbformat": 4,
 "nbformat_minor": 2
}
