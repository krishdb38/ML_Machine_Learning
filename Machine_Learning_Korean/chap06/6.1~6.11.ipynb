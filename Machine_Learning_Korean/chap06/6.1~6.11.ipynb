{
 "cells": [
  {
   "cell_type": "markdown",
   "metadata": {},
   "source": [
    "## 6.1 HMM 클래스의 정의"
   ]
  },
  {
   "cell_type": "code",
   "execution_count": 1,
   "metadata": {},
   "outputs": [],
   "source": [
    "import numpy as np # 필요한 라이브러리를 불러옵니다\n",
    "import tensorflow as tf"
   ]
  },
  {
   "cell_type": "code",
   "execution_count": 2,
   "metadata": {},
   "outputs": [],
   "source": [
    "class HMM(object):\n",
    "    def __init__(self, initial_prob, trans_prob, obs_prob):\n",
    "        self.N = np.size(initial_prob) # 파라미터들을 메소드의 변수로 저장합니다\n",
    "        self.initial_prob = initial_prob\n",
    "        self.trans_prob = trans_prob\n",
    "        self.emission = tf.constant(obs_prob)\n",
    "        \n",
    "        assert self.initial_prob.shape == (self.N, 1) # 모든 행렬의 형태가 맞는지 재확인합니다\n",
    "        assert self.trans_prob.shape == (self.N, self.N)\n",
    "        assert obs_prob.shape[0] == self.N\n",
    "        \n",
    "        self.obs_idx = tf.placeholder(tf.int32) # 포워드 알고리즘에 사용되는 플레이스홀더를 정의합니다\n",
    "        self.fwd = tf.placeholder(tf.float64)\n",
    "        \n",
    "    def get_emission(self, obs_idx):\n",
    "        slice_location = [0, obs_idx] # 방출 행렬 내에서 슬라이스해줄 위치\n",
    "        num_rows = tf.shape(self.emission)[0]\n",
    "        slice_shape = [num_rows, 1] # 슬라이스의 형태)\n",
    "        return tf.slice(self.emission, slice_location, slice_shape) # 슬라이스 연산을 수행합니다\n",
    "    \n",
    "    def forward_init_op(self):    \n",
    "        obs_prob = self.get_emission(self.obs_idx)\n",
    "        fwd = tf.multiply(self.initial_prob, obs_prob)\n",
    "        return fwd\n",
    "    \n",
    "    def forward_op(self):\n",
    "        transitions = tf.matmul(self.fwd, tf.transpose(self.get_emission(self.obs_idx)))\n",
    "        weighted_transitions = transitions * self.trans_prob\n",
    "        fwd = tf.reduce_sum(weighted_transitions, 0)\n",
    "        return tf.reshape(fwd, tf.shape(self.fwd))"
   ]
  },
  {
   "cell_type": "markdown",
   "metadata": {},
   "source": [
    "## 6.5 주어진 HMM 에서 포워드 알고리즘의 정의"
   ]
  },
  {
   "cell_type": "code",
   "execution_count": 3,
   "metadata": {},
   "outputs": [],
   "source": [
    "def forward_algorithm(sess, hmm, observations):\n",
    "    fwd = sess.run(hmm.forward_init_op(), feed_dict={hmm.obs_idx: observations[0]})\n",
    "    for t in range(1, len(observations)):\n",
    "        fwd = sess.run(hmm.forward_op(), feed_dict={hmm.obs_idx: observations[t], hmm.fwd: fwd})\n",
    "    prob = sess.run(tf.reduce_sum(fwd))\n",
    "    return prob"
   ]
  },
  {
   "cell_type": "markdown",
   "metadata": {},
   "source": [
    "## 6.6 HMM 정의 및 포워드 알고리즘의 호출"
   ]
  },
  {
   "cell_type": "code",
   "execution_count": 4,
   "metadata": {},
   "outputs": [
    {
     "name": "stdout",
     "output_type": "stream",
     "text": [
      "Probability of observing [0, 1, 1, 2, 1] is 0.004540300799999999\n"
     ]
    }
   ],
   "source": [
    "initial_prob = np.array([[0.6],[0.4]])\n",
    "trans_prob = np.array([[0.7, 0.3],[0.4, 0.6]])\n",
    "obs_prob = np.array([[0.1, 0.4, 0.5],[0.6, 0.3, 0.1]])\n",
    "\n",
    "hmm = HMM(initial_prob=initial_prob, trans_prob=trans_prob, obs_prob=obs_prob)\n",
    "\n",
    "observations = [0, 1, 1, 2, 1]\n",
    "\n",
    "with tf.Session() as sess:\n",
    "    prob = forward_algorithm(sess, hmm, observations)\n",
    "    print('Probability of observing {} is {}'.format(observations, prob))"
   ]
  },
  {
   "cell_type": "markdown",
   "metadata": {},
   "source": [
    "## 6.7 비터비 캐시를 멤버 변수로 추가하기"
   ]
  },
  {
   "cell_type": "code",
   "execution_count": 5,
   "metadata": {},
   "outputs": [],
   "source": [
    "class viterbi_HMM(object):\n",
    "    def __init__(self, initial_prob, trans_prob, obs_prob):\n",
    "        self.N = np.size(initial_prob) # 파라미터들을 메소드의 변수로 저장합니다\n",
    "        self.initial_prob = initial_prob\n",
    "        self.trans_prob = trans_prob\n",
    "        self.emission = tf.constant(obs_prob)\n",
    "        self.viterbi = tf.placeholder(tf.float64)\n",
    "        \n",
    "        assert self.initial_prob.shape == (self.N, 1) # 모든 행렬의 형태가 맞는지 재확인합니다\n",
    "        assert self.trans_prob.shape == (self.N, self.N)\n",
    "        assert obs_prob.shape[0] == self.N\n",
    "        \n",
    "        self.obs_idx = tf.placeholder(tf.int32) # 포워드 알고리즘에 사용되는 플레이스홀더를 정의합니다\n",
    "        self.fwd = tf.placeholder(tf.float64)\n",
    "        \n",
    "    def get_emission(self, obs_idx):\n",
    "        slice_location = [0, obs_idx] # 방출 행렬 내에서 슬라이스해줄 위치\n",
    "        num_rows = tf.shape(self.emission)[0]\n",
    "        slice_shape = [num_rows, 1] # 슬라이스의 형태)\n",
    "        return tf.slice(self.emission, slice_location, slice_shape) # 슬라이스 연산을 수행합니다\n",
    "    \n",
    "    def forward_init_op(self):    \n",
    "        obs_prob = self.get_emission(self.obs_idx)\n",
    "        fwd = tf.multiply(self.initial_prob, obs_prob)\n",
    "        return fwd\n",
    "    \n",
    "    def forward_op(self):\n",
    "        transitions = tf.matmul(self.fwd, tf.transpose(self.get_emission(self.obs_idx)))\n",
    "        weighted_transitions = transitions * self.trans_prob\n",
    "        fwd = tf.reduce_sum(weighted_transitions, 0)\n",
    "        return tf.reshape(fwd, tf.shape(self.fwd))\n",
    "    \n",
    "    def decode_op(self):\n",
    "        transitions = tf.matmul(self.viterbi, tf.transpose(self.get_emission(self.obs_idx)))\n",
    "        weighted_transitions = transitions * self.trans_prob\n",
    "        viterbi = tf.reduce_max(weighted_transitions, 0)\n",
    "        return tf.reshape(viterbi, tf.shape(self.viterbi))\n",
    "    \n",
    "    def backpt_op(self):\n",
    "        back_transitions = tf.matmul(self.viterbi, np.ones((1, self.N)))\n",
    "        weighted_back_transitions = back_transitions * self.trans_prob\n",
    "        return tf.argmax(weighted_back_transitions, 0)"
   ]
  },
  {
   "cell_type": "markdown",
   "metadata": {},
   "source": [
    "## 6.10 비터비 디코딩 알고리즘의 정의"
   ]
  },
  {
   "cell_type": "code",
   "execution_count": 6,
   "metadata": {},
   "outputs": [],
   "source": [
    "def viterbi_decode(sess, hmm, observations):\n",
    "    viterbi = sess.run(hmm.forward_init_op(), feed_dict={hmm.obs_idx: observations[0]})\n",
    "    backpts = np.ones((hmm.N, len(observations)), 'int32') * -1\n",
    "\n",
    "    for t in range(1, len(observations)):\n",
    "        viterbi, backpt = sess.run([hmm.decode_op(), hmm.backpt_op()], feed_dict={hmm.obs_idx: observations[t],hmm.viterbi: viterbi})\n",
    "        backpts[:, t] = backpt\n",
    "    \n",
    "    tokens = [viterbi[:, -1].argmax()]\n",
    "    \n",
    "    for i in range(len(observations) - 1, 0, -1):\n",
    "        tokens.append(backpts[tokens[-1], i])\n",
    "    return tokens[::-1]"
   ]
  },
  {
   "cell_type": "markdown",
   "metadata": {},
   "source": [
    "## 6.11 비터비 디코드의 실행"
   ]
  },
  {
   "cell_type": "code",
   "execution_count": 7,
   "metadata": {},
   "outputs": [
    {
     "name": "stdout",
     "output_type": "stream",
     "text": [
      "Most likely hidden states are [1, 0, 0, 0, 0]\n"
     ]
    }
   ],
   "source": [
    "initial_prob = np.array([[0.6],[0.4]])\n",
    "trans_prob = np.array([[0.7, 0.3],[0.4, 0.6]])\n",
    "obs_prob = np.array([[0.1, 0.4, 0.5],[0.6, 0.3, 0.1]])\n",
    "\n",
    "observations = [0, 1, 1, 2, 1]\n",
    "\n",
    "hmm = viterbi_HMM(initial_prob=initial_prob, trans_prob=trans_prob, obs_prob=obs_prob)\n",
    "\n",
    "with tf.Session() as sess:\n",
    "    seq = viterbi_decode(sess, hmm, observations)\n",
    "    print('Most likely hidden states are {}'.format(seq))"
   ]
  }
 ],
 "metadata": {
  "kernelspec": {
   "display_name": "Python 3",
   "language": "python",
   "name": "python3"
  },
  "language_info": {
   "codemirror_mode": {
    "name": "ipython",
    "version": 3
   },
   "file_extension": ".py",
   "mimetype": "text/x-python",
   "name": "python",
   "nbconvert_exporter": "python",
   "pygments_lexer": "ipython3",
   "version": "3.6.5"
  }
 },
 "nbformat": 4,
 "nbformat_minor": 2
}
