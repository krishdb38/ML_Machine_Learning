{
 "cells": [
  {
   "cell_type": "code",
   "execution_count": 1,
   "metadata": {},
   "outputs": [],
   "source": [
    "import numpy as np # 필요한 라이브러리를 불러옵니다\n",
    "import tensorflow as tf"
   ]
  },
  {
   "cell_type": "code",
   "execution_count": 2,
   "metadata": {},
   "outputs": [],
   "source": [
    "class HMM(object):\n",
    "    def __init__(self, initial_prob, trans_prob, obs_prob):\n",
    "        self.N = np.size(initial_prob) # 파라미터들을 메소드의 변수로 저장합니다\n",
    "        self.initial_prob = initial_prob\n",
    "        self.trans_prob = trans_prob\n",
    "        self.emission = tf.constant(obs_prob)\n",
    "        \n",
    "        assert self.initial_prob.shape == (self.N, 1) # 모든 행렬의 형태가 맞는지 재확인합니다\n",
    "        assert self.trans_prob.shape == (self.N, self.N)\n",
    "        assert obs_prob.shape[0] == self.N\n",
    "        \n",
    "        self.obs_idx = tf.placeholder(tf.int32) # 포워드 알고리즘에 사용되는 플레이스홀더를 정의합니다\n",
    "        self.fwd = tf.placeholder(tf.float64)\n",
    "        \n",
    "    def get_emission(self, obs_idx):\n",
    "        slice_location = [0, obs_idx] # 방출 행렬 내에서 슬라이스해줄 위치\n",
    "        num_rows = tf.shape(self.emission)[0]\n",
    "        slice_shape = [num_rows, 1] # 슬라이스의 형태)\n",
    "        return tf.slice(self.emission, slice_location, slice_shape) # 슬라이스 연산을 수행합니다"
   ]
  },
  {
   "cell_type": "code",
   "execution_count": null,
   "metadata": {},
   "outputs": [],
   "source": []
  }
 ],
 "metadata": {
  "kernelspec": {
   "display_name": "Python 3",
   "language": "python",
   "name": "python3"
  },
  "language_info": {
   "codemirror_mode": {
    "name": "ipython",
    "version": 3
   },
   "file_extension": ".py",
   "mimetype": "text/x-python",
   "name": "python",
   "nbconvert_exporter": "python",
   "pygments_lexer": "ipython3",
   "version": "3.6.5"
  }
 },
 "nbformat": 4,
 "nbformat_minor": 2
}
